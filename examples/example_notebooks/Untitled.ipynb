{
 "cells": [
  {
   "cell_type": "code",
   "execution_count": 59,
   "id": "fcc5ebcc-39ca-4bca-9c99-bbd4c9b3f493",
   "metadata": {},
   "outputs": [
    {
     "name": "stdout",
     "output_type": "stream",
     "text": [
      "Validation successful: Configuration is valid.\n"
     ]
    }
   ],
   "source": [
    "import json\n",
    "import yaml\n",
    "import jsonschema\n",
    "from jsonschema import validate\n",
    "\n",
    "# Load JSON Schema\n",
    "with open(\"../../configuration-schema.json\", \"r\") as schema_file:\n",
    "    schema = json.load(schema_file)\n",
    "\n",
    "# Function to validate the YAML configuration file\n",
    "def validate_config(config_file_path: str, schema: dict):\n",
    "    with open(config_file_path, \"r\") as file:\n",
    "        config = yaml.safe_load(file)\n",
    "    \n",
    "    # Validate config against schema\n",
    "    try:\n",
    "        validate(instance=config, schema=schema)\n",
    "        print(\"Validation successful: Configuration is valid.\")\n",
    "    except jsonschema.exceptions.ValidationError as err:\n",
    "        # Retrieve the error path (the element causing the error)\n",
    "        error_path = \" -> \".join([str(elem) for elem in err.path])\n",
    "        print(f\"Validation error. {error_path}: {err.message}\")\n",
    "\n",
    "# Example usage\n",
    "validate_config(\"../config_files/config_simple.yaml\", schema)\n"
   ]
  },
  {
   "cell_type": "code",
   "execution_count": null,
   "id": "5be03cc5-f72f-41e4-b423-366bb0258302",
   "metadata": {},
   "outputs": [],
   "source": []
  }
 ],
 "metadata": {
  "kernelspec": {
   "display_name": "Python 3 (ipykernel)",
   "language": "python",
   "name": "python3"
  },
  "language_info": {
   "codemirror_mode": {
    "name": "ipython",
    "version": 3
   },
   "file_extension": ".py",
   "mimetype": "text/x-python",
   "name": "python",
   "nbconvert_exporter": "python",
   "pygments_lexer": "ipython3",
   "version": "3.10.12"
  }
 },
 "nbformat": 4,
 "nbformat_minor": 5
}
