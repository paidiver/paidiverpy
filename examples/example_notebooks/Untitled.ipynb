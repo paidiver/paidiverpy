{
 "cells": [
  {
   "cell_type": "code",
   "execution_count": 1,
   "id": "39a00e66-86e2-492c-90c1-c4091065ea89",
   "metadata": {},
   "outputs": [],
   "source": [
    "from paidiverpy import data"
   ]
  },
  {
   "cell_type": "code",
   "execution_count": 2,
   "id": "176fc7a7-e83e-4b62-a784-f3ec1208574c",
   "metadata": {},
   "outputs": [],
   "source": [
    "%load_ext autoreload\n",
    "%autoreload 2\n",
    "import json\n",
    "import pandas as pd\n",
    "from datetime import timedelta"
   ]
  },
  {
   "cell_type": "code",
   "execution_count": 3,
   "id": "fa2b7e1f-ff10-482e-939d-343d377a2e70",
   "metadata": {},
   "outputs": [
    {
     "name": "stdout",
     "output_type": "stream",
     "text": [
      "☁ paidiverpy ☁  |       INFO | 2024-09-25 14:48:31 | Downloading https://paidiver-o.s3-ext.jc.rl.ac.uk/paidiverpy/data/benthic_csv.zip...\n",
      "☁ paidiverpy ☁  |       INFO | 2024-09-25 14:48:36 | Downloaded and cached at /home/tobfer/.paidiverpy_cache/dc4d949d14cf85655a00d2ce0254bb83.zip\n",
      "☁ paidiverpy ☁  |       INFO | 2024-09-25 14:48:37 | Extracted files to /home/tobfer/.paidiverpy_cache/benthic_csv\n",
      "☁ paidiverpy ☁  |       INFO | 2024-09-25 14:48:37 | Dataset 'benthic_csv' is available at: /home/tobfer/.paidiverpy_cache/benthic_csv\n"
     ]
    }
   ],
   "source": [
    "x = data.load('benthic_csv')"
   ]
  },
  {
   "cell_type": "code",
   "execution_count": 4,
   "id": "e439acf1-6e7a-4533-a081-2b8e86ca1e2d",
   "metadata": {},
   "outputs": [
    {
     "data": {
      "text/plain": [
       "{'input_path': '/home/tobfer/.paidiverpy_cache/benthic_csv/images',\n",
       " 'metadata_path': '/home/tobfer/.paidiverpy_cache/benthic_csv/metadata',\n",
       " 'metadata_type': 'CSV',\n",
       " 'image_type': 'JPG',\n",
       " 'append_data_to_metadata': ('/home/tobfer/.paidiverpy_cache/benthic_csv/metadata/appended_metadata.csv',)}"
      ]
     },
     "execution_count": 4,
     "metadata": {},
     "output_type": "execute_result"
    }
   ],
   "source": [
    "x"
   ]
  },
  {
   "cell_type": "code",
   "execution_count": 94,
   "id": "bcd3badb-dc5d-46df-8c72-557fef7f1732",
   "metadata": {},
   "outputs": [],
   "source": [
    "filename = '../metadata/metadata_ifdo_hf.json'\n",
    "with open(filename) as f:\n",
    "    d = json.load(f)"
   ]
  },
  {
   "cell_type": "code",
   "execution_count": 100,
   "id": "adc272c2-3c0c-4406-b357-f5dd952417d8",
   "metadata": {},
   "outputs": [],
   "source": [
    "images = pd.read_csv('../data/hf/metadata_smaller.csv')"
   ]
  },
  {
   "cell_type": "code",
   "execution_count": 102,
   "id": "1d3530bb-e24e-409b-aef8-b5dd1234f53b",
   "metadata": {},
   "outputs": [],
   "source": [
    "images['image-datetime'] = pd.to_datetime(images['image-datetime'].str[0:-6], format='%Y:%m:%d %H:%M:%S')\n",
    "images['image-datetime'] = images['image-datetime'] + timedelta(hours=-1)\n",
    "images['image-datetime'] = images['image-datetime'].astype(str) + '.000000'"
   ]
  },
  {
   "cell_type": "code",
   "execution_count": 103,
   "id": "7a6e864f-ad4d-4be5-a719-326bee10ad70",
   "metadata": {},
   "outputs": [],
   "source": [
    "list_images = images.to_dict(orient='records')"
   ]
  },
  {
   "cell_type": "code",
   "execution_count": 104,
   "id": "c20af88f-5b46-4e2b-b86d-94eab301e908",
   "metadata": {},
   "outputs": [],
   "source": [
    "dict_images = {}\n",
    "for img in list_images:\n",
    "    dict_images[img['image-filename']] = {}\n",
    "    for key, value in img.items():\n",
    "        if key != 'image-filename':\n",
    "           dict_images[img['image-filename']][key] = value \n",
    "        \n",
    "    "
   ]
  },
  {
   "cell_type": "code",
   "execution_count": 105,
   "id": "030ec0dc-face-4fac-b686-521c3f087543",
   "metadata": {},
   "outputs": [],
   "source": [
    "d['image-set-items'] = dict_images"
   ]
  },
  {
   "cell_type": "code",
   "execution_count": 106,
   "id": "f91d07de-4f0c-4da9-95bf-4b0fd2097137",
   "metadata": {},
   "outputs": [],
   "source": [
    "filename = '../metadata/metadata_ifdo_hf_new.json'\n",
    "with open(filename, \"w\") as outfile: \n",
    "    json.dump(d, outfile)"
   ]
  },
  {
   "cell_type": "code",
   "execution_count": 107,
   "id": "20755d19-c535-442d-abb4-a05997e1f7b3",
   "metadata": {},
   "outputs": [],
   "source": [
    "from paidiverpy.metadata_parser import MetadataParser"
   ]
  },
  {
   "cell_type": "code",
   "execution_count": 108,
   "id": "fcf4a7df-1e68-4c92-be8f-bd0cda4e806e",
   "metadata": {},
   "outputs": [
    {
     "name": "stdout",
     "output_type": "stream",
     "text": [
      "Checking files have unique names 100/100\n"
     ]
    }
   ],
   "source": [
    "metadata = MetadataParser(metadata_path=filename, metadata_type='IFDO')"
   ]
  },
  {
   "cell_type": "code",
   "execution_count": 109,
   "id": "ae5a9416-a523-4d71-a6a2-b5ad9c871951",
   "metadata": {},
   "outputs": [
    {
     "data": {
      "text/html": [
       "This is a instance of 'MetadataParser'<br><br><div>\n",
       "<style scoped>\n",
       "    .dataframe tbody tr th:only-of-type {\n",
       "        vertical-align: middle;\n",
       "    }\n",
       "\n",
       "    .dataframe tbody tr th {\n",
       "        vertical-align: top;\n",
       "    }\n",
       "\n",
       "    .dataframe thead th {\n",
       "        text-align: right;\n",
       "    }\n",
       "</style>\n",
       "<table border=\"1\" class=\"dataframe\">\n",
       "  <thead>\n",
       "    <tr style=\"text-align: right;\">\n",
       "      <th></th>\n",
       "      <th>ID</th>\n",
       "      <th>image-datetime</th>\n",
       "      <th>image-longitude</th>\n",
       "      <th>image-latitude</th>\n",
       "      <th>image-uuid</th>\n",
       "      <th>image-area-square-meter</th>\n",
       "      <th>image-media-type</th>\n",
       "      <th>flag</th>\n",
       "      <th>point</th>\n",
       "    </tr>\n",
       "  </thead>\n",
       "  <tbody>\n",
       "    <tr>\n",
       "      <th>0</th>\n",
       "      <td>M58_10441297_12987744807147.jpg</td>\n",
       "      <td>2016-05-11 09:09:41.000000</td>\n",
       "      <td>-7.712106</td>\n",
       "      <td>50.394186</td>\n",
       "      <td>854D01B1-BA2E-487C-8B33-7C46AFD8F45F</td>\n",
       "      <td>9.944266</td>\n",
       "      <td>JPEG</td>\n",
       "      <td>0</td>\n",
       "      <td>POINT (-7.71210609 50.39418572)</td>\n",
       "    </tr>\n",
       "    <tr>\n",
       "      <th>1</th>\n",
       "      <td>M58_10441297_12987744811443.jpg</td>\n",
       "      <td>2016-05-11 09:26:08.000000</td>\n",
       "      <td>-7.71211</td>\n",
       "      <td>50.394132</td>\n",
       "      <td>5FC8AC68-3C00-4885-8E61-EB1DB7F278D4</td>\n",
       "      <td>6.997521</td>\n",
       "      <td>JPEG</td>\n",
       "      <td>0</td>\n",
       "      <td>POINT (-7.71210988 50.39413194)</td>\n",
       "    </tr>\n",
       "    <tr>\n",
       "      <th>2</th>\n",
       "      <td>M58_10441297_12987744853552.jpg</td>\n",
       "      <td>2016-05-11 09:09:41.000000</td>\n",
       "      <td>-7.712127</td>\n",
       "      <td>50.393598</td>\n",
       "      <td>E0404921-BE11-44C3-A510-6BC19249FD72</td>\n",
       "      <td>6.52818</td>\n",
       "      <td>JPEG</td>\n",
       "      <td>0</td>\n",
       "      <td>POINT (-7.71212678 50.39359794)</td>\n",
       "    </tr>\n",
       "    <tr>\n",
       "      <th>3</th>\n",
       "      <td>M58_10441297_12987744857927.jpg</td>\n",
       "      <td>2016-05-11 09:09:42.000000</td>\n",
       "      <td>-7.712127</td>\n",
       "      <td>50.393542</td>\n",
       "      <td>90180FAB-4ECD-4FD9-9910-D5777D7C6807</td>\n",
       "      <td>5.396471</td>\n",
       "      <td>JPEG</td>\n",
       "      <td>0</td>\n",
       "      <td>POINT (-7.71212745 50.3935421)</td>\n",
       "    </tr>\n",
       "    <tr>\n",
       "      <th>4</th>\n",
       "      <td>M58_10441297_12987744862146.jpg</td>\n",
       "      <td>2016-05-11 09:09:42.000000</td>\n",
       "      <td>-7.712128</td>\n",
       "      <td>50.393489</td>\n",
       "      <td>8DC068D6-E6A9-4B98-96B3-6E85E1B463B4</td>\n",
       "      <td>5.109685</td>\n",
       "      <td>JPEG</td>\n",
       "      <td>0</td>\n",
       "      <td>POINT (-7.71212801 50.39348852)</td>\n",
       "    </tr>\n",
       "    <tr>\n",
       "      <th>...</th>\n",
       "      <td>...</td>\n",
       "      <td>...</td>\n",
       "      <td>...</td>\n",
       "      <td>...</td>\n",
       "      <td>...</td>\n",
       "      <td>...</td>\n",
       "      <td>...</td>\n",
       "      <td>...</td>\n",
       "      <td>...</td>\n",
       "    </tr>\n",
       "    <tr>\n",
       "      <th>95</th>\n",
       "      <td>M58_10441297_12987745342531.jpg</td>\n",
       "      <td>2016-05-11 09:10:09.000000</td>\n",
       "      <td>-7.712129</td>\n",
       "      <td>50.387354</td>\n",
       "      <td>75C2B85A-1C26-4997-B6C1-BCF83E24DCAE</td>\n",
       "      <td>6.882646</td>\n",
       "      <td>JPEG</td>\n",
       "      <td>0</td>\n",
       "      <td>POINT (-7.71212911 50.38735422)</td>\n",
       "    </tr>\n",
       "    <tr>\n",
       "      <th>96</th>\n",
       "      <td>M58_10441297_12987745346828.jpg</td>\n",
       "      <td>2016-05-11 09:10:09.000000</td>\n",
       "      <td>-7.71213</td>\n",
       "      <td>50.387298</td>\n",
       "      <td>B964C6A1-A2E3-4F57-977C-1CDEBC11E043</td>\n",
       "      <td>7.300435</td>\n",
       "      <td>JPEG</td>\n",
       "      <td>0</td>\n",
       "      <td>POINT (-7.71212961 50.3872984)</td>\n",
       "    </tr>\n",
       "    <tr>\n",
       "      <th>97</th>\n",
       "      <td>M58_10441297_12987745351406.jpg</td>\n",
       "      <td>2016-05-11 09:10:09.000000</td>\n",
       "      <td>-7.71213</td>\n",
       "      <td>50.387239</td>\n",
       "      <td>E0EB2856-F1DB-4415-917A-98DF2FCC8D19</td>\n",
       "      <td>7.052154</td>\n",
       "      <td>JPEG</td>\n",
       "      <td>0</td>\n",
       "      <td>POINT (-7.71213019 50.38723928)</td>\n",
       "    </tr>\n",
       "    <tr>\n",
       "      <th>98</th>\n",
       "      <td>M58_10441297_12987745355422.jpg</td>\n",
       "      <td>2016-05-11 09:10:09.000000</td>\n",
       "      <td>-7.712131</td>\n",
       "      <td>50.387187</td>\n",
       "      <td>95F7395B-D6A2-4C62-8E10-BABD8FEE55FC</td>\n",
       "      <td>7.652172</td>\n",
       "      <td>JPEG</td>\n",
       "      <td>0</td>\n",
       "      <td>POINT (-7.71213104 50.38718742)</td>\n",
       "    </tr>\n",
       "    <tr>\n",
       "      <th>99</th>\n",
       "      <td>M58_10441297_12987745365734.jpg</td>\n",
       "      <td>2016-05-11 09:10:10.000000</td>\n",
       "      <td>-7.712133</td>\n",
       "      <td>50.387054</td>\n",
       "      <td>F6C06EAF-3106-4B88-BE5D-BDC9E6BBD892</td>\n",
       "      <td>7.522791</td>\n",
       "      <td>JPEG</td>\n",
       "      <td>0</td>\n",
       "      <td>POINT (-7.7121329 50.38705398)</td>\n",
       "    </tr>\n",
       "  </tbody>\n",
       "</table>\n",
       "<p>100 rows × 9 columns</p>\n",
       "</div>"
      ],
      "text/plain": [
       "                                 ID              image-datetime  \\\n",
       "0   M58_10441297_12987744807147.jpg  2016-05-11 09:09:41.000000   \n",
       "1   M58_10441297_12987744811443.jpg  2016-05-11 09:26:08.000000   \n",
       "2   M58_10441297_12987744853552.jpg  2016-05-11 09:09:41.000000   \n",
       "3   M58_10441297_12987744857927.jpg  2016-05-11 09:09:42.000000   \n",
       "4   M58_10441297_12987744862146.jpg  2016-05-11 09:09:42.000000   \n",
       "..                              ...                         ...   \n",
       "95  M58_10441297_12987745342531.jpg  2016-05-11 09:10:09.000000   \n",
       "96  M58_10441297_12987745346828.jpg  2016-05-11 09:10:09.000000   \n",
       "97  M58_10441297_12987745351406.jpg  2016-05-11 09:10:09.000000   \n",
       "98  M58_10441297_12987745355422.jpg  2016-05-11 09:10:09.000000   \n",
       "99  M58_10441297_12987745365734.jpg  2016-05-11 09:10:10.000000   \n",
       "\n",
       "   image-longitude image-latitude                            image-uuid  \\\n",
       "0        -7.712106      50.394186  854D01B1-BA2E-487C-8B33-7C46AFD8F45F   \n",
       "1         -7.71211      50.394132  5FC8AC68-3C00-4885-8E61-EB1DB7F278D4   \n",
       "2        -7.712127      50.393598  E0404921-BE11-44C3-A510-6BC19249FD72   \n",
       "3        -7.712127      50.393542  90180FAB-4ECD-4FD9-9910-D5777D7C6807   \n",
       "4        -7.712128      50.393489  8DC068D6-E6A9-4B98-96B3-6E85E1B463B4   \n",
       "..             ...            ...                                   ...   \n",
       "95       -7.712129      50.387354  75C2B85A-1C26-4997-B6C1-BCF83E24DCAE   \n",
       "96        -7.71213      50.387298  B964C6A1-A2E3-4F57-977C-1CDEBC11E043   \n",
       "97        -7.71213      50.387239  E0EB2856-F1DB-4415-917A-98DF2FCC8D19   \n",
       "98       -7.712131      50.387187  95F7395B-D6A2-4C62-8E10-BABD8FEE55FC   \n",
       "99       -7.712133      50.387054  F6C06EAF-3106-4B88-BE5D-BDC9E6BBD892   \n",
       "\n",
       "   image-area-square-meter image-media-type  flag  \\\n",
       "0                 9.944266             JPEG     0   \n",
       "1                 6.997521             JPEG     0   \n",
       "2                  6.52818             JPEG     0   \n",
       "3                 5.396471             JPEG     0   \n",
       "4                 5.109685             JPEG     0   \n",
       "..                     ...              ...   ...   \n",
       "95                6.882646             JPEG     0   \n",
       "96                7.300435             JPEG     0   \n",
       "97                7.052154             JPEG     0   \n",
       "98                7.652172             JPEG     0   \n",
       "99                7.522791             JPEG     0   \n",
       "\n",
       "                              point  \n",
       "0   POINT (-7.71210609 50.39418572)  \n",
       "1   POINT (-7.71210988 50.39413194)  \n",
       "2   POINT (-7.71212678 50.39359794)  \n",
       "3    POINT (-7.71212745 50.3935421)  \n",
       "4   POINT (-7.71212801 50.39348852)  \n",
       "..                              ...  \n",
       "95  POINT (-7.71212911 50.38735422)  \n",
       "96   POINT (-7.71212961 50.3872984)  \n",
       "97  POINT (-7.71213019 50.38723928)  \n",
       "98  POINT (-7.71213104 50.38718742)  \n",
       "99   POINT (-7.7121329 50.38705398)  \n",
       "\n",
       "[100 rows x 9 columns]"
      ]
     },
     "execution_count": 109,
     "metadata": {},
     "output_type": "execute_result"
    }
   ],
   "source": [
    "metadata"
   ]
  },
  {
   "cell_type": "code",
   "execution_count": null,
   "id": "d6a70904-2ec4-48b3-98d7-ecc1a24d8a6f",
   "metadata": {},
   "outputs": [],
   "source": []
  }
 ],
 "metadata": {
  "kernelspec": {
   "display_name": "Python 3 (ipykernel)",
   "language": "python",
   "name": "python3"
  },
  "language_info": {
   "codemirror_mode": {
    "name": "ipython",
    "version": 3
   },
   "file_extension": ".py",
   "mimetype": "text/x-python",
   "name": "python",
   "nbconvert_exporter": "python",
   "pygments_lexer": "ipython3",
   "version": "3.10.12"
  }
 },
 "nbformat": 4,
 "nbformat_minor": 5
}
