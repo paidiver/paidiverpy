{
 "cells": [
  {
   "cell_type": "code",
   "execution_count": 3,
   "id": "39a00e66-86e2-492c-90c1-c4091065ea89",
   "metadata": {},
   "outputs": [],
   "source": [
    "from paidiverpy import data"
   ]
  },
  {
   "cell_type": "code",
   "execution_count": 4,
   "id": "14065954-a629-49a1-8e92-36ffeaad731a",
   "metadata": {},
   "outputs": [
    {
     "name": "stdout",
     "output_type": "stream",
     "text": [
      "Downloading https://paidiver-o.s3-ext.jc.rl.ac.uk/paidiverpy/data/mojtaba_images.zip...\n",
      "Downloaded and cached at /home/tobfer/.paidiverpy_cache/0ed26698a029c4f242d1afa46759ba76.zip\n",
      "☁ paidiverpy ☁  |       INFO | 2024-09-24 12:30:44 | Extracted files to /home/tobfer/.paidiverpy_cache/pelagic\n",
      "☁ paidiverpy ☁  |       INFO | 2024-09-24 12:30:44 | Dataset 'pelagic' is available at: /home/tobfer/.paidiverpy_cache/pelagic\n"
     ]
    },
    {
     "data": {
      "text/plain": [
       "PosixPath('/home/tobfer/.paidiverpy_cache/pelagic')"
      ]
     },
     "execution_count": 4,
     "metadata": {},
     "output_type": "execute_result"
    }
   ],
   "source": [
    "data.load(\"pelagic\")"
   ]
  },
  {
   "cell_type": "code",
   "execution_count": null,
   "id": "176fc7a7-e83e-4b62-a784-f3ec1208574c",
   "metadata": {},
   "outputs": [],
   "source": []
  }
 ],
 "metadata": {
  "kernelspec": {
   "display_name": "Python 3 (ipykernel)",
   "language": "python",
   "name": "python3"
  },
  "language_info": {
   "codemirror_mode": {
    "name": "ipython",
    "version": 3
   },
   "file_extension": ".py",
   "mimetype": "text/x-python",
   "name": "python",
   "nbconvert_exporter": "python",
   "pygments_lexer": "ipython3",
   "version": "3.10.12"
  }
 },
 "nbformat": 4,
 "nbformat_minor": 5
}
