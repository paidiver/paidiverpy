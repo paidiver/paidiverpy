{
 "cells": [
  {
   "cell_type": "code",
<<<<<<< HEAD
   "execution_count": 30,
=======
   "execution_count": 14,
>>>>>>> 0b6637d5876468601d52a016d92742984755764b
   "id": "908dd731-e15e-4b30-a4bf-ea1b9b3158ee",
   "metadata": {},
   "outputs": [
    {
     "name": "stdout",
     "output_type": "stream",
     "text": [
      "The autoreload extension is already loaded. To reload it, use:\n",
      "  %reload_ext autoreload\n"
     ]
    }
   ],
   "source": [
    "%load_ext autoreload\n",
    "%autoreload 2\n",
    "from paidiverpy.pipeline import Pipeline\n",
    "from paidiverpy.open_layer import OpenLayer\n",
    "from paidiverpy.resample_layer import ResampleLayer\n",
    "from paidiverpy.color_layer import ColorLayer\n",
    "from paidiverpy.config import Configuration"
   ]
  },
  {
   "cell_type": "code",
<<<<<<< HEAD
   "execution_count": 41,
=======
   "execution_count": 15,
>>>>>>> 0b6637d5876468601d52a016d92742984755764b
   "id": "46f413c1-b9a5-4dc1-a27d-9cba7f9c745c",
   "metadata": {},
   "outputs": [
    {
     "name": "stdout",
     "output_type": "stream",
     "text": [
<<<<<<< HEAD
      "☁ paidiverpy ☁  |    WARNING | 2024-09-10 17:21:14 | Catalog does not have a datetime type column. It should have one of the following columns: ['datetime', 'date_time', 'DateTime', 'Datetime']\n",
      "☁ paidiverpy ☁  |    WARNING | 2024-09-10 17:21:14 | Some functions may not work properly.\n",
      "☁ paidiverpy ☁  |    WARNING | 2024-09-10 17:21:14 | Catalog does not have a lat type column. It should have one of the following columns: ['lat', 'latitude_deg', 'latitude', 'Latitude', 'Latitude_deg', 'Lat']\n",
      "☁ paidiverpy ☁  |    WARNING | 2024-09-10 17:21:14 | Some functions may not work properly.\n",
      "☁ paidiverpy ☁  |    WARNING | 2024-09-10 17:21:14 | Catalog does not have a lon type column. It should have one of the following columns: ['lon', 'longitude_deg', 'longitude', 'Longitude', 'Longitude_deg', 'Lon']\n",
      "☁ paidiverpy ☁  |    WARNING | 2024-09-10 17:21:14 | Some functions may not work properly.\n"
=======
      "☁ paidiverpy ☁  |    WARNING | 2024-09-10 11:11:53 | Catalog does not have a datetime type column. It should have one of the following columns: ['datetime', 'date_time', 'DateTime', 'Datetime']\n",
      "☁ paidiverpy ☁  |    WARNING | 2024-09-10 11:11:53 | Some functions may not work properly.\n",
      "☁ paidiverpy ☁  |    WARNING | 2024-09-10 11:11:53 | Catalog does not have a lat type column. It should have one of the following columns: ['lat', 'latitude_deg', 'latitude', 'Latitude', 'Latitude_deg', 'Lat']\n",
      "☁ paidiverpy ☁  |    WARNING | 2024-09-10 11:11:53 | Some functions may not work properly.\n",
      "☁ paidiverpy ☁  |    WARNING | 2024-09-10 11:11:53 | Catalog does not have a lon type column. It should have one of the following columns: ['lon', 'longitude_deg', 'longitude', 'Longitude', 'Longitude_deg', 'Lon']\n",
      "☁ paidiverpy ☁  |    WARNING | 2024-09-10 11:11:53 | Some functions may not work properly.\n"
>>>>>>> 0b6637d5876468601d52a016d92742984755764b
     ]
    }
   ],
   "source": [
    "pipeline = Pipeline(config_file_path=\"../config_files/config_mojtaba.yaml\")"
   ]
  },
  {
   "cell_type": "code",
<<<<<<< HEAD
   "execution_count": 42,
=======
   "execution_count": 16,
>>>>>>> 0b6637d5876468601d52a016d92742984755764b
   "id": "07911eb2-c8b4-4e5d-b646-81ed8f71152e",
   "metadata": {
    "scrolled": true
   },
   "outputs": [
    {
     "data": {
      "text/html": [
       "\n",
       "        <div style=\"display: flex; flex-wrap: wrap; align-items: center;\">\n",
       "            \n",
       "        <div id=\"general\" title=\"Click to see more information\" class=\"square\" style=\"float:left; cursor: pointer; padding: 10px; width: max-content; height: 80px; margin: 10px; border: 1px solid #000; text-align: center; line-height: 80px;\" onclick=\"showParameters('general')\">\n",
       "            <h2 style=\"font-size:20px;\">Raw</h2>\n",
       "            <h2 style=\"font-size:13px;\">Type: Open</h2>\n",
       "        </div>\n",
       "        \n",
       "            <div style=\"float:left; width: 50px; height: 80px; margin: 10px; text-align: center; line-height: 80px;\">&#10132;</div>\n",
       "                <div id=\"step_0\" title=\"Click to see more information\" class=\"square\" style=\"cursor: pointer; float:left; padding: 10px; width: max-content; height: 80px; margin: 10px; border: 1px solid #000; text-align: center; line-height: 80px;\" onclick=\"showParameters('step_0')\">\n",
       "                    <h2 style=\"font-size:20px;\">Deblur</h2>\n",
       "                    <h2 style=\"font-size:13px;\">Type: Color</h2>\n",
       "                </div>\n",
       "            \n",
       "        </div>\n",
       "        <div id=\"parameters\" style=\"padding: 10px; margin: 10px;\">\n",
       "                <div id=\"parameters_step_0\" class=\"parameters\" style=\"display: none;\">\n",
       "                    <pre>{\n",
<<<<<<< HEAD
       "    \"name\": \"deblur\",\n",
       "    \"mode\": \"deblur\",\n",
       "    \"params\": {\n",
       "        \"method\": \"wiener\",\n",
       "        \"psf_type\": \"gaussian\",\n",
       "        \"sigma\": 1,\n",
       "        \"angle\": 45\n",
=======
       "    \"name\": \"edge_detection\",\n",
       "    \"mode\": \"edge_detection\",\n",
       "    \"params\": {\n",
       "        \"method\": \"scharr\",\n",
       "        \"object_type\": \"isolated\",\n",
       "        \"object_selection\": \"Largest Area\",\n",
       "        \"blur_radius\": 3,\n",
       "        \"threshold\": [\n",
       "            \"2.5 3.0\"\n",
       "        ],\n",
       "        \"deconv\": true,\n",
       "        \"deconv_method\": \"LR\",\n",
       "        \"deconv_iter\": 7,\n",
       "        \"deconv_mask_weight\": 0.5,\n",
       "        \"estimate_sharpness\": true,\n",
       "        \"small_float_val\": 0.0001\n",
>>>>>>> 0b6637d5876468601d52a016d92742984755764b
       "    },\n",
       "    \"step_name\": \"color\"\n",
       "}</pre>\n",
       "                </div>\n",
       "            \n",
       "            <div id=\"parameters_general\" class=\"parameters\" style=\"display: none;\">\n",
       "                <pre>{\n",
       "    \"input_path\": \"/mnt/code/code/noc/paidiver/paidiverpy/examples/data/mojtaba\",\n",
       "    \"output_path\": \"/mnt/code/code/noc/paidiver/paidiverpy/examles/data\",\n",
       "    \"catalog_path\": \"/mnt/code/code/noc/paidiver/paidiverpy/examples/catalog/catalog_mojtaba.csv\",\n",
       "    \"catalog_type\": \"CSV\",\n",
       "    \"image_type\": \"BMP\",\n",
       "    \"sampling\": [\n",
       "        {\n",
       "            \"mode\": \"percent\",\n",
       "            \"params\": {\n",
       "                \"value\": 0.9\n",
       "            }\n",
       "        }\n",
       "    ],\n",
       "    \"convert\": [\n",
       "        {\n",
       "            \"mode\": \"bits\",\n",
       "            \"params\": {\n",
       "                \"output_bits\": 8,\n",
       "                \"autoscale\": true\n",
       "            }\n",
       "        }\n",
       "    ],\n",
       "    \"name\": \"raw\",\n",
       "    \"step_name\": \"Open\"\n",
       "}</pre>\n",
       "            </div>\n",
       "        </div>\n",
       "        <script>\n",
       "            function showParameters(id) {\n",
       "                // Hide all parameter sections\n",
       "                var currentTarget = document.getElementById(id);\n",
       "                var square = document.getElementsByClassName('square');\n",
       "                var allParams = document.getElementsByClassName('parameters');\n",
       "                var selectedParams = document.getElementById('parameters_' + id);\n",
       "                var idWasVisible = false;\n",
       "                if (selectedParams) {\n",
       "                    var idWasVisible = selectedParams.style.display === 'block';                    \n",
       "                }\n",
       "                for (var i = 0; i < square.length; i++) {\n",
       "                    square[i].style.color = 'black';\n",
       "                }\n",
       "                for (var i = 0; i < allParams.length; i++) {\n",
       "                    allParams[i].style.display = 'none';\n",
       "                }\n",
       "                // Show the selected parameter section\n",
       "                if (selectedParams) {\n",
       "                    if (idWasVisible) {\n",
       "                        selectedParams.style.display = 'none';\n",
       "                        currentTarget.style.color = 'black';\n",
       "                    } else {\n",
       "                        selectedParams.style.display = 'block';\n",
       "                        currentTarget.style.color = 'red';\n",
       "                    }\n",
       "                }\n",
       "            }\n",
       "        </script>\n",
       "        "
      ],
      "text/plain": [
<<<<<<< HEAD
       "<paidiverpy.pipeline.pipeline.Pipeline at 0x7fc9be66b910>"
      ]
     },
     "execution_count": 42,
=======
       "<paidiverpy.pipeline.pipeline.Pipeline at 0x75a338f91d20>"
      ]
     },
     "execution_count": 16,
>>>>>>> 0b6637d5876468601d52a016d92742984755764b
     "metadata": {},
     "output_type": "execute_result"
    }
   ],
   "source": [
    "pipeline"
   ]
  },
  {
   "cell_type": "code",
<<<<<<< HEAD
   "execution_count": 43,
=======
   "execution_count": 17,
>>>>>>> 0b6637d5876468601d52a016d92742984755764b
   "id": "0131f808-2a6a-40e0-beb7-41726f5c638a",
   "metadata": {
    "scrolled": true
   },
   "outputs": [
    {
     "name": "stdout",
     "output_type": "stream",
     "text": [
<<<<<<< HEAD
      "☁ paidiverpy ☁  |    WARNING | 2024-09-10 17:21:15 | Step 0 does not exist. Run the pipeline from the beginning\n",
      "☁ paidiverpy ☁  |       INFO | 2024-09-10 17:21:15 | Running step 0: raw - OpenLayer\n"
=======
      "☁ paidiverpy ☁  |       INFO | 2024-09-10 11:11:54 | Running step 0: raw - OpenLayer\n"
>>>>>>> 0b6637d5876468601d52a016d92742984755764b
     ]
    },
    {
     "name": "stderr",
     "output_type": "stream",
     "text": [
<<<<<<< HEAD
      "Processing Images: 100%|███████████████████████████████| 52/52 [00:04<00:00, 10.49it/s]\n",
      "Processing Images: 100%|█████████████████████████████| 52/52 [00:00<00:00, 5495.88it/s]"
=======
      "Processing Images: 100%|███████████████████████████████| 52/52 [00:03<00:00, 16.49it/s]\n",
      "Processing Images: 100%|█████████████████████████████| 52/52 [00:00<00:00, 4162.92it/s]"
>>>>>>> 0b6637d5876468601d52a016d92742984755764b
     ]
    },
    {
     "name": "stdout",
     "output_type": "stream",
     "text": [
<<<<<<< HEAD
      "☁ paidiverpy ☁  |       INFO | 2024-09-10 17:21:20 | Step 0 completed\n"
=======
      "☁ paidiverpy ☁  |       INFO | 2024-09-10 11:11:57 | Step 0 completed\n",
      "☁ paidiverpy ☁  |       INFO | 2024-09-10 11:11:57 | Step 0 saved\n"
>>>>>>> 0b6637d5876468601d52a016d92742984755764b
     ]
    },
    {
     "name": "stderr",
     "output_type": "stream",
     "text": [
      "\n"
     ]
    },
    {
     "name": "stdout",
     "output_type": "stream",
     "text": [
<<<<<<< HEAD
      "☁ paidiverpy ☁  |       INFO | 2024-09-10 17:21:20 | Step 0 saved\n",
      "☁ paidiverpy ☁  |       INFO | 2024-09-10 17:21:20 | Running step 1: deblur - ColorLayer\n"
=======
      "☁ paidiverpy ☁  |       INFO | 2024-09-10 11:11:57 | Running step 1: edge_detection - ColorLayer\n"
>>>>>>> 0b6637d5876468601d52a016d92742984755764b
     ]
    },
    {
     "name": "stderr",
     "output_type": "stream",
     "text": [
<<<<<<< HEAD
      "Processing Images: 100%|███████████████████████████████| 52/52 [00:00<00:00, 85.41it/s]"
=======
      "Processing Images: 100%|███████████████████████████████| 52/52 [00:05<00:00,  8.87it/s]"
>>>>>>> 0b6637d5876468601d52a016d92742984755764b
     ]
    },
    {
     "name": "stdout",
     "output_type": "stream",
     "text": [
<<<<<<< HEAD
      "☁ paidiverpy ☁  |       INFO | 2024-09-10 17:21:20 | Step 1 completed\n",
      "☁ paidiverpy ☁  |       INFO | 2024-09-10 17:21:20 | Step 1 saved\n"
=======
      "☁ paidiverpy ☁  |       INFO | 2024-09-10 11:12:03 | Step 1 completed\n",
      "☁ paidiverpy ☁  |       INFO | 2024-09-10 11:12:03 | Step 1 saved\n"
>>>>>>> 0b6637d5876468601d52a016d92742984755764b
     ]
    },
    {
     "name": "stderr",
     "output_type": "stream",
     "text": [
      "\n"
     ]
    }
   ],
   "source": [
    "pipeline.run(from_step=0)"
   ]
  },
  {
   "cell_type": "code",
<<<<<<< HEAD
   "execution_count": 45,
   "id": "d40ca00b-2982-4c70-96f1-f8dcd0e386fb",
   "metadata": {},
   "outputs": [
    {
     "data": {
      "text/html": [
       "\n",
       "        <style>\n",
       "        .step-header {\n",
       "            font-size: 1.2em;\n",
       "            font-weight: bold;\n",
       "            margin-top: 10px;\n",
       "            margin-bottom: 5px;\n",
       "        }\n",
       "        .metadata {\n",
       "            margin-left: 20px;\n",
       "            margin-bottom: 10px;\n",
       "        }\n",
       "        .image-container {\n",
       "            display: flex;\n",
       "            flex-wrap: wrap;\n",
       "            gap: 10px;\n",
       "            margin-left: 20px;\n",
       "        }\n",
       "        .image-container img {\n",
       "            max-width: 200px;\n",
       "            margin: 10px;\n",
       "        }\n",
       "        .toggle-arrow {\n",
       "            cursor: pointer;\n",
       "            margin-left: 5px;\n",
       "        }\n",
       "        .show-more-button, .hide-button {\n",
       "            margin-left: 20px;\n",
       "            background-color: #007bff;\n",
       "            color: white;\n",
       "            border: none;\n",
       "            padding: 5px 10px;\n",
       "            cursor: pointer;\n",
       "        }\n",
       "        </style>\n",
       "        <script>\n",
       "        function toggleMetadata(stepIndex) {\n",
       "            var x = document.getElementById(\"metadata-\" + stepIndex);\n",
       "            var arrow = document.getElementById(\"arrow-\" + stepIndex);\n",
       "            if (x.style.display === \"none\") {\n",
       "                x.style.display = \"block\";\n",
       "                arrow.innerHTML = \"▼\";\n",
       "            } else {\n",
       "                x.style.display = \"none\";\n",
       "                arrow.innerHTML = \"►\";\n",
       "            }\n",
       "        }\n",
       "        function toggleImage(imageId) {\n",
       "            var img = document.getElementById(imageId);\n",
       "            var arrow = document.getElementById(\"arrow-\" + imageId);\n",
       "            if (img.style.display === \"none\") {\n",
       "                img.style.display = \"block\";\n",
       "                arrow.innerHTML = \"▼\";\n",
       "            } else {\n",
       "                img.style.display = \"none\";\n",
       "                arrow.innerHTML = \"►\";\n",
       "            }\n",
       "        }\n",
       "        function showMore(stepIndex) {\n",
       "            var moreImages = document.getElementById(\"more-images-\" + stepIndex);\n",
       "            var showMoreButton = document.getElementById(\"show-more-button-\" + stepIndex);\n",
       "            var hideButton = document.getElementById(\"hide-button-\" + stepIndex);\n",
       "            moreImages.style.display = \"flex\";\n",
       "            showMoreButton.style.display = \"none\";\n",
       "            hideButton.style.display = \"inline-block\";\n",
       "        }\n",
       "        function hide(stepIndex) {\n",
       "            var moreImages = document.getElementById(\"more-images-\" + stepIndex);\n",
       "            var showMoreButton = document.getElementById(\"show-more-button-\" + stepIndex);\n",
       "            var hideButton = document.getElementById(\"hide-button-\" + stepIndex);\n",
       "            moreImages.style.display = \"none\";\n",
       "            showMoreButton.style.display = \"inline-block\";\n",
       "            hideButton.style.display = \"none\";\n",
       "        }\n",
       "        </script>\n",
       "        <div class='step-header'>Step: raw <span id='arrow-0' class='toggle-arrow' onclick='toggleMetadata(0)'>►</span></div><div id='metadata-0' class='metadata' style='display:block;'><div class='image-container'><div><p onclick='toggleImage(\"image-0-0\")' style='cursor:pointer;'>Image: 20230310041824_644_0000.bmp <span id='arrow-image-0-0' class='toggle-arrow'>►</span></p><img id='image-0-0' src='data:image/png;base64,/9j/4AAQSkZJRgABAQAAAQABAAD/2wBDAAgGBgcGBQgHBwcJCQgKDBQNDAsLDBkSEw8UHRofHh0aHBwgJC4nICIsIxwcKDcpLDAxNDQ0Hyc5PTgyPC4zNDL/wAALCACWAJYBAREA/8QAHwAAAQUBAQEBAQEAAAAAAAAAAAECAwQFBgcICQoL/8QAtRAAAgEDAwIEAwUFBAQAAAF9AQIDAAQRBRIhMUEGE1FhByJxFDKBkaEII0KxwRVS0fAkM2JyggkKFhcYGRolJicoKSo0NTY3ODk6Q0RFRkdISUpTVFVWV1hZWmNkZWZnaGlqc3R1dnd4eXqDhIWGh4iJipKTlJWWl5iZmqKjpKWmp6ipqrKztLW2t7i5usLDxMXGx8jJytLT1NXW19jZ2uHi4+Tl5ufo6erx8vP09fb3+Pn6/9oACAEBAAA/APn+iiiiiiiiiiiiiiiiiiiiiiiiiiiiiiiiiiiiiiiiiiiiiiiiiiiiiiiiiiiiiiiiiiiiiiiiiiiiiiiiiiiiiiiiiiiiiiiiiiiiiiiiiiiiiiiiiiiiiiiiiilVSxwASaka3mQZaNgPpUVFFFFFFFFFFFFFFaGm6VLqEqqvAJr0nw/8MPtwTfGWJ713lp8MdD0uMNdxBn+lJdeA9G1EeXE6RegNcZ4h+FUVhE00UgbjPFeVajYmxuDGexqnRRRRRRRRRRRT4gDIA3SvRfB1vavMgEils/dr2zSo57O3WSORUA/hrdS60u7hLXsyrIOxPWuZ1CSzW63wKSo6YNZ+sapFNp5QrswO9eD+KGja8YgZ5rnKKKKKKKKKKKKVSAwzW1o2rfYbtGiUhwfvZr1LRviEIWRbwGQV2sPinQtQQObM7sdqoat4ltIYybe1IwPSvN9e8T3F4rhFKCvPLu4knmYue9V6KKKKKKKKKKKBV2wtHuJ1CdM16l4a8GveKjSREr/er07TvD2l6ZAAyiR/7tU9Sht5W8oafsB74rkda8MQGMsqhQRXlXiDSkspiYznnmsGiiiiiiiiiiigda6nw3LbiVQ4A5r2TR9cMFksMCggjrWvZ3xVt8o59ah1PXnVgI4/NxXParqLzW5aT5BjpXk/iG+SaVlUYPrXNUUUUUUUUUUUUVPa3DQTB88CuosfGs1myqoO0V1dn8S7baEmQGoNS+INuFxbAAmuS1HxZdXQK7yQa5yWV5nLOSSaZRRRRRRRRRRRRRRRRRRRRRRRRRRRRRRRRRRRRRRRRRRRRRRRRRRRRRRRRRRRRRRRRRRRRRRRRRRRRRRRRRRRRRRRRRRRRRRRRRRRRRRRRRRRRRRRRRRRRRRRX//Z' style='display:block;' /></div><div><p onclick='toggleImage(\"image-0-1\")' style='cursor:pointer;'>Image: 20230310041851_943_0001.bmp <span id='arrow-image-0-1' class='toggle-arrow'>►</span></p><img id='image-0-1' src='data:image/png;base64,/9j/4AAQSkZJRgABAQAAAQABAAD/2wBDAAgGBgcGBQgHBwcJCQgKDBQNDAsLDBkSEw8UHRofHh0aHBwgJC4nICIsIxwcKDcpLDAxNDQ0Hyc5PTgyPC4zNDL/wAALCACWAJYBAREA/8QAHwAAAQUBAQEBAQEAAAAAAAAAAAECAwQFBgcICQoL/8QAtRAAAgEDAwIEAwUFBAQAAAF9AQIDAAQRBRIhMUEGE1FhByJxFDKBkaEII0KxwRVS0fAkM2JyggkKFhcYGRolJicoKSo0NTY3ODk6Q0RFRkdISUpTVFVWV1hZWmNkZWZnaGlqc3R1dnd4eXqDhIWGh4iJipKTlJWWl5iZmqKjpKWmp6ipqrKztLW2t7i5usLDxMXGx8jJytLT1NXW19jZ2uHi4+Tl5ufo6erx8vP09fb3+Pn6/9oACAEBAAA/APn+iiiiiiiiiiiiiiiiiiiiiiiiiiiiiiiiiiiiiiiiiiiiiiiiiiiiiiiiiiiiiiiiiiiiiiiiiiiiiiiiiiiiiiiiiiiiiiiiiiiiiiiiiiiiiiiiiiiiiiiiiinKhbpSFWXqKSiiiiiiiiiiiiiiiirVshY/lWqliJ4cEfSsa5t3tpSjioaKKKKKKKKKKKKKKciFjwK19N0ye4cBEY/SuutdLeGLbLGw564rE17TQYztGXXOK5M8GiiiiiiiiiiiilUZOKmS3bGSMD3q9awKHGRxXt3wz0qynlTzYVbnjIr1zVvCGl6pamP7OkT4+UoMc18/eNNDk0q6mgdcFGIB9a8nuk8u4ce+ahoooooooooooqxaKHmANaZCuuCOvApsB2SfN0zXs/ww1OGO5hRyB8wB+le+qwdAw6EZFeH/ABWZZpJg2NyEgMK+fL/m4NVaKKKKKKKKKKKlt32SA1pxyAR8Dk1SkuCJDg961tF8S3Gl3KyxuRt7V7r4a+M8U+nLBeqBMFwHzXCeOvECXxm8twQWyCD96vKbhg0pxUVFFFFFFFFFFFKDg1IJ2VCAevFRE5NFSRzyREFWIqaS+lkXDMT9arE5NJRRRRRRRRRRRRRRRRRRRRRRRRRRRRRRRRRRRRRRRRRRRRRRRRRRRRRRRRRRRRRRRRRRRRRRRRRRRRRRRRRRRRRRRRRRRUkcLyfdBxTXQocU2iiiiiiiiiiiiiipUh3EDNdZpPhGG9VS0xG4Vq6j4et9KtjGh3EjOa4e9QBvrVGiiiiiiv/Z' style='display:block;' /></div><div><p onclick='toggleImage(\"image-0-2\")' style='cursor:pointer;'>Image: 20230310041825_994_0000.bmp <span id='arrow-image-0-2' class='toggle-arrow'>►</span></p><img id='image-0-2' src='data:image/png;base64,/9j/4AAQSkZJRgABAQAAAQABAAD/2wBDAAgGBgcGBQgHBwcJCQgKDBQNDAsLDBkSEw8UHRofHh0aHBwgJC4nICIsIxwcKDcpLDAxNDQ0Hyc5PTgyPC4zNDL/wAALCACWAJYBAREA/8QAHwAAAQUBAQEBAQEAAAAAAAAAAAECAwQFBgcICQoL/8QAtRAAAgEDAwIEAwUFBAQAAAF9AQIDAAQRBRIhMUEGE1FhByJxFDKBkaEII0KxwRVS0fAkM2JyggkKFhcYGRolJicoKSo0NTY3ODk6Q0RFRkdISUpTVFVWV1hZWmNkZWZnaGlqc3R1dnd4eXqDhIWGh4iJipKTlJWWl5iZmqKjpKWmp6ipqrKztLW2t7i5usLDxMXGx8jJytLT1NXW19jZ2uHi4+Tl5ufo6erx8vP09fb3+Pn6/9oACAEBAAA/APn+iiiiiiiiiiiiiiiiiiiiiiiiiiiiiiiiiiiiiiiiiiiiinKORmnuFJqMgA8UlFFFFFFFFFFFFFFFOB3ECpTFyKY6Be/NR0UUUUUUUUUUUUUUUDrUwc96jc5am0UUUUUUUUUUUUUUUo6insfmHpTXxnim5ooooooooooooooopQCelByOtJRRRRRRRRRRRRRRRU1tAZ5NorobDw1Nd42Lk1oSeCLlRuZDXOajo81lKVKms4xMvWmUUUUUUUUUUUUUo681t6JbCaYAdTXsngzQ/Lw8oGD612l/ZW4h2rCCcdcV514j8PLMrOsXP0rzHVdLeBm+XFc+ylWINJRRRRRRRRRRRSqu44roNBzHdIc9DXuvhq8+0pEijGMZr023htHtAsiAuRWdqujWiWLysq9OleDeMLWKO4kKKNua8yvkCSnHeqdFFFFFFFFFFFKDitPTbkxTIc17F4T1uLy0K8EYr1rR9SiuYA5PIqXUy93bsAcJivD/ABtEsTuucnNeT3hxId3rVKiiiiiiiiiiiipIpDG2a6vRdb+zAYr0fQ/FxWEfMQB71vXXj1BYMgPOOua8p17XGvZ3ZjkE1xFzL5spPvUFFFFFFFFFFFFFFTwzmNh6Vrxa0YEAU0+TXmkjxWVPfNLniqhOTmkooooooooooooooooooooooooooooooooooooooooooooooooooooooooooooooooooooooooooooooooooooooooooooooooooooooooooooooooooooooor/2Q==' style='display:block;' /></div><div><p onclick='toggleImage(\"image-0-3\")' style='cursor:pointer;'>Image: 20230310041822_845_0000.bmp <span id='arrow-image-0-3' class='toggle-arrow'>►</span></p><img id='image-0-3' src='data:image/png;base64,/9j/4AAQSkZJRgABAQAAAQABAAD/2wBDAAgGBgcGBQgHBwcJCQgKDBQNDAsLDBkSEw8UHRofHh0aHBwgJC4nICIsIxwcKDcpLDAxNDQ0Hyc5PTgyPC4zNDL/wAALCACWAJYBAREA/8QAHwAAAQUBAQEBAQEAAAAAAAAAAAECAwQFBgcICQoL/8QAtRAAAgEDAwIEAwUFBAQAAAF9AQIDAAQRBRIhMUEGE1FhByJxFDKBkaEII0KxwRVS0fAkM2JyggkKFhcYGRolJicoKSo0NTY3ODk6Q0RFRkdISUpTVFVWV1hZWmNkZWZnaGlqc3R1dnd4eXqDhIWGh4iJipKTlJWWl5iZmqKjpKWmp6ipqrKztLW2t7i5usLDxMXGx8jJytLT1NXW19jZ2uHi4+Tl5ufo6erx8vP09fb3+Pn6/9oACAEBAAA/APn+iiiiiiiiiiiiiiiiiiiiiiiiiiiiiiiiiiiiiiiiiiiiiiiiiiiiiiiiiiiiiiiiiiiiiiiiiiiiiiiiiiiiiiiiiiiiiiiiiiiiiiiiiiiiiiiiiiiiiiiilVS7BVGSe1Xo9JuZFyF59Kd/Yd/3gYfhSSaJqEa7jbvt9cVRaN0JDKQR6im0UUUUUUUUUUUUAZOK6Lw9pn2i4VmXH+0a7n7Hb25XCBm/vCtS38sYaQo4HYCtIwx31qyRxqox6Vyd94YgZXxDuc55Fee6vpT6dMQTkE9PSsyiiiiiiiiiiiprUxidTIMrXeeG5YzcJ8uYv7tdZd2/nOqwJ5cfcmnpp4t03qd47mrEUF3JC0sDfIo5FVTqLMGTb5ZXrnvXnHiyZZJjs9ea5eiiiiiiiiiiilXr1xWxoV9cR38caNwTXs2khrmJIZBvc9q9A0rwms1iVkg2Bh1NMu/CZ06zkNs4bI+6K8e8Q3E9rO8b25U5POK841YyNKWLEg9qy6KKKKKKKKKKKACelbfh21km1FFVcNng167ZXTaf5aOux/8Anp6V3WleJ7mG28trkXKnuD0pt74qu0DLDbmQHqa5nUHhvoma4gDOfavHPFlsYbo7I9i56VzFFFFFFFFFFFFOjfY4bGa6zwrfRi+Q7BuzXe3cd1qMiow2RHvQRdaOoS0YyA9auWuuX3lbChDHtQ0su1pbiXyj1CnvXnXjDVBcSGPywMfxetcbRRRRRRRRRRRRVmxuntLlZUbGK6/T/GkiTL50uYx1FbVz45spNqxYT1NTReK9NSPzjcjzAMgVzet+N2v3KpHkA8GuWvb57wgsaqUUUUUUUUUUUUUUUUUUUUUUUUUUUUUUUUUUUUUUUUUUUUUUUUUUUUUUUUUUUUUUUUUUUUUUUUUUUUUUUUUUUUUUUUUUUUUUUUUUUUUUUUUUUUUUUUUUUUUUUV//2Q==' style='display:block;' /></div><div><p onclick='toggleImage(\"image-0-4\")' style='cursor:pointer;'>Image: 20230310041804_998_0001.bmp <span id='arrow-image-0-4' class='toggle-arrow'>►</span></p><img id='image-0-4' src='data:image/png;base64,/9j/4AAQSkZJRgABAQAAAQABAAD/2wBDAAgGBgcGBQgHBwcJCQgKDBQNDAsLDBkSEw8UHRofHh0aHBwgJC4nICIsIxwcKDcpLDAxNDQ0Hyc5PTgyPC4zNDL/wAALCACWAJYBAREA/8QAHwAAAQUBAQEBAQEAAAAAAAAAAAECAwQFBgcICQoL/8QAtRAAAgEDAwIEAwUFBAQAAAF9AQIDAAQRBRIhMUEGE1FhByJxFDKBkaEII0KxwRVS0fAkM2JyggkKFhcYGRolJicoKSo0NTY3ODk6Q0RFRkdISUpTVFVWV1hZWmNkZWZnaGlqc3R1dnd4eXqDhIWGh4iJipKTlJWWl5iZmqKjpKWmp6ipqrKztLW2t7i5usLDxMXGx8jJytLT1NXW19jZ2uHi4+Tl5ufo6erx8vP09fb3+Pn6/9oACAEBAAA/APn+iiiiiiiiiiiiiiiiiiiiiiiiiiiiiiiiiiiiiiiiiiiiiiiiiiiiiiiiiiiiiiiiiiiiiiiiiiiiiiiiiiiiiiiiiiiiiiiiiiiiiiiiiiiiiiiiiiiiiiiiiil2k9qCpBxikoooooooooooooooq3b2xbkjrW3a6SskY45qxc6Aoi3L949q569sXtnIIOKpUUUUUUUUUUUUUU5ACa6PRbbz5UUjivR9G8MGdl2Ctq88HeXb7gPn9K861/SWhdxIvTpXDXUJikNV6KKKKKKKKKKKUd6nt1G7kV2XhyMCVWI6V6zobtFEHXrW7ezSPbmXoMV5r4lxNE7MORXlupYZmNZdFFFFFFFFFFFOXvU8JBx7V1Wk3YiKeteh6NrS/KpI966SfXLae28lWGBXB+I7uN1dVIrzO/YF3FZtFFFFFFFFFFFKKfGxBz6VpWd1tYEmun07UlHAbDGtCTURDCSr8mue1HUWeMndya5maXexqGiiiiiiiiiiiilzTkkK1ZhvXTocGp31ORk2En61SkuHc8nioic0lFFFFFFFFFFFFFGOM0CnbWPGKRlKnB60lFFFFFFFFFFFFFFWIIGl4UZzXSab4Nvr4L5cDNnuBWnd/D3ULODzWgbH0rktR02W0Y+YpBrNooooooooooooopQMmuy8IaYlzexbhkE819TeFdDsbHTI3SJWYjqRWpqmnwXdhJGYVPHHy187+PPDXlNKwTAGccV4/PH5crL71FRRRRRRRRRRRRTk+8BXqXw+tkaeNiRjIr6c0eJYdOjCnORmrzY2kH0ryj4i2qm3k6YINfNGrII7yRfes+iiiiiiiiiiiilU4YV3PgzUTDcKpfAzX0X4a1uV7dEyWGOOa6G4vJ1tzIylRXkfxD1gCyceZ82Oma+fryYzTMx5JNVqKKKKKKKKKKKKKvafcyQSAoSCDXqvhTxXewRgBicCum1Lx7qMunMhJAFePeItdu76dxI5IrmCcnJpKKKKKK//2Q==' style='display:block;' /></div><div><p onclick='toggleImage(\"image-0-5\")' style='cursor:pointer;'>Image: 20230310041821_695_0004.bmp <span id='arrow-image-0-5' class='toggle-arrow'>►</span></p><img id='image-0-5' src='data:image/png;base64,/9j/4AAQSkZJRgABAQAAAQABAAD/2wBDAAgGBgcGBQgHBwcJCQgKDBQNDAsLDBkSEw8UHRofHh0aHBwgJC4nICIsIxwcKDcpLDAxNDQ0Hyc5PTgyPC4zNDL/wAALCACWAJYBAREA/8QAHwAAAQUBAQEBAQEAAAAAAAAAAAECAwQFBgcICQoL/8QAtRAAAgEDAwIEAwUFBAQAAAF9AQIDAAQRBRIhMUEGE1FhByJxFDKBkaEII0KxwRVS0fAkM2JyggkKFhcYGRolJicoKSo0NTY3ODk6Q0RFRkdISUpTVFVWV1hZWmNkZWZnaGlqc3R1dnd4eXqDhIWGh4iJipKTlJWWl5iZmqKjpKWmp6ipqrKztLW2t7i5usLDxMXGx8jJytLT1NXW19jZ2uHi4+Tl5ufo6erx8vP09fb3+Pn6/9oACAEBAAA/APn+iiiiiiiiiiiiiiiiiiiiiigdaU9aSiiiiiiiiiiiiiiiigdaU9aSiiiiiiiiiiiiiiiiiiiiiiiiiiiiiiiiiiiig0UUUUUUUUUUUUUUUUUUUUUUUUUUUUUUUUUUUUUUUUu0kUu0gdKTacdKTFFFFFFFFFFFFFFFSKmasRQMxwBVsabPLHlUJ/CnjR7rAzGfyqpNYvFncCMVSddpptFFFFFFFFFFFKKnthuYA12ug6ML1lULkmvY/Dvw8iktFeSIflWvqfgG0itDIsS/KPSvGPGGjJbSMETFec3kexsVVooooooooooopRVi1OHFepeCJUWeMn1r6Q0OVH09Ag4xWhPEs8LRnoRXhvxE0yOGSTHXmvCtWULMw96y6KKKKKKKKKKKKlgfa1d74NuSk6gnvX0p4PulbT1jY8muiuJ1t4yx9K8P+Id6JXmfPTNeD6rJ5k5I7ms+iiiiiiiiiiiilBwRXQ6HqItpkJOMGvcPCXi+NAgMg4HrXU3/AIyt5LR8yjOPWvE/Gmvi4lZEfIavN7mTe9QUUUUUUUUUUUUUU9JGQ5Bra03WprQcMfzq/ceI55ExvPPvWBeXr3D5Yk1SPJooooooooooooooopcn1pdx9abRRRRRRRRRRRRRRRRRRRRRRRRRRRRRRRRRRRRRRRRRRRRRRRRRRRRRRRRRRRRRRRRRRRRRRRRRRRRRRRRRRRRRRRRRRRRRRRRRRRRRRX//2Q==' style='display:block;' /></div><div><p onclick='toggleImage(\"image-0-6\")' style='cursor:pointer;'>Image: 20230310042227_735_0000.bmp <span id='arrow-image-0-6' class='toggle-arrow'>►</span></p><img id='image-0-6' src='data:image/png;base64,/9j/4AAQSkZJRgABAQAAAQABAAD/2wBDAAgGBgcGBQgHBwcJCQgKDBQNDAsLDBkSEw8UHRofHh0aHBwgJC4nICIsIxwcKDcpLDAxNDQ0Hyc5PTgyPC4zNDL/wAALCACWAJYBAREA/8QAHwAAAQUBAQEBAQEAAAAAAAAAAAECAwQFBgcICQoL/8QAtRAAAgEDAwIEAwUFBAQAAAF9AQIDAAQRBRIhMUEGE1FhByJxFDKBkaEII0KxwRVS0fAkM2JyggkKFhcYGRolJicoKSo0NTY3ODk6Q0RFRkdISUpTVFVWV1hZWmNkZWZnaGlqc3R1dnd4eXqDhIWGh4iJipKTlJWWl5iZmqKjpKWmp6ipqrKztLW2t7i5usLDxMXGx8jJytLT1NXW19jZ2uHi4+Tl5ufo6erx8vP09fb3+Pn6/9oACAEBAAA/APn+iiiiiiiiiiiiiiiiiiiiiiiiiiiiiiiiiiiiiiiiiiiiiiiiiiiiiiiiiiiiiiiiiiiiiiiiiiiiiiiiiiiiiiiiiiiiiiiiiiiiiiiiiiiiiiiiiiiiiiiiiiipktZ5PuQSN9FJrX0rwjq+ry7ILSQH/aUiotd8Naj4elWO/i2FulY9FFFFFFFFFFFFWILG4uUZ4oyyr1NWNP0i71C5ENvCzsTjgV7F4M+B9xdmO71U+VH12kda9w0vwjomk26w22nw8Dq6A5rnvHOsWvhvTna3s44pe0ioAK+ZPF3ii58RXe6dt208GuZooooooooooopVGWUe9eg2iRW2nRW8AHmTACvbPhj4Et9Os11G6jR525AIr1AAYGBgelDdK4P4s2yT+D5cxhiD1xzXyHcLsuGX0NQ0UUUUUUUUUUUoOCD6V33ghotU8QWKSHhGGQelfXVvHHFbxLEoCADGKmprsEUs3QV5z4812OSzmtpdogxx618q6rsGpzlPubjiqVFFFFFFFFFFFArp/A+prpPiK2mnQmHcN1fYGl6/peoWEU9tdxLHjo7AEVZOsacFY/b7Y7RyBIK818U/F60tPNtLGIsw4Lt/SvKdU8Yx3gkkuZd+7ohNecXs63F28iDCk8Cq1FFFFFFFFFFFFa+m3wQhWQEjoasXev30L7Ip3VfQNWf/AGxfCXzBcyZ/3jRcavd3QHmvuI71RZixyxyaSiiiiiiiiiiiiinI21wadNJ5j5qOiiiiiiiiiiiiiiiiiiiiiiiiiiiiiiiiiiiiiiiiiiiiiiiiiiiiiiiiiiiiiiiiiiiiiiiiiiiiiiiiiiiiiiiiiiiiiiiiiiiiiiiiiiiiiiiiiiiiiiiiiiiv/9k=' style='display:block;' /></div><div><p onclick='toggleImage(\"image-0-7\")' style='cursor:pointer;'>Image: 20230310042229_335_0000.bmp <span id='arrow-image-0-7' class='toggle-arrow'>►</span></p><img id='image-0-7' src='data:image/png;base64,/9j/4AAQSkZJRgABAQAAAQABAAD/2wBDAAgGBgcGBQgHBwcJCQgKDBQNDAsLDBkSEw8UHRofHh0aHBwgJC4nICIsIxwcKDcpLDAxNDQ0Hyc5PTgyPC4zNDL/wAALCACWAJYBAREA/8QAHwAAAQUBAQEBAQEAAAAAAAAAAAECAwQFBgcICQoL/8QAtRAAAgEDAwIEAwUFBAQAAAF9AQIDAAQRBRIhMUEGE1FhByJxFDKBkaEII0KxwRVS0fAkM2JyggkKFhcYGRolJicoKSo0NTY3ODk6Q0RFRkdISUpTVFVWV1hZWmNkZWZnaGlqc3R1dnd4eXqDhIWGh4iJipKTlJWWl5iZmqKjpKWmp6ipqrKztLW2t7i5usLDxMXGx8jJytLT1NXW19jZ2uHi4+Tl5ufo6erx8vP09fb3+Pn6/9oACAEBAAA/APn+iiiiiiiiiiiiiiiiiiiiiiiiiiiiiiiiiiiiiiiiiiiiiiiiiiiiiiiiiiiiiiiiiiiiiiiiiiiiiiiiiiiiiiiiiiiiiiiiiiiiiiiiiiiiiiiiiiiiiiiilALMAOpqwbGYMoK/e6U2e1ktz84qCiiiiiiiiiiiiiinIPmHGa3tK0GW7mEmPlP6V0dxpax2+0j5kHBrnb+Iuqgj5jWLLA0bsCOKgoooooooooooooq7ppT7SEccGvQ/D7xQyNC2ArDg1ranbKLcmL5igyfeuYFkLgSTTDZ6A1m3umBojIBz/OufktijHIwT2qmwwxFJRRRRRRRRRRRUkBxOn1rtNHulurnyQ2PLGc16NounmeMtJ80ZHerGqeH7QwI33R7Vzlx4fmBOEJjP3Pes7VPCRjtlmKkOR8wrz7UrIWsz/Xis6iiiiiiiiiiilU4YH0q9pl81pebwfv8ABr2vwr4ggFnFDMR81ekWui2urRRAMNvWo7jw5IZHiQDbF92sLxHp4WxUHG4D568I8Vxxm6fZ0U1yveiiiiiiiiiiiilBwQfSt/TNf+yFd+fl6V6x4T8culuZGmwFHAzXTnxy81u06SfWuW8T+LDcW0TJJ9773NeQa7cmW8Yq2VasiiiiiiiiiiiiiiirEN7PBgRyED0BrZtvEssds0RJ+YY61UutWllh2bifxrKZmbqSaSiiiiiiiiiiiiiiiiiiiiiiiiiiiiiiiiiiiiiiiiiiiiiiiiiiiiiiiiiiiiiiiiiiiiiiiiiiiiiiiiiiiiiiiiiiiiiiiiiiiiiiiiiiiiiiiiiiiiiiiv/Z' style='display:block;' /></div><div><p onclick='toggleImage(\"image-0-8\")' style='cursor:pointer;'>Image: 20230310043332_861_0002.bmp <span id='arrow-image-0-8' class='toggle-arrow'>►</span></p><img id='image-0-8' src='data:image/png;base64,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' style='display:block;' /></div><div><p onclick='toggleImage(\"image-0-9\")' style='cursor:pointer;'>Image: 20230310041829_544_0001.bmp <span id='arrow-image-0-9' class='toggle-arrow'>►</span></p><img id='image-0-9' src='data:image/png;base64,/9j/4AAQSkZJRgABAQAAAQABAAD/2wBDAAgGBgcGBQgHBwcJCQgKDBQNDAsLDBkSEw8UHRofHh0aHBwgJC4nICIsIxwcKDcpLDAxNDQ0Hyc5PTgyPC4zNDL/wAALCACWAJYBAREA/8QAHwAAAQUBAQEBAQEAAAAAAAAAAAECAwQFBgcICQoL/8QAtRAAAgEDAwIEAwUFBAQAAAF9AQIDAAQRBRIhMUEGE1FhByJxFDKBkaEII0KxwRVS0fAkM2JyggkKFhcYGRolJicoKSo0NTY3ODk6Q0RFRkdISUpTVFVWV1hZWmNkZWZnaGlqc3R1dnd4eXqDhIWGh4iJipKTlJWWl5iZmqKjpKWmp6ipqrKztLW2t7i5usLDxMXGx8jJytLT1NXW19jZ2uHi4+Tl5ufo6erx8vP09fb3+Pn6/9oACAEBAAA/APn+iiiiiiiiiiiiiiiiiiiiiiiiiiiiiiiiiiiiiiiiiiiiiiiiiiiiiiiiiiiiiiiiiiiiiiiiiiiiiiiiiiiiiiiiiiiiiiiiiiiiiiiiiiiiiiiiiiiiiiiiilAJ6CgKfpQVxSUUUUUUUUUUUUUUVJFE8rBUQsfQV3nhf4X614kAMUTQL6uMV3Fv8ANQA/f3MZ+hqjq3wF1W2heeCZHVedoPNeYa1oNxoszRXMLKw9axSKSiiiiiiiiiiinA7SCK9D+HFnp91q8Mlzt3Bhw3SvrCzS3S0jW3EYGwf6vFTjOP4qRmVFLSNhR13dK8k+J03hK7gcTtGbrHBT1r5s1GJIrtvK5iz8tUqKKKKKKKKKKKUHBq3aajPaSBonKEdxXfaB8VtZ0gKFlaUD+8a7OH4/XpTD20e76VieIvjVqurWjWqoIVbunFeW3eozzys8k7yFv7xqkZGPU5plFFFFFFFFFFFFFOUsOlW7WzurtwsMMhY+1a0vg3Xo7f7RJaOI8ZzWDNA0LFXBBHWoqKKKKKKKKKKKKKXtXpfwv8D6T4muRJqN6IivIQnrX0tp3hHQrC2iih063O0ff2jJqxqeladNp0kNzHHFBjlumK+VvifpejaZqzLpNysyk84PSvP+MCkoooooooooooooq9p2q3mmzLJbTMhB7Gu/sPjFrdtbiJ7hzgYBzVDWfinrupwtD9rcRt1Ga4ae4kuJC8jFmPUk1FRRRRRRRRRRRRRRRRRRRRRRRRRRRRRRRRRRRRRRRRRRRRRRRRRRRRRRRRRRRRRRRRRRRRRRRRRRRRRRRRRRRRRRRRRRRRRRRRRRRRRRRRRRRRRRRRRRRRRRRRX//Z' style='display:block;' /></div><div><p onclick='toggleImage(\"image-0-10\")' style='cursor:pointer;'>Image: 20230310041827_395_0000.bmp <span id='arrow-image-0-10' class='toggle-arrow'>►</span></p><img id='image-0-10' src='data:image/png;base64,/9j/4AAQSkZJRgABAQAAAQABAAD/2wBDAAgGBgcGBQgHBwcJCQgKDBQNDAsLDBkSEw8UHRofHh0aHBwgJC4nICIsIxwcKDcpLDAxNDQ0Hyc5PTgyPC4zNDL/wAALCACWAJYBAREA/8QAHwAAAQUBAQEBAQEAAAAAAAAAAAECAwQFBgcICQoL/8QAtRAAAgEDAwIEAwUFBAQAAAF9AQIDAAQRBRIhMUEGE1FhByJxFDKBkaEII0KxwRVS0fAkM2JyggkKFhcYGRolJicoKSo0NTY3ODk6Q0RFRkdISUpTVFVWV1hZWmNkZWZnaGlqc3R1dnd4eXqDhIWGh4iJipKTlJWWl5iZmqKjpKWmp6ipqrKztLW2t7i5usLDxMXGx8jJytLT1NXW19jZ2uHi4+Tl5ufo6erx8vP09fb3+Pn6/9oACAEBAAA/APn+iiiiiiiiiiiiiiiiiiiiiiiiiiiiiiiiiiiiiiiiiiiiiiiiiiiiiiiiiiiiiiiiiiiiiiiiiiiiiiiiiiiiiiiiiiiiiiiiiiiiiiiiiiiiiiiiiiiiiiiiilAzSlSKbRRRRRRRRRRRRRRRUkUZkbArVstBnu3AjVmJ9BW43gLVjF5i2zFcelYV7olxasUeJlce1ZbxNGSGHNR0UUUUUUUUUUUU5AGbBNdl4O8Kf2/fJEH2qTya+nPC/gHSPD9iqiFZ5CBlnGcV0o0+0C7RbR49NtZGseDtG1m0kgks442b/loq8ivmXx74Hm8PapKqAtb7jhyK8/ljKGo6KKKKKKKKKKKUHBzXY+Edam0S7juFb5QckV9J+FviPpGtQxQPKEnwBz0rtRPERkTIR7EVXvdTtNPtnnuJ0CL7189fFTxpZ667W1oBtU9a8ZnOcD0qCiiiiiiiiiiiirMU7BcA4xV6y1ee2kzE7Kw7iuotfGviKGMeVJM6+uTVK+8b6tcEpPcPk/wk1zV1dyXEhdzyapliTSUUUUUUUUUUUUUCtLRIoJ9Yt4bhxHC7gM56CvrHwv4K8LDSEFt5N8Co3OpBrkPip4M8Jab4dnngijg1AfcAPJr5u6Zzyc0yiiiiiiiiiiiiiilBrpND8c694dgMOmXzwoeozVTWfFOr69KZNRu3mb1JrF70UUUUUUUUUUUUUUUUUUUUUUUUUUUUUUUUUUUUUUUUUUUUUUUUUUUUUUUUUUUUUUUUUUUUUUUUUUUUUUUUUUUUUUUUUUUUUUUUUUUUUUUUUUUUUUUUUUUUUUUUV//Z' style='display:block;' /></div><div><p onclick='toggleImage(\"image-0-11\")' style='cursor:pointer;'>Image: 20230310041903_594_0000.bmp <span id='arrow-image-0-11' class='toggle-arrow'>►</span></p><img id='image-0-11' src='data:image/png;base64,/9j/4AAQSkZJRgABAQAAAQABAAD/2wBDAAgGBgcGBQgHBwcJCQgKDBQNDAsLDBkSEw8UHRofHh0aHBwgJC4nICIsIxwcKDcpLDAxNDQ0Hyc5PTgyPC4zNDL/wAALCACWAJYBAREA/8QAHwAAAQUBAQEBAQEAAAAAAAAAAAECAwQFBgcICQoL/8QAtRAAAgEDAwIEAwUFBAQAAAF9AQIDAAQRBRIhMUEGE1FhByJxFDKBkaEII0KxwRVS0fAkM2JyggkKFhcYGRolJicoKSo0NTY3ODk6Q0RFRkdISUpTVFVWV1hZWmNkZWZnaGlqc3R1dnd4eXqDhIWGh4iJipKTlJWWl5iZmqKjpKWmp6ipqrKztLW2t7i5usLDxMXGx8jJytLT1NXW19jZ2uHi4+Tl5ufo6erx8vP09fb3+Pn6/9oACAEBAAA/APn+iiiiiiiiiiiiiiiiiiiiiiiiiiiiiiiiiiiiiiiiiiiiiiiiiiiiiiiiiiiiiiiiiiiiiiiiiiiiiiiiiiiiiiiiiiiiiiiiiiiiiiiiiiiiiiiiiiiiiiiiiinxxvK4RFJY9BTmhMZZJMrIDjbipjYP5U8meIcbvxqG4h8iUpnPAOcVFRRRRRRRRRRRRRRWnooD3DKV3gjOB1re0SMXV3cvKqPgjdkdPauiutBtkRmms3dr3BijU/dx61yviy1jHlz2wGzG1wOxFctRRRRRRRRRRRRRTnXDHGcCtPR4ppZ3uE6JgNj0NdFAWsReBIjtJBLj1rorbU2l0ZwAzTMP3mT8yAdNtcd4huLK5jDpDMsi8Nz8tcvRRRRRRRRRRRQAT0rc07QGv1tmjkUeYcMW6CrGreFrjT5JWEUwiXG1XHzN7/SpNIsYwJ0cTRsgByOjZ9arT7o/tLyzzAqeVB4PpVWTVbqKGSDzjvYj50PUelVLm+kuUUMcYGDjvVWiiiiiiiiiiirljZtPPHllVGPUn9K9w8HeH9MkKb7fMhHMIHCEdCK3tb8Nq8EE9y7tI2druMAAdq801jT5yupNbERxEqGzxjH92uG1K5Y3N1Ex6gYrJooooooooooooorU0i5gifF2u+NSCoPY17h4a1200021y0haeZQFEY3ZHvWx4v8AEP8AaunCyhlw6jK54H4147d660t4sN5MVtYgQzDqG7cVxVzKZ7iSQtuyx59qiooooooooooooopQxAIzwa6jQfF76H9lEMQ/dZ3M3OaZrHi++1C6uJo28hZj/qx/BXOSzPNIXkYsx6mmUUUUUUUUUUUUUUUUUUUUUUUUUUUUUUUUUUUUUUUUUUUUUUUUUUUUUUUUUUUUUUUUUUUUUUUUUUUUUUUUUUUUUUUUUUUUUUUUUUUUUUUUUUUUUUUUUUUUUUUUUUV//9k=' style='display:block;' /></div></div></div><div class='step-header'>Step: deblur <span id='arrow-1' class='toggle-arrow' onclick='toggleMetadata(1)'>►</span></div><div id='metadata-1' class='metadata' style='display:block;'><div class='image-container'><div><p onclick='toggleImage(\"image-1-0\")' style='cursor:pointer;'>Image: 20230310041824_644_0000.bmp <span id='arrow-image-1-0' class='toggle-arrow'>►</span></p><img id='image-1-0' src='data:image/png;base64,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' style='display:block;' /></div><div><p onclick='toggleImage(\"image-1-1\")' style='cursor:pointer;'>Image: 20230310041851_943_0001.bmp <span id='arrow-image-1-1' class='toggle-arrow'>►</span></p><img id='image-1-1' src='data:image/png;base64,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' style='display:block;' /></div><div><p onclick='toggleImage(\"image-1-2\")' style='cursor:pointer;'>Image: 20230310041825_994_0000.bmp <span id='arrow-image-1-2' class='toggle-arrow'>►</span></p><img id='image-1-2' src='data:image/png;base64,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' style='display:block;' /></div><div><p onclick='toggleImage(\"image-1-3\")' style='cursor:pointer;'>Image: 20230310041822_845_0000.bmp <span id='arrow-image-1-3' class='toggle-arrow'>►</span></p><img id='image-1-3' src='data:image/png;base64,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' style='display:block;' /></div><div><p onclick='toggleImage(\"image-1-4\")' style='cursor:pointer;'>Image: 20230310041804_998_0001.bmp <span id='arrow-image-1-4' class='toggle-arrow'>►</span></p><img id='image-1-4' src='data:image/png;base64,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' style='display:block;' /></div><div><p onclick='toggleImage(\"image-1-5\")' style='cursor:pointer;'>Image: 20230310041821_695_0004.bmp <span id='arrow-image-1-5' class='toggle-arrow'>►</span></p><img id='image-1-5' src='data:image/png;base64,/9j/4AAQSkZJRgABAQAAAQABAAD/2wBDAAgGBgcGBQgHBwcJCQgKDBQNDAsLDBkSEw8UHRofHh0aHBwgJC4nICIsIxwcKDcpLDAxNDQ0Hyc5PTgyPC4zNDL/wAALCACWAJYBAREA/8QAHwAAAQUBAQEBAQEAAAAAAAAAAAECAwQFBgcICQoL/8QAtRAAAgEDAwIEAwUFBAQAAAF9AQIDAAQRBRIhMUEGE1FhByJxFDKBkaEII0KxwRVS0fAkM2JyggkKFhcYGRolJicoKSo0NTY3ODk6Q0RFRkdISUpTVFVWV1hZWmNkZWZnaGlqc3R1dnd4eXqDhIWGh4iJipKTlJWWl5iZmqKjpKWmp6ipqrKztLW2t7i5usLDxMXGx8jJytLT1NXW19jZ2uHi4+Tl5ufo6erx8vP09fb3+Pn6/9oACAEBAAA/APn+iiitnwroEnifxNp+ixSiJryby/MIztGMk/kDXUr8KdQbxnrXhw6jaxyaZatd+cwJEiDBHA6HBH0rz4ikooooooooooooooortvhIcfFHw/n/AJ+W/wDQGrtfilr2s+Cfitqt/YQRxpqlgkIeaPcsibQGK+4Ix+FeKk5pKKKKKKKKKKKKKKKK7z4O2puviloi7tojkeXp1wh4rof2hdVjvvHkNikbK2n2qo7E8MX+fgfQivIqKKKKKKKKKKKKKKKUd69d8V+MNNsvCnge48NX9qNZ05AZ/IjwyHYoIfjkZzkd68x1rWL3X9XudU1GXzbu5ffI+MD0AA7ADis+iiiiiiiiiiiiiiiiup+HWk2Wu+P9G03UIxLaTzkSJnG4BScZ+orQ+LWg6b4c+IN9p2lQCC0WOJ1jBJCllBOM1w1FFFFFFFFFFFFFFFFWLK9udOvYby0meG4gcSRyIcFWHQipNT1S91nUZr/ULh7i6mO6SVzyxqnRRRRiiiiiiiiiiiiiiitXQ/Der+JJp4dIsZLuWCIzSJHjIXOM89etLofhvVvEepnTtJspLm6ClmjHG0DrknpXp9p+z5rk/hSW7mlWHW/MxFZM6+WUyBkuM84yfwq03wC1Gy8F6hcTRi+8Ql1Frb204WNF3DJywGTjPHFN8ZfA7UIrLS7jwzpEjSm3Bv4GvFYrJgcLnGe/euA1L4ZeMNJjs3utBuh9rbZEseJGDdlYLnB+tc/qWj6lo8xh1GxuLWRWKFZkK8jqPeqNFFFFFFFFFFFegfCLxDd6B4zjFtY/ahfKtpKfmzEjMPm49K+lvCnw+8P+DLm6udJt5VuLpQsssspckA54z05P8q6miiivCP2kdJnez0XV1fMEUj2zp/tMNwP5Ka+d6KKKKKKKKKKK+g/2dJ7S20rxNLIUWWIxyO2MsIwrHP04NenfDLWtR8QeANO1PVXMl1MZMyFNu9RIwU49wBXXUUUV518cNNOofC+/dIy72ksdyuO2GwT/AN8sa+R3++fTORTaKKKKKKKKKK9n+BT7dP8AGZLIM6eANx9Ff9Oa9l+EzmT4WeHywwRbY/AMRXZ0UUVW1Cxg1TTbqwuk329zE0Mi+qsMH9DXw74k0+HSvEup6fblzDa3LwoXOThSQMmsuiiiiiiiiiinpI6Z2sy5GDg4zX1l8FfE+kar4GsNHtLkG/0+DFxAwIYZY/MPUc9q9KooorzX45avfaT8Pl+wXD28t3exW7SoxVlUhmOCP90D6E18w+JdEuvD+u3GnXsyTXEe13dDkEsobr+NZFFFFFFFFFFFFdt8KNZOjfEnRZ2n8mKWb7PMS2FZXGAD+JB/AV9k0UUV45+0VfRReDtMtPMj859QSUIT82FR+cenNfOuua3eeIdWm1O/ZGuZgoYou0fKoUcfQCs2iiiiiiiiiiinRyNG4ZTgggg+4r3XwF8eb9Z103xJbyag88yJbz26qrKWIG1hxke/X619EUVx3j74i6X4AsreS8hmubq53CC3iwC23GSSeg5HrXyb4t8S3PizxLe6zdDZJcSZWMMSIkAwqj6AVh0UUUUUUUUUUUUU5HaNwykqwOQQcEH1rvLD4p+LJbdLC98V39taxgss0cQeUkdFLcEj8a6rwl8dNbfxFpsXiTU4Y9JjDLcSR2oLy/KQpbHTnHSvP/H2t/274w1O9GqTX8RuHW3kfOBDn5Qo7D2rl6KKKKKKKKKKKKKKKUHBro9f8VRa5ptraL4f0ewa3AHn2cJSRwB/Ec8+tc3RRRRRRRRRRRRRRRRRRRRRRRRRRRRRRRRRRRRRRRRRRRRRRRRRRRRRRRRRRRRRRRRRRRRRRRRRRRRRRRRRRRX/2Q==' style='display:block;' /></div><div><p onclick='toggleImage(\"image-1-6\")' style='cursor:pointer;'>Image: 20230310042227_735_0000.bmp <span id='arrow-image-1-6' class='toggle-arrow'>►</span></p><img id='image-1-6' src='data:image/png;base64,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' style='display:block;' /></div><div><p onclick='toggleImage(\"image-1-7\")' style='cursor:pointer;'>Image: 20230310042229_335_0000.bmp <span id='arrow-image-1-7' class='toggle-arrow'>►</span></p><img id='image-1-7' src='data:image/png;base64,/9j/4AAQSkZJRgABAQAAAQABAAD/2wBDAAgGBgcGBQgHBwcJCQgKDBQNDAsLDBkSEw8UHRofHh0aHBwgJC4nICIsIxwcKDcpLDAxNDQ0Hyc5PTgyPC4zNDL/wAALCACWAJYBAREA/8QAHwAAAQUBAQEBAQEAAAAAAAAAAAECAwQFBgcICQoL/8QAtRAAAgEDAwIEAwUFBAQAAAF9AQIDAAQRBRIhMUEGE1FhByJxFDKBkaEII0KxwRVS0fAkM2JyggkKFhcYGRolJicoKSo0NTY3ODk6Q0RFRkdISUpTVFVWV1hZWmNkZWZnaGlqc3R1dnd4eXqDhIWGh4iJipKTlJWWl5iZmqKjpKWmp6ipqrKztLW2t7i5usLDxMXGx8jJytLT1NXW19jZ2uHi4+Tl5ufo6erx8vP09fb3+Pn6/9oACAEBAAA/APn+iiiiiiiiiiiiiiiiiiiiiiiiiiiiiiiiiiiiiiiiiiiiiiiiiiiiiiiiiiiiiiiiiiiiiiiiiiiiiiiiiiiiiiiiiiiiiiiiiiiiiiiiiiiiiiiiiiiiiiinpE0h49cD3PoK3/C/ha58Sa9p+lQPHHJeztEkkg4QKu5yR3wO1evxfs6XI1G1F1rlrLYkt9oaK28qVRj5dnUHnrnGPes3xZ8AtV02xkutGv4tTiiUs0M0YilCgZOGBw304/GvEzGQobja3Qk0wjFFFFFFFFFFFFFFejfCXStSbxto+pW2k3V7a2t75dxLHFmOIOpXLN2253fhX0lpfgXS9L8aap4niXdd36qoQoMQ4ADFfdsAmunorzeT4eafo+u+LPET6bpt3bXdr5tvbNa73ilVDv2jp8x545JPbv8ALn9hajI0yR2F4z2sIluVFu2YV65YY4GCDms1l2nggj1FNoooooooooopQcEH0r6R/Z51yD+zNS8PMuLhZf7QR93EkbhVOB/slRn/AHq9toooqtFp9pDe3N5Fbxrc3QQTyhfmkCghc+uATXyl8atEttI+It8lkp8u5ijunQKAI2bIIGO3GfxrzaiiiiiiiiiiivS/g3LJD4/8PNG5VpJ7iB8fxJ5W7H5819YJPDJLLFHKjSRECRFYEoSMjI7cc1JRRRXn/wARvBHha/0XXPEOp6ej6hHp8hW4aZ12lEOzAzjOcdufevkWddrrnqUBP5VFRRRRRRRRRRXWfD3xDa+HPGWj6jfMy2trcs8rKpbarIUJwOTjNe6fD7x3o2q/E7xNHbahI8GrSQvYCWFlMrRxYkwccAADAOOBXr9FFFU9WsLHU9KubPU4VmspUImjbOGUc9ue1fFvjWXRJ/FmpS+HkVdKeYNbBUKrt2jOAeQN2a56iiiiiiiiiilBIOQcV0fgzXY9E8T6TfXLyi2tL6O4lMfLBejYHfjtX1dovxO8G6+/l2WvWokzgR3BMLHoOA+M9e1dbRRXnHxm8R6x4b8KW02l3EVtHdXP2W4nKbpEVkbGwdM8HntxXyVI25sDO1RgZ9KZRRRRRRRRRRRQCQcg4q1DeuhIkVZUZSu2QZxnuD2Ir2Hw38e9T0+HR7G5sIp7K0iWC6JkL3E/GN6k4HAA4PX19PbPDvxC8MeJrS3ms9Vt4p52KLZ3MqRzhs42lM5z9M1f8UeIbTw1oV3fTzwJMkEj28UsqoZnVS20Z6njtXyF4l8d6/4nggg1bV576KMiURtGkapIR6KOcZ71y1FFFFFFFFFFFFFFGcVKk7odwxuyCG/iBHcHrU93ql7fKi3d3c3ITOwTzNJtz1xnpVOiiiiiiiiiiiiiiiiiiiiiiiiiiiiiiiiiiiiiiiiiiiiiiiiiiiiiiiiiiiiiiiiiiiiiiiiiiiiiiiiiiiiiiiiiiiiiiiiiiiiiv//Z' style='display:block;' /></div><div><p onclick='toggleImage(\"image-1-8\")' style='cursor:pointer;'>Image: 20230310043332_861_0002.bmp <span id='arrow-image-1-8' class='toggle-arrow'>►</span></p><img id='image-1-8' src='data:image/png;base64,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' style='display:block;' /></div><div><p onclick='toggleImage(\"image-1-9\")' style='cursor:pointer;'>Image: 20230310041829_544_0001.bmp <span id='arrow-image-1-9' class='toggle-arrow'>►</span></p><img id='image-1-9' src='data:image/png;base64,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' style='display:block;' /></div><div><p onclick='toggleImage(\"image-1-10\")' style='cursor:pointer;'>Image: 20230310041827_395_0000.bmp <span id='arrow-image-1-10' class='toggle-arrow'>►</span></p><img id='image-1-10' src='data:image/png;base64,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' style='display:block;' /></div><div><p onclick='toggleImage(\"image-1-11\")' style='cursor:pointer;'>Image: 20230310041903_594_0000.bmp <span id='arrow-image-1-11' class='toggle-arrow'>►</span></p><img id='image-1-11' src='data:image/png;base64,/9j/4AAQSkZJRgABAQAAAQABAAD/2wBDAAgGBgcGBQgHBwcJCQgKDBQNDAsLDBkSEw8UHRofHh0aHBwgJC4nICIsIxwcKDcpLDAxNDQ0Hyc5PTgyPC4zNDL/wAALCACWAJYBAREA/8QAHwAAAQUBAQEBAQEAAAAAAAAAAAECAwQFBgcICQoL/8QAtRAAAgEDAwIEAwUFBAQAAAF9AQIDAAQRBRIhMUEGE1FhByJxFDKBkaEII0KxwRVS0fAkM2JyggkKFhcYGRolJicoKSo0NTY3ODk6Q0RFRkdISUpTVFVWV1hZWmNkZWZnaGlqc3R1dnd4eXqDhIWGh4iJipKTlJWWl5iZmqKjpKWmp6ipqrKztLW2t7i5usLDxMXGx8jJytLT1NXW19jZ2uHi4+Tl5ufo6erx8vP09fb3+Pn6/9oACAEBAAA/APn+iiiiiiiiiiiiiiiiiiiiiiiiiiiiiiiiiiiiiiiiiiiiiiiiiiiiiiiiiiiiiiiiiiiiiiiiiiiiiiiiiiiiiiiiiiiiiiiiiiiiiiijrS4OM0mPejFFFFFFFFFFFFFFFFdj4W8D33iW4S2060a+uyC0qFjHDbqP78n945+6K7VvBdhpVhqtrf3Go2HiWEg2WlWCG4hIcDZztO/ccjLEEEGtXXfhTY6FpviC/g1i+YaSsRtVZIzhmCmQtx82d3A4x71yvxM8FWPhjVL2wtb+5nit7SK6ja5iJZWeTYU8wKARj5ufp2rzCRGjdkYYZTgim0UUUUUUUUUUUoBYgAEk9hUq28mWDDYFGSXGMCvp/wCBPmDSddUsIY/toZbF4yssBKDJbPZhgj6Hn09Uglilkn8uSN2R9j7eqnAO0+/OfxpLuytr+2ktruCOaCTG+N1yrYORkd+grjPixHfv4Ml+z2/2jTS6/wBqxRqPO+yg5ZoyTgMuM8g/pXyNqkKQahMkcjSxBsxSOMF0PKkj1xiqdFFFFFFFFFFFbei6YJrqBLrfCtxNFCuRtZ1ZwG2/Qd69M8eeBX8K67qNz4Y0ed9M06C2vHdpt6QShyTkMdzAhckDOM54FeofDyXUNY8Y+KtZ1V7dLyCSPTDDZljDiMbi2Tyxy3B4wM+tejJGkZcoiqXO5iBjccYyfU4A/KnVy3j630VvDU15r0Goz2FspMsdjLKrFG4bcEZdy4654AzXyD4kSOPWblI47iKFZD9njuG3SJAcGMMfULiseiiiiiiiiiiuk8K6Deapfl7SxN9JBbS3RhDKoRVHDsScY3Y4719C+A/h1pMGleG/E2j3ZXUJYllvp5gZhdI6/PHgkBME8EDI29+a1Lv4ZaXaf2nIk2sXOl3cSibSIrtyJXHG7eW3HjHylscenA6vQNM0zQbVtF0nTns7W1AK/Kdsm7JJDEkseOc89Pak1F7XRJLvxBfaldx2cUAEsJbdCgB+8EAJ3c9q4jxd8Q28Nabq2j32rCDxBFEZ7S4tLIyRlWY+UrA5CsQMHOBzkVw/jb4vR634SttPD3+nag0oi1OyiVcTwlDv2SYIAzgduGPWvDbmb7RcPLt2hjwuc7R0A/KoaKKKKKKKKKsWVsbq5WMDjDM30UEn9BX0B8NPhpq9l/Yesi9sLWwuIxczyWruZrlH2stu4b5SnHOB6j3r3WONIYkiiRUjQBVVRgKB0AHYU6myKzIQj7G/vYzivO/HOrtqWmeOPDsstrAtrpMdxCzttZ94ctn8UUD3avmbX9Z825uINO823sJ0gaSIys5kZY1HzMxJODuwOgzxWBuOMZOPTNJRRRRRRRRRRUsErQyh0JB5HHcHgj8q+p/hXqgv/DOof2rex3OiabeRW+nz3qRxmPYqYU4wMqxUAnkmvU6KpahqMOlQveX01vbafFGWmuJpdoQ5AA54wcnv1wMHNfLfxQ1G01m4bXTP9pudQvZktCUKKtjDhUIHBO5ixyeu015m7tI5Zjknk02iiiiiiiiiiilBwciu28P+M9Tt9D1Dw3DewR2GprK0sM8AYGVkxw3bJC89iK948D/EbRRpnh/Q/KvIP9FEM13eKY41uFUZj3v95mOSAD/hVzxl8RW0TQPMgMdnq94yQ2thehVngyzAzSKrNlMDI47deePB/FPxDvNW1i6nnu01Bg8SRiNXjs5BFnDtCxO8kknngenauK1bV77Wr+S91C5e4uZMBnfsB0UAcADsBxVGiiiiiiiiiiiiijNW4dQniTyjLI0Oc+WXOA3Zh6EetWb7Xr/UJJZbm7uLieYBZLi4lMkrKOi7jyB7Vlk5oooooooooooooooooooooooooooooooooooooooooooooooooooooooooooooooooooooooooooooooooooooooooooooooooooooooor//Z' style='display:block;' /></div></div></div>"
      ],
      "text/plain": [
       "Step: raw\n",
       "Image: <paidiverpy.image_layer.ImageLayer object at 0x7fc9be66ab00>\n",
       "Image: <paidiverpy.image_layer.ImageLayer object at 0x7fc9be66a800>\n",
       "Image: <paidiverpy.image_layer.ImageLayer object at 0x7fc9be66af20>\n",
       "Image: <paidiverpy.image_layer.ImageLayer object at 0x7fc9be66a950>\n",
       "Image: <paidiverpy.image_layer.ImageLayer object at 0x7fc9be66a560>\n",
       "Image: <paidiverpy.image_layer.ImageLayer object at 0x7fc9be66b010>\n",
       "Image: <paidiverpy.image_layer.ImageLayer object at 0x7fc9be66ace0>\n",
       "Image: <paidiverpy.image_layer.ImageLayer object at 0x7fc9be66bfa0>\n",
       "Image: <paidiverpy.image_layer.ImageLayer object at 0x7fc9be66bdf0>\n",
       "Image: <paidiverpy.image_layer.ImageLayer object at 0x7fc9be66a7d0>\n",
       "Image: <paidiverpy.image_layer.ImageLayer object at 0x7fc9be669cc0>\n",
       "Image: <paidiverpy.image_layer.ImageLayer object at 0x7fc9be66a020>\n",
       "Image: <paidiverpy.image_layer.ImageLayer object at 0x7fc9be66a290>\n",
       "Image: <paidiverpy.image_layer.ImageLayer object at 0x7fc9be66a0e0>\n",
       "Image: <paidiverpy.image_layer.ImageLayer object at 0x7fc9be66a860>\n",
       "Image: <paidiverpy.image_layer.ImageLayer object at 0x7fc9be66bb20>\n",
       "Image: <paidiverpy.image_layer.ImageLayer object at 0x7fc9be66a650>\n",
       "Image: <paidiverpy.image_layer.ImageLayer object at 0x7fc9be66a1d0>\n",
       "Image: <paidiverpy.image_layer.ImageLayer object at 0x7fc9be66ac50>\n",
       "Image: <paidiverpy.image_layer.ImageLayer object at 0x7fc9be66be80>\n",
       "Image: <paidiverpy.image_layer.ImageLayer object at 0x7fc9be66bee0>\n",
       "Image: <paidiverpy.image_layer.ImageLayer object at 0x7fc9be66a6b0>\n",
       "Image: <paidiverpy.image_layer.ImageLayer object at 0x7fc9be66a8f0>\n",
       "Image: <paidiverpy.image_layer.ImageLayer object at 0x7fc9be66bf10>\n",
       "Image: <paidiverpy.image_layer.ImageLayer object at 0x7fc9be66a890>\n",
       "Image: <paidiverpy.image_layer.ImageLayer object at 0x7fc9be66ba90>\n",
       "Image: <paidiverpy.image_layer.ImageLayer object at 0x7fc9be66a590>\n",
       "Image: <paidiverpy.image_layer.ImageLayer object at 0x7fc9be66b9a0>\n",
       "Image: <paidiverpy.image_layer.ImageLayer object at 0x7fc9be669ba0>\n",
       "Image: <paidiverpy.image_layer.ImageLayer object at 0x7fc9be669f00>\n",
       "Image: <paidiverpy.image_layer.ImageLayer object at 0x7fc9be669f60>\n",
       "Image: <paidiverpy.image_layer.ImageLayer object at 0x7fc9be66a230>\n",
       "Image: <paidiverpy.image_layer.ImageLayer object at 0x7fc9be669fc0>\n",
       "Image: <paidiverpy.image_layer.ImageLayer object at 0x7fc9be669e70>\n",
       "Image: <paidiverpy.image_layer.ImageLayer object at 0x7fc9be66a320>\n",
       "Image: <paidiverpy.image_layer.ImageLayer object at 0x7fc9be669f30>\n",
       "Image: <paidiverpy.image_layer.ImageLayer object at 0x7fc9be669d20>\n",
       "Image: <paidiverpy.image_layer.ImageLayer object at 0x7fc9be669bd0>\n",
       "Image: <paidiverpy.image_layer.ImageLayer object at 0x7fc9be669cf0>\n",
       "Image: <paidiverpy.image_layer.ImageLayer object at 0x7fc9be669ab0>\n",
       "Image: <paidiverpy.image_layer.ImageLayer object at 0x7fc9be669e10>\n",
       "Image: <paidiverpy.image_layer.ImageLayer object at 0x7fc9be6699f0>\n",
       "Image: <paidiverpy.image_layer.ImageLayer object at 0x7fc9be669c30>\n",
       "Image: <paidiverpy.image_layer.ImageLayer object at 0x7fc9be669990>\n",
       "Image: <paidiverpy.image_layer.ImageLayer object at 0x7fc9be669a80>\n",
       "Image: <paidiverpy.image_layer.ImageLayer object at 0x7fc9be6698d0>\n",
       "Image: <paidiverpy.image_layer.ImageLayer object at 0x7fc9be669a50>\n",
       "Image: <paidiverpy.image_layer.ImageLayer object at 0x7fc9be66a110>\n",
       "Image: <paidiverpy.image_layer.ImageLayer object at 0x7fc9be6696c0>\n",
       "Image: <paidiverpy.image_layer.ImageLayer object at 0x7fc9be669e40>\n",
       "Image: <paidiverpy.image_layer.ImageLayer object at 0x7fc9be6696f0>\n",
       "Image: <paidiverpy.image_layer.ImageLayer object at 0x7fc9be669660>\n",
       "Step: deblur\n",
       "Image: <paidiverpy.image_layer.ImageLayer object at 0x7fc9c41c0940>\n",
       "Image: <paidiverpy.image_layer.ImageLayer object at 0x7fc9c41c32b0>\n",
       "Image: <paidiverpy.image_layer.ImageLayer object at 0x7fc9c4febd90>\n",
       "Image: <paidiverpy.image_layer.ImageLayer object at 0x7fca585ff940>\n",
       "Image: <paidiverpy.image_layer.ImageLayer object at 0x7fc9c41c3010>\n",
       "Image: <paidiverpy.image_layer.ImageLayer object at 0x7fc9c41c2980>\n",
       "Image: <paidiverpy.image_layer.ImageLayer object at 0x7fc9c41c3490>\n",
       "Image: <paidiverpy.image_layer.ImageLayer object at 0x7fc9c5970ee0>\n",
       "Image: <paidiverpy.image_layer.ImageLayer object at 0x7fc9c5970e80>\n",
       "Image: <paidiverpy.image_layer.ImageLayer object at 0x7fc9cecd6d40>\n",
       "Image: <paidiverpy.image_layer.ImageLayer object at 0x7fc9c592e470>\n",
       "Image: <paidiverpy.image_layer.ImageLayer object at 0x7fc9c41c27d0>\n",
       "Image: <paidiverpy.image_layer.ImageLayer object at 0x7fc9c592d390>\n",
       "Image: <paidiverpy.image_layer.ImageLayer object at 0x7fc9c40f9f60>\n",
       "Image: <paidiverpy.image_layer.ImageLayer object at 0x7fc9c40fa650>\n",
       "Image: <paidiverpy.image_layer.ImageLayer object at 0x7fc9c40f9c90>\n",
       "Image: <paidiverpy.image_layer.ImageLayer object at 0x7fc9c40fa6b0>\n",
       "Image: <paidiverpy.image_layer.ImageLayer object at 0x7fc9c40fb880>\n",
       "Image: <paidiverpy.image_layer.ImageLayer object at 0x7fc9c40f9d50>\n",
       "Image: <paidiverpy.image_layer.ImageLayer object at 0x7fc9c40fa680>\n",
       "Image: <paidiverpy.image_layer.ImageLayer object at 0x7fc9c40fa5f0>\n",
       "Image: <paidiverpy.image_layer.ImageLayer object at 0x7fc9c40fb670>\n",
       "Image: <paidiverpy.image_layer.ImageLayer object at 0x7fc9c40f9900>\n",
       "Image: <paidiverpy.image_layer.ImageLayer object at 0x7fc9c40f9780>\n",
       "Image: <paidiverpy.image_layer.ImageLayer object at 0x7fc9c40f9630>\n",
       "Image: <paidiverpy.image_layer.ImageLayer object at 0x7fc9c40f98d0>\n",
       "Image: <paidiverpy.image_layer.ImageLayer object at 0x7fc9c40f9960>\n",
       "Image: <paidiverpy.image_layer.ImageLayer object at 0x7fc9c40f81c0>\n",
       "Image: <paidiverpy.image_layer.ImageLayer object at 0x7fc9c40fb970>\n",
       "Image: <paidiverpy.image_layer.ImageLayer object at 0x7fc9c40fa110>\n",
       "Image: <paidiverpy.image_layer.ImageLayer object at 0x7fc9c40f96c0>\n",
       "Image: <paidiverpy.image_layer.ImageLayer object at 0x7fc9c40f9750>\n",
       "Image: <paidiverpy.image_layer.ImageLayer object at 0x7fc9c40f9a50>\n",
       "Image: <paidiverpy.image_layer.ImageLayer object at 0x7fc9c40fa350>\n",
       "Image: <paidiverpy.image_layer.ImageLayer object at 0x7fc9c40f9480>\n",
       "Image: <paidiverpy.image_layer.ImageLayer object at 0x7fc9c40fa530>\n",
       "Image: <paidiverpy.image_layer.ImageLayer object at 0x7fc9bf580040>\n",
       "Image: <paidiverpy.image_layer.ImageLayer object at 0x7fc9bf580160>\n",
       "Image: <paidiverpy.image_layer.ImageLayer object at 0x7fc9c40f8310>\n",
       "Image: <paidiverpy.image_layer.ImageLayer object at 0x7fc9c40fbee0>\n",
       "Image: <paidiverpy.image_layer.ImageLayer object at 0x7fc9c40fba60>\n",
       "Image: <paidiverpy.image_layer.ImageLayer object at 0x7fc9c40f9db0>\n",
       "Image: <paidiverpy.image_layer.ImageLayer object at 0x7fc9c40fa440>\n",
       "Image: <paidiverpy.image_layer.ImageLayer object at 0x7fc9be66a530>\n",
       "Image: <paidiverpy.image_layer.ImageLayer object at 0x7fc9be669450>\n",
       "Image: <paidiverpy.image_layer.ImageLayer object at 0x7fc9be668d30>\n",
       "Image: <paidiverpy.image_layer.ImageLayer object at 0x7fc9be66bdc0>\n",
       "Image: <paidiverpy.image_layer.ImageLayer object at 0x7fc9be66aef0>\n",
       "Image: <paidiverpy.image_layer.ImageLayer object at 0x7fc9be6697e0>\n",
       "Image: <paidiverpy.image_layer.ImageLayer object at 0x7fc9be66a3b0>\n",
       "Image: <paidiverpy.image_layer.ImageLayer object at 0x7fc9be66beb0>\n",
       "Image: <paidiverpy.image_layer.ImageLayer object at 0x7fc9be66b2b0>"
      ]
     },
     "execution_count": 45,
     "metadata": {},
     "output_type": "execute_result"
    }
   ],
   "source": [
    "pipeline.images"
   ]
  },
  {
   "cell_type": "code",
   "execution_count": 46,
   "id": "13352ab2-1e80-4192-aa9a-aacf3b10fd92",
   "metadata": {},
   "outputs": [],
   "source": [
    "image = pipeline.images.images[0][0].image"
   ]
  },
  {
   "cell_type": "code",
   "execution_count": 52,
   "id": "371785d5-013a-463a-9447-bf48bb714d45",
   "metadata": {},
   "outputs": [
    {
     "data": {
      "text/plain": [
       "16"
      ]
     },
     "execution_count": 52,
     "metadata": {},
     "output_type": "execute_result"
    }
   ],
   "source": [
    "image.astype(np.uint16).itemsize * 8"
   ]
  },
  {
   "cell_type": "code",
   "execution_count": 48,
   "id": "57491d92-3ab6-43cd-8e8c-29e6bba15865",
   "metadata": {},
   "outputs": [
    {
     "data": {
      "text/plain": [
       "1"
      ]
     },
     "execution_count": 48,
     "metadata": {},
     "output_type": "execute_result"
    }
   ],
   "source": [
    "image.dtype.itemsize"
   ]
  },
  {
   "cell_type": "code",
   "execution_count": 8,
   "id": "142edc10-78d5-464f-a54c-65f5635689cb",
   "metadata": {},
   "outputs": [
    {
     "data": {
      "text/plain": [
       "dtype('float64')"
      ]
     },
     "execution_count": 8,
     "metadata": {},
     "output_type": "execute_result"
    }
   ],
   "source": [
    "from skimage.util import img_as_float\n",
    "img_as_float(image).dtype"
   ]
  },
  {
   "cell_type": "code",
   "execution_count": 15,
   "id": "2f239c2e-8062-40c5-9475-d961fd3e3827",
   "metadata": {},
   "outputs": [
    {
     "data": {
      "text/plain": [
       "<matplotlib.image.AxesImage at 0x7fc9c4bb3ca0>"
      ]
     },
     "execution_count": 15,
     "metadata": {},
     "output_type": "execute_result"
    },
    {
     "data": {
      "image/png": "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",
      "text/plain": [
       "<Figure size 640x480 with 1 Axes>"
      ]
     },
     "metadata": {},
     "output_type": "display_data"
    }
   ],
   "source": [
    "import cv2\n",
    "import numpy as np\n",
    "from skimage.filters import gaussian\n",
    "from skimage.restoration import wiener\n",
    "import matplotlib.pyplot as plt\n",
    "def create_gaussian_psf(size, sigma):\n",
    "    # Create a Gaussian PSF using skimage's gaussian filter\n",
    "    psf = np.zeros((size, size))\n",
    "    psf[size//2, size//2] = 1  # Delta function at the center\n",
    "    psf = gaussian(psf, sigma=sigma)\n",
    "    psf /= psf.sum()  # Normalize PSF\n",
    "    return psf\n",
    "\n",
    "def create_motion_psf(size, length, angle):\n",
    "    # Create a motion blur PSF\n",
    "    psf = np.zeros((size, size))\n",
    "    center = size // 2\n",
    "    # Angle in radians\n",
    "    angle_rad = np.deg2rad(angle)\n",
    "    for i in range(length):\n",
    "        x = int(center + i * np.cos(angle_rad))\n",
    "        y = int(center + i * np.sin(angle_rad))\n",
    "        if 0 <= x < size and 0 <= y < size:\n",
    "            psf[y, x] = 1\n",
    "    psf /= psf.sum()  # Normalize PSF\n",
    "    return psf\n",
    "\n",
    "# Choose between 'gaussian' or 'motion' PSF\n",
    "psf_type = 'gaussian'\n",
    "\n",
    "if psf_type == 'gaussian':\n",
    "    psf = create_gaussian_psf(size=image.shape[0], sigma=0.5)\n",
    "elif psf_type == 'motion':\n",
    "    psf = create_motion_psf(size=image.shape[0], length=20, angle=45)\n",
    "\n",
    "# Perform Wiener filtering using skimage's built-in function\n",
    "restored_image = wiener(image, psf, balance=0.1)  # Adjust balance as necessary\n",
    "\n",
    "restored_image = np.clip(restored_image * 255, 0, 255).astype(np.uint8)\n",
    "plt.imshow(restored_image)"
   ]
  },
  {
   "cell_type": "code",
   "execution_count": 16,
   "id": "e87ed838-77a6-463a-b8aa-52d2b1d67990",
   "metadata": {},
   "outputs": [
    {
     "data": {
      "text/plain": [
       "<matplotlib.image.AxesImage at 0x7fc9c4103b20>"
      ]
     },
     "execution_count": 16,
     "metadata": {},
     "output_type": "execute_result"
    },
    {
     "data": {
      "image/png": "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",
      "text/plain": [
       "<Figure size 640x480 with 1 Axes>"
      ]
     },
     "metadata": {},
     "output_type": "display_data"
    }
   ],
   "source": [
    "plt.imshow(image)"
   ]
  },
  {
   "cell_type": "code",
   "execution_count": 6,
   "id": "8d825deb-ba07-4ed5-ac00-9acee4e71e53",
   "metadata": {},
   "outputs": [],
   "source": [
    "import cv2\n",
    "import numpy as np\n",
    "from scipy.signal import convolve2d\n",
    "\n",
    "def wiener_filter(image, psf, noise_var, estimated_noise_var):\n",
    "    psf_fft = np.fft.fft2(psf, s=image.shape)\n",
    "    image_fft = np.fft.fft2(image)\n",
    "    psf_fft_conj = np.conj(psf_fft)\n",
    "    result_fft = (psf_fft_conj / (np.abs(psf_fft) ** 2 + noise_var / estimated_noise_var)) * image_fft\n",
    "    result = np.fft.ifft2(result_fft).real\n",
    "    return np.clip(result, 0, 255).astype(np.uint8)\n",
    "\n",
    "def create_psf(radius, size):\n",
    "    psf = np.zeros((size, size))\n",
    "    center = size // 2\n",
    "    y, x = np.ogrid[:size, :size]\n",
    "    mask = (x - center) ** 2 + (y - center) ** 2 <= radius ** 2\n",
    "    psf[mask] = 1\n",
    "    psf /= psf.sum()\n",
    "    return psf\n",
    "\n",
    "# # Example usage:\n",
    "# image = cv2.imread('blurry_image.jpg', cv2.IMREAD_GRAYSCALE)\n",
    "psf = create_psf(radius=5, size=image.shape[0])\n",
    "restored_image = wiener_filter(image, psf, noise_var=0.1, estimated_noise_var=0.2)\n",
    "\n",
    "# cv2.imshow('Restored Image', restored_image)\n",
    "# cv2.waitKey(0)\n",
    "# cv2.destroyAllWindows()"
   ]
  },
  {
   "cell_type": "code",
   "execution_count": 7,
   "id": "9a5a04e8-cfc2-42fd-80b5-7b5452173cf1",
   "metadata": {},
   "outputs": [
    {
     "data": {
      "text/plain": [
       "array([[35, 39, 43, ..., 33, 30, 31],\n",
       "       [27, 32, 36, ..., 24, 23, 24],\n",
       "       [21, 26, 30, ..., 19, 16, 18],\n",
       "       ...,\n",
       "       [56, 58, 61, ..., 53, 52, 53],\n",
       "       [49, 53, 56, ..., 47, 45, 47],\n",
       "       [43, 46, 50, ..., 40, 38, 40]], dtype=uint8)"
      ]
     },
     "execution_count": 7,
     "metadata": {},
     "output_type": "execute_result"
    }
   ],
   "source": [
    "restored_image"
   ]
  },
  {
   "cell_type": "code",
   "execution_count": 15,
   "id": "babeb2bc-e2bb-4000-90fb-d680b2537f7a",
   "metadata": {},
   "outputs": [
    {
     "data": {
      "text/plain": [
       "(227, 227)"
      ]
     },
     "execution_count": 15,
     "metadata": {},
     "output_type": "execute_result"
    }
   ],
   "source": [
    "pipeline.images.images[0][0].image.shape"
   ]
  },
  {
   "cell_type": "code",
   "execution_count": 8,
=======
   "execution_count": 18,
>>>>>>> 0b6637d5876468601d52a016d92742984755764b
   "id": "648775af-6ce1-4f56-88b0-89d86893e1e0",
   "metadata": {},
   "outputs": [
    {
     "data": {
      "text/html": [
       "\n",
       "        <style>\n",
       "        .step-header {\n",
       "            font-size: 1.2em;\n",
       "            font-weight: bold;\n",
       "            margin-top: 10px;\n",
       "            margin-bottom: 5px;\n",
       "        }\n",
       "        .metadata {\n",
       "            margin-left: 20px;\n",
       "            margin-bottom: 10px;\n",
       "        }\n",
       "        .image-container {\n",
       "            display: flex;\n",
       "            flex-wrap: wrap;\n",
       "            gap: 10px;\n",
       "            margin-left: 20px;\n",
       "        }\n",
       "        .image-container img {\n",
       "            max-width: 200px;\n",
       "            margin: 10px;\n",
       "        }\n",
       "        .toggle-arrow {\n",
       "            cursor: pointer;\n",
       "            margin-left: 5px;\n",
       "        }\n",
       "        .show-more-button, .hide-button {\n",
       "            margin-left: 20px;\n",
       "            background-color: #007bff;\n",
       "            color: white;\n",
       "            border: none;\n",
       "            padding: 5px 10px;\n",
       "            cursor: pointer;\n",
       "        }\n",
       "        </style>\n",
       "        <script>\n",
       "        function toggleMetadata(stepIndex) {\n",
       "            var x = document.getElementById(\"metadata-\" + stepIndex);\n",
       "            var arrow = document.getElementById(\"arrow-\" + stepIndex);\n",
       "            if (x.style.display === \"none\") {\n",
       "                x.style.display = \"block\";\n",
       "                arrow.innerHTML = \"▼\";\n",
       "            } else {\n",
       "                x.style.display = \"none\";\n",
       "                arrow.innerHTML = \"►\";\n",
       "            }\n",
       "        }\n",
       "        function toggleImage(imageId) {\n",
       "            var img = document.getElementById(imageId);\n",
       "            var arrow = document.getElementById(\"arrow-\" + imageId);\n",
       "            if (img.style.display === \"none\") {\n",
       "                img.style.display = \"block\";\n",
       "                arrow.innerHTML = \"▼\";\n",
       "            } else {\n",
       "                img.style.display = \"none\";\n",
       "                arrow.innerHTML = \"►\";\n",
       "            }\n",
       "        }\n",
       "        function showMore(stepIndex) {\n",
       "            var moreImages = document.getElementById(\"more-images-\" + stepIndex);\n",
       "            var showMoreButton = document.getElementById(\"show-more-button-\" + stepIndex);\n",
       "            var hideButton = document.getElementById(\"hide-button-\" + stepIndex);\n",
       "            moreImages.style.display = \"flex\";\n",
       "            showMoreButton.style.display = \"none\";\n",
       "            hideButton.style.display = \"inline-block\";\n",
       "        }\n",
       "        function hide(stepIndex) {\n",
       "            var moreImages = document.getElementById(\"more-images-\" + stepIndex);\n",
       "            var showMoreButton = document.getElementById(\"show-more-button-\" + stepIndex);\n",
       "            var hideButton = document.getElementById(\"hide-button-\" + stepIndex);\n",
       "            moreImages.style.display = \"none\";\n",
       "            showMoreButton.style.display = \"inline-block\";\n",
       "            hideButton.style.display = \"none\";\n",
       "        }\n",
       "        </script>\n",
<<<<<<< HEAD
       "        <div class='step-header'>Step: raw <span id='arrow-0' class='toggle-arrow' onclick='toggleMetadata(0)'>►</span></div><div id='metadata-0' class='metadata' style='display:block;'><div class='image-container'><div><p onclick='toggleImage(\"image-0-0\")' style='cursor:pointer;'>Image: 20230310043058_467_0000.bmp <span id='arrow-image-0-0' class='toggle-arrow'>►</span></p><img id='image-0-0' src='data:image/png;base64,/9j/4AAQSkZJRgABAQAAAQABAAD/2wBDAAgGBgcGBQgHBwcJCQgKDBQNDAsLDBkSEw8UHRofHh0aHBwgJC4nICIsIxwcKDcpLDAxNDQ0Hyc5PTgyPC4zNDL/wAALCACWAJYBAREA/8QAHwAAAQUBAQEBAQEAAAAAAAAAAAECAwQFBgcICQoL/8QAtRAAAgEDAwIEAwUFBAQAAAF9AQIDAAQRBRIhMUEGE1FhByJxFDKBkaEII0KxwRVS0fAkM2JyggkKFhcYGRolJicoKSo0NTY3ODk6Q0RFRkdISUpTVFVWV1hZWmNkZWZnaGlqc3R1dnd4eXqDhIWGh4iJipKTlJWWl5iZmqKjpKWmp6ipqrKztLW2t7i5usLDxMXGx8jJytLT1NXW19jZ2uHi4+Tl5ufo6erx8vP09fb3+Pn6/9oACAEBAAA/APn+iiiiiiiiiiiiiiiiiiiiiiiiiiiiiiiiiiiiiiiiiiiiiiiiiiiiiiiiiiiiiiiiiiiiiiiiiiiiiiiiiiiiiiiiiiiiiiiiiiiiiiiiiiiiiiiiiiiiiiiiiiigDJwKUqV6ikooooooooooooooopQCauWVm1y4VUJatG80aS3g3OhBrFeJk6io6KKKKKKKKKKKKKK2dB0O51e7WOJCc+gr6D8EfCm2htBPfJiTHGRVDx/4XtLOIhABivDNYSOFyi1i0UUUUUUUUUUUUVYtYDNKgAPJxX0n8JfBsdvaJezx9RkZFewkiNcnCoorwn4oeJbY6pJBFICo44NeDalP590zA5GapUUUUUUUUUUUUUCvRPhxoFvq2qRpcEBc55r6ls5NN0jT47ZJkVY19a8x8d/FQadDPZ25HzDAYV88atq0+o3Tyu5JY561mE560lFFFFFFFFFFFABPSlUfMK9G+H94sV+i79pzXqHi2T7PpIuEuvm25+9XgGt6lJfXLbzux3rHoooooooooooooqSFgG5pC3z5FXLDU5bG4EqEgj0rY1Xxjd6laCBnbAHrXMsxY5PWkoAycVZa2Cw7881WooooooooooooopeKSilBwQae8rNxnio6KKKKKKKKKKKKKKKKKKKKKKKKKKKKKKKKKKKKKKKKKKKKKKKKKKKKKKKKKKKKKKKKKKKKKKKKKKKKKKKKKKKKKKKKKKKKKKKKKKK//9k=' style='display:block;' /></div><div><p onclick='toggleImage(\"image-0-1\")' style='cursor:pointer;'>Image: 20230310042137_288_0000.bmp <span id='arrow-image-0-1' class='toggle-arrow'>►</span></p><img id='image-0-1' src='data:image/png;base64,/9j/4AAQSkZJRgABAQAAAQABAAD/2wBDAAgGBgcGBQgHBwcJCQgKDBQNDAsLDBkSEw8UHRofHh0aHBwgJC4nICIsIxwcKDcpLDAxNDQ0Hyc5PTgyPC4zNDL/wAALCACWAJYBAREA/8QAHwAAAQUBAQEBAQEAAAAAAAAAAAECAwQFBgcICQoL/8QAtRAAAgEDAwIEAwUFBAQAAAF9AQIDAAQRBRIhMUEGE1FhByJxFDKBkaEII0KxwRVS0fAkM2JyggkKFhcYGRolJicoKSo0NTY3ODk6Q0RFRkdISUpTVFVWV1hZWmNkZWZnaGlqc3R1dnd4eXqDhIWGh4iJipKTlJWWl5iZmqKjpKWmp6ipqrKztLW2t7i5usLDxMXGx8jJytLT1NXW19jZ2uHi4+Tl5ufo6erx8vP09fb3+Pn6/9oACAEBAAA/APn+iiiiiiiiiiiiiiiiiiiiiiiiiiiiiiiiiiiiiiiiiiiiiiiiiiiiiiiitHW9HudD1OSyuUKunTI6is6iiiiiiiiiiiiiiiiivXv2g1tR43tRbhQ62oEoX+9n/CvJ5F3MCBxiowhbOO1GxsZwcU2iiiiiiiiiiiiiit7xf4gm8SeJbvU5WyZmBA9OMVieYduKdG+wEDuMVLDMvlsjD+HFTQWK3FsTGf3mQMfWo7zTLuxcrPGQQM/hVOiiiiiiiiiiiig8migHFFWLe6kt23RnnINdtoniDTbrSdaGtKpupLfbbE/3sVwixlzgelMoooooooooooooooop2Qeuc0quVORVxGhnjhiC4fOCar3Nu1vcPF97acZFQUUUUUUUUUUUUUUUUU5GKuCOCK0LaQF3835t4Iyar3dqtusbK27cOaq0UUUUUUUUUUUUUUUVMkpC7TVhUEoCA5GOKrXFu9tJscYNRYoPFFFFFFFFFFFFFFFFSwzGJ1PYHNW7i4W9YM33ulb/AIb8Aal4nEb2QyjuyfQgZrE8Q6Dd+G9Zm0y9XbNFjP0NZdFFFFFFFFFFFFFFFKCQcivf/wBnS+859VtZHX9yFeME92yDXEfHC/t9Q+I1y9uQfKjWJyO7LXm1FFFFFFFFFFFFFFFFb/hLxNc+F9W+2W7kKVKuAevpWXqd9JqWpXF5KxZ5XLEmqlFFFFFFFFFFFFFFFFFFFFFFFFFFFFFFFFFFFFFFFFFFFFFFFFFFFFFFFFFFFFFFFFFFFFFFFFFFFFFFFFFFFFFFFFFFFFFFFFFFFFFFFFFFFFFFFFFFFFFFFf/Z' style='display:block;' /></div><div><p onclick='toggleImage(\"image-0-2\")' style='cursor:pointer;'>Image: 20230310041826_848_0001.bmp <span id='arrow-image-0-2' class='toggle-arrow'>►</span></p><img id='image-0-2' src='data:image/png;base64,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' style='display:block;' /></div><div><p onclick='toggleImage(\"image-0-3\")' style='cursor:pointer;'>Image: 20230310041804_949_0000.bmp <span id='arrow-image-0-3' class='toggle-arrow'>►</span></p><img id='image-0-3' src='data:image/png;base64,/9j/4AAQSkZJRgABAQAAAQABAAD/2wBDAAgGBgcGBQgHBwcJCQgKDBQNDAsLDBkSEw8UHRofHh0aHBwgJC4nICIsIxwcKDcpLDAxNDQ0Hyc5PTgyPC4zNDL/wAALCACWAJYBAREA/8QAHwAAAQUBAQEBAQEAAAAAAAAAAAECAwQFBgcICQoL/8QAtRAAAgEDAwIEAwUFBAQAAAF9AQIDAAQRBRIhMUEGE1FhByJxFDKBkaEII0KxwRVS0fAkM2JyggkKFhcYGRolJicoKSo0NTY3ODk6Q0RFRkdISUpTVFVWV1hZWmNkZWZnaGlqc3R1dnd4eXqDhIWGh4iJipKTlJWWl5iZmqKjpKWmp6ipqrKztLW2t7i5usLDxMXGx8jJytLT1NXW19jZ2uHi4+Tl5ufo6erx8vP09fb3+Pn6/9oACAEBAAA/APn+iiiiiiiiiiiiiiiiiiiiiiiiiiiiiiiiiiiiiiiiiiiiiiiiiiiiiiiiiiiiiiiiiiiiiiiiiiiiiiiiiiiiiiiiiiiiiiiiiiiiiiiiiiiiiiiiiiiiiiiilAJOBUyWsjg8YqwNKmZQVKk1E1hOhIK9KrvG0ZwwwabRRRRRRRRRRRRSqCxwK29J0WS9kAUYz3Nen+HvhxBdhBPNyepK/wAq7qH4WeHntiBcybgMEhOa5jXvhlb2SZtJvMB7tXl+seHbmzdxIgKjpXLTQmNuhxUVFFFFFFFFFFFSQkBuRXX+Hb63t5lJIGOua9a0LxPbQtGpVnV+m042120HiyyOYy5jOMdev1rP1PWLCa3J+1rsTovrXkfiq+t5A+JkwTxtFea3zq0jADgdD61SooooooooooooqeG6eEhlPINbun+Kbm2k3ldwHbPWt1fHreRteyU575qjeeLzc/IsRUD0PFc3d6jJMxHbPeqLMWOTSUUUUUUUUUUUUVZtLU3MoUZrvPD3gu2mCzXT5U/wd67uDwl4eEGEsGYY5LnjNY2seDtNjiV7aGMO3TBrzXW9DaxlZl6d/asKiiiiiiiiiiiiitHS7hIJgZDxXpmg6zbbEj8piezFsV0g1SPY0hZvl4xVe51C1lgBO857kYNcD4oubRDhG+Y/wiuGkILnHSm0UUUUUUUUUUUUdKuW2qXVr9x+PetmHxpqUKAKykjviq934s1O7PzzHHoKxpZpJ3LSMWJ9ajoooooooooooooooooooooooooooooooooooooooooooooooooooooooooooooooooooooooooooooooooooooooooooooooooooooooooooooooooooooooor/2Q==' style='display:block;' /></div><div><p onclick='toggleImage(\"image-0-4\")' style='cursor:pointer;'>Image: 20230310041903_594_0000.bmp <span id='arrow-image-0-4' class='toggle-arrow'>►</span></p><img id='image-0-4' src='data:image/png;base64,/9j/4AAQSkZJRgABAQAAAQABAAD/2wBDAAgGBgcGBQgHBwcJCQgKDBQNDAsLDBkSEw8UHRofHh0aHBwgJC4nICIsIxwcKDcpLDAxNDQ0Hyc5PTgyPC4zNDL/wAALCACWAJYBAREA/8QAHwAAAQUBAQEBAQEAAAAAAAAAAAECAwQFBgcICQoL/8QAtRAAAgEDAwIEAwUFBAQAAAF9AQIDAAQRBRIhMUEGE1FhByJxFDKBkaEII0KxwRVS0fAkM2JyggkKFhcYGRolJicoKSo0NTY3ODk6Q0RFRkdISUpTVFVWV1hZWmNkZWZnaGlqc3R1dnd4eXqDhIWGh4iJipKTlJWWl5iZmqKjpKWmp6ipqrKztLW2t7i5usLDxMXGx8jJytLT1NXW19jZ2uHi4+Tl5ufo6erx8vP09fb3+Pn6/9oACAEBAAA/APn+iiiiiiiiiiiiiiiiiiiiiiiiiiiiiiiiiiiiiiiiiiiiiiiiiiiiiiiiiiiiiiiiiiiiiiiiiiiiiiiiiiiiiiiiiiiiiiiiiiiiiiiiiiiiiiiiiiiiiiiiiinxxvK4RFJY9BTmhMZZJMrIDjbipjYP5U8meIcbvxqG4h8iUpnPAOcVFRRRRRRRRRRRRRRWnooD3DKV3gjOB1re0SMXV3cvKqPgjdkdPauiutBtkRmms3dr3BijU/dx61yviy1jHlz2wGzG1wOxFctRRRRRRRRRRRRRTnXDHGcCtPR4ppZ3uE6JgNj0NdFAWsReBIjtJBLj1rorbU2l0ZwAzTMP3mT8yAdNtcd4huLK5jDpDMsi8Nz8tcvRRRRRRRRRRRQAT0rc07QGv1tmjkUeYcMW6CrGreFrjT5JWEUwiXG1XHzN7/SpNIsYwJ0cTRsgByOjZ9arT7o/tLyzzAqeVB4PpVWTVbqKGSDzjvYj50PUelVLm+kuUUMcYGDjvVWiiiiiiiiiiirljZtPPHllVGPUn9K9w8HeH9MkKb7fMhHMIHCEdCK3tb8Nq8EE9y7tI2druMAAdq801jT5yupNbERxEqGzxjH92uG1K5Y3N1Ex6gYrJooooooooooooorU0i5gifF2u+NSCoPY17h4a1200021y0haeZQFEY3ZHvWx4v8AEP8AaunCyhlw6jK54H4147d660t4sN5MVtYgQzDqG7cVxVzKZ7iSQtuyx59qiooooooooooooopQxAIzwa6jQfF76H9lEMQ/dZ3M3OaZrHi++1C6uJo28hZj/qx/BXOSzPNIXkYsx6mmUUUUUUUUUUUUUUUUUUUUUUUUUUUUUUUUUUUUUUUUUUUUUUUUUUUUUUUUUUUUUUUUUUUUUUUUUUUUUUUUUUUUUUUUUUUUUUUUUUUUUUUUUUUUUUUUUUUUUUUUUUV//9k=' style='display:block;' /></div><div><p onclick='toggleImage(\"image-0-5\")' style='cursor:pointer;'>Image: 20230310042417_732_0000.bmp <span id='arrow-image-0-5' class='toggle-arrow'>►</span></p><img id='image-0-5' src='data:image/png;base64,/9j/4AAQSkZJRgABAQAAAQABAAD/2wBDAAgGBgcGBQgHBwcJCQgKDBQNDAsLDBkSEw8UHRofHh0aHBwgJC4nICIsIxwcKDcpLDAxNDQ0Hyc5PTgyPC4zNDL/wAALCACWAJYBAREA/8QAHwAAAQUBAQEBAQEAAAAAAAAAAAECAwQFBgcICQoL/8QAtRAAAgEDAwIEAwUFBAQAAAF9AQIDAAQRBRIhMUEGE1FhByJxFDKBkaEII0KxwRVS0fAkM2JyggkKFhcYGRolJicoKSo0NTY3ODk6Q0RFRkdISUpTVFVWV1hZWmNkZWZnaGlqc3R1dnd4eXqDhIWGh4iJipKTlJWWl5iZmqKjpKWmp6ipqrKztLW2t7i5usLDxMXGx8jJytLT1NXW19jZ2uHi4+Tl5ufo6erx8vP09fb3+Pn6/9oACAEBAAA/APn+iiiiiiiiiiiiiiiiiiiiiiiiiiiiiiiiiiiiiiiiiiiiiiiiiiiiiiiiiiiprURNdxCY4iLDf9K0vEEOmw3ijTH3RbRk+9Y9FFFFFFFFFFFFFFFFFFFFFFFFFFFFFFFFFFFFFFFFFFFFFFFFFFFFFFFFFKAScDrVhbC7cZW2kI9QpoNhdjrayj/gJqB0ZDtdCp9xTaKKKKKKKKKKKKKKmtmCXUTEZAYEivr7wJoejXPhKzunsImeRcksua6GXwtoc6FTp0A9wleQ/FP4WRCxa/0yIApkkKK+fpLaaOQo8ZDA4IxU0NhNJgBDzUdzZzWzfOhA9ar0UUUUUUUUUUU+M4kQ+hFfZXwxuY7jwLYqpBZFwRXZVU1GMS6bcIy7gyEYNfI/i9bey125QIFO41zi6yYWIVRio7/V2vYgjKBisqiiiiiiiiiiigcc17v8GPHCWP8AxLrt/kfhcnpX0LHIssavGdytyDRKyrEzP90DmvlL4wranXnltlAyecV5iTk0lFFFFFFFFFFFFFaWmXj2MyzRttIORXtfgb4wzJcW+m3QDRkgbj2r3pJIr6yDRtmOVeCK+cPjd4Yk0udLtMmKQ9a8XoooooooooooooopytgYq9pMrLqUJ3Y+YV9meDLhLnwrZgP8yoATXD/HYwt4ahVmUsCcDPNfLh7/AFpKKKKKKKKKKKKKKKfHIYpFdeqnNeo6D8WLjTNKW1BIKjHWuW8U+Nb/AMROVmlYx9gTXKUUUUUUUUUUUUUUUUUUUUUUUUUUUUUUUUUUUUUUUUUUUUUUUUUUUUUUUUUUUUUUUUUUUUUUUUUUUUUUUUUUUUUUUUUUUUUUUUUUUUUUUUUUUUUUUUUUUUUUUUUV/9k=' style='display:block;' /></div><div><p onclick='toggleImage(\"image-0-6\")' style='cursor:pointer;'>Image: 20230310041755_849_0000.bmp <span id='arrow-image-0-6' class='toggle-arrow'>►</span></p><img id='image-0-6' src='data:image/png;base64,/9j/4AAQSkZJRgABAQAAAQABAAD/2wBDAAgGBgcGBQgHBwcJCQgKDBQNDAsLDBkSEw8UHRofHh0aHBwgJC4nICIsIxwcKDcpLDAxNDQ0Hyc5PTgyPC4zNDL/wAALCACWAJYBAREA/8QAHwAAAQUBAQEBAQEAAAAAAAAAAAECAwQFBgcICQoL/8QAtRAAAgEDAwIEAwUFBAQAAAF9AQIDAAQRBRIhMUEGE1FhByJxFDKBkaEII0KxwRVS0fAkM2JyggkKFhcYGRolJicoKSo0NTY3ODk6Q0RFRkdISUpTVFVWV1hZWmNkZWZnaGlqc3R1dnd4eXqDhIWGh4iJipKTlJWWl5iZmqKjpKWmp6ipqrKztLW2t7i5usLDxMXGx8jJytLT1NXW19jZ2uHi4+Tl5ufo6erx8vP09fb3+Pn6/9oACAEBAAA/APn+iiiiiiiiiiiiiiiiiiiiiiiiiiiiiiiiiiiiiiiiiiiiiiiiiiiiiiiiiiiiiiiiiiiiiiiiiiiiiiiiiiiiiiiiiiiiiiiiiiiiiiiiiiiiiiiiiiiiiiiiilCk0oXnFK0RUZplFFFFFFFFFFFFFFFSK3tTh97pUsmSvSqp60lFFFFFFFFFFFFFFTJG/XFSpFITwhNPdJNuChFVHRgckUyiiiiiiiiiiiiipYYy7gYruPDvhWTVGRQvWvW9D+EELQLJMF/GrWp/Bq3lhbyNob2ryXxR4DuNFlcFCQO+K4G6tzE+CuDVWiiiiiiiiiiigdavWDKJxmvdvhq1q8kYYgGvdolVYVEZG3HFPz71x/jexs5dPkeRV3Y718ueJo4EvZAmBzXLHqaSiiiiiiiiiiinxPsbNdd4e8US6XKjK5GK9u8K/FGCSJI7mQfia7uPxvo8ke/zgPxrzjx945tJ45IoJAQR2NeAatdi4uWfPU1l0UUUUUUUUUUUUU5WK1Yiv54SCjkfjV4eIb9U2iZsfWqc2pXE/wDrHJ/GqjMWOTSUUUUUUUUUUUUUUUUUUUUUUUUUUUUUUUUUUUUUUUUUUUUUUUUUUUUUUUUUUUUUUUUUUUUUUUUUUUUUUUUUUUUUUUUUUUUUUUUUUUUUUUUUUUUUUUUUUUUUUUV//9k=' style='display:block;' /></div><div><p onclick='toggleImage(\"image-0-7\")' style='cursor:pointer;'>Image: 20230310041822_395_0002.bmp <span id='arrow-image-0-7' class='toggle-arrow'>►</span></p><img id='image-0-7' src='data:image/png;base64,/9j/4AAQSkZJRgABAQAAAQABAAD/2wBDAAgGBgcGBQgHBwcJCQgKDBQNDAsLDBkSEw8UHRofHh0aHBwgJC4nICIsIxwcKDcpLDAxNDQ0Hyc5PTgyPC4zNDL/wAALCACWAJYBAREA/8QAHwAAAQUBAQEBAQEAAAAAAAAAAAECAwQFBgcICQoL/8QAtRAAAgEDAwIEAwUFBAQAAAF9AQIDAAQRBRIhMUEGE1FhByJxFDKBkaEII0KxwRVS0fAkM2JyggkKFhcYGRolJicoKSo0NTY3ODk6Q0RFRkdISUpTVFVWV1hZWmNkZWZnaGlqc3R1dnd4eXqDhIWGh4iJipKTlJWWl5iZmqKjpKWmp6ipqrKztLW2t7i5usLDxMXGx8jJytLT1NXW19jZ2uHi4+Tl5ufo6erx8vP09fb3+Pn6/9oACAEBAAA/APn+iiiiiiiiiiiiiiiiiiiiiiiiiiiiiiiiiiiiiiiiiiiiiiiiiiiiiiiiiiiiiiiiiiiiiiiiiiiiiiiiiiiiiiiiiiiiiiiiiiiiiiiiiiiiiiiiiiiiiiiiiilx7UY9qSiiiiiiiiiiiiiiinpG0jBUBJ9BVxNH1ByMW7/lTJ9MvbfmSBwPXFVCMHBpKKKKKKKKKKKKKKcil2CgZJOK9b8A/C+8u5ra/uYiYHIPI7V9Ax+CtERFX7IuQMZxWR4l+H+l32mslvbKsnbAr5n8Z+EbjQNUaAoRnkcVyLAqxU9RSUUUUUVOsQMDOeoqCiiiiiu/+GnhFvEWuw7lzAGGTivrXTrKLTrGGzhACRrgYFT7G/vVHNdwWynzpFBA715H8Rray1rfdoFLKMV856tAIL11HqaoUUUUUU8yHbtHSmUUUUVJFGZZUjHVjivrL4P+GYdG8MJMygzSnOfQV3GpatbaXFvlcZ9M1yl78TLGzJzGCo715R4r+Jr3+oM1vIQmegNc5L4xeWMh3O0j1rhdTnF1dNIOhNUKKKKKKKKKKKKt6eyreRu3RTmvTV+Kt5ptnHBA5AQY4qhcfEDU9fmjh8xiWOOtd9NolrB4Hee/cC5ZcjPWvA71tt24RsjJquZXK43GkJ4FNooooooooooopQSpyKcXJ+9zWlouoJY38UzKMIc10vizx5LrUMcEDFY1XBArhiSxJPU0lFFFFFFFFFFFFFFFFLgetJRRRRRRRRRRRRRRRRRRRRRRRRRRRRRRRRRRRRS9KSiiiiiiiiiiiiiiiilCk9q0IdKmeLzih2D2qnOoVsCoqKKKKKKKKKKKKKKAMnFdh4K8Lz6/qMcQjJTPXFfQMHwptl0wW5Cglea+dvHWipoXiCazQ5CMRXL0UUUUUUUUUUUUUU5fvD619N/BPS4P7NNyVBcD0r1i7uDFaSuo5VSRXxn8QLt7vxdeO553GuWooooooor/2Q==' style='display:block;' /></div><div><p onclick='toggleImage(\"image-0-8\")' style='cursor:pointer;'>Image: 20230310041805_048_0002.bmp <span id='arrow-image-0-8' class='toggle-arrow'>►</span></p><img id='image-0-8' src='data:image/png;base64,/9j/4AAQSkZJRgABAQAAAQABAAD/2wBDAAgGBgcGBQgHBwcJCQgKDBQNDAsLDBkSEw8UHRofHh0aHBwgJC4nICIsIxwcKDcpLDAxNDQ0Hyc5PTgyPC4zNDL/wAALCACWAJYBAREA/8QAHwAAAQUBAQEBAQEAAAAAAAAAAAECAwQFBgcICQoL/8QAtRAAAgEDAwIEAwUFBAQAAAF9AQIDAAQRBRIhMUEGE1FhByJxFDKBkaEII0KxwRVS0fAkM2JyggkKFhcYGRolJicoKSo0NTY3ODk6Q0RFRkdISUpTVFVWV1hZWmNkZWZnaGlqc3R1dnd4eXqDhIWGh4iJipKTlJWWl5iZmqKjpKWmp6ipqrKztLW2t7i5usLDxMXGx8jJytLT1NXW19jZ2uHi4+Tl5ufo6erx8vP09fb3+Pn6/9oACAEBAAA/APn+iiiiiiiiiiiiiiiiiiiiiiiiiiiiiiiiiiiiiiiiiiiiiiiiiiiiiiiiiiiiiiiiiiiiiiiiiiiiiiiiiiiiiiiiiiiiiiiiiiiiijHFFFFFFFFFFFFFFFFFFFGeKKX8KNpxnHFJRRRRRRRRRRRRRRRV6xsHvGCopJJrt9N+G97e24kSJjn2qLV/hvqenRbmhbbjPSuJurKW1kKupGKq0UUUUUUUUUUUUVNBGXcV6L4K0qOS5j3Lkk19M+HtMis9NjBiGSPSr1/pttqUJimjBGPSvnj4m+D47GeZ7dPlBPSvGJozFIVPrUdFFFFFFFFFFFAGTWhbIflwOc1698OreJ7+HeQORX0bEoSKMDoAKefrXlnxRgSKHAGd45r5n1qIR3jAdM1mUUUUUUUUUUUU5PvVo20gUqfeu+8L6n9kv4WDYAIr6O0HxBDqFtGHdQ231rZN1AELeYuBXi/xF1wXE0keRtXOK8D1dxJcOfesuiiiiiiiiiiinK2DVhW2kEVr2WoGF1OenNd7onjN4treZjbx1rop/H7Q2xQS5L+9efeJPEJu8ndknrXE3Mu9s+tVqKKKKKKKKKKKBUinAzSrMRU0V68Z4JxUrajKy5LGq8ty0i4NQE5ApKKKKKKKKKKKKKXPFJRRRRRRRRRRRRRRRRRRRRRRRRRRRRRRRRRRRRRShSaesDsMgU/7JLtztqJkKHBptFFFFFFFFFFFFFKBmtLTrNrqQRqOa9T8MfDGfVoQ/l4FdDqXwme0sGl8sHaK8c8RaI9jOw24xXOGkoooooooooooop8f3xXd+CtPS41KEnGN3NfV+iWUNlpkSwqOVGcVeljWeJo3X5WGK+efiho8VtNOUAxk14dMu2Q/Wo6KKKKKKKKKKKKdH96u28F3TxajGAe9fVnhiZptKjLHtVvV7h7a0Z0PIFfPfxEv5Jy+4nnNeM3BzKfrUVFFFFFf/9k=' style='display:block;' /></div><div><p onclick='toggleImage(\"image-0-9\")' style='cursor:pointer;'>Image: 20230310041825_944_0001.bmp <span id='arrow-image-0-9' class='toggle-arrow'>►</span></p><img id='image-0-9' src='data:image/png;base64,/9j/4AAQSkZJRgABAQAAAQABAAD/2wBDAAgGBgcGBQgHBwcJCQgKDBQNDAsLDBkSEw8UHRofHh0aHBwgJC4nICIsIxwcKDcpLDAxNDQ0Hyc5PTgyPC4zNDL/wAALCACWAJYBAREA/8QAHwAAAQUBAQEBAQEAAAAAAAAAAAECAwQFBgcICQoL/8QAtRAAAgEDAwIEAwUFBAQAAAF9AQIDAAQRBRIhMUEGE1FhByJxFDKBkaEII0KxwRVS0fAkM2JyggkKFhcYGRolJicoKSo0NTY3ODk6Q0RFRkdISUpTVFVWV1hZWmNkZWZnaGlqc3R1dnd4eXqDhIWGh4iJipKTlJWWl5iZmqKjpKWmp6ipqrKztLW2t7i5usLDxMXGx8jJytLT1NXW19jZ2uHi4+Tl5ufo6erx8vP09fb3+Pn6/9oACAEBAAA/APn+iiiiiiiiiiiiiiiiiiiiiiiiiiiiiiiiiiiiiiiiiiiiiiiiiiiiiiiiiiiiiiiiiiiiiiiiiiiiiiiiiiiiiiiiiiiiiiiiiiiiiiiiiiiiiiiiiiiiiiiirtnpsl5GXR1UD1qOCzee/W0VgHZtuT0rU1vw7PoACXW13cZUr0FRweGr+4037cigw4rHZSrFT1HFJRRRRRRRRRRRRRWxZaFrNzCJLWCTy27g4Feg6H8O7a4milmm8uRQGYk4wavePNFitdJzHIZ8Y+Y84FZGhXD3Xhv7JbxlpTkVjan4Fmt4EuWJG45cZ6Vg6vp1jbxxfYZzNIR+8GelY1FFFFFFFFFFFaFjphuwHMqKvU5NeteF4ZrmwSGEqiRLy2OuK0sy3WqR2ts3lopAkftV3xboUFrpaONSimjI+cbs1yPh7WbTTztgsjtB+/t4qDxL4llOImj2JLkAkVyE+iG3xMsgIm5596yNSsfsMypkcjNUaKKKKKKKKKK0tHtIry7SKSYoC3IB7V7pZ3Oi6Z4dW0gmzLt+YiotPsLm9kEFuCLeXiSQ9RVbx54MsPD3hmWW11GWdmO4gsTg+lQ+H7SV/hubqKBWZTkMw5rlNRuRqGnLHqcYjMZyp7msKG6SWN4pJOI8+V/Sufv2uHmBuPvY4qrRRRRRRRRRRUtvK8Myumdw7CvQND1CG1jimvYy4PUGux0/xvHqF/Dp9sn2RZDgseM11HjK2h03R1FwguEcAkVyI8W2y+GXs7bEUYGNma8q1zUpLohN5KhumfamWlmuo25kE4iaM8Anqay53keQiRyxXjNR0UUUUUUUUUU5HMbhh1Fb+m3F1fkRvt8sDipbuea1vR552zqf3RWul1Pxhqn/AAjrQX3zSsPkJ54rn2v7BvDByzfbCe3SuYeJwgkOMNSxRvICUOAOvNRUUUUUUUUUUUUVueH7JbqSXzrs2youVJ7mqs96Reky/vjG2Fb1rYvr+K/0hvNZRKgJANYourcaX5PlAy5xmoprby7NJfNzu7VWV2XO1iM+hptFFFFFFFFFFFFSNM7KFJ4HTFEJQToZPug81Z1Ka3mnDWykKBg1DamAS/vxlMUXMqs5SInyh0BqCiiiiiiiiiiiiiiirsF+sNm8Hkqxb+I1Soooooooooooooooooooooooooooooooooooooooooooooooooooooooooooooooooooooooooooooooooooor//2Q==' style='display:block;' /></div><div><p onclick='toggleImage(\"image-0-10\")' style='cursor:pointer;'>Image: 20230310043326_011_0000.bmp <span id='arrow-image-0-10' class='toggle-arrow'>►</span></p><img id='image-0-10' src='data:image/png;base64,/9j/4AAQSkZJRgABAQAAAQABAAD/2wBDAAgGBgcGBQgHBwcJCQgKDBQNDAsLDBkSEw8UHRofHh0aHBwgJC4nICIsIxwcKDcpLDAxNDQ0Hyc5PTgyPC4zNDL/wAALCACWAJYBAREA/8QAHwAAAQUBAQEBAQEAAAAAAAAAAAECAwQFBgcICQoL/8QAtRAAAgEDAwIEAwUFBAQAAAF9AQIDAAQRBRIhMUEGE1FhByJxFDKBkaEII0KxwRVS0fAkM2JyggkKFhcYGRolJicoKSo0NTY3ODk6Q0RFRkdISUpTVFVWV1hZWmNkZWZnaGlqc3R1dnd4eXqDhIWGh4iJipKTlJWWl5iZmqKjpKWmp6ipqrKztLW2t7i5usLDxMXGx8jJytLT1NXW19jZ2uHi4+Tl5ufo6erx8vP09fb3+Pn6/9oACAEBAAA/APn+iiiiiiiiiiiiiiiiiiiiiiiiiiiiiiiiiiiiiiiiiiiiiiiiiiiiiiiiiiiiiiiiiiiiiiiiiiiiiiiiiiiiiiiiiiiiiiiiiiiiiiiiiiiiiiiiiiiiiiiiiiiipY4Wk56D1NRkYJFJRRRRRRRRRRRRRRU9raT3kqxwRs7E9hXoGjfDtprUzX3yEDPPFcfrqra38lpFjYhxkVkUUUUUUUUUUUUUUU+NN7hfU19F/CDwxZS6Z5stqsh/vkdK77xR4KTVNJkhspPJkA4218o+KNAvtD1eaC6VjhvvkdawaKKKKKKKKKKKKKK3vC2izazrENqiEh2A3Y6V9feDvDY8MaOtruDE4yRXQZAzg85rw742wpqFqsNvp5WYN80wHWvAb2wNmq7nDE9hVKiiiiiiiiiiiipIozJMkYHLHAr6d+EPgVNO00Xt5FmRgChIr1ZhL5nDYjHrVa/1Kx0u2e6ubhAi/wC0K8I+KnxUstTsv7P0oAkHlyOa8Mmmedt0hJJqOiiiiiiiiiiiirenvt1K3fGdrgmvqKD4qaRpWgWiuyh1jAIrz7xX8dr25ZrfS0AiP8Q4rzLVPGOs6ruWa7k2Hqu6sFmLHJOSe9JRRRRRRRRRRRRSqAxwTirSXCQAbVyw70y5vJLnG8nA7ZqDOOlJmiiiiiiiiiiiiiiiiiiiiiiiiiiiiiiiiiiiiiiiiiiiiiiiiiiiiiiiiiiiiiiiiiiiiiiiiiiiiiiiiiiiiiiiiiiiiiiiiiiiiiiiiiiiiiiiiiiiiiiiiiiv/9k=' style='display:block;' /></div><div><p onclick='toggleImage(\"image-0-11\")' style='cursor:pointer;'>Image: 20230310042612_428_0000.bmp <span id='arrow-image-0-11' class='toggle-arrow'>►</span></p><img id='image-0-11' src='data:image/png;base64,/9j/4AAQSkZJRgABAQAAAQABAAD/2wBDAAgGBgcGBQgHBwcJCQgKDBQNDAsLDBkSEw8UHRofHh0aHBwgJC4nICIsIxwcKDcpLDAxNDQ0Hyc5PTgyPC4zNDL/wAALCACWAJYBAREA/8QAHwAAAQUBAQEBAQEAAAAAAAAAAAECAwQFBgcICQoL/8QAtRAAAgEDAwIEAwUFBAQAAAF9AQIDAAQRBRIhMUEGE1FhByJxFDKBkaEII0KxwRVS0fAkM2JyggkKFhcYGRolJicoKSo0NTY3ODk6Q0RFRkdISUpTVFVWV1hZWmNkZWZnaGlqc3R1dnd4eXqDhIWGh4iJipKTlJWWl5iZmqKjpKWmp6ipqrKztLW2t7i5usLDxMXGx8jJytLT1NXW19jZ2uHi4+Tl5ufo6erx8vP09fb3+Pn6/9oACAEBAAA/APn+iiiiiiiiiiiiiiiiiiiiiiiiiiiiiiiiiiiiiiiiiiiiiiiiiiiiiiiiiiiiiiiiiiiiiiiiiiiiiiiiiiiiiiiiiiiiiiiiiiiiiiiiiiiiiiiiiiiiiiiiiiilx7Uu1v7ppCCOopKKKKKKKKKKKKKKUKWOBWppuj3GoSCNImJPcCvSdB+C+pXqLcSKQh9a6K/+D5tLMt5fzYrynxJ4dfSZWDLjFct3pKKKKKKKKKKKKXoa6nwz4Yn1q6Ty1JBNfSXgjwBYaZZLJcwK0uO4rv441hRY41AUdqqatdw2tk7TFcY7181/EvU7O7lcRbc+1eSfxUlFFFFFFFFFFL2q3Y2bXcyqozk19D/CfQhblHli/MV7VtVVwAABSHLRkL1rz3x3Z6j9jdo2YrjoK+bPEKXK3T+crDnvXNN944ptFFFFFFFFFFKfuiu5+G+nLfaugcZG6vrLSNKt9Ps41jjAOBzWiCGyKUcdKingiuISs6gr7188/F3T7C1ZzbBc+1eGjlqPWkooooooooope1dr8PdZj0nVEeQgANX1ToXimw1a2QiZFbA6mtkTWw6Sp/31Uc1/ZW8bSPcRgD/arzvxd8S7W0geG3cbvUGvn7xT4nm1edt7kgmuR70lFFFFFFFFFFFSRyvEwKHBrodL8V6hYY2TsAPeuhX4laiI9vnt+dZd/wCO9UuQQLl8H/arnLnVrm5YmVy341SdyxyabRRRRRRRRRRRRRRS0lFFFFFFFFFFFFFFFFFFFFFFFFFFFFFFFFFFFFFFFFFFFFFFFFFFFFFFFFFFFFFFFFFFFFFFFFFFFFFFFFFFFFFFFFFFFFFFFFFFFFFFFf/Z' style='display:block;' /></div></div></div><div class='step-header'>Step: deblur <span id='arrow-1' class='toggle-arrow' onclick='toggleMetadata(1)'>►</span></div><div id='metadata-1' class='metadata' style='display:block;'><div class='image-container'><div><p onclick='toggleImage(\"image-1-0\")' style='cursor:pointer;'>Image: 20230310043058_467_0000.bmp <span id='arrow-image-1-0' class='toggle-arrow'>►</span></p><img id='image-1-0' src='data:image/png;base64,/9j/4AAQSkZJRgABAQAAAQABAAD/2wBDAAgGBgcGBQgHBwcJCQgKDBQNDAsLDBkSEw8UHRofHh0aHBwgJC4nICIsIxwcKDcpLDAxNDQ0Hyc5PTgyPC4zNDL/wAALCACWAJYBAREA/8QAHwAAAQUBAQEBAQEAAAAAAAAAAAECAwQFBgcICQoL/8QAtRAAAgEDAwIEAwUFBAQAAAF9AQIDAAQRBRIhMUEGE1FhByJxFDKBkaEII0KxwRVS0fAkM2JyggkKFhcYGRolJicoKSo0NTY3ODk6Q0RFRkdISUpTVFVWV1hZWmNkZWZnaGlqc3R1dnd4eXqDhIWGh4iJipKTlJWWl5iZmqKjpKWmp6ipqrKztLW2t7i5usLDxMXGx8jJytLT1NXW19jZ2uHi4+Tl5ufo6erx8vP09fb3+Pn6/9oACAEBAAA/APn+iiiiiiiiiiiiiiiiiiiiiiiiiiiiiiiiiiiiiiiiiiiiiiiiiiiiiiiiiiiiiiiiiiiiiiiiiiiiiiiiiiiiiiiiiiiiiiiiiiiiiiiiiiiiiiiiiiiiiiiiiiiiiiiiiiiiiiiiiiiiiiiiiiiiiiiiiiiiiiiiiiiiiiiiiiiiiiiiiiiiiiiiiiiiiiiiiiiiiiiiiiiiiiiiiiiiiiiiiiiiiiiiiiiiiiiiiiiiiiiiiiiiiiiiiiiiiiiiiiiiiiiiiiiiiiiiiiiiiiiiiiiiiiiiiiiiiiiiiiiiiiiiiiiiiiiiiiiiiiiiiiiiiiiiiiiiiiiiiiiiiiiiiiiiiiiiiiiiiiiiv//Z' style='display:block;' /></div><div><p onclick='toggleImage(\"image-1-1\")' style='cursor:pointer;'>Image: 20230310042137_288_0000.bmp <span id='arrow-image-1-1' class='toggle-arrow'>►</span></p><img id='image-1-1' src='data:image/png;base64,/9j/4AAQSkZJRgABAQAAAQABAAD/2wBDAAgGBgcGBQgHBwcJCQgKDBQNDAsLDBkSEw8UHRofHh0aHBwgJC4nICIsIxwcKDcpLDAxNDQ0Hyc5PTgyPC4zNDL/wAALCACWAJYBAREA/8QAHwAAAQUBAQEBAQEAAAAAAAAAAAECAwQFBgcICQoL/8QAtRAAAgEDAwIEAwUFBAQAAAF9AQIDAAQRBRIhMUEGE1FhByJxFDKBkaEII0KxwRVS0fAkM2JyggkKFhcYGRolJicoKSo0NTY3ODk6Q0RFRkdISUpTVFVWV1hZWmNkZWZnaGlqc3R1dnd4eXqDhIWGh4iJipKTlJWWl5iZmqKjpKWmp6ipqrKztLW2t7i5usLDxMXGx8jJytLT1NXW19jZ2uHi4+Tl5ufo6erx8vP09fb3+Pn6/9oACAEBAAA/APn+iiiiiiiiiiiiiiiiiiiiiiiiiiiiiiiiiiiiiiiiiiiiiiiiiiiiiiiiiiiiiiiiiiiiiiiiiiiiiiiiiiiiiiiiiiiiiiiiiiiiiiiiiiiiiiiiiiiiiiiiiiiiiiiiiiiiiiiiiiiiiiiiiiiiiiiiiiiiiiiiiiiiiiiiiiiiiiiiiiiiiiiiiiiiiiiiiiiiiiiiiiiiiiiiiiiiiiiiiiiiiiiiiiiiiiiiiiiiiiiiiiiiiiiiiiiiiiiiiiiiiiiiiiiiiiiiiiiiiiiiiiiiiiiiiiiiiiiiiiiiiiiiiiiiiiiiiiiiiiiiiiiiiiiiiiiiiiiiiiiiiiiiiiiiiiiiiiiiiiiiv//Z' style='display:block;' /></div><div><p onclick='toggleImage(\"image-1-2\")' style='cursor:pointer;'>Image: 20230310041826_848_0001.bmp <span id='arrow-image-1-2' class='toggle-arrow'>►</span></p><img id='image-1-2' src='data:image/png;base64,/9j/4AAQSkZJRgABAQAAAQABAAD/2wBDAAgGBgcGBQgHBwcJCQgKDBQNDAsLDBkSEw8UHRofHh0aHBwgJC4nICIsIxwcKDcpLDAxNDQ0Hyc5PTgyPC4zNDL/wAALCACWAJYBAREA/8QAHwAAAQUBAQEBAQEAAAAAAAAAAAECAwQFBgcICQoL/8QAtRAAAgEDAwIEAwUFBAQAAAF9AQIDAAQRBRIhMUEGE1FhByJxFDKBkaEII0KxwRVS0fAkM2JyggkKFhcYGRolJicoKSo0NTY3ODk6Q0RFRkdISUpTVFVWV1hZWmNkZWZnaGlqc3R1dnd4eXqDhIWGh4iJipKTlJWWl5iZmqKjpKWmp6ipqrKztLW2t7i5usLDxMXGx8jJytLT1NXW19jZ2uHi4+Tl5ufo6erx8vP09fb3+Pn6/9oACAEBAAA/APn+iiiiiiiiiiiiiiiiiiiiiiiiiiiiiiiiiiiiiiiiiiiiiiiiiiiiiiiiiiiiiiiiiiiiiiiiiiiiiiiiiiiiiiiiiiiiiiiiiiiiiiiiiiiiiiiiiiiiiiiiiiiiiiiiiiiiiiiiiiiiiiiiiiiiiiiiiiiiiiiiiiiiiiiiiiiiiiiiiiiiiiiiiiiiiiiiiiiiiiiiiiiiiiiiiiiiiiiiiiiiiiiiiiiiiiiiiiiiiiiiiiiiiiiiiiiiiiiiiiiiiiiiiiiiiiiiiiiiiiiiiiiiiiiiiiiiiiiiiiiiiiiiiiiiiiiiiiiiiiiiiiiiiiiiiiiiiiiiiiiiiiiiiiiiiiiiiiiiiiiiv//Z' style='display:block;' /></div><div><p onclick='toggleImage(\"image-1-3\")' style='cursor:pointer;'>Image: 20230310041804_949_0000.bmp <span id='arrow-image-1-3' class='toggle-arrow'>►</span></p><img id='image-1-3' src='data:image/png;base64,/9j/4AAQSkZJRgABAQAAAQABAAD/2wBDAAgGBgcGBQgHBwcJCQgKDBQNDAsLDBkSEw8UHRofHh0aHBwgJC4nICIsIxwcKDcpLDAxNDQ0Hyc5PTgyPC4zNDL/wAALCACWAJYBAREA/8QAHwAAAQUBAQEBAQEAAAAAAAAAAAECAwQFBgcICQoL/8QAtRAAAgEDAwIEAwUFBAQAAAF9AQIDAAQRBRIhMUEGE1FhByJxFDKBkaEII0KxwRVS0fAkM2JyggkKFhcYGRolJicoKSo0NTY3ODk6Q0RFRkdISUpTVFVWV1hZWmNkZWZnaGlqc3R1dnd4eXqDhIWGh4iJipKTlJWWl5iZmqKjpKWmp6ipqrKztLW2t7i5usLDxMXGx8jJytLT1NXW19jZ2uHi4+Tl5ufo6erx8vP09fb3+Pn6/9oACAEBAAA/APn+iiiiiiiiiiiiiiiiiiiiiiiiiiiiiiiiiiiiiiiiiiiiiiiiiiiiiiiiiiiiiiiiiiiiiiiiiiiiiiiiiiiiiiiiiiiiiiiiiiiiiiiiiiiiiiiiiiiiiiiiiiiiiiiiiiiiiiiiiiiiiiiiiiiiiiiiiiiiiiiiiiiiiiiiiiiiiiiiiiiiiiiiiiiiiiiiiiiiiiiiiiiiiiiiiiiiiiiiiiiiiiiiiiiiiiiiiiiiiiiiiiiiiiiiiiiiiiiiiiiiiiiiiiiiiiiiiiiiiiiiiiiiiiiiiiiiiiiiiiiiiiiiiiiiiiiiiiiiiiiiiiiiiiiiiiiiiiiiiiiiiiiiiiiiiiiiiiiiiiiiv//Z' style='display:block;' /></div><div><p onclick='toggleImage(\"image-1-4\")' style='cursor:pointer;'>Image: 20230310041903_594_0000.bmp <span id='arrow-image-1-4' class='toggle-arrow'>►</span></p><img id='image-1-4' src='data:image/png;base64,/9j/4AAQSkZJRgABAQAAAQABAAD/2wBDAAgGBgcGBQgHBwcJCQgKDBQNDAsLDBkSEw8UHRofHh0aHBwgJC4nICIsIxwcKDcpLDAxNDQ0Hyc5PTgyPC4zNDL/wAALCACWAJYBAREA/8QAHwAAAQUBAQEBAQEAAAAAAAAAAAECAwQFBgcICQoL/8QAtRAAAgEDAwIEAwUFBAQAAAF9AQIDAAQRBRIhMUEGE1FhByJxFDKBkaEII0KxwRVS0fAkM2JyggkKFhcYGRolJicoKSo0NTY3ODk6Q0RFRkdISUpTVFVWV1hZWmNkZWZnaGlqc3R1dnd4eXqDhIWGh4iJipKTlJWWl5iZmqKjpKWmp6ipqrKztLW2t7i5usLDxMXGx8jJytLT1NXW19jZ2uHi4+Tl5ufo6erx8vP09fb3+Pn6/9oACAEBAAA/APn+iiiiiiiiiiiiiiiiiiiiiiiiiiiiiiiiiiiiiiiiiiiiiiiiiiiiiiiiiiiiiiiiiiiiiiiiiiiiiiiiiiiiiiiiiiiiiiiiiiiiiiiiiiiiiiiiiiiiiiiiiiiiiiiiiiiiiiiiiiiiiiiiiiiiiiiiiiiiiiiiiiiiiiiiiiiiiiiiiiiiiiiiiiiiiiiiiiiiiiiiiiiiiiiiiiiiiiiiiiiiiiiiiiiiiiiiiiiiiiiiiiiiiiiiiiiiiiiiiiiiiiiiiiiiiiiiiiiiiiiiiiiiiiiiiiiiiiiiiiiiiiiiiiiiiiiiiiiiiiiiiiiiiiiiiiiiiiiiiiiiiiiiiiiiiiiiiiiiiiiiv//Z' style='display:block;' /></div><div><p onclick='toggleImage(\"image-1-5\")' style='cursor:pointer;'>Image: 20230310042417_732_0000.bmp <span id='arrow-image-1-5' class='toggle-arrow'>►</span></p><img id='image-1-5' src='data:image/png;base64,/9j/4AAQSkZJRgABAQAAAQABAAD/2wBDAAgGBgcGBQgHBwcJCQgKDBQNDAsLDBkSEw8UHRofHh0aHBwgJC4nICIsIxwcKDcpLDAxNDQ0Hyc5PTgyPC4zNDL/wAALCACWAJYBAREA/8QAHwAAAQUBAQEBAQEAAAAAAAAAAAECAwQFBgcICQoL/8QAtRAAAgEDAwIEAwUFBAQAAAF9AQIDAAQRBRIhMUEGE1FhByJxFDKBkaEII0KxwRVS0fAkM2JyggkKFhcYGRolJicoKSo0NTY3ODk6Q0RFRkdISUpTVFVWV1hZWmNkZWZnaGlqc3R1dnd4eXqDhIWGh4iJipKTlJWWl5iZmqKjpKWmp6ipqrKztLW2t7i5usLDxMXGx8jJytLT1NXW19jZ2uHi4+Tl5ufo6erx8vP09fb3+Pn6/9oACAEBAAA/APn+iiiiiiiiiiiiiiiiiiiiiiiiiiiiiiiiiiiiiiiiiiiiiiiiiiiiiiiiiiiiiiiiiiiiiiiiiiiiiiiiiiiiiiiiiiiiiiiiiiiiiiiiiiiiiiiiiiiiiiiiiiiiiiiiiiiiiiiiiiiiiiiiiiiiiiiiiiiiiiilpKKKKKKKKKKKKKKKKKKKKKKKKKKKKKKKKKKKKKKKKKKKKKKKKKKKKKKKKKKKKKKKKKKKKKKKKKKKKKKKKKKKKKKKKKKKKKKKKKKKKKKKKKKKKKKKKKKKKKKKKKKKKKKKKKKKKKKKKKKKKKKKKKKKKKKKKKKKKKKKKKKKKKKKKKKKKKKKKKKKKKKKKKKKKKKKKKKKKKKKK//Z' style='display:block;' /></div><div><p onclick='toggleImage(\"image-1-6\")' style='cursor:pointer;'>Image: 20230310041755_849_0000.bmp <span id='arrow-image-1-6' class='toggle-arrow'>►</span></p><img id='image-1-6' src='data:image/png;base64,/9j/4AAQSkZJRgABAQAAAQABAAD/2wBDAAgGBgcGBQgHBwcJCQgKDBQNDAsLDBkSEw8UHRofHh0aHBwgJC4nICIsIxwcKDcpLDAxNDQ0Hyc5PTgyPC4zNDL/wAALCACWAJYBAREA/8QAHwAAAQUBAQEBAQEAAAAAAAAAAAECAwQFBgcICQoL/8QAtRAAAgEDAwIEAwUFBAQAAAF9AQIDAAQRBRIhMUEGE1FhByJxFDKBkaEII0KxwRVS0fAkM2JyggkKFhcYGRolJicoKSo0NTY3ODk6Q0RFRkdISUpTVFVWV1hZWmNkZWZnaGlqc3R1dnd4eXqDhIWGh4iJipKTlJWWl5iZmqKjpKWmp6ipqrKztLW2t7i5usLDxMXGx8jJytLT1NXW19jZ2uHi4+Tl5ufo6erx8vP09fb3+Pn6/9oACAEBAAA/APn+iiiiiiiiiiiiiiiiiiiiiiiiiiiiiiiiiiiiiiiiiiiiiiiiiiiiiiiiiiiiiiiiiiiiiiiiiiiiiiiiiiiiiiiiiiiiiiiiiiiiiiiiiiiiiiiiiiiiiiiiiiiiiiiiiiiiiiiiiiiiiiiiiiiiiiiiiiiiiiiiiiiiiiiiiiiiiiiiiiiiiiiiiiiiiiiiiiiiiiiiiiiiiiiiiiiiiiiiiiiiiiiiiiiiiiiiiiiiiiiiiiiiiiiiiiiiiiiiiiiiiiiiiiiiiiiiiiiiiiiiiiiiiiiiiiiiiiiiiiiiiiiiiiiiiiiiiiiiiiiiiiiiiiiiiiiiiiiiiiiiiiiiiiiiiiiiiiiiiiiiv//Z' style='display:block;' /></div><div><p onclick='toggleImage(\"image-1-7\")' style='cursor:pointer;'>Image: 20230310041822_395_0002.bmp <span id='arrow-image-1-7' class='toggle-arrow'>►</span></p><img id='image-1-7' src='data:image/png;base64,/9j/4AAQSkZJRgABAQAAAQABAAD/2wBDAAgGBgcGBQgHBwcJCQgKDBQNDAsLDBkSEw8UHRofHh0aHBwgJC4nICIsIxwcKDcpLDAxNDQ0Hyc5PTgyPC4zNDL/wAALCACWAJYBAREA/8QAHwAAAQUBAQEBAQEAAAAAAAAAAAECAwQFBgcICQoL/8QAtRAAAgEDAwIEAwUFBAQAAAF9AQIDAAQRBRIhMUEGE1FhByJxFDKBkaEII0KxwRVS0fAkM2JyggkKFhcYGRolJicoKSo0NTY3ODk6Q0RFRkdISUpTVFVWV1hZWmNkZWZnaGlqc3R1dnd4eXqDhIWGh4iJipKTlJWWl5iZmqKjpKWmp6ipqrKztLW2t7i5usLDxMXGx8jJytLT1NXW19jZ2uHi4+Tl5ufo6erx8vP09fb3+Pn6/9oACAEBAAA/APn+iiiiiiiiiiiiiiiiiiiiiiiiiiiiiiiiiiiiiiiiiiiiiiiiiiiiiiiiiiiiiiiiiiiiiiiiiiiiiiiiiiiiiiiiiiiiiiiiiiiiiiiiiiiiiiiiiiiiiiiiiiiiiiiiiiiiiiiiiiiiiiiiiiiiiiiiiiiiiiiiiiiiiiiiiiiiiiiiiiiiiiiiiiiiiiiiiiiiiiiiiiiiiiiiiiiiiiiiiiiiiiiiiiiiiiiiiiiiiiiiiiiiiiiiiiiiiiiiiiiiiiiiiiiiiiiiiiiiiiiiiiiiiiiiiiiiiiiiiiiiiiiiiiiiiiiiiiiiiiiiiiiiiiiiiiiiiiiiiiiiiiiiiiiiiiiiiiiiiiiiv//Z' style='display:block;' /></div><div><p onclick='toggleImage(\"image-1-8\")' style='cursor:pointer;'>Image: 20230310041805_048_0002.bmp <span id='arrow-image-1-8' class='toggle-arrow'>►</span></p><img id='image-1-8' src='data:image/png;base64,/9j/4AAQSkZJRgABAQAAAQABAAD/2wBDAAgGBgcGBQgHBwcJCQgKDBQNDAsLDBkSEw8UHRofHh0aHBwgJC4nICIsIxwcKDcpLDAxNDQ0Hyc5PTgyPC4zNDL/wAALCACWAJYBAREA/8QAHwAAAQUBAQEBAQEAAAAAAAAAAAECAwQFBgcICQoL/8QAtRAAAgEDAwIEAwUFBAQAAAF9AQIDAAQRBRIhMUEGE1FhByJxFDKBkaEII0KxwRVS0fAkM2JyggkKFhcYGRolJicoKSo0NTY3ODk6Q0RFRkdISUpTVFVWV1hZWmNkZWZnaGlqc3R1dnd4eXqDhIWGh4iJipKTlJWWl5iZmqKjpKWmp6ipqrKztLW2t7i5usLDxMXGx8jJytLT1NXW19jZ2uHi4+Tl5ufo6erx8vP09fb3+Pn6/9oACAEBAAA/APn+iiiiiiiiiiiiiiiiiiiiiiiiiiiiiiiiiiiiiiiiiiiiiiiiiiiiiiiiiiiiiiiiiiiiiiiiiiiiiiiiiiiiiiiiiiiiiiiiiiiiiiiiiiiiiiiiiiiiiiiiiiiiiiiiiiiiiiiiiiiiiiiiiiiiiiiiiiiiiiiiiiiiiiiiiiiiiiiiiiiiiiiiiiiiiiiiiiiiiiiiiiiiiiiiiiiiiiiiiiiiiiiiiiiiiiiiiiiiiiiiiiiiiiiiiiiiiiiiiiiiiiiiiiiiiiiiiiiiiiiiiiiiiiiiiiiiiiiiiiiiiiiiiiiiiiiiiiiiiiiiiiiiiiiiiiiiiiiiiiiiiiiiiiiiiiiiiiiiiiiiv//Z' style='display:block;' /></div><div><p onclick='toggleImage(\"image-1-9\")' style='cursor:pointer;'>Image: 20230310041825_944_0001.bmp <span id='arrow-image-1-9' class='toggle-arrow'>►</span></p><img id='image-1-9' src='data:image/png;base64,/9j/4AAQSkZJRgABAQAAAQABAAD/2wBDAAgGBgcGBQgHBwcJCQgKDBQNDAsLDBkSEw8UHRofHh0aHBwgJC4nICIsIxwcKDcpLDAxNDQ0Hyc5PTgyPC4zNDL/wAALCACWAJYBAREA/8QAHwAAAQUBAQEBAQEAAAAAAAAAAAECAwQFBgcICQoL/8QAtRAAAgEDAwIEAwUFBAQAAAF9AQIDAAQRBRIhMUEGE1FhByJxFDKBkaEII0KxwRVS0fAkM2JyggkKFhcYGRolJicoKSo0NTY3ODk6Q0RFRkdISUpTVFVWV1hZWmNkZWZnaGlqc3R1dnd4eXqDhIWGh4iJipKTlJWWl5iZmqKjpKWmp6ipqrKztLW2t7i5usLDxMXGx8jJytLT1NXW19jZ2uHi4+Tl5ufo6erx8vP09fb3+Pn6/9oACAEBAAA/APn+iiiiiiiiiiiiiiiiiiiiiiiiiiiiiiiiiiiiiiiiiiiiiiiiiiiiiiiiiiiiiiiiiiiiiiiiiiiiiiiiiiiiiiiiiiiiiiiiiiiiiiiiiiiiiiiiiiiiiiiiiiiiiiiiiiiiiiiiiiiiiiiiiiiiiiiiiiiiiiiiiiiiiiiiiiiiiiiiiiiiiiiiiiiiiiiiiiiiiiiiiiiiiiiiiiiiiiiiiiiiiiiiiiiiiiiiiiiiiiiiiiiiiiiiiiiiiiiiiiiiiiiiiiiiiiiiiiiiiiiiiiiiiiiiiiiiiiiiiiiiiiiiiiiiiiiiiiiiiiiiiiiiiiiiiiiiiiiiiiiiiiiiiiiiiiiiiiiiiiiiv//Z' style='display:block;' /></div><div><p onclick='toggleImage(\"image-1-10\")' style='cursor:pointer;'>Image: 20230310043326_011_0000.bmp <span id='arrow-image-1-10' class='toggle-arrow'>►</span></p><img id='image-1-10' src='data:image/png;base64,/9j/4AAQSkZJRgABAQAAAQABAAD/2wBDAAgGBgcGBQgHBwcJCQgKDBQNDAsLDBkSEw8UHRofHh0aHBwgJC4nICIsIxwcKDcpLDAxNDQ0Hyc5PTgyPC4zNDL/wAALCACWAJYBAREA/8QAHwAAAQUBAQEBAQEAAAAAAAAAAAECAwQFBgcICQoL/8QAtRAAAgEDAwIEAwUFBAQAAAF9AQIDAAQRBRIhMUEGE1FhByJxFDKBkaEII0KxwRVS0fAkM2JyggkKFhcYGRolJicoKSo0NTY3ODk6Q0RFRkdISUpTVFVWV1hZWmNkZWZnaGlqc3R1dnd4eXqDhIWGh4iJipKTlJWWl5iZmqKjpKWmp6ipqrKztLW2t7i5usLDxMXGx8jJytLT1NXW19jZ2uHi4+Tl5ufo6erx8vP09fb3+Pn6/9oACAEBAAA/APn+iiiiiiiiiiiiiiiiiiiiiiiiiiiiiiiiiiiiiiiiiiiiiiiiiiiiiiiiiiiiiiiiiiiiiiiiiiiiiiiiiiiiiiiiiiiiiiiiiiiiiiiiiiiiiiiiiiiiiiiiiiiiiiiiiiiiiiiiiiiiiiiiiiiiiiiiiiiiiiiiiiiiiiiiiiiiiiiiiiiiiiiiiiiiiiiiiiiiiiiiiiiiiiiiiiiiiiiiiiiiiiiiiiiiiiiiiiiiiiiiiiiiiiiiiiiiiiiiiiiiiiiiiiiiiiiiiiiiiiiiiiiiiiiiiiiiiiiiiiiiiiiiiiiiiiiiiiiiiiiiiiiiiiiiiiiiiiiiiiiiiiiiiiiiiiiiiiiiiiiiv//Z' style='display:block;' /></div><div><p onclick='toggleImage(\"image-1-11\")' style='cursor:pointer;'>Image: 20230310042612_428_0000.bmp <span id='arrow-image-1-11' class='toggle-arrow'>►</span></p><img id='image-1-11' src='data:image/png;base64,/9j/4AAQSkZJRgABAQAAAQABAAD/2wBDAAgGBgcGBQgHBwcJCQgKDBQNDAsLDBkSEw8UHRofHh0aHBwgJC4nICIsIxwcKDcpLDAxNDQ0Hyc5PTgyPC4zNDL/wAALCACWAJYBAREA/8QAHwAAAQUBAQEBAQEAAAAAAAAAAAECAwQFBgcICQoL/8QAtRAAAgEDAwIEAwUFBAQAAAF9AQIDAAQRBRIhMUEGE1FhByJxFDKBkaEII0KxwRVS0fAkM2JyggkKFhcYGRolJicoKSo0NTY3ODk6Q0RFRkdISUpTVFVWV1hZWmNkZWZnaGlqc3R1dnd4eXqDhIWGh4iJipKTlJWWl5iZmqKjpKWmp6ipqrKztLW2t7i5usLDxMXGx8jJytLT1NXW19jZ2uHi4+Tl5ufo6erx8vP09fb3+Pn6/9oACAEBAAA/APn+iiiiiiiiiiiiiiiiiiiiiiiiiiiiiiiiiiiiiiiiiiiiiiiiiiiiiiiiiiiiiiiiiiiiiiiiiiiiiiiiiiiiiiiiiiiiiiiiiiiiiiiiiiiiiiiiiiiiiiiiiiiiiiiiiiiiiiiiiiiiiiiiiiiiiiiiiiiiiiiiiiiiiiiiiiiiiiiiiiiiiiiiiiiiiiiiiiiiiiiiiiiiiiiiiiiiiiiiiiiiiiiiiiiiiiiiiiiiiiiiiiiiiiiiiiiiiiiiiiiiiiiiiiiiiiiiiiiiiiiiiiiiiiiiiiiiiiiiiiiiiiiiiiiiiiiiiiiiiiiiiiiiiiiiiiiiiiiiiiiiiiiiiiiiiiiiiiiiiiiiv//Z' style='display:block;' /></div></div></div>"
      ],
      "text/plain": [
       "Step: raw\n",
       "Image: <paidiverpy.image_layer.ImageLayer object at 0x74e1b5f27880>\n",
       "Image: <paidiverpy.image_layer.ImageLayer object at 0x74e1b5f278b0>\n",
       "Image: <paidiverpy.image_layer.ImageLayer object at 0x74e1b5f277f0>\n",
       "Image: <paidiverpy.image_layer.ImageLayer object at 0x74e1b5f27c10>\n",
       "Image: <paidiverpy.image_layer.ImageLayer object at 0x74e1b5f27c70>\n",
       "Image: <paidiverpy.image_layer.ImageLayer object at 0x74e1b5f275e0>\n",
       "Image: <paidiverpy.image_layer.ImageLayer object at 0x74e1b5f27cd0>\n",
       "Image: <paidiverpy.image_layer.ImageLayer object at 0x74e1b5f27d30>\n",
       "Image: <paidiverpy.image_layer.ImageLayer object at 0x74e1b5f27d90>\n",
       "Image: <paidiverpy.image_layer.ImageLayer object at 0x74e1b5f27df0>\n",
       "Image: <paidiverpy.image_layer.ImageLayer object at 0x74e1b5f27e50>\n",
       "Image: <paidiverpy.image_layer.ImageLayer object at 0x74e1b5f27eb0>\n",
       "Image: <paidiverpy.image_layer.ImageLayer object at 0x74e1b5f27f10>\n",
       "Image: <paidiverpy.image_layer.ImageLayer object at 0x74e1b5f274c0>\n",
       "Image: <paidiverpy.image_layer.ImageLayer object at 0x74e1b5f27fd0>\n",
       "Image: <paidiverpy.image_layer.ImageLayer object at 0x74e1b5f27f70>\n",
       "Image: <paidiverpy.image_layer.ImageLayer object at 0x74e1b5f5c070>\n",
       "Image: <paidiverpy.image_layer.ImageLayer object at 0x74e1b5f5c0a0>\n",
       "Image: <paidiverpy.image_layer.ImageLayer object at 0x74e1b5f5c190>\n",
       "Image: <paidiverpy.image_layer.ImageLayer object at 0x74e1b5f5c1f0>\n",
       "Image: <paidiverpy.image_layer.ImageLayer object at 0x74e1b5f5c250>\n",
       "Image: <paidiverpy.image_layer.ImageLayer object at 0x74e1b5f5c2b0>\n",
       "Image: <paidiverpy.image_layer.ImageLayer object at 0x74e1b5f5c310>\n",
       "Image: <paidiverpy.image_layer.ImageLayer object at 0x74e1b5f5c370>\n",
       "Image: <paidiverpy.image_layer.ImageLayer object at 0x74e1b5f5c3d0>\n",
       "Image: <paidiverpy.image_layer.ImageLayer object at 0x74e1b5f5c430>\n",
       "Image: <paidiverpy.image_layer.ImageLayer object at 0x74e1b5f5c490>\n",
       "Image: <paidiverpy.image_layer.ImageLayer object at 0x74e1b5f5c4f0>\n",
       "Image: <paidiverpy.image_layer.ImageLayer object at 0x74e1b5f5c550>\n",
       "Image: <paidiverpy.image_layer.ImageLayer object at 0x74e1b5f5c5b0>\n",
       "Image: <paidiverpy.image_layer.ImageLayer object at 0x74e1b5f5c610>\n",
       "Image: <paidiverpy.image_layer.ImageLayer object at 0x74e1b5f5c670>\n",
       "Image: <paidiverpy.image_layer.ImageLayer object at 0x74e1b5f5c6d0>\n",
       "Image: <paidiverpy.image_layer.ImageLayer object at 0x74e1b5f5c730>\n",
       "Image: <paidiverpy.image_layer.ImageLayer object at 0x74e1b5f5c790>\n",
       "Image: <paidiverpy.image_layer.ImageLayer object at 0x74e1b5f5c7f0>\n",
       "Image: <paidiverpy.image_layer.ImageLayer object at 0x74e1b5f5c850>\n",
       "Image: <paidiverpy.image_layer.ImageLayer object at 0x74e1b5f5c8b0>\n",
       "Image: <paidiverpy.image_layer.ImageLayer object at 0x74e1b5f5c910>\n",
       "Image: <paidiverpy.image_layer.ImageLayer object at 0x74e1b5f5c970>\n",
       "Image: <paidiverpy.image_layer.ImageLayer object at 0x74e1b5f5c9d0>\n",
       "Image: <paidiverpy.image_layer.ImageLayer object at 0x74e1b5f5ca30>\n",
       "Image: <paidiverpy.image_layer.ImageLayer object at 0x74e1b5f5ca90>\n",
       "Image: <paidiverpy.image_layer.ImageLayer object at 0x74e1b5f5caf0>\n",
       "Image: <paidiverpy.image_layer.ImageLayer object at 0x74e1b5f5cb50>\n",
       "Image: <paidiverpy.image_layer.ImageLayer object at 0x74e1b5f5cbb0>\n",
       "Image: <paidiverpy.image_layer.ImageLayer object at 0x74e1b5f5cc10>\n",
       "Image: <paidiverpy.image_layer.ImageLayer object at 0x74e1b5f5cc70>\n",
       "Image: <paidiverpy.image_layer.ImageLayer object at 0x74e1b5f5ccd0>\n",
       "Image: <paidiverpy.image_layer.ImageLayer object at 0x74e1b5f5cd30>\n",
       "Image: <paidiverpy.image_layer.ImageLayer object at 0x74e1b5f5cd90>\n",
       "Image: <paidiverpy.image_layer.ImageLayer object at 0x74e1b5f5cdf0>\n",
       "Step: deblur\n",
       "Image: <paidiverpy.image_layer.ImageLayer object at 0x74e1b1329750>\n",
       "Image: <paidiverpy.image_layer.ImageLayer object at 0x74e1b049ecb0>\n",
       "Image: <paidiverpy.image_layer.ImageLayer object at 0x74e1b049f040>\n",
       "Image: <paidiverpy.image_layer.ImageLayer object at 0x74e1b049f070>\n",
       "Image: <paidiverpy.image_layer.ImageLayer object at 0x74e1b049ebf0>\n",
       "Image: <paidiverpy.image_layer.ImageLayer object at 0x74e1b049f0d0>\n",
       "Image: <paidiverpy.image_layer.ImageLayer object at 0x74e1b049f160>\n",
       "Image: <paidiverpy.image_layer.ImageLayer object at 0x74e1b049f1c0>\n",
       "Image: <paidiverpy.image_layer.ImageLayer object at 0x74e1b049f250>\n",
       "Image: <paidiverpy.image_layer.ImageLayer object at 0x74e1b049f310>\n",
       "Image: <paidiverpy.image_layer.ImageLayer object at 0x74e1b049f2b0>\n",
       "Image: <paidiverpy.image_layer.ImageLayer object at 0x74e1b049f220>\n",
       "Image: <paidiverpy.image_layer.ImageLayer object at 0x74e1b049f3a0>\n",
       "Image: <paidiverpy.image_layer.ImageLayer object at 0x74e1b049f400>\n",
       "Image: <paidiverpy.image_layer.ImageLayer object at 0x74e1b049f460>\n",
       "Image: <paidiverpy.image_layer.ImageLayer object at 0x74e1b049f4c0>\n",
       "Image: <paidiverpy.image_layer.ImageLayer object at 0x74e1b049ebc0>\n",
       "Image: <paidiverpy.image_layer.ImageLayer object at 0x74e1b049f610>\n",
       "Image: <paidiverpy.image_layer.ImageLayer object at 0x74e1b049f520>\n",
       "Image: <paidiverpy.image_layer.ImageLayer object at 0x74e1b049f280>\n",
       "Image: <paidiverpy.image_layer.ImageLayer object at 0x74e1b049f5e0>\n",
       "Image: <paidiverpy.image_layer.ImageLayer object at 0x74e1b049f6d0>\n",
       "Image: <paidiverpy.image_layer.ImageLayer object at 0x74e1b049f760>\n",
       "Image: <paidiverpy.image_layer.ImageLayer object at 0x74e1b049f7c0>\n",
       "Image: <paidiverpy.image_layer.ImageLayer object at 0x74e1b049f820>\n",
       "Image: <paidiverpy.image_layer.ImageLayer object at 0x74e1b049f8b0>\n",
       "Image: <paidiverpy.image_layer.ImageLayer object at 0x74e1b049f970>\n",
       "Image: <paidiverpy.image_layer.ImageLayer object at 0x74e1b049f910>\n",
       "Image: <paidiverpy.image_layer.ImageLayer object at 0x74e1b049f880>\n",
       "Image: <paidiverpy.image_layer.ImageLayer object at 0x74e1b049fa00>\n",
       "Image: <paidiverpy.image_layer.ImageLayer object at 0x74e1b049fa60>\n",
       "Image: <paidiverpy.image_layer.ImageLayer object at 0x74e1b049fac0>\n",
       "Image: <paidiverpy.image_layer.ImageLayer object at 0x74e1b049fb20>\n",
       "Image: <paidiverpy.image_layer.ImageLayer object at 0x74e1b049fc40>\n",
       "Image: <paidiverpy.image_layer.ImageLayer object at 0x74e1b049fc10>\n",
       "Image: <paidiverpy.image_layer.ImageLayer object at 0x74e1b049f8e0>\n",
       "Image: <paidiverpy.image_layer.ImageLayer object at 0x74e1b049fbb0>\n",
       "Image: <paidiverpy.image_layer.ImageLayer object at 0x74e1b049fcd0>\n",
       "Image: <paidiverpy.image_layer.ImageLayer object at 0x74e1b049fd60>\n",
       "Image: <paidiverpy.image_layer.ImageLayer object at 0x74e1b049fdc0>\n",
       "Image: <paidiverpy.image_layer.ImageLayer object at 0x74e1b049fe20>\n",
       "Image: <paidiverpy.image_layer.ImageLayer object at 0x74e1b049fbe0>\n",
       "Image: <paidiverpy.image_layer.ImageLayer object at 0x74e1b049ff70>\n",
       "Image: <paidiverpy.image_layer.ImageLayer object at 0x74e1b049fe80>\n",
       "Image: <paidiverpy.image_layer.ImageLayer object at 0x74e1b049ec80>\n",
       "Image: <paidiverpy.image_layer.ImageLayer object at 0x74e1b049feb0>\n",
       "Image: <paidiverpy.image_layer.ImageLayer object at 0x74e1b049e740>\n",
       "Image: <paidiverpy.image_layer.ImageLayer object at 0x74e1b049e500>\n",
       "Image: <paidiverpy.image_layer.ImageLayer object at 0x74e1b049e4a0>\n",
       "Image: <paidiverpy.image_layer.ImageLayer object at 0x74e1b049e410>\n",
       "Image: <paidiverpy.image_layer.ImageLayer object at 0x74e1b049e350>\n",
       "Image: <paidiverpy.image_layer.ImageLayer object at 0x74e1b049e3b0>"
      ]
     },
     "execution_count": 8,
=======
       "        <div class='step-header'>Step: raw <span id='arrow-0' class='toggle-arrow' onclick='toggleMetadata(0)'>►</span></div><div id='metadata-0' class='metadata' style='display:block;'><div class='image-container'><div><p onclick='toggleImage(\"image-0-0\")' style='cursor:pointer;'>Image: 20230310043208_264_0000.bmp <span id='arrow-image-0-0' class='toggle-arrow'>►</span></p><img id='image-0-0' src='data:image/png;base64,/9j/4AAQSkZJRgABAQAAAQABAAD/2wBDAAgGBgcGBQgHBwcJCQgKDBQNDAsLDBkSEw8UHRofHh0aHBwgJC4nICIsIxwcKDcpLDAxNDQ0Hyc5PTgyPC4zNDL/wAALCACWAJYBAREA/8QAHwAAAQUBAQEBAQEAAAAAAAAAAAECAwQFBgcICQoL/8QAtRAAAgEDAwIEAwUFBAQAAAF9AQIDAAQRBRIhMUEGE1FhByJxFDKBkaEII0KxwRVS0fAkM2JyggkKFhcYGRolJicoKSo0NTY3ODk6Q0RFRkdISUpTVFVWV1hZWmNkZWZnaGlqc3R1dnd4eXqDhIWGh4iJipKTlJWWl5iZmqKjpKWmp6ipqrKztLW2t7i5usLDxMXGx8jJytLT1NXW19jZ2uHi4+Tl5ufo6erx8vP09fb3+Pn6/9oACAEBAAA/APn+iiiiiiiiiiiiiiiiiiiiiiiiiiiiiiiiiiiiiiiiiiiiiiiiiiiiiiiiiiiiiiiiiiiiiiiiiiiiiiiiiiiiiiiiiiiiiiiiiiiiiiiiiiiiiiiiiiiiiiiiiijFL07UfhSUUUUUUUUUUUUUUUVaSwnkAKoTn2rtfCvw3v8AWvneFtv0rQ134T6paRNJFC21RnpXnF3ZTWc7RSqQy+tV6KKKKKKKKKKKKKtWESy3aKw4Jr6P8BeBdL1PTkllUEgZr1XTNHtNIhEdvGAOmcVbmijuImikQFWGORXzT8Z/C0Wi3IuYlAEhzxXjuOBSUUUUUUUUUUUUtbejeHdU1G5iNpA7DI5Ar618B6JJpegQebkSleRXWDnoaCD1z0r52+O2uw37paxsC0fBxXhmeBSUUUUUUUUUUUV6D8MfA3/CVawFuVKwjnJr6Z8O+D9P8NxhYo1Y4wCRXRgjb8uMelcVr/jFdAuCJCME965PW/jFFbWL+SVLMpFfPWv61NrGoy3EjEhiTWRRRRRRRRRRRRThyy/WvqT4QLpdroSSmREm29zivRB4g0trgxG6jyPU0y/8RaXYWjym6iJA4Aavmb4keL/7Xv5I4X+UE4INecSXEzrh2JFQUUUUUUUUUUUUUVvab4ov7CHyopmVcdAaV/FOqPKXFy4P+9Ve48R6rOCr3Tkemay5JXkbLkk+tMooooooooooooooooooooooooooooooooooooooooooooooooooooooooooooooooooooooooooooooooooooooooooooooooooooooooooooooooooooooooor/9k=' style='display:block;' /></div><div><p onclick='toggleImage(\"image-0-1\")' style='cursor:pointer;'>Image: 20230310041821_695_0004.bmp <span id='arrow-image-0-1' class='toggle-arrow'>►</span></p><img id='image-0-1' src='data:image/png;base64,/9j/4AAQSkZJRgABAQAAAQABAAD/2wBDAAgGBgcGBQgHBwcJCQgKDBQNDAsLDBkSEw8UHRofHh0aHBwgJC4nICIsIxwcKDcpLDAxNDQ0Hyc5PTgyPC4zNDL/wAALCACWAJYBAREA/8QAHwAAAQUBAQEBAQEAAAAAAAAAAAECAwQFBgcICQoL/8QAtRAAAgEDAwIEAwUFBAQAAAF9AQIDAAQRBRIhMUEGE1FhByJxFDKBkaEII0KxwRVS0fAkM2JyggkKFhcYGRolJicoKSo0NTY3ODk6Q0RFRkdISUpTVFVWV1hZWmNkZWZnaGlqc3R1dnd4eXqDhIWGh4iJipKTlJWWl5iZmqKjpKWmp6ipqrKztLW2t7i5usLDxMXGx8jJytLT1NXW19jZ2uHi4+Tl5ufo6erx8vP09fb3+Pn6/9oACAEBAAA/APn+iiiiiiiiiiiiiiiiiiiiiigdaU9aSiiiiiiiiiiiiiiiigdaU9aSiiiiiiiiiiiiiiiiiiiiiiiiiiiiiiiiiiiig0UUUUUUUUUUUUUUUUUUUUUUUUUUUUUUUUUUUUUUUUu0kUu0gdKTacdKTFFFFFFFFFFFFFFFSKmasRQMxwBVsabPLHlUJ/CnjR7rAzGfyqpNYvFncCMVSddpptFFFFFFFFFFFKKnthuYA12ug6ML1lULkmvY/Dvw8iktFeSIflWvqfgG0itDIsS/KPSvGPGGjJbSMETFec3kexsVVooooooooooopRVi1OHFepeCJUWeMn1r6Q0OVH09Ag4xWhPEs8LRnoRXhvxE0yOGSTHXmvCtWULMw96y6KKKKKKKKKKKKlgfa1d74NuSk6gnvX0p4PulbT1jY8muiuJ1t4yx9K8P+Id6JXmfPTNeD6rJ5k5I7ms+iiiiiiiiiiiilBwRXQ6HqItpkJOMGvcPCXi+NAgMg4HrXU3/AIyt5LR8yjOPWvE/Gmvi4lZEfIavN7mTe9QUUUUUUUUUUUUUU9JGQ5Bra03WprQcMfzq/ceI55ExvPPvWBeXr3D5Yk1SPJooooooooooooooopcn1pdx9abRRRRRRRRRRRRRRRRRRRRRRRRRRRRRRRRRRRRRRRRRRRRRRRRRRRRRRRRRRRRRRRRRRRRRRRRRRRRRRRRRRRRRRRRRRRRRRRRRRRRRRX//2Q==' style='display:block;' /></div><div><p onclick='toggleImage(\"image-0-2\")' style='cursor:pointer;'>Image: 20230310042334_634_0000.bmp <span id='arrow-image-0-2' class='toggle-arrow'>►</span></p><img id='image-0-2' src='data:image/png;base64,/9j/4AAQSkZJRgABAQAAAQABAAD/2wBDAAgGBgcGBQgHBwcJCQgKDBQNDAsLDBkSEw8UHRofHh0aHBwgJC4nICIsIxwcKDcpLDAxNDQ0Hyc5PTgyPC4zNDL/wAALCACWAJYBAREA/8QAHwAAAQUBAQEBAQEAAAAAAAAAAAECAwQFBgcICQoL/8QAtRAAAgEDAwIEAwUFBAQAAAF9AQIDAAQRBRIhMUEGE1FhByJxFDKBkaEII0KxwRVS0fAkM2JyggkKFhcYGRolJicoKSo0NTY3ODk6Q0RFRkdISUpTVFVWV1hZWmNkZWZnaGlqc3R1dnd4eXqDhIWGh4iJipKTlJWWl5iZmqKjpKWmp6ipqrKztLW2t7i5usLDxMXGx8jJytLT1NXW19jZ2uHi4+Tl5ufo6erx8vP09fb3+Pn6/9oACAEBAAA/APn+iiiiiiiiiiiiiiiiiiiiiiiiiiiiiiiiiiiiiiiiiiiiiiiiiiiiiiiiiiiiiiiiiiiiiiiiiiiiiiiiiiiiiiiiiiiiiiiiiiiiiiiiiiiiiiiiiiiiiiiinIhkcKvU1Zn0+e3QO68EZqpjNBBBwaKKKKKKKKKKKKKKK0bPTZ5CJlxhea2PNF0BDIg6Yrd0jRNOkX95GN2MVleIPC7QTtPEoMR5AFc1JZsRuACgCqZGDiiiiiiiiiiiiinRjdIo967Pw5pVxcyqA48skcV2t54PicR/Zoxv71uWvgsw2SyA4fHrVa50K5DMJ4y0Q46e1ee+JfCtyszS25CxAZxXIT2pRvL4DDqapng0UUUUUUUUUUVc0ywfU75LZGCs3QmvWNA8IXujqpabdnnrXoFiBCgjkwWbvWq2i3ccSXImDRt2zW40dg2klpmQOexryzxTpr3KvLA6iLB4rxTWT5d0Vj5YE5IFZFFFFFFFFFFFFWLKWWG6R4G2uDwa9X8NeI7sKkN0xct0Oa7CWRmlQq/JHr0rq4zc6bpgluJi6N0Gelcvrn2yWE3cEx8vOdoNcNqHiC6msXtAGVuRnNcJGv2KaR7td28kjNYs7q8zMowCajooooooooooqW2bZOpNdnoWtw/ao4iBn612+oXRtVilWTcT2z0rRfxJcXdgsTFiuO9Zd7rbaZZb5XLR7SdufWuB1HxbDdXG+KErg1jX+rLeJt2YNZVFFFFFFFFFFFFWLKbybpH9/Wurn1ndEm6TOB0q9B4tgitxER9azNZ1RdQtshzjHQmuRooooooooooooooopS7EcsfzpKXc2MZOPSkoooooooooooooooooooooooooooooooooooooooooooooooooooooooooooooooooooooooooooooooooooooooooooooooooooooor//2Q==' style='display:block;' /></div><div><p onclick='toggleImage(\"image-0-3\")' style='cursor:pointer;'>Image: 20230310041822_395_0002.bmp <span id='arrow-image-0-3' class='toggle-arrow'>►</span></p><img id='image-0-3' src='data:image/png;base64,/9j/4AAQSkZJRgABAQAAAQABAAD/2wBDAAgGBgcGBQgHBwcJCQgKDBQNDAsLDBkSEw8UHRofHh0aHBwgJC4nICIsIxwcKDcpLDAxNDQ0Hyc5PTgyPC4zNDL/wAALCACWAJYBAREA/8QAHwAAAQUBAQEBAQEAAAAAAAAAAAECAwQFBgcICQoL/8QAtRAAAgEDAwIEAwUFBAQAAAF9AQIDAAQRBRIhMUEGE1FhByJxFDKBkaEII0KxwRVS0fAkM2JyggkKFhcYGRolJicoKSo0NTY3ODk6Q0RFRkdISUpTVFVWV1hZWmNkZWZnaGlqc3R1dnd4eXqDhIWGh4iJipKTlJWWl5iZmqKjpKWmp6ipqrKztLW2t7i5usLDxMXGx8jJytLT1NXW19jZ2uHi4+Tl5ufo6erx8vP09fb3+Pn6/9oACAEBAAA/APn+iiiiiiiiiiiiiiiiiiiiiiiiiiiiiiiiiiiiiiiiiiiiiiiiiiiiiiiiiiiiiiiiiiiiiiiiiiiiiiiiiiiiiiiiiiiiiiiiiiiiiiiiiiiiiiiiiiiiiiiiiilx7UY9qSiiiiiiiiiiiiiiinpG0jBUBJ9BVxNH1ByMW7/lTJ9MvbfmSBwPXFVCMHBpKKKKKKKKKKKKKKcil2CgZJOK9b8A/C+8u5ra/uYiYHIPI7V9Ax+CtERFX7IuQMZxWR4l+H+l32mslvbKsnbAr5n8Z+EbjQNUaAoRnkcVyLAqxU9RSUUUUUVOsQMDOeoqCiiiiiu/+GnhFvEWuw7lzAGGTivrXTrKLTrGGzhACRrgYFT7G/vVHNdwWynzpFBA715H8Rray1rfdoFLKMV856tAIL11HqaoUUUUUU8yHbtHSmUUUUVJFGZZUjHVjivrL4P+GYdG8MJMygzSnOfQV3GpatbaXFvlcZ9M1yl78TLGzJzGCo715R4r+Jr3+oM1vIQmegNc5L4xeWMh3O0j1rhdTnF1dNIOhNUKKKKKKKKKKKKt6eyreRu3RTmvTV+Kt5ptnHBA5AQY4qhcfEDU9fmjh8xiWOOtd9NolrB4Hee/cC5ZcjPWvA71tt24RsjJquZXK43GkJ4FNooooooooooopQSpyKcXJ+9zWlouoJY38UzKMIc10vizx5LrUMcEDFY1XBArhiSxJPU0lFFFFFFFFFFFFFFFFLgetJRRRRRRRRRRRRRRRRRRRRRRRRRRRRRRRRRRRRS9KSiiiiiiiiiiiiiiiilCk9q0IdKmeLzih2D2qnOoVsCoqKKKKKKKKKKKKKKAMnFdh4K8Lz6/qMcQjJTPXFfQMHwptl0wW5Cglea+dvHWipoXiCazQ5CMRXL0UUUUUUUUUUUUUU5fvD619N/BPS4P7NNyVBcD0r1i7uDFaSuo5VSRXxn8QLt7vxdeO553GuWooooooor/2Q==' style='display:block;' /></div><div><p onclick='toggleImage(\"image-0-4\")' style='cursor:pointer;'>Image: 20230310041829_544_0001.bmp <span id='arrow-image-0-4' class='toggle-arrow'>►</span></p><img id='image-0-4' src='data:image/png;base64,/9j/4AAQSkZJRgABAQAAAQABAAD/2wBDAAgGBgcGBQgHBwcJCQgKDBQNDAsLDBkSEw8UHRofHh0aHBwgJC4nICIsIxwcKDcpLDAxNDQ0Hyc5PTgyPC4zNDL/wAALCACWAJYBAREA/8QAHwAAAQUBAQEBAQEAAAAAAAAAAAECAwQFBgcICQoL/8QAtRAAAgEDAwIEAwUFBAQAAAF9AQIDAAQRBRIhMUEGE1FhByJxFDKBkaEII0KxwRVS0fAkM2JyggkKFhcYGRolJicoKSo0NTY3ODk6Q0RFRkdISUpTVFVWV1hZWmNkZWZnaGlqc3R1dnd4eXqDhIWGh4iJipKTlJWWl5iZmqKjpKWmp6ipqrKztLW2t7i5usLDxMXGx8jJytLT1NXW19jZ2uHi4+Tl5ufo6erx8vP09fb3+Pn6/9oACAEBAAA/APn+iiiiiiiiiiiiiiiiiiiiiiiiiiiiiiiiiiiiiiiiiiiiiiiiiiiiiiiiiiiiiiiiiiiiiiiiiiiiiiiiiiiiiiiiiiiiiiiiiiiiiiiiiiiiiiiiiiiiiiiiilAJ6CgKfpQVxSUUUUUUUUUUUUUUVJFE8rBUQsfQV3nhf4X614kAMUTQL6uMV3Fv8ANQA/f3MZ+hqjq3wF1W2heeCZHVedoPNeYa1oNxoszRXMLKw9axSKSiiiiiiiiiiinA7SCK9D+HFnp91q8Mlzt3Bhw3SvrCzS3S0jW3EYGwf6vFTjOP4qRmVFLSNhR13dK8k+J03hK7gcTtGbrHBT1r5s1GJIrtvK5iz8tUqKKKKKKKKKKKUHBq3aajPaSBonKEdxXfaB8VtZ0gKFlaUD+8a7OH4/XpTD20e76VieIvjVqurWjWqoIVbunFeW3eozzys8k7yFv7xqkZGPU5plFFFFFFFFFFFFFOUsOlW7WzurtwsMMhY+1a0vg3Xo7f7RJaOI8ZzWDNA0LFXBBHWoqKKKKKKKKKKKKKXtXpfwv8D6T4muRJqN6IivIQnrX0tp3hHQrC2iih063O0ff2jJqxqeladNp0kNzHHFBjlumK+VvifpejaZqzLpNysyk84PSvP+MCkoooooooooooooq9p2q3mmzLJbTMhB7Gu/sPjFrdtbiJ7hzgYBzVDWfinrupwtD9rcRt1Ga4ae4kuJC8jFmPUk1FRRRRRRRRRRRRRRRRRRRRRRRRRRRRRRRRRRRRRRRRRRRRRRRRRRRRRRRRRRRRRRRRRRRRRRRRRRRRRRRRRRRRRRRRRRRRRRRRRRRRRRRRRRRRRRRRRRRRRRRRX//Z' style='display:block;' /></div><div><p onclick='toggleImage(\"image-0-5\")' style='cursor:pointer;'>Image: 20230310041903_494_0000.bmp <span id='arrow-image-0-5' class='toggle-arrow'>►</span></p><img id='image-0-5' src='data:image/png;base64,/9j/4AAQSkZJRgABAQAAAQABAAD/2wBDAAgGBgcGBQgHBwcJCQgKDBQNDAsLDBkSEw8UHRofHh0aHBwgJC4nICIsIxwcKDcpLDAxNDQ0Hyc5PTgyPC4zNDL/wAALCACWAJYBAREA/8QAHwAAAQUBAQEBAQEAAAAAAAAAAAECAwQFBgcICQoL/8QAtRAAAgEDAwIEAwUFBAQAAAF9AQIDAAQRBRIhMUEGE1FhByJxFDKBkaEII0KxwRVS0fAkM2JyggkKFhcYGRolJicoKSo0NTY3ODk6Q0RFRkdISUpTVFVWV1hZWmNkZWZnaGlqc3R1dnd4eXqDhIWGh4iJipKTlJWWl5iZmqKjpKWmp6ipqrKztLW2t7i5usLDxMXGx8jJytLT1NXW19jZ2uHi4+Tl5ufo6erx8vP09fb3+Pn6/9oACAEBAAA/APn+iiiiiiiiiiiiiiiiiiiiiiiiiiiiiiiiiiiiiiiiiiiiiiiiiiiiiiiiiiiiiiiiiiiiilBwc0h5NFFFFFFFFFFFFFFFFFFFFFFFFFFFFFFFFFFKoyaQ9aKKKKKKKKKKKKKkiheZtqDNWo9KupJljEZyxwOKXUtHv9IkVL22eLcMqWH3hVCiiiiiiiiiiiiiinqu47cc+td74L8KTalhkQvk4Jx0rrb7w3/YeqQfaVA2sDjHUV13xN0/SvEngCG5gEf22AAqVHOB2r5plt5YSfMQqc4qKiiiiiiiiiiiiinI5VgfevfvhJqtva2hdlVsc4rtdU8MT+L7w6hnZCVwlcxrWhXei2MsdySIo1yPQ1454gls7i2Z4sCTPIrlSMGkooooooooooooortfA2t/Yb6KJnwrHBFfXWimM6PaGLGwxgjFZnjbSl1XwzdxY/eKpZT3r461e0eG8lhwQVYgg1mzW8kOC4OD0NRUUUUUUUUUUUUUVPbSmB1kU4YHNezeAvjBdWCQ6desGiDAAnsK9bl8c6fcfuWkXbIuRXzl8S1itfFDvbFSr/NxXLPqKTWwjkX5l6Gs9tpJIptFFFFFFFFFFFFFPicxyBgcEGum/tW8Fgl2sx+Q7etYeo6jJqMgeUksO5qlRRRRRRRRRRRRRRRRVuG8aO2e3PKNz+NVKKKKKKKKKKKKKKKKKKKKKKKKKKKKKKKKKKKKKKKKKKKKKKKKKKAcUUUUUUUUUUUUUUUUUUUUUUUUUUUUUUUUUUUUUUUUUUUUUUUUUUUUUU+NN7YpZFC8Co6KKKKKKKKKKKKKKKK//9k=' style='display:block;' /></div><div><p onclick='toggleImage(\"image-0-6\")' style='cursor:pointer;'>Image: 20230310043332_861_0002.bmp <span id='arrow-image-0-6' class='toggle-arrow'>►</span></p><img id='image-0-6' src='data:image/png;base64,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' style='display:block;' /></div><div><p onclick='toggleImage(\"image-0-7\")' style='cursor:pointer;'>Image: 20230310041821_795_0005.bmp <span id='arrow-image-0-7' class='toggle-arrow'>►</span></p><img id='image-0-7' src='data:image/png;base64,/9j/4AAQSkZJRgABAQAAAQABAAD/2wBDAAgGBgcGBQgHBwcJCQgKDBQNDAsLDBkSEw8UHRofHh0aHBwgJC4nICIsIxwcKDcpLDAxNDQ0Hyc5PTgyPC4zNDL/wAALCACWAJYBAREA/8QAHwAAAQUBAQEBAQEAAAAAAAAAAAECAwQFBgcICQoL/8QAtRAAAgEDAwIEAwUFBAQAAAF9AQIDAAQRBRIhMUEGE1FhByJxFDKBkaEII0KxwRVS0fAkM2JyggkKFhcYGRolJicoKSo0NTY3ODk6Q0RFRkdISUpTVFVWV1hZWmNkZWZnaGlqc3R1dnd4eXqDhIWGh4iJipKTlJWWl5iZmqKjpKWmp6ipqrKztLW2t7i5usLDxMXGx8jJytLT1NXW19jZ2uHi4+Tl5ufo6erx8vP09fb3+Pn6/9oACAEBAAA/APn+iiiiiirdlbmZuK7DRtAkmwwFdlZ6LLHHyvAFQ3fhn7ZG7ZGcV51rehy2RkbHANc7RRRRRRRRRRRRTlXJroNCtfmDEd69Y8M2CiMFh1rrXgHkiONc+9ZF/atawls4J7VwWvbJraRXHNeaXkIhmIHSq9FFFFFFFFFFFTR42jNdPocgypHavVdAl3RKegFdNb6hFbo+8jp8tY97dtcoxYcV594hdfOKA4U15/qYCzYByKoUUUUUUUUUUUUvJwK3NKuPJxzXo/hzV4xAUkYAGumzHcRqxcADp71n6pemJNoxXBa7cq4JB+tcTcyb5TUFFFFFFFFFFFFGcVZgm2rjNaltqjxFQGwK6GDxZIIlj38LTb3xK08W7dzXL3uoGVSM9ayyc0UUUUUUUUUUUUUoJFLvb1pRKwPWnNM23ANRE5oooooooooooooooopyozHgU4wSAZ28UwgjrSUUUUUUUUUUUUUVJHH5nA61rafokt6wCKTXcaN8NLu8XzPLOPpVvUPAL2kRUx9vSuD1TQZbIsGQ1gOhRsGm0UUUUUUUUUUUVqaVaG4lXA717R4L8NJsSZ1BA6167Z3Fpa2QiiiAYjHSq0+nxXULs6jOM15h4q0i2S1mZ0G4ZxXhuqoEvGAHGaoUUUUUUUUUUUUq4zzXTeG2WOZcjPNe/wDgtlktgCOK9CigtPs/CjdisS9uvskjLnivN/F92JInQd68Q1sKLkgdc1k0UUUUUUUUUUUV0fh+4RXG4d69q8Jaoscaoveu9t9YEELZ+Y44rBu7iW8lZiprgvFMi28Thm+Y147qcvm3THPeqVFFFFFFFFFFFFXbK48gZ967vw34lWAqGOMV6Hpnia3CmWVwRjpmotS8dWkMLvGByK8n8QeI3v2kYNnJ4rkmYsxJ6mkoooooooooooooqaO5eLG04q/Hrdwibd5x9ail1OV1Kscg1QZixJJpKKKKKKKKKKKKKKKKKKKKKKKKKKKKKKKKKKKKKKKKKKKKKKKKKKKKKKKKKKKKKKKKKKKKKKKKKKKKKKKKKKKKKKKKKKKKKKKKKKKKKKKKKKKKKKKKKKKKKKKKK//Z' style='display:block;' /></div><div><p onclick='toggleImage(\"image-0-8\")' style='cursor:pointer;'>Image: 20230310041757_499_0001.bmp <span id='arrow-image-0-8' class='toggle-arrow'>►</span></p><img id='image-0-8' src='data:image/png;base64,/9j/4AAQSkZJRgABAQAAAQABAAD/2wBDAAgGBgcGBQgHBwcJCQgKDBQNDAsLDBkSEw8UHRofHh0aHBwgJC4nICIsIxwcKDcpLDAxNDQ0Hyc5PTgyPC4zNDL/wAALCACWAJYBAREA/8QAHwAAAQUBAQEBAQEAAAAAAAAAAAECAwQFBgcICQoL/8QAtRAAAgEDAwIEAwUFBAQAAAF9AQIDAAQRBRIhMUEGE1FhByJxFDKBkaEII0KxwRVS0fAkM2JyggkKFhcYGRolJicoKSo0NTY3ODk6Q0RFRkdISUpTVFVWV1hZWmNkZWZnaGlqc3R1dnd4eXqDhIWGh4iJipKTlJWWl5iZmqKjpKWmp6ipqrKztLW2t7i5usLDxMXGx8jJytLT1NXW19jZ2uHi4+Tl5ufo6erx8vP09fb3+Pn6/9oACAEBAAA/APn+iiiiiiiiiiiiiiiiiiiiiiiiiiiiiiiiiiiiiiiiiiiiiiiiiiiiiiiiiiiiiiiiiiiiiiiiiiiiiiiiiiiiiiiiiiiiiiiiiiiiiiiiiiiiiiiiiiiiiiiiiiij8KKKKKKKKKKKKKKKKKngtJbhgEUnNbcfhi4liB2EH6VHN4buIVyymsm5tHt2wQar0UUUUUUUUUUUUVcsLJ7qZVAyK9Q8J+HYUZWnjGPcV6Tpvh22uZAqRjH0p3iXwdDDaArGMn2ryHxLoC2q7mXFef3aBJMCq1FFFFFFFFFFFFdn4VtBIyNjNe36DpEctqpxg4rstBtoLaUhj0p2s3CTkofujpXjfj0psKrXjt8g3k1n0UUUUUUUUUUU6Nd7gV3XhK4SGZEavcNAuFMS4bgit8wSRjzVYgGsTWdSWOPhua8l8Yams4Iz0rzS8l3vxVSiiiiiiiiiiilVipyK2NKvjDKGzzXpGi+K2hCKX6V3U3jiEaaF8wbsetcFrXiky7ir159qeqNcO2WzWGxyc0lFFFFFFFFFFFFOjco2RV2LUpIyME1dm1eYxD5zj61Wkv2ePk1nOxZiTTaKKKKKKKKKKKKKKKduZhjrS7HI6HFMxiiiiiiiiiiiiiiiitPT9JkvSoVSc13Wl+AHuIQTGc/SotX8Ez2URIiOPpXB3enz2shDoQKp0UUUUUUUUUUUUVbsLc3E4XFep+ENISF1eVRivTtLvbaGUIEGB7VrXkFpq0O0IoI9q8m8d+HreCJzGoBHpXjc8flTMvoaiooooooooooooroPDyIZ0zjOa9ks4Fj05HQc47Vt6KLYnMrDNadzqVvagiBhmvMvGmrNKjZPWvI7xg8xI9arUUUUUUUUUUUUVo6PceTeIScDNe3eGdQtru0EUkg6etabQxRysUlGPrWLf3SWhdmlz+Neb+IdaF07KD3rkGO5iaSiiiiiiiiiiiilVipyDzW1pWt3VrIArn867ePWrh7UMWOcVzmr6vO4YFjXJySM7kk9aZRRRRRRX//Z' style='display:block;' /></div><div><p onclick='toggleImage(\"image-0-9\")' style='cursor:pointer;'>Image: 20230310042918_520_0000.bmp <span id='arrow-image-0-9' class='toggle-arrow'>►</span></p><img id='image-0-9' src='data:image/png;base64,/9j/4AAQSkZJRgABAQAAAQABAAD/2wBDAAgGBgcGBQgHBwcJCQgKDBQNDAsLDBkSEw8UHRofHh0aHBwgJC4nICIsIxwcKDcpLDAxNDQ0Hyc5PTgyPC4zNDL/wAALCACWAJYBAREA/8QAHwAAAQUBAQEBAQEAAAAAAAAAAAECAwQFBgcICQoL/8QAtRAAAgEDAwIEAwUFBAQAAAF9AQIDAAQRBRIhMUEGE1FhByJxFDKBkaEII0KxwRVS0fAkM2JyggkKFhcYGRolJicoKSo0NTY3ODk6Q0RFRkdISUpTVFVWV1hZWmNkZWZnaGlqc3R1dnd4eXqDhIWGh4iJipKTlJWWl5iZmqKjpKWmp6ipqrKztLW2t7i5usLDxMXGx8jJytLT1NXW19jZ2uHi4+Tl5ufo6erx8vP09fb3+Pn6/9oACAEBAAA/APn+iiiiiiiiiiiiiiiiiiiiiiiiiiiiiiiiiiiiiiiiiiiiiiiiiiiiiiiiiiiiiiiiiiiiiiiiiiiiiiiiiiiiiiiiiiiiiiiiiiiiiiiiiiiiiiiiiiiiiiiiintE6xq5HDdKuR6ez2+dvznpzTTpd0NvyH5unFTNolzFH5kgAX0qh5ZLNjgA96joooooooooooopyozdAT9BXZQaFDf6RCC4Ryfl9zXYWfgaUaEJGQicfdXHUVeuNDtrfSIpLlRHOnIUjrXJ6lFJMhnZSm3gR461ylxGbhJPOi+z7emRjdWMUYDO049cU2iiiiiiiiiipI49xBYfLXY+GNDj1Nd0QzFn5ia73TdDsJZooFYg25BHuRXq1tZtPpYuwoHkrgA96468Njf3+/UwUCH5AOlYusW+nyXgK42joB3rjPE+kPeWjzyKI0jGU29686MzGLy+NoqKiiiiiiiiiirtpEJht3BQPXvXfeEb2MsthbYQtwTXp1pYwXEkENuAs8ZzI3rXaajIY9MSC3lC7QA49axNRu9EXTfJu41Fy4wrH1rzS406RNXKNOGUjKjNcr4u1C9td1s24RngZrgqKKKKKKKKKKKlUyFVCjAHet2zuZdOuYZ7fnGMkV7BoviC0FhHMkn+lyLjHfNdPbzrJbmTUZfLlK5VSetcbqJj1nVEjvJvJiib92c/erldWuXsvEyyNMSirx71y3ibXzrU7I6BRGflPrXN0UUUUUUUUUUU9ZGUYGMVoWV2zzxwj7rHBNd9p1vBZ+S4cmQEbcdjXT6nqDXaRrcTDzQvy47CvPtR15zdPazP88f3CPWub1DU7q5k/fMS46Gs53Zzljk02iiiiiiiiiiiirVvdCGMqF+Y9G9K3otT/sy0RzJ5rv79KqX2tXQICzsxYZznpWK0rvL5jsS+c5NEkhkbcetMooooooooooooooozRRRRRRRRRRRRRRRRRRRRRRRRRRRRRRRRRRRRRRRRRRRRRRRRRRRRRRRRRRRRRRRRRRRRRRRRRRRRRRRRRRRRRRRRRRRRRRRRRRUkiBVUjPNR0UUUUV//2Q==' style='display:block;' /></div><div><p onclick='toggleImage(\"image-0-10\")' style='cursor:pointer;'>Image: 20230310042226_235_0000.bmp <span id='arrow-image-0-10' class='toggle-arrow'>►</span></p><img id='image-0-10' src='data:image/png;base64,/9j/4AAQSkZJRgABAQAAAQABAAD/2wBDAAgGBgcGBQgHBwcJCQgKDBQNDAsLDBkSEw8UHRofHh0aHBwgJC4nICIsIxwcKDcpLDAxNDQ0Hyc5PTgyPC4zNDL/wAALCACWAJYBAREA/8QAHwAAAQUBAQEBAQEAAAAAAAAAAAECAwQFBgcICQoL/8QAtRAAAgEDAwIEAwUFBAQAAAF9AQIDAAQRBRIhMUEGE1FhByJxFDKBkaEII0KxwRVS0fAkM2JyggkKFhcYGRolJicoKSo0NTY3ODk6Q0RFRkdISUpTVFVWV1hZWmNkZWZnaGlqc3R1dnd4eXqDhIWGh4iJipKTlJWWl5iZmqKjpKWmp6ipqrKztLW2t7i5usLDxMXGx8jJytLT1NXW19jZ2uHi4+Tl5ufo6erx8vP09fb3+Pn6/9oACAEBAAA/APn+iiiiiiiiiiiiiiiiiiiiiiiiiiiiiiiiiiiiiiiiiiiiiiiiiiiiiiiiiiiiiiiiiiiiiiiiiiiiiiiiiiiiiiiiiiiiiiiiiiiiiiiiiiiiiiiiiiiiiiiiiil/Cjr0FJRRRRRRRRRRRRRRRT0jkkOFUn8Kv2Oj3F5MI1U5JxWvqnhS50qJGaM/MM9K5uaKSNvmUioqKKKKKKKKKKKKKkhhaeVY0GSxwK9s8H/DM3OjrcTxHeR3FdZ4d+HsVt4gUSR/uxzyK7jVPA1hqahXVQFGBxXh/wAR/BlvpnmLAo3D0rx10KOVPUHBptFFFFFFFFFFFPjjMjYFdJ4KsFu/E1pE4yPMGa+zbOzgtraKKJAFCj+VOnhVEMkagOO9QLqaGNv7yjmvIvFEMmqalPJJygzXgviOx+x6rNgYVm4rHoooooooooooqSKTy2zXR+Db4W3iO3lY4+cV9l6XdJd6bBMrA5QVNdzLDauxPauJtbl5ZZ1Q5JziuT1aSW2S5Ei4JzXhvi24Wa9GOoPNc3RRRRRRRRRRRRU9nObe6jkBxtOa+j/Afj2P+xkill5UY5NbWs+MY5ISiSdR61V8HaxDPq/7xxt75qh8RNcsIppY4mXPtXzrqtx9o1CVs8Z4qlRRRRRRRRRRRRRWppurz2XyqxArVPiqZ25Y/nVvS/GUlhMXDkE1na3rc+pyPMzk59650kk5PU0lFFFFFFFFFFFFFLRijGaXewXbnim0UUUUUUUUUUUUUUUUUUUUUUUUUUUUUUUUUUUUUUUUUUUUUUUUUUUUUUUUUUUUUUUUUUUUUUUUUUUUUUUUUUUUUUUUUUUUUUUUUUUUV//Z' style='display:block;' /></div><div><p onclick='toggleImage(\"image-0-11\")' style='cursor:pointer;'>Image: 20230310041822_845_0000.bmp <span id='arrow-image-0-11' class='toggle-arrow'>►</span></p><img id='image-0-11' src='data:image/png;base64,/9j/4AAQSkZJRgABAQAAAQABAAD/2wBDAAgGBgcGBQgHBwcJCQgKDBQNDAsLDBkSEw8UHRofHh0aHBwgJC4nICIsIxwcKDcpLDAxNDQ0Hyc5PTgyPC4zNDL/wAALCACWAJYBAREA/8QAHwAAAQUBAQEBAQEAAAAAAAAAAAECAwQFBgcICQoL/8QAtRAAAgEDAwIEAwUFBAQAAAF9AQIDAAQRBRIhMUEGE1FhByJxFDKBkaEII0KxwRVS0fAkM2JyggkKFhcYGRolJicoKSo0NTY3ODk6Q0RFRkdISUpTVFVWV1hZWmNkZWZnaGlqc3R1dnd4eXqDhIWGh4iJipKTlJWWl5iZmqKjpKWmp6ipqrKztLW2t7i5usLDxMXGx8jJytLT1NXW19jZ2uHi4+Tl5ufo6erx8vP09fb3+Pn6/9oACAEBAAA/APn+iiiiiiiiiiiiiiiiiiiiiiiiiiiiiiiiiiiiiiiiiiiiiiiiiiiiiiiiiiiiiiiiiiiiiiiiiiiiiiiiiiiiiiiiiiiiiiiiiiiiiiiiiiiiiiiiiiiiiiiilVS7BVGSe1Xo9JuZFyF59Kd/Yd/3gYfhSSaJqEa7jbvt9cVRaN0JDKQR6im0UUUUUUUUUUUUAZOK6Lw9pn2i4VmXH+0a7n7Hb25XCBm/vCtS38sYaQo4HYCtIwx31qyRxqox6Vyd94YgZXxDuc55Fee6vpT6dMQTkE9PSsyiiiiiiiiiiiprUxidTIMrXeeG5YzcJ8uYv7tdZd2/nOqwJ5cfcmnpp4t03qd47mrEUF3JC0sDfIo5FVTqLMGTb5ZXrnvXnHiyZZJjs9ea5eiiiiiiiiiiilXr1xWxoV9cR38caNwTXs2khrmJIZBvc9q9A0rwms1iVkg2Bh1NMu/CZ06zkNs4bI+6K8e8Q3E9rO8b25U5POK841YyNKWLEg9qy6KKKKKKKKKKKACelbfh21km1FFVcNng167ZXTaf5aOux/8Anp6V3WleJ7mG28trkXKnuD0pt74qu0DLDbmQHqa5nUHhvoma4gDOfavHPFlsYbo7I9i56VzFFFFFFFFFFFFOjfY4bGa6zwrfRi+Q7BuzXe3cd1qMiow2RHvQRdaOoS0YyA9auWuuX3lbChDHtQ0su1pbiXyj1CnvXnXjDVBcSGPywMfxetcbRRRRRRRRRRRRVmxuntLlZUbGK6/T/GkiTL50uYx1FbVz45spNqxYT1NTReK9NSPzjcjzAMgVzet+N2v3KpHkA8GuWvb57wgsaqUUUUUUUUUUUUUUUUUUUUUUUUUUUUUUUUUUUUUUUUUUUUUUUUUUUUUUUUUUUUUUUUUUUUUUUUUUUUUUUUUUUUUUUUUUUUUUUUUUUUUUUUUUUUUUUUUUUUUUUV//2Q==' style='display:block;' /></div></div></div><div class='step-header'>Step: edge_detection <span id='arrow-1' class='toggle-arrow' onclick='toggleMetadata(1)'>►</span></div><div id='metadata-1' class='metadata' style='display:block;'><div class='image-container'><div><p onclick='toggleImage(\"image-1-0\")' style='cursor:pointer;'>Image: 20230310043208_264_0000.bmp <span id='arrow-image-1-0' class='toggle-arrow'>►</span></p><img id='image-1-0' src='data:image/png;base64,/9j/4AAQSkZJRgABAQAAAQABAAD/2wBDAAgGBgcGBQgHBwcJCQgKDBQNDAsLDBkSEw8UHRofHh0aHBwgJC4nICIsIxwcKDcpLDAxNDQ0Hyc5PTgyPC4zNDL/2wBDAQkJCQwLDBgNDRgyIRwhMjIyMjIyMjIyMjIyMjIyMjIyMjIyMjIyMjIyMjIyMjIyMjIyMjIyMjIyMjIyMjIyMjL/wAARCACWAJYDASIAAhEBAxEB/8QAHwAAAQUBAQEBAQEAAAAAAAAAAAECAwQFBgcICQoL/8QAtRAAAgEDAwIEAwUFBAQAAAF9AQIDAAQRBRIhMUEGE1FhByJxFDKBkaEII0KxwRVS0fAkM2JyggkKFhcYGRolJicoKSo0NTY3ODk6Q0RFRkdISUpTVFVWV1hZWmNkZWZnaGlqc3R1dnd4eXqDhIWGh4iJipKTlJWWl5iZmqKjpKWmp6ipqrKztLW2t7i5usLDxMXGx8jJytLT1NXW19jZ2uHi4+Tl5ufo6erx8vP09fb3+Pn6/8QAHwEAAwEBAQEBAQEBAQAAAAAAAAECAwQFBgcICQoL/8QAtREAAgECBAQDBAcFBAQAAQJ3AAECAxEEBSExBhJBUQdhcRMiMoEIFEKRobHBCSMzUvAVYnLRChYkNOEl8RcYGRomJygpKjU2Nzg5OkNERUZHSElKU1RVVldYWVpjZGVmZ2hpanN0dXZ3eHl6goOEhYaHiImKkpOUlZaXmJmaoqOkpaanqKmqsrO0tba3uLm6wsPExcbHyMnK0tPU1dbX2Nna4uPk5ebn6Onq8vP09fb3+Pn6/9oADAMBAAIRAxEAPwD5/ooooAKKKKACiiigAooooAKKKKACiiigAooooAKKKKACiiigAooooAKKKKACiiigAooooAKKKKACiiigAooooAKKKKACiiigAooooAKKKKACiiigAooooAKKKKACiiigAooooAKKKKACiiigAooooAKKKKACiiigAooooAKKKKACiiigAooooAKKKKACitPSfD+p63L5djaySn1Aq1qnhDXNIQvd2EqIOrbeKAMKiiigAooooAKKKKACiiigAooooAKKKKACiiigAooooAK9X+FnwztPF8L3V5MVjQ/dHevLIYJbiQRwxs7k4AUZr6t+DXhufRfCqTXIZJpedp9KAOu8PeEtL8M2whsoFBxgtjmtDUdNtNUtJLW5hV0kUghlq6ORkGmStsQuzABQSaAPjf4keFx4V8UzWqf6p/nT6Vx1eg/F/wAQQ694xkMBBSAeXkd8V59QAUUUUAFFFFABRRRQAUUUUAFFFFABRRRQAVs+GPDt14n1uDTbUfNIeW9BWNXsvwLvtE0+9uZ9QnjiuB9xnOKAPUfBHwr0rwtGs86JcXBH32XODXoiBFQCPAAGABXNH4g+GftBhbU4RjuTxWfrfxP8N6Vp0k0d/DLIFO1EOSTQBmeMfiXF4RuTE2Hcn7teYeJfjrqOpWElrYxiLzFKlu+DXnPizxFP4l1ua9lJ2sx2j0FYVAD5ZHmlaR2LMxySaZRRQAUUUUAFFFFABRRRQAUUUUAFFFFABRRRQAU5JHjOUYqfY02igB5lkJyXbP1ppdm6sT9TSUUAFFFFABRRRQAUUUUAFFFFABRRRQAUUUUAFFFFABRRRQAUUUUAFFFFABRRRQAUUUUAFFFFABRRRQAUUUUAFFFFABRRRQAUUUUAFFFFABRRRQAUUUUAFFFFABRRRQAUUUUAFFFFABRRRQAUUUUAFFFFABRRRQAUUUUAFFFFABRRRQAUUUUAFFFFABRRRQB//9k=' style='display:block;' /></div><div><p onclick='toggleImage(\"image-1-1\")' style='cursor:pointer;'>Image: 20230310041821_695_0004.bmp <span id='arrow-image-1-1' class='toggle-arrow'>►</span></p><img id='image-1-1' src='data:image/png;base64,/9j/4AAQSkZJRgABAQAAAQABAAD/2wBDAAgGBgcGBQgHBwcJCQgKDBQNDAsLDBkSEw8UHRofHh0aHBwgJC4nICIsIxwcKDcpLDAxNDQ0Hyc5PTgyPC4zNDL/2wBDAQkJCQwLDBgNDRgyIRwhMjIyMjIyMjIyMjIyMjIyMjIyMjIyMjIyMjIyMjIyMjIyMjIyMjIyMjIyMjIyMjIyMjL/wAARCACWAJYDASIAAhEBAxEB/8QAHwAAAQUBAQEBAQEAAAAAAAAAAAECAwQFBgcICQoL/8QAtRAAAgEDAwIEAwUFBAQAAAF9AQIDAAQRBRIhMUEGE1FhByJxFDKBkaEII0KxwRVS0fAkM2JyggkKFhcYGRolJicoKSo0NTY3ODk6Q0RFRkdISUpTVFVWV1hZWmNkZWZnaGlqc3R1dnd4eXqDhIWGh4iJipKTlJWWl5iZmqKjpKWmp6ipqrKztLW2t7i5usLDxMXGx8jJytLT1NXW19jZ2uHi4+Tl5ufo6erx8vP09fb3+Pn6/8QAHwEAAwEBAQEBAQEBAQAAAAAAAAECAwQFBgcICQoL/8QAtREAAgECBAQDBAcFBAQAAQJ3AAECAxEEBSExBhJBUQdhcRMiMoEIFEKRobHBCSMzUvAVYnLRChYkNOEl8RcYGRomJygpKjU2Nzg5OkNERUZHSElKU1RVVldYWVpjZGVmZ2hpanN0dXZ3eHl6goOEhYaHiImKkpOUlZaXmJmaoqOkpaanqKmqsrO0tba3uLm6wsPExcbHyMnK0tPU1dbX2Nna4uPk5ebn6Onq8vP09fb3+Pn6/9oADAMBAAIRAxEAPwD5/ooooAKKKKACiiigAooooAKKKKACiiigAooooAKKKKACiiigAooooAKKKKACiiigAooooAKKKKACiiigAooooAKKKKACiiigAooooAKKKKACiiigAooooAKKKKACiiigAooooAKKKKACiiigAooooAKKKKACiiigAooooAKKKKACiiigAooooAKKKXY2M7TigBKKdsbGdpx9KbQAUUUUAFFFFABRRRQAUUUUAFFFFABRRRQAUUUUAFFFFAG14a0r+1dRWHGRXvOg/CmyubBWngBz7V5D8OJli1xcjPNfW2hzJJp8YQcYoA871L4UaTBYM0duvA54rwbxt4cj0W9/cjCE9K+zJolnhaI9GFfOfxj02O1DFRyDQB4jRRRQAUUUUAFFFFABRRRQAUUUUAFFFFABRRRQAUUUUAbvhO+FlrUTHoxxX1v4LvEk0tEJyW5FfF0UjRSq6nlTmvc/h38RIVSOC5kCMgxyaAPoK4nW3QsfSvnL4yXvn7iDxuxXpWoePLJrGVmuEyBxzXzx448R/wBs6gyRtmIGgDkaKKKACiiigAooooAKKKKACiiigAooooAKKKKACiiigAp8crxNuRip9RTKKALTahdshVp3IPbNVSSTk0UUAFFFFABRRRQAUUUUAFFFFABRRRQAUUUUAFFFFABRRRQAUUUUAFFFFABRRRQAUUUUAFFFFABRRRQAUUUUAFFFFABRRRQAUUUUAFFFFABRRRQAUUUUAFFFFABRRRQAUUUUAFFFFABRRRQAUUUUAFFFFABRRRQAUUUUAFFFFABRRRQAUUUUAFFFFAH/2Q==' style='display:block;' /></div><div><p onclick='toggleImage(\"image-1-2\")' style='cursor:pointer;'>Image: 20230310042334_634_0000.bmp <span id='arrow-image-1-2' class='toggle-arrow'>►</span></p><img id='image-1-2' src='data:image/png;base64,/9j/4AAQSkZJRgABAQAAAQABAAD/2wBDAAgGBgcGBQgHBwcJCQgKDBQNDAsLDBkSEw8UHRofHh0aHBwgJC4nICIsIxwcKDcpLDAxNDQ0Hyc5PTgyPC4zNDL/2wBDAQkJCQwLDBgNDRgyIRwhMjIyMjIyMjIyMjIyMjIyMjIyMjIyMjIyMjIyMjIyMjIyMjIyMjIyMjIyMjIyMjIyMjL/wAARCACWAJYDASIAAhEBAxEB/8QAHwAAAQUBAQEBAQEAAAAAAAAAAAECAwQFBgcICQoL/8QAtRAAAgEDAwIEAwUFBAQAAAF9AQIDAAQRBRIhMUEGE1FhByJxFDKBkaEII0KxwRVS0fAkM2JyggkKFhcYGRolJicoKSo0NTY3ODk6Q0RFRkdISUpTVFVWV1hZWmNkZWZnaGlqc3R1dnd4eXqDhIWGh4iJipKTlJWWl5iZmqKjpKWmp6ipqrKztLW2t7i5usLDxMXGx8jJytLT1NXW19jZ2uHi4+Tl5ufo6erx8vP09fb3+Pn6/8QAHwEAAwEBAQEBAQEBAQAAAAAAAAECAwQFBgcICQoL/8QAtREAAgECBAQDBAcFBAQAAQJ3AAECAxEEBSExBhJBUQdhcRMiMoEIFEKRobHBCSMzUvAVYnLRChYkNOEl8RcYGRomJygpKjU2Nzg5OkNERUZHSElKU1RVVldYWVpjZGVmZ2hpanN0dXZ3eHl6goOEhYaHiImKkpOUlZaXmJmaoqOkpaanqKmqsrO0tba3uLm6wsPExcbHyMnK0tPU1dbX2Nna4uPk5ebn6Onq8vP09fb3+Pn6/9oADAMBAAIRAxEAPwD5/ooooAKKKKACiiigAooooAKKKKACiiigAooooAKKKKACiiigAooooAKKKKACiiigAooooAKKKKACiiigAooooAKKKKACiiigAooooAKKKKACiiigAooooAKKKKACiiigAooooAKKKKACiiigAooooAKKKKACiiigAooooAKKKKACiiigAoooAJOBQAUVbgsXmIA4Jrf03wpHdRkzTFWoA5WitPV9EudKnKyKTGfut6isygAooooAKKKKACiiigAooooAKKKKACiiigAooooAK09D02XU9SjhjGeec1mgFmAHU16X4N8JX9rsvnKgOMqAe1AG1deC4fKhW0iHmgDd9a37bwQ0FgkoOH2jvW/YgQII5SC7DIOK1H0K+ihS7FwGifHy5oA861TwvNcCSO6h3RDIBx7V5Pr/AIeuNHunyh8g/davrtorB9HaSYoHP8Jrxn4g6M97YyXFuV8lQeKAPD6KVhhiPSkoAKKKKACiiigAooooAKKKKACiiigAooooAOleheA/EtzBILSZ2eMnC5PSvPa1ND1I6dfxuQCuec0Ae9TOxljKuQSODnpXWILvStKE91OZI3xhc9K8tu9QCW1vcxy7965wG6VryeJri909YnLMhGQCelAGlrq3s0BvbedhDuOEBrgdU8RT3GlyWTBkbBXJNWNa8Uvotoi7y5ZThM+tecalrt1qMxdsJ7LQBnSqUkYE5OaZQSScmigAooooAKKKKACiiigAooooAKKKKACiiigAooooAurqt0sax+Ydq9BmtW28X3tvb+SApXGK52igC3f6hNqE/mzEk1UoooAKKKKACiiigAooooAKKKKACiiigAooooAKKKKACiiigAooooAKKKKACiiigAooooAKKKKACiiigAooooAKKKKACiiigAooooAKKKKACiiigAooooAKKKKACiiigAooooAKKKKACiiigAooooAKKKKACiiigAooooAKKKKACiiigAooooAKKKKAP//Z' style='display:block;' /></div><div><p onclick='toggleImage(\"image-1-3\")' style='cursor:pointer;'>Image: 20230310041822_395_0002.bmp <span id='arrow-image-1-3' class='toggle-arrow'>►</span></p><img id='image-1-3' src='data:image/png;base64,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' style='display:block;' /></div><div><p onclick='toggleImage(\"image-1-4\")' style='cursor:pointer;'>Image: 20230310041829_544_0001.bmp <span id='arrow-image-1-4' class='toggle-arrow'>►</span></p><img id='image-1-4' src='data:image/png;base64,/9j/4AAQSkZJRgABAQAAAQABAAD/2wBDAAgGBgcGBQgHBwcJCQgKDBQNDAsLDBkSEw8UHRofHh0aHBwgJC4nICIsIxwcKDcpLDAxNDQ0Hyc5PTgyPC4zNDL/2wBDAQkJCQwLDBgNDRgyIRwhMjIyMjIyMjIyMjIyMjIyMjIyMjIyMjIyMjIyMjIyMjIyMjIyMjIyMjIyMjIyMjIyMjL/wAARCACWAJYDASIAAhEBAxEB/8QAHwAAAQUBAQEBAQEAAAAAAAAAAAECAwQFBgcICQoL/8QAtRAAAgEDAwIEAwUFBAQAAAF9AQIDAAQRBRIhMUEGE1FhByJxFDKBkaEII0KxwRVS0fAkM2JyggkKFhcYGRolJicoKSo0NTY3ODk6Q0RFRkdISUpTVFVWV1hZWmNkZWZnaGlqc3R1dnd4eXqDhIWGh4iJipKTlJWWl5iZmqKjpKWmp6ipqrKztLW2t7i5usLDxMXGx8jJytLT1NXW19jZ2uHi4+Tl5ufo6erx8vP09fb3+Pn6/8QAHwEAAwEBAQEBAQEBAQAAAAAAAAECAwQFBgcICQoL/8QAtREAAgECBAQDBAcFBAQAAQJ3AAECAxEEBSExBhJBUQdhcRMiMoEIFEKRobHBCSMzUvAVYnLRChYkNOEl8RcYGRomJygpKjU2Nzg5OkNERUZHSElKU1RVVldYWVpjZGVmZ2hpanN0dXZ3eHl6goOEhYaHiImKkpOUlZaXmJmaoqOkpaanqKmqsrO0tba3uLm6wsPExcbHyMnK0tPU1dbX2Nna4uPk5ebn6Onq8vP09fb3+Pn6/9oADAMBAAIRAxEAPwD5/ooooAKKKKACiiigAooooAKKKKACiiigAooooAKKKKACiiigAooooAKKKKACiiigAooooAKKKKACiiigAooooAKKKKACiiigAooooAKKKKACiiigAooooAKKKKACiiigAooooAKKKKACiiigAooooAKKKKACiiigAooooAKKKKACiiigAooqaC3lnfEcTSEfwr1NAEQBPQE0BSWwePrXSR6Za20AkvLp7F/+eWNzUR32iQsRL51wPUgCgDnGXaeufpTa6TboV9L8t1Na5/hK5FR6po1vYwedHukjIyJA3BoA5+ilIIAOOvSkoAKKKKACiiigAooooAKKKKACiiigAooooAkRzCySJ97rzXfaRBE3hm41KzX/AImOMEDt7ivPgcEHr9a07DXbqxbEchRD1C0AULmSaWdmnZmkJ53dairqjd6bqQ3S2bSOerpwabHpWjTE7ZJkP900AcuAScDrXpfw3sbOSWUeJPk0tkOA/UntiufVdI05iBayvJ2kc8D8KzLrVJkkfbeNMGGApHC0AS+KbKCx1yb7EQ1kW/c49Kw+vNSfaZT95i3+9zUZOSTQAlFFFABRRRQAUUUUAFFFFABRRRQAUUUUAFFFOwPLz3zQAsbSLkoSPXBq9aQXN4+23jkDf3j0H411Gk+GNPTwOfErTPNepIVS1GNq4P3j3Nczd69qV3lZLhlTsi8AUAXh4Y1i4yBLBIf7v2gE/lWRd2MtnI0coIZevFJaz3KXCtCz+ZnjBrtPGNnZQ+F9Nu/NX+0pziaIHkDHWgDgqKcQNinPJJzTaACiiigAooooAKKKKACiiigAooooAKKKKACjtRRQBo6brN7p52wz/uT96NuVP4Vp/wBpaHdHdc2jRydzGODXN0UAdK+u2VkMaZaxhsffdcmsG5u5buVpJjlmqCigAooooAKKKKACiiigAooooAKKKKACiiigAooooAKKKKACiiigAooooAKKKKACiiigAooooAKKKKACiiigAooooAKKKKACiiigAooooAKKKKACiiigAooooAKKKKACiiigAooooAKKKKACiiigAooooAKKKKACiiigAooooAKKKKACiiigAooooA//2Q==' style='display:block;' /></div><div><p onclick='toggleImage(\"image-1-5\")' style='cursor:pointer;'>Image: 20230310041903_494_0000.bmp <span id='arrow-image-1-5' class='toggle-arrow'>►</span></p><img id='image-1-5' src='data:image/png;base64,/9j/4AAQSkZJRgABAQAAAQABAAD/2wBDAAgGBgcGBQgHBwcJCQgKDBQNDAsLDBkSEw8UHRofHh0aHBwgJC4nICIsIxwcKDcpLDAxNDQ0Hyc5PTgyPC4zNDL/2wBDAQkJCQwLDBgNDRgyIRwhMjIyMjIyMjIyMjIyMjIyMjIyMjIyMjIyMjIyMjIyMjIyMjIyMjIyMjIyMjIyMjIyMjL/wAARCACWAJYDASIAAhEBAxEB/8QAHwAAAQUBAQEBAQEAAAAAAAAAAAECAwQFBgcICQoL/8QAtRAAAgEDAwIEAwUFBAQAAAF9AQIDAAQRBRIhMUEGE1FhByJxFDKBkaEII0KxwRVS0fAkM2JyggkKFhcYGRolJicoKSo0NTY3ODk6Q0RFRkdISUpTVFVWV1hZWmNkZWZnaGlqc3R1dnd4eXqDhIWGh4iJipKTlJWWl5iZmqKjpKWmp6ipqrKztLW2t7i5usLDxMXGx8jJytLT1NXW19jZ2uHi4+Tl5ufo6erx8vP09fb3+Pn6/8QAHwEAAwEBAQEBAQEBAQAAAAAAAAECAwQFBgcICQoL/8QAtREAAgECBAQDBAcFBAQAAQJ3AAECAxEEBSExBhJBUQdhcRMiMoEIFEKRobHBCSMzUvAVYnLRChYkNOEl8RcYGRomJygpKjU2Nzg5OkNERUZHSElKU1RVVldYWVpjZGVmZ2hpanN0dXZ3eHl6goOEhYaHiImKkpOUlZaXmJmaoqOkpaanqKmqsrO0tba3uLm6wsPExcbHyMnK0tPU1dbX2Nna4uPk5ebn6Onq8vP09fb3+Pn6/9oADAMBAAIRAxEAPwD5/ooooAKKKKACiiigAooooAKKKKACiiigAooooAKKOpo6UAFFFFABRRRQAUUUUAFFFFABRRRQAUUUUAFFFFABRRRQAUUU6NgjhioYehoAaDg5HWgkk5PWlYgsSBgHtSUAFFFFABRRRQAUUUUAFFFFABRRRQAUUUUAFFFFABRRUkMYklCswVe5oAZjjJpKU9aSgAooooAKKKKACiiigAooooAKKKKACiiigAq1Y6fc6jOIbaMsx/IUyKEyO0KrljjDeldtZTxeENDWYbZbu4OQSPu0AYC+D9WF7FbzQ+SJDhZH4WquteHtT0CdItRtWiD5McnVZB6g96t6n4u1TU9olmIC/dx2pLHU5dRs5tLvpTIr/PCznJRx6ex6UAYNFWbiwurVA80LIpOORVagAooooAKKKKACiiigAooooAKKKKACiiigAooooAkhmeGQOpI5Gfeul8WSC5trG5iH7h48qffvXLV09hLDqXh5dOZs3EW4oPbOaAOYqSBXadAn3s8U2RGjkZGGCDgipbKYQXccjDIBoA9I1x9MufhkjPKv9pRyBSO5rzKRDGwB64Brf1GM3sAFtnAO4r6mszUdJvdMMf2qIqsi5RuxoAo0UUUAFFFFABRRRQAUUUUAFFFFABRRRQAUUUUAFX9NuVs5BPuwynpVCigDoblLbWgZItkV5nlQeHrDkt5opTG8bBwcYxRbytBOkikgqQeK9HuLbz/CEPitFhfy7j7M4x3Azk0AczqaXWiWelT42ySxF8H6960rjxvb6n4dhsL62/0i3YtFIBkc9awvEPiB9eeAvF5fkgqMHORWJQBPOYpHd4gVHoagoooAKKKKACiiigAooooAKKKKACiiigAooooAKKKKACt/S/Estl4fvdEmXzLO5PmAH+F8YBrAooAKKKKACiiigAooooAKKKKACiiigAooooAKKKVWK5x3GDQAlFFFABRRRQAUUUUAFFFFABRRRQAUUUUAFFFFABRRRQAUUUDrQAUUpGCRnPvSUAFFFFABRRRQAUUUUAFFFFABRRRQAUUUUAFFFFABRRRQBNbQiecRsxUHuBmpLqKOECNMkg8sRgmiigCrRRRQAUUUUAFFFFABRRRQAUUUUAFFFFABRRRQAUUUUAFFFFAH/9k=' style='display:block;' /></div><div><p onclick='toggleImage(\"image-1-6\")' style='cursor:pointer;'>Image: 20230310043332_861_0002.bmp <span id='arrow-image-1-6' class='toggle-arrow'>►</span></p><img id='image-1-6' src='data:image/png;base64,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' style='display:block;' /></div><div><p onclick='toggleImage(\"image-1-7\")' style='cursor:pointer;'>Image: 20230310041821_795_0005.bmp <span id='arrow-image-1-7' class='toggle-arrow'>►</span></p><img id='image-1-7' src='data:image/png;base64,/9j/4AAQSkZJRgABAQAAAQABAAD/2wBDAAgGBgcGBQgHBwcJCQgKDBQNDAsLDBkSEw8UHRofHh0aHBwgJC4nICIsIxwcKDcpLDAxNDQ0Hyc5PTgyPC4zNDL/2wBDAQkJCQwLDBgNDRgyIRwhMjIyMjIyMjIyMjIyMjIyMjIyMjIyMjIyMjIyMjIyMjIyMjIyMjIyMjIyMjIyMjIyMjL/wAARCACWAJYDASIAAhEBAxEB/8QAHwAAAQUBAQEBAQEAAAAAAAAAAAECAwQFBgcICQoL/8QAtRAAAgEDAwIEAwUFBAQAAAF9AQIDAAQRBRIhMUEGE1FhByJxFDKBkaEII0KxwRVS0fAkM2JyggkKFhcYGRolJicoKSo0NTY3ODk6Q0RFRkdISUpTVFVWV1hZWmNkZWZnaGlqc3R1dnd4eXqDhIWGh4iJipKTlJWWl5iZmqKjpKWmp6ipqrKztLW2t7i5usLDxMXGx8jJytLT1NXW19jZ2uHi4+Tl5ufo6erx8vP09fb3+Pn6/8QAHwEAAwEBAQEBAQEBAQAAAAAAAAECAwQFBgcICQoL/8QAtREAAgECBAQDBAcFBAQAAQJ3AAECAxEEBSExBhJBUQdhcRMiMoEIFEKRobHBCSMzUvAVYnLRChYkNOEl8RcYGRomJygpKjU2Nzg5OkNERUZHSElKU1RVVldYWVpjZGVmZ2hpanN0dXZ3eHl6goOEhYaHiImKkpOUlZaXmJmaoqOkpaanqKmqsrO0tba3uLm6wsPExcbHyMnK0tPU1dbX2Nna4uPk5ebn6Onq8vP09fb3+Pn6/9oADAMBAAIRAxEAPwD5/ooooAKKKKACiiigAooooAKKKKACiiigAooooAKKKKACiiigAooooAKKKKACiiigAooooAKKKKACiiigAooooAKKKKACiiigAooooAKKKKACiiigAooooAKKKKACiiigAooooAKKKKACiiigAooooAKKKKACiiigAooooAKKKKACiiigAooooAKKfHG8rhUUsx7Cuq0X4ea5rKh4rdlT1IoA5Kiu51P4aanp8JYjcR2FcZc2s1pKY5kKsPWgCGiiigAooooAKKKKACiiigAooooAKKKKACiiigApQCxAHU0lTWrBbmMkZAagD1f4b+C0nVb+6jDAc4Ne9WVxY2ViIbeBVbGOBXC/D10l0uPAAXAyK9Mht7P7OAEBYjrQBizadFdwOZVU5Ga8U+Ivh20j0+a5CBZUPBFe0Xt39jldM8V5N8SLsSabKg780AeGd6KD1NFABRRRQAUUUUAFFFFABRRRQAUUUUAFFFFABTo22SKx7Gm0UAe/fD3W4zp8caegFemW2si2hfcNxI4r5X8M+JpdDuBnJjz0r1bSPiBpvltNPKOn3SaAOyurmW9mZipAryf4i3aW8JthJukY+tbGt/Fa0jhcWMe52GB7V5Fqep3GqXbT3DlmY55oApUUUUAFFFFABRRRQAUUUUAFFFFABRRRQAUUUUAFFFFABShiOhNJRQAUUUUAFFFFABRRRQAUUUUAFFFFABRRRQAUUUUAFFFFABRRRQAUUUUAFFFFABRRRQAUUUUAFFFFABRRRQAUUUUAFFFFABRRRQAUUUUAFFFFABRRRQAUUUUAFFFFABRRRQAUUUUAFFFFABRRRQAUUUUAFFFFABRRRQAUUUUAFFFFABRRRQAUUUUAFFFFAH//2Q==' style='display:block;' /></div><div><p onclick='toggleImage(\"image-1-8\")' style='cursor:pointer;'>Image: 20230310041757_499_0001.bmp <span id='arrow-image-1-8' class='toggle-arrow'>►</span></p><img id='image-1-8' src='data:image/png;base64,/9j/4AAQSkZJRgABAQAAAQABAAD/2wBDAAgGBgcGBQgHBwcJCQgKDBQNDAsLDBkSEw8UHRofHh0aHBwgJC4nICIsIxwcKDcpLDAxNDQ0Hyc5PTgyPC4zNDL/2wBDAQkJCQwLDBgNDRgyIRwhMjIyMjIyMjIyMjIyMjIyMjIyMjIyMjIyMjIyMjIyMjIyMjIyMjIyMjIyMjIyMjIyMjL/wAARCACWAJYDASIAAhEBAxEB/8QAHwAAAQUBAQEBAQEAAAAAAAAAAAECAwQFBgcICQoL/8QAtRAAAgEDAwIEAwUFBAQAAAF9AQIDAAQRBRIhMUEGE1FhByJxFDKBkaEII0KxwRVS0fAkM2JyggkKFhcYGRolJicoKSo0NTY3ODk6Q0RFRkdISUpTVFVWV1hZWmNkZWZnaGlqc3R1dnd4eXqDhIWGh4iJipKTlJWWl5iZmqKjpKWmp6ipqrKztLW2t7i5usLDxMXGx8jJytLT1NXW19jZ2uHi4+Tl5ufo6erx8vP09fb3+Pn6/8QAHwEAAwEBAQEBAQEBAQAAAAAAAAECAwQFBgcICQoL/8QAtREAAgECBAQDBAcFBAQAAQJ3AAECAxEEBSExBhJBUQdhcRMiMoEIFEKRobHBCSMzUvAVYnLRChYkNOEl8RcYGRomJygpKjU2Nzg5OkNERUZHSElKU1RVVldYWVpjZGVmZ2hpanN0dXZ3eHl6goOEhYaHiImKkpOUlZaXmJmaoqOkpaanqKmqsrO0tba3uLm6wsPExcbHyMnK0tPU1dbX2Nna4uPk5ebn6Onq8vP09fb3+Pn6/9oADAMBAAIRAxEAPwD5/ooooAKKKKACiiigAooooAKKKKACiiigAooooAKKKKACiiigAooooAKKKKACiiigAooooAKKKKACiiigAooooAKKKKACiiigAooooAKKKKACiiigAooooAKKKKACiiigAooooAKKKKACiiigAooooAKKKKACiiigAooooAKKKKACiiigAooooAKKKkW3lcZWNiPpQBHRT3ikj++hH1FMoAKKKKACiiigAooooAKKKKACiiigAooooAKKKKACiiruk232vUYosZy1AHU+C/CY1K5Wa8QiEcgHvXseleC9MmdUjt0K/Sn+GNBh/s2NQoUha7jw9awW0zBmGR0zQBwPi74b2AsgUgVWPoK8I8TeHpNDuwpB2N0r621q5S4YofujpXz/APFkJ5kYUDg0AeVUUUUAFFFFABRRRQAUUUUAFFFFABRRRQAUUUUAFanh+5W11iCR/u7qy6VSVYEdRQB9T+G7tJLaNkfgiuiNvJGPOViAa+b/AAz49n0wJDMxKDvXps/xV08aUqiUb8dKAOn1vU0ihzvwR1rwPx5rg1O/8pDlU6mrniTx5Jfhkt2IB71wbu0jl2OSepoAbRRRQAUUUUAFFFFABRRRQAUUUUAFFFFABRRRQAUUUUAFLk+tJRQAUUUUAFFFFABRRRQAUUUUAFFFFABRRRQAUUUUAFFFFABRRRQAUUUUAFFFFABRRRQAUUUUAFFFFABRRRQAUUUUAFFFFABRRRQAUUUUAFFFFABRRRQAUUUUAFFFFABRRRQAUUUUAFFFFABRRRQAUUUUAFFFFABRRRQAUUUUAFFFFABRRRQAUUUUAFFFFAH/2Q==' style='display:block;' /></div><div><p onclick='toggleImage(\"image-1-9\")' style='cursor:pointer;'>Image: 20230310042918_520_0000.bmp <span id='arrow-image-1-9' class='toggle-arrow'>►</span></p><img id='image-1-9' src='data:image/png;base64,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' style='display:block;' /></div><div><p onclick='toggleImage(\"image-1-10\")' style='cursor:pointer;'>Image: 20230310042226_235_0000.bmp <span id='arrow-image-1-10' class='toggle-arrow'>►</span></p><img id='image-1-10' src='data:image/png;base64,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' style='display:block;' /></div><div><p onclick='toggleImage(\"image-1-11\")' style='cursor:pointer;'>Image: 20230310041822_845_0000.bmp <span id='arrow-image-1-11' class='toggle-arrow'>►</span></p><img id='image-1-11' src='data:image/png;base64,/9j/4AAQSkZJRgABAQAAAQABAAD/2wBDAAgGBgcGBQgHBwcJCQgKDBQNDAsLDBkSEw8UHRofHh0aHBwgJC4nICIsIxwcKDcpLDAxNDQ0Hyc5PTgyPC4zNDL/2wBDAQkJCQwLDBgNDRgyIRwhMjIyMjIyMjIyMjIyMjIyMjIyMjIyMjIyMjIyMjIyMjIyMjIyMjIyMjIyMjIyMjIyMjL/wAARCACWAJYDASIAAhEBAxEB/8QAHwAAAQUBAQEBAQEAAAAAAAAAAAECAwQFBgcICQoL/8QAtRAAAgEDAwIEAwUFBAQAAAF9AQIDAAQRBRIhMUEGE1FhByJxFDKBkaEII0KxwRVS0fAkM2JyggkKFhcYGRolJicoKSo0NTY3ODk6Q0RFRkdISUpTVFVWV1hZWmNkZWZnaGlqc3R1dnd4eXqDhIWGh4iJipKTlJWWl5iZmqKjpKWmp6ipqrKztLW2t7i5usLDxMXGx8jJytLT1NXW19jZ2uHi4+Tl5ufo6erx8vP09fb3+Pn6/8QAHwEAAwEBAQEBAQEBAQAAAAAAAAECAwQFBgcICQoL/8QAtREAAgECBAQDBAcFBAQAAQJ3AAECAxEEBSExBhJBUQdhcRMiMoEIFEKRobHBCSMzUvAVYnLRChYkNOEl8RcYGRomJygpKjU2Nzg5OkNERUZHSElKU1RVVldYWVpjZGVmZ2hpanN0dXZ3eHl6goOEhYaHiImKkpOUlZaXmJmaoqOkpaanqKmqsrO0tba3uLm6wsPExcbHyMnK0tPU1dbX2Nna4uPk5ebn6Onq8vP09fb3+Pn6/9oADAMBAAIRAxEAPwD5/ooooAKKKKACiiigAooooAKKKKACiiigAooooAKKKKACiiigAooooAKKKKACiiigAooooAKKKKACiiigAooooAKKKKACiiigAooooAKKKKACiiigAooooAKKKKACiiigAooooAKKKKACiiigAooooAKKKKACiiigAooooAKKKKACiiigAooqxY2jXt2kK/xHrQBXAJ6U7y3/ALjflXolv4bsbMR74/NkIzuHQVvW+n2QAaVIZFH8IWgDx0xuoyUYD6U2vdZNHstTsmjito0XHUrXBav4IMKPJbbmI7AcUAcPRT5Y2hkaNxhlODTKACiiigAooooAKKKKACiiigAooooAKKKKACtrwtIketQ+Yu5CeR61i1LbSPFcI6EhgRjFAHs93AJ3RbaMwwnqTUiactqm9G8xR1Iqbw673lhDFKPMkYDC16TpHhFJbBo5bYxBhnLUAebxW95LA01s/wC7QcqKpS6sfIkUr5O0HdnvXqV14ROl2UrWkgfI5QV4X41u7m28yBrcxkk5bHWgDhNVmSfUZpEHylqpUE5OTRQAUUUUAFFFFABRRRQAUUUUAFFFFABRRRQAVNaxNNdRxp95mAFQ1f0adbfVYJHGQGFAHsOj3D6Xb28Lp5cmBib0r0LSvE93b23lPeC9Q/xDsK8znFzq3lJ9y3I+8D0FSEXWiKI7FjMp64oA9FvfFl7CGSC0MoI5b0rktajt9XspPtdtvkI/Kqlpr+oeSU8sqx7etQ3F08ML3F5P9nYDIQ/xUAeNapa/Y9Qlh2lQG4BqnWpr+oDUdVkmCgDOBjvWXQAUUUUAFFFFABRRRQAUUUUAFFFFABRRRQAUAkHI60UUAbGn+JdQsJEKzsyL/ATxXQSfESeQKFtwmByR3rh6KAPQY/HsCR+ZtkM46ccZrmda8T32tS5mbC9gKxKKADrRRRQAUUUUAFFFFABRRRQAUUUUAFFFFABRRRQAUUUUAFFFFABRRRQAUUUUAFFFFABRRRQAUUUUAFFFFABRRRQAUUUUAFFFFABRRRQAUUUUAFFFFABRRRQAUUUUAFFFFABRRRQAUUUUAFFFFABRRRQAUUUUAFFFFABRRRQAUUUUAFFFFABRRRQB/9k=' style='display:block;' /></div></div></div>"
      ],
      "text/plain": [
       "Step: raw\n",
       "Image: <paidiverpy.image_layer.ImageLayer object at 0x75a330cbae00>\n",
       "Image: <paidiverpy.image_layer.ImageLayer object at 0x75a330cbb130>\n",
       "Image: <paidiverpy.image_layer.ImageLayer object at 0x75a330cb8790>\n",
       "Image: <paidiverpy.image_layer.ImageLayer object at 0x75a330cb9990>\n",
       "Image: <paidiverpy.image_layer.ImageLayer object at 0x75a330cb8eb0>\n",
       "Image: <paidiverpy.image_layer.ImageLayer object at 0x75a330cb8700>\n",
       "Image: <paidiverpy.image_layer.ImageLayer object at 0x75a330cb8580>\n",
       "Image: <paidiverpy.image_layer.ImageLayer object at 0x75a330cb85e0>\n",
       "Image: <paidiverpy.image_layer.ImageLayer object at 0x75a330cb8490>\n",
       "Image: <paidiverpy.image_layer.ImageLayer object at 0x75a330cb9de0>\n",
       "Image: <paidiverpy.image_layer.ImageLayer object at 0x75a330cb8460>\n",
       "Image: <paidiverpy.image_layer.ImageLayer object at 0x75a330cb9ea0>\n",
       "Image: <paidiverpy.image_layer.ImageLayer object at 0x75a330cb9d50>\n",
       "Image: <paidiverpy.image_layer.ImageLayer object at 0x75a330cb9f60>\n",
       "Image: <paidiverpy.image_layer.ImageLayer object at 0x75a330cb9d80>\n",
       "Image: <paidiverpy.image_layer.ImageLayer object at 0x75a330cba080>\n",
       "Image: <paidiverpy.image_layer.ImageLayer object at 0x75a330cb9e10>\n",
       "Image: <paidiverpy.image_layer.ImageLayer object at 0x75a330cba140>\n",
       "Image: <paidiverpy.image_layer.ImageLayer object at 0x75a330cb9f00>\n",
       "Image: <paidiverpy.image_layer.ImageLayer object at 0x75a330cba1a0>\n",
       "Image: <paidiverpy.image_layer.ImageLayer object at 0x75a330cba0b0>\n",
       "Image: <paidiverpy.image_layer.ImageLayer object at 0x75a330cba260>\n",
       "Image: <paidiverpy.image_layer.ImageLayer object at 0x75a330cba0e0>\n",
       "Image: <paidiverpy.image_layer.ImageLayer object at 0x75a330cba320>\n",
       "Image: <paidiverpy.image_layer.ImageLayer object at 0x75a330cba1d0>\n",
       "Image: <paidiverpy.image_layer.ImageLayer object at 0x75a330cba3e0>\n",
       "Image: <paidiverpy.image_layer.ImageLayer object at 0x75a330cba200>\n",
       "Image: <paidiverpy.image_layer.ImageLayer object at 0x75a330cba4a0>\n",
       "Image: <paidiverpy.image_layer.ImageLayer object at 0x75a330cba350>\n",
       "Image: <paidiverpy.image_layer.ImageLayer object at 0x75a330cba560>\n",
       "Image: <paidiverpy.image_layer.ImageLayer object at 0x75a330cba380>\n",
       "Image: <paidiverpy.image_layer.ImageLayer object at 0x75a330cba620>\n",
       "Image: <paidiverpy.image_layer.ImageLayer object at 0x75a330cba4d0>\n",
       "Image: <paidiverpy.image_layer.ImageLayer object at 0x75a330cba6e0>\n",
       "Image: <paidiverpy.image_layer.ImageLayer object at 0x75a330cba500>\n",
       "Image: <paidiverpy.image_layer.ImageLayer object at 0x75a330cba5c0>\n",
       "Image: <paidiverpy.image_layer.ImageLayer object at 0x75a330cba740>\n",
       "Image: <paidiverpy.image_layer.ImageLayer object at 0x75a330cba7d0>\n",
       "Image: <paidiverpy.image_layer.ImageLayer object at 0x75a330cba860>\n",
       "Image: <paidiverpy.image_layer.ImageLayer object at 0x75a330cba920>\n",
       "Image: <paidiverpy.image_layer.ImageLayer object at 0x75a330cba590>\n",
       "Image: <paidiverpy.image_layer.ImageLayer object at 0x75a330cba9e0>\n",
       "Image: <paidiverpy.image_layer.ImageLayer object at 0x75a330cba890>\n",
       "Image: <paidiverpy.image_layer.ImageLayer object at 0x75a330cbaaa0>\n",
       "Image: <paidiverpy.image_layer.ImageLayer object at 0x75a330cba8c0>\n",
       "Image: <paidiverpy.image_layer.ImageLayer object at 0x75a330cbab60>\n",
       "Image: <paidiverpy.image_layer.ImageLayer object at 0x75a330cbaa10>\n",
       "Image: <paidiverpy.image_layer.ImageLayer object at 0x75a330cbac20>\n",
       "Image: <paidiverpy.image_layer.ImageLayer object at 0x75a330cbaa40>\n",
       "Image: <paidiverpy.image_layer.ImageLayer object at 0x75a330cbace0>\n",
       "Image: <paidiverpy.image_layer.ImageLayer object at 0x75a330cbab90>\n",
       "Image: <paidiverpy.image_layer.ImageLayer object at 0x75a330cbada0>\n",
       "Step: edge_detection\n",
       "Image: <paidiverpy.image_layer.ImageLayer object at 0x75a330cb98a0>\n",
       "Image: <paidiverpy.image_layer.ImageLayer object at 0x75a330cb8190>\n",
       "Image: <paidiverpy.image_layer.ImageLayer object at 0x75a330cbaf20>\n",
       "Image: <paidiverpy.image_layer.ImageLayer object at 0x75a330cb9210>\n",
       "Image: <paidiverpy.image_layer.ImageLayer object at 0x75a330cbb190>\n",
       "Image: <paidiverpy.image_layer.ImageLayer object at 0x75a330cb8040>\n",
       "Image: <paidiverpy.image_layer.ImageLayer object at 0x75a330cb9a80>\n",
       "Image: <paidiverpy.image_layer.ImageLayer object at 0x75a330cbb250>\n",
       "Image: <paidiverpy.image_layer.ImageLayer object at 0x75a330cb9900>\n",
       "Image: <paidiverpy.image_layer.ImageLayer object at 0x75a330cb8850>\n",
       "Image: <paidiverpy.image_layer.ImageLayer object at 0x75a330cb84f0>\n",
       "Image: <paidiverpy.image_layer.ImageLayer object at 0x75a330cb96c0>\n",
       "Image: <paidiverpy.image_layer.ImageLayer object at 0x75a330cbabc0>\n",
       "Image: <paidiverpy.image_layer.ImageLayer object at 0x75a330cb8dc0>\n",
       "Image: <paidiverpy.image_layer.ImageLayer object at 0x75a330cb94e0>\n",
       "Image: <paidiverpy.image_layer.ImageLayer object at 0x75a330cb91b0>\n",
       "Image: <paidiverpy.image_layer.ImageLayer object at 0x75a330cb8400>\n",
       "Image: <paidiverpy.image_layer.ImageLayer object at 0x75a330cb8e50>\n",
       "Image: <paidiverpy.image_layer.ImageLayer object at 0x75a330cb9600>\n",
       "Image: <paidiverpy.image_layer.ImageLayer object at 0x75a330cb95a0>\n",
       "Image: <paidiverpy.image_layer.ImageLayer object at 0x75a330cb96f0>\n",
       "Image: <paidiverpy.image_layer.ImageLayer object at 0x75a330cb8fa0>\n",
       "Image: <paidiverpy.image_layer.ImageLayer object at 0x75a330cb88e0>\n",
       "Image: <paidiverpy.image_layer.ImageLayer object at 0x75a330cb8c10>\n",
       "Image: <paidiverpy.image_layer.ImageLayer object at 0x75a330cb9720>\n",
       "Image: <paidiverpy.image_layer.ImageLayer object at 0x75a330cb9030>\n",
       "Image: <paidiverpy.image_layer.ImageLayer object at 0x75a330cb9630>\n",
       "Image: <paidiverpy.image_layer.ImageLayer object at 0x75a330cb8d00>\n",
       "Image: <paidiverpy.image_layer.ImageLayer object at 0x75a330cb9540>\n",
       "Image: <paidiverpy.image_layer.ImageLayer object at 0x75a330cb83a0>\n",
       "Image: <paidiverpy.image_layer.ImageLayer object at 0x75a330cb8f10>\n",
       "Image: <paidiverpy.image_layer.ImageLayer object at 0x75a330cb8d90>\n",
       "Image: <paidiverpy.image_layer.ImageLayer object at 0x75a330cb8d60>\n",
       "Image: <paidiverpy.image_layer.ImageLayer object at 0x75a330cb9180>\n",
       "Image: <paidiverpy.image_layer.ImageLayer object at 0x75a330cb9420>\n",
       "Image: <paidiverpy.image_layer.ImageLayer object at 0x75a330cb9060>\n",
       "Image: <paidiverpy.image_layer.ImageLayer object at 0x75a330cb83d0>\n",
       "Image: <paidiverpy.image_layer.ImageLayer object at 0x75a330cb90f0>\n",
       "Image: <paidiverpy.image_layer.ImageLayer object at 0x75a330cb8cd0>\n",
       "Image: <paidiverpy.image_layer.ImageLayer object at 0x75a330cb8250>\n",
       "Image: <paidiverpy.image_layer.ImageLayer object at 0x75a330cb89d0>\n",
       "Image: <paidiverpy.image_layer.ImageLayer object at 0x75a330cb8ca0>\n",
       "Image: <paidiverpy.image_layer.ImageLayer object at 0x75a330cb9b70>\n",
       "Image: <paidiverpy.image_layer.ImageLayer object at 0x75a330cb92a0>\n",
       "Image: <paidiverpy.image_layer.ImageLayer object at 0x75a330cb9ba0>\n",
       "Image: <paidiverpy.image_layer.ImageLayer object at 0x75a330cb8b80>\n",
       "Image: <paidiverpy.image_layer.ImageLayer object at 0x75a330cb81c0>\n",
       "Image: <paidiverpy.image_layer.ImageLayer object at 0x75a330cb8880>\n",
       "Image: <paidiverpy.image_layer.ImageLayer object at 0x75a330cb9c30>\n",
       "Image: <paidiverpy.image_layer.ImageLayer object at 0x75a330cb98d0>\n",
       "Image: <paidiverpy.image_layer.ImageLayer object at 0x75a330cb8520>\n",
       "Image: <paidiverpy.image_layer.ImageLayer object at 0x75a330cbac80>"
      ]
     },
     "execution_count": 18,
>>>>>>> 0b6637d5876468601d52a016d92742984755764b
     "metadata": {},
     "output_type": "execute_result"
    }
   ],
   "source": [
    "pipeline.images"
   ]
  },
  {
   "cell_type": "code",
   "execution_count": 19,
   "id": "b8d08e1c-c9e1-478f-95fa-a368ee58d00c",
   "metadata": {},
   "outputs": [],
   "source": [
    "# Add a new step to your process\n",
<<<<<<< HEAD
    "pipeline.add_step(\n",
    "    \"Area1\",\n",
    "    ResampleLayer,\n",
    "    {\"mode\": \"fixed\", \"params\": {\"value\": 10}, \"test\": False},\n",
    "    1,\n",
    "    substitute=True,\n",
    ")"
=======
    "pipeline.add_step('Area1', ResampleLayer, {'mode': 'fixed', 'params': {'value': 10}, 'test':False}, 1, substitute=True)"
>>>>>>> 0b6637d5876468601d52a016d92742984755764b
   ]
  },
  {
   "cell_type": "code",
   "execution_count": 20,
   "id": "b4cee8bd-f525-4fab-ad4c-c4472670a3a2",
   "metadata": {},
   "outputs": [
    {
     "data": {
      "text/html": [
       "\n",
       "        <div style=\"display: flex; flex-wrap: wrap; align-items: center;\">\n",
       "            \n",
       "        <div id=\"general\" title=\"Click to see more information\" class=\"square\" style=\"float:left; cursor: pointer; padding: 10px; width: max-content; height: 80px; margin: 10px; border: 1px solid #000; text-align: center; line-height: 80px;\" onclick=\"showParameters('general')\">\n",
       "            <h2 style=\"font-size:20px;\">Raw</h2>\n",
       "            <h2 style=\"font-size:13px;\">Type: Raw</h2>\n",
       "        </div>\n",
       "        \n",
       "            <div style=\"float:left; width: 50px; height: 80px; margin: 10px; text-align: center; line-height: 80px;\">&#10132;</div>\n",
       "                <div id=\"step_0\" title=\"Click to see more information\" class=\"square\" style=\"cursor: pointer; float:left; padding: 10px; width: max-content; height: 80px; margin: 10px; border: 1px solid #000; text-align: center; line-height: 80px;\" onclick=\"showParameters('step_0')\">\n",
       "                    <h2 style=\"font-size:20px;\">Area1</h2>\n",
       "                    <h2 style=\"font-size:13px;\">Type: Sampling</h2>\n",
       "                </div>\n",
       "            \n",
       "        </div>\n",
       "        <div id=\"parameters\" style=\"padding: 10px; margin: 10px;\">\n",
       "                <div id=\"parameters_step_0\" class=\"parameters\" style=\"display: none;\">\n",
       "                    <pre>{\n",
       "    \"name\": \"Area1\",\n",
       "    \"mode\": \"fixed\",\n",
       "    \"params\": {\n",
       "        \"value\": 10\n",
       "    },\n",
       "    \"step_name\": \"sampling\",\n",
       "    \"test\": false\n",
       "}</pre>\n",
       "                </div>\n",
       "            \n",
       "            <div id=\"parameters_general\" class=\"parameters\" style=\"display: none;\">\n",
       "                <pre>{\n",
       "    \"input_path\": \"/mnt/code/code/noc/paidiver/paidiverpy/examples/data/mojtaba\",\n",
       "    \"output_path\": \"/mnt/code/code/noc/paidiver/paidiverpy/examles/data\",\n",
       "    \"catalog_path\": \"/mnt/code/code/noc/paidiver/paidiverpy/examples/catalog/catalog_mojtaba.csv\",\n",
       "    \"catalog_type\": \"CSV\",\n",
       "    \"image_type\": \"BMP\",\n",
       "    \"sampling\": [\n",
       "        {\n",
       "            \"mode\": \"percent\",\n",
       "            \"params\": {\n",
       "                \"value\": 0.9\n",
       "            }\n",
       "        }\n",
       "    ],\n",
       "    \"convert\": [\n",
       "        {\n",
       "            \"mode\": \"bits\",\n",
       "            \"params\": {\n",
       "                \"output_bits\": 8,\n",
       "                \"autoscale\": true\n",
       "            }\n",
       "        }\n",
       "    ],\n",
       "    \"name\": \"raw\",\n",
       "    \"step_name\": \"raw\"\n",
       "}</pre>\n",
       "            </div>\n",
       "        </div>\n",
       "        <script>\n",
       "            function showParameters(id) {\n",
       "                // Hide all parameter sections\n",
       "                var currentTarget = document.getElementById(id);\n",
       "                var square = document.getElementsByClassName('square');\n",
       "                var allParams = document.getElementsByClassName('parameters');\n",
       "                var selectedParams = document.getElementById('parameters_' + id);\n",
       "                var idWasVisible = false;\n",
       "                if (selectedParams) {\n",
       "                    var idWasVisible = selectedParams.style.display === 'block';                    \n",
       "                }\n",
       "                for (var i = 0; i < square.length; i++) {\n",
       "                    square[i].style.color = 'black';\n",
       "                }\n",
       "                for (var i = 0; i < allParams.length; i++) {\n",
       "                    allParams[i].style.display = 'none';\n",
       "                }\n",
       "                // Show the selected parameter section\n",
       "                if (selectedParams) {\n",
       "                    if (idWasVisible) {\n",
       "                        selectedParams.style.display = 'none';\n",
       "                        currentTarget.style.color = 'black';\n",
       "                    } else {\n",
       "                        selectedParams.style.display = 'block';\n",
       "                        currentTarget.style.color = 'red';\n",
       "                    }\n",
       "                }\n",
       "            }\n",
       "        </script>\n",
       "        "
      ],
      "text/plain": [
       "<paidiverpy.pipeline.pipeline.Pipeline at 0x75a338f91d20>"
      ]
     },
     "execution_count": 20,
     "metadata": {},
     "output_type": "execute_result"
    }
   ],
   "source": [
    "pipeline"
   ]
  },
  {
   "cell_type": "code",
   "execution_count": 21,
   "id": "e7874e49-b766-4393-87e9-81dff3b01557",
   "metadata": {},
   "outputs": [
    {
     "data": {
      "text/plain": [
       "[('raw',\n",
       "  paidiverpy.open_layer.open_layer.OpenLayer,\n",
       "  {'input_path': PosixPath('/mnt/code/code/noc/paidiver/paidiverpy/examples/data/mojtaba'),\n",
       "   'output_path': PosixPath('/mnt/code/code/noc/paidiver/paidiverpy/examles/data'),\n",
       "   'catalog_path': PosixPath('/mnt/code/code/noc/paidiver/paidiverpy/examples/catalog/catalog_mojtaba.csv'),\n",
       "   'catalog_type': 'CSV',\n",
       "   'image_type': 'BMP',\n",
       "   'sampling': [{'mode': 'percent', 'params': {'value': 0.9}}],\n",
       "   'convert': [{'mode': 'bits',\n",
       "     'params': {'output_bits': 8, 'autoscale': True}}],\n",
       "   'name': 'raw',\n",
       "   'step_name': 'raw'}),\n",
       " ('Area1',\n",
       "  paidiverpy.resample_layer.resample_layer.ResampleLayer,\n",
       "  {'mode': 'fixed',\n",
       "   'params': {'value': 10},\n",
       "   'test': False,\n",
       "   'name': 'Area1',\n",
       "   'step_name': 'sampling'})]"
      ]
     },
     "execution_count": 21,
     "metadata": {},
     "output_type": "execute_result"
    }
   ],
   "source": [
    "pipeline.steps"
   ]
  },
  {
   "cell_type": "code",
   "execution_count": 22,
   "id": "312e1b1a-2b71-4e58-87ef-bd2e1005d242",
   "metadata": {},
   "outputs": [
    {
     "name": "stdout",
     "output_type": "stream",
     "text": [
      "☁ paidiverpy ☁  |       INFO | 2024-09-10 11:12:14 | Running step 1: Area1 - ResampleLayer\n",
      "☁ paidiverpy ☁  |       INFO | 2024-09-10 11:12:14 | Step 1 completed\n",
      "☁ paidiverpy ☁  |       INFO | 2024-09-10 11:12:14 | Step 1 saved\n"
     ]
    }
   ],
   "source": [
    "pipeline.run(from_step=0)"
   ]
  },
  {
   "cell_type": "code",
   "execution_count": 23,
   "id": "07078e92-1c3c-4d70-834f-d7fdf9d468b8",
   "metadata": {},
   "outputs": [
    {
     "data": {
      "text/html": [
       "\n",
       "        <style>\n",
       "        .step-header {\n",
       "            font-size: 1.2em;\n",
       "            font-weight: bold;\n",
       "            margin-top: 10px;\n",
       "            margin-bottom: 5px;\n",
       "        }\n",
       "        .metadata {\n",
       "            margin-left: 20px;\n",
       "            margin-bottom: 10px;\n",
       "        }\n",
       "        .image-container {\n",
       "            display: flex;\n",
       "            flex-wrap: wrap;\n",
       "            gap: 10px;\n",
       "            margin-left: 20px;\n",
       "        }\n",
       "        .image-container img {\n",
       "            max-width: 200px;\n",
       "            margin: 10px;\n",
       "        }\n",
       "        .toggle-arrow {\n",
       "            cursor: pointer;\n",
       "            margin-left: 5px;\n",
       "        }\n",
       "        .show-more-button, .hide-button {\n",
       "            margin-left: 20px;\n",
       "            background-color: #007bff;\n",
       "            color: white;\n",
       "            border: none;\n",
       "            padding: 5px 10px;\n",
       "            cursor: pointer;\n",
       "        }\n",
       "        </style>\n",
       "        <script>\n",
       "        function toggleMetadata(stepIndex) {\n",
       "            var x = document.getElementById(\"metadata-\" + stepIndex);\n",
       "            var arrow = document.getElementById(\"arrow-\" + stepIndex);\n",
       "            if (x.style.display === \"none\") {\n",
       "                x.style.display = \"block\";\n",
       "                arrow.innerHTML = \"▼\";\n",
       "            } else {\n",
       "                x.style.display = \"none\";\n",
       "                arrow.innerHTML = \"►\";\n",
       "            }\n",
       "        }\n",
       "        function toggleImage(imageId) {\n",
       "            var img = document.getElementById(imageId);\n",
       "            var arrow = document.getElementById(\"arrow-\" + imageId);\n",
       "            if (img.style.display === \"none\") {\n",
       "                img.style.display = \"block\";\n",
       "                arrow.innerHTML = \"▼\";\n",
       "            } else {\n",
       "                img.style.display = \"none\";\n",
       "                arrow.innerHTML = \"►\";\n",
       "            }\n",
       "        }\n",
       "        function showMore(stepIndex) {\n",
       "            var moreImages = document.getElementById(\"more-images-\" + stepIndex);\n",
       "            var showMoreButton = document.getElementById(\"show-more-button-\" + stepIndex);\n",
       "            var hideButton = document.getElementById(\"hide-button-\" + stepIndex);\n",
       "            moreImages.style.display = \"flex\";\n",
       "            showMoreButton.style.display = \"none\";\n",
       "            hideButton.style.display = \"inline-block\";\n",
       "        }\n",
       "        function hide(stepIndex) {\n",
       "            var moreImages = document.getElementById(\"more-images-\" + stepIndex);\n",
       "            var showMoreButton = document.getElementById(\"show-more-button-\" + stepIndex);\n",
       "            var hideButton = document.getElementById(\"hide-button-\" + stepIndex);\n",
       "            moreImages.style.display = \"none\";\n",
       "            showMoreButton.style.display = \"inline-block\";\n",
       "            hideButton.style.display = \"none\";\n",
       "        }\n",
       "        </script>\n",
       "        <div class='step-header'>Step: raw <span id='arrow-0' class='toggle-arrow' onclick='toggleMetadata(0)'>►</span></div><div id='metadata-0' class='metadata' style='display:block;'><div class='image-container'><div><p onclick='toggleImage(\"image-0-0\")' style='cursor:pointer;'>Image: 20230310043208_264_0000.bmp <span id='arrow-image-0-0' class='toggle-arrow'>►</span></p><img id='image-0-0' src='data:image/png;base64,/9j/4AAQSkZJRgABAQAAAQABAAD/2wBDAAgGBgcGBQgHBwcJCQgKDBQNDAsLDBkSEw8UHRofHh0aHBwgJC4nICIsIxwcKDcpLDAxNDQ0Hyc5PTgyPC4zNDL/wAALCACWAJYBAREA/8QAHwAAAQUBAQEBAQEAAAAAAAAAAAECAwQFBgcICQoL/8QAtRAAAgEDAwIEAwUFBAQAAAF9AQIDAAQRBRIhMUEGE1FhByJxFDKBkaEII0KxwRVS0fAkM2JyggkKFhcYGRolJicoKSo0NTY3ODk6Q0RFRkdISUpTVFVWV1hZWmNkZWZnaGlqc3R1dnd4eXqDhIWGh4iJipKTlJWWl5iZmqKjpKWmp6ipqrKztLW2t7i5usLDxMXGx8jJytLT1NXW19jZ2uHi4+Tl5ufo6erx8vP09fb3+Pn6/9oACAEBAAA/APn+iiiiiiiiiiiiiiiiiiiiiiiiiiiiiiiiiiiiiiiiiiiiiiiiiiiiiiiiiiiiiiiiiiiiiiiiiiiiiiiiiiiiiiiiiiiiiiiiiiiiiiiiiiiiiiiiiiiiiiiiiijFL07UfhSUUUUUUUUUUUUUUUVaSwnkAKoTn2rtfCvw3v8AWvneFtv0rQ134T6paRNJFC21RnpXnF3ZTWc7RSqQy+tV6KKKKKKKKKKKKKtWESy3aKw4Jr6P8BeBdL1PTkllUEgZr1XTNHtNIhEdvGAOmcVbmijuImikQFWGORXzT8Z/C0Wi3IuYlAEhzxXjuOBSUUUUUUUUUUUUtbejeHdU1G5iNpA7DI5Ar618B6JJpegQebkSleRXWDnoaCD1z0r52+O2uw37paxsC0fBxXhmeBSUUUUUUUUUUUV6D8MfA3/CVawFuVKwjnJr6Z8O+D9P8NxhYo1Y4wCRXRgjb8uMelcVr/jFdAuCJCME965PW/jFFbWL+SVLMpFfPWv61NrGoy3EjEhiTWRRRRRRRRRRRRThyy/WvqT4QLpdroSSmREm29zivRB4g0trgxG6jyPU0y/8RaXYWjym6iJA4Aavmb4keL/7Xv5I4X+UE4INecSXEzrh2JFQUUUUUUUUUUUUUVvab4ov7CHyopmVcdAaV/FOqPKXFy4P+9Ve48R6rOCr3Tkemay5JXkbLkk+tMooooooooooooooooooooooooooooooooooooooooooooooooooooooooooooooooooooooooooooooooooooooooooooooooooooooooooooooooooooooooor/9k=' style='display:block;' /></div><div><p onclick='toggleImage(\"image-0-1\")' style='cursor:pointer;'>Image: 20230310041821_695_0004.bmp <span id='arrow-image-0-1' class='toggle-arrow'>►</span></p><img id='image-0-1' src='data:image/png;base64,/9j/4AAQSkZJRgABAQAAAQABAAD/2wBDAAgGBgcGBQgHBwcJCQgKDBQNDAsLDBkSEw8UHRofHh0aHBwgJC4nICIsIxwcKDcpLDAxNDQ0Hyc5PTgyPC4zNDL/wAALCACWAJYBAREA/8QAHwAAAQUBAQEBAQEAAAAAAAAAAAECAwQFBgcICQoL/8QAtRAAAgEDAwIEAwUFBAQAAAF9AQIDAAQRBRIhMUEGE1FhByJxFDKBkaEII0KxwRVS0fAkM2JyggkKFhcYGRolJicoKSo0NTY3ODk6Q0RFRkdISUpTVFVWV1hZWmNkZWZnaGlqc3R1dnd4eXqDhIWGh4iJipKTlJWWl5iZmqKjpKWmp6ipqrKztLW2t7i5usLDxMXGx8jJytLT1NXW19jZ2uHi4+Tl5ufo6erx8vP09fb3+Pn6/9oACAEBAAA/APn+iiiiiiiiiiiiiiiiiiiiiigdaU9aSiiiiiiiiiiiiiiiigdaU9aSiiiiiiiiiiiiiiiiiiiiiiiiiiiiiiiiiiiig0UUUUUUUUUUUUUUUUUUUUUUUUUUUUUUUUUUUUUUUUu0kUu0gdKTacdKTFFFFFFFFFFFFFFFSKmasRQMxwBVsabPLHlUJ/CnjR7rAzGfyqpNYvFncCMVSddpptFFFFFFFFFFFKKnthuYA12ug6ML1lULkmvY/Dvw8iktFeSIflWvqfgG0itDIsS/KPSvGPGGjJbSMETFec3kexsVVooooooooooopRVi1OHFepeCJUWeMn1r6Q0OVH09Ag4xWhPEs8LRnoRXhvxE0yOGSTHXmvCtWULMw96y6KKKKKKKKKKKKlgfa1d74NuSk6gnvX0p4PulbT1jY8muiuJ1t4yx9K8P+Id6JXmfPTNeD6rJ5k5I7ms+iiiiiiiiiiiilBwRXQ6HqItpkJOMGvcPCXi+NAgMg4HrXU3/AIyt5LR8yjOPWvE/Gmvi4lZEfIavN7mTe9QUUUUUUUUUUUUUU9JGQ5Bra03WprQcMfzq/ceI55ExvPPvWBeXr3D5Yk1SPJooooooooooooooopcn1pdx9abRRRRRRRRRRRRRRRRRRRRRRRRRRRRRRRRRRRRRRRRRRRRRRRRRRRRRRRRRRRRRRRRRRRRRRRRRRRRRRRRRRRRRRRRRRRRRRRRRRRRRRX//2Q==' style='display:block;' /></div><div><p onclick='toggleImage(\"image-0-2\")' style='cursor:pointer;'>Image: 20230310042334_634_0000.bmp <span id='arrow-image-0-2' class='toggle-arrow'>►</span></p><img id='image-0-2' src='data:image/png;base64,/9j/4AAQSkZJRgABAQAAAQABAAD/2wBDAAgGBgcGBQgHBwcJCQgKDBQNDAsLDBkSEw8UHRofHh0aHBwgJC4nICIsIxwcKDcpLDAxNDQ0Hyc5PTgyPC4zNDL/wAALCACWAJYBAREA/8QAHwAAAQUBAQEBAQEAAAAAAAAAAAECAwQFBgcICQoL/8QAtRAAAgEDAwIEAwUFBAQAAAF9AQIDAAQRBRIhMUEGE1FhByJxFDKBkaEII0KxwRVS0fAkM2JyggkKFhcYGRolJicoKSo0NTY3ODk6Q0RFRkdISUpTVFVWV1hZWmNkZWZnaGlqc3R1dnd4eXqDhIWGh4iJipKTlJWWl5iZmqKjpKWmp6ipqrKztLW2t7i5usLDxMXGx8jJytLT1NXW19jZ2uHi4+Tl5ufo6erx8vP09fb3+Pn6/9oACAEBAAA/APn+iiiiiiiiiiiiiiiiiiiiiiiiiiiiiiiiiiiiiiiiiiiiiiiiiiiiiiiiiiiiiiiiiiiiiiiiiiiiiiiiiiiiiiiiiiiiiiiiiiiiiiiiiiiiiiiiiiiiiiiinIhkcKvU1Zn0+e3QO68EZqpjNBBBwaKKKKKKKKKKKKKKK0bPTZ5CJlxhea2PNF0BDIg6Yrd0jRNOkX95GN2MVleIPC7QTtPEoMR5AFc1JZsRuACgCqZGDiiiiiiiiiiiiinRjdIo967Pw5pVxcyqA48skcV2t54PicR/Zoxv71uWvgsw2SyA4fHrVa50K5DMJ4y0Q46e1ee+JfCtyszS25CxAZxXIT2pRvL4DDqapng0UUUUUUUUUUVc0ywfU75LZGCs3QmvWNA8IXujqpabdnnrXoFiBCgjkwWbvWq2i3ccSXImDRt2zW40dg2klpmQOexryzxTpr3KvLA6iLB4rxTWT5d0Vj5YE5IFZFFFFFFFFFFFFWLKWWG6R4G2uDwa9X8NeI7sKkN0xct0Oa7CWRmlQq/JHr0rq4zc6bpgluJi6N0Gelcvrn2yWE3cEx8vOdoNcNqHiC6msXtAGVuRnNcJGv2KaR7td28kjNYs7q8zMowCajooooooooooqW2bZOpNdnoWtw/ao4iBn612+oXRtVilWTcT2z0rRfxJcXdgsTFiuO9Zd7rbaZZb5XLR7SdufWuB1HxbDdXG+KErg1jX+rLeJt2YNZVFFFFFFFFFFFFWLKbybpH9/Wurn1ndEm6TOB0q9B4tgitxER9azNZ1RdQtshzjHQmuRooooooooooooooopS7EcsfzpKXc2MZOPSkoooooooooooooooooooooooooooooooooooooooooooooooooooooooooooooooooooooooooooooooooooooooooooooooooooooor//2Q==' style='display:block;' /></div><div><p onclick='toggleImage(\"image-0-3\")' style='cursor:pointer;'>Image: 20230310041822_395_0002.bmp <span id='arrow-image-0-3' class='toggle-arrow'>►</span></p><img id='image-0-3' src='data:image/png;base64,/9j/4AAQSkZJRgABAQAAAQABAAD/2wBDAAgGBgcGBQgHBwcJCQgKDBQNDAsLDBkSEw8UHRofHh0aHBwgJC4nICIsIxwcKDcpLDAxNDQ0Hyc5PTgyPC4zNDL/wAALCACWAJYBAREA/8QAHwAAAQUBAQEBAQEAAAAAAAAAAAECAwQFBgcICQoL/8QAtRAAAgEDAwIEAwUFBAQAAAF9AQIDAAQRBRIhMUEGE1FhByJxFDKBkaEII0KxwRVS0fAkM2JyggkKFhcYGRolJicoKSo0NTY3ODk6Q0RFRkdISUpTVFVWV1hZWmNkZWZnaGlqc3R1dnd4eXqDhIWGh4iJipKTlJWWl5iZmqKjpKWmp6ipqrKztLW2t7i5usLDxMXGx8jJytLT1NXW19jZ2uHi4+Tl5ufo6erx8vP09fb3+Pn6/9oACAEBAAA/APn+iiiiiiiiiiiiiiiiiiiiiiiiiiiiiiiiiiiiiiiiiiiiiiiiiiiiiiiiiiiiiiiiiiiiiiiiiiiiiiiiiiiiiiiiiiiiiiiiiiiiiiiiiiiiiiiiiiiiiiiiiilx7UY9qSiiiiiiiiiiiiiiinpG0jBUBJ9BVxNH1ByMW7/lTJ9MvbfmSBwPXFVCMHBpKKKKKKKKKKKKKKcil2CgZJOK9b8A/C+8u5ra/uYiYHIPI7V9Ax+CtERFX7IuQMZxWR4l+H+l32mslvbKsnbAr5n8Z+EbjQNUaAoRnkcVyLAqxU9RSUUUUUVOsQMDOeoqCiiiiiu/+GnhFvEWuw7lzAGGTivrXTrKLTrGGzhACRrgYFT7G/vVHNdwWynzpFBA715H8Rray1rfdoFLKMV856tAIL11HqaoUUUUUU8yHbtHSmUUUUVJFGZZUjHVjivrL4P+GYdG8MJMygzSnOfQV3GpatbaXFvlcZ9M1yl78TLGzJzGCo715R4r+Jr3+oM1vIQmegNc5L4xeWMh3O0j1rhdTnF1dNIOhNUKKKKKKKKKKKKt6eyreRu3RTmvTV+Kt5ptnHBA5AQY4qhcfEDU9fmjh8xiWOOtd9NolrB4Hee/cC5ZcjPWvA71tt24RsjJquZXK43GkJ4FNooooooooooopQSpyKcXJ+9zWlouoJY38UzKMIc10vizx5LrUMcEDFY1XBArhiSxJPU0lFFFFFFFFFFFFFFFFLgetJRRRRRRRRRRRRRRRRRRRRRRRRRRRRRRRRRRRRS9KSiiiiiiiiiiiiiiiilCk9q0IdKmeLzih2D2qnOoVsCoqKKKKKKKKKKKKKKAMnFdh4K8Lz6/qMcQjJTPXFfQMHwptl0wW5Cglea+dvHWipoXiCazQ5CMRXL0UUUUUUUUUUUUUU5fvD619N/BPS4P7NNyVBcD0r1i7uDFaSuo5VSRXxn8QLt7vxdeO553GuWooooooor/2Q==' style='display:block;' /></div><div><p onclick='toggleImage(\"image-0-4\")' style='cursor:pointer;'>Image: 20230310041829_544_0001.bmp <span id='arrow-image-0-4' class='toggle-arrow'>►</span></p><img id='image-0-4' src='data:image/png;base64,/9j/4AAQSkZJRgABAQAAAQABAAD/2wBDAAgGBgcGBQgHBwcJCQgKDBQNDAsLDBkSEw8UHRofHh0aHBwgJC4nICIsIxwcKDcpLDAxNDQ0Hyc5PTgyPC4zNDL/wAALCACWAJYBAREA/8QAHwAAAQUBAQEBAQEAAAAAAAAAAAECAwQFBgcICQoL/8QAtRAAAgEDAwIEAwUFBAQAAAF9AQIDAAQRBRIhMUEGE1FhByJxFDKBkaEII0KxwRVS0fAkM2JyggkKFhcYGRolJicoKSo0NTY3ODk6Q0RFRkdISUpTVFVWV1hZWmNkZWZnaGlqc3R1dnd4eXqDhIWGh4iJipKTlJWWl5iZmqKjpKWmp6ipqrKztLW2t7i5usLDxMXGx8jJytLT1NXW19jZ2uHi4+Tl5ufo6erx8vP09fb3+Pn6/9oACAEBAAA/APn+iiiiiiiiiiiiiiiiiiiiiiiiiiiiiiiiiiiiiiiiiiiiiiiiiiiiiiiiiiiiiiiiiiiiiiiiiiiiiiiiiiiiiiiiiiiiiiiiiiiiiiiiiiiiiiiiiiiiiiiiilAJ6CgKfpQVxSUUUUUUUUUUUUUUVJFE8rBUQsfQV3nhf4X614kAMUTQL6uMV3Fv8ANQA/f3MZ+hqjq3wF1W2heeCZHVedoPNeYa1oNxoszRXMLKw9axSKSiiiiiiiiiiinA7SCK9D+HFnp91q8Mlzt3Bhw3SvrCzS3S0jW3EYGwf6vFTjOP4qRmVFLSNhR13dK8k+J03hK7gcTtGbrHBT1r5s1GJIrtvK5iz8tUqKKKKKKKKKKKUHBq3aajPaSBonKEdxXfaB8VtZ0gKFlaUD+8a7OH4/XpTD20e76VieIvjVqurWjWqoIVbunFeW3eozzys8k7yFv7xqkZGPU5plFFFFFFFFFFFFFOUsOlW7WzurtwsMMhY+1a0vg3Xo7f7RJaOI8ZzWDNA0LFXBBHWoqKKKKKKKKKKKKKXtXpfwv8D6T4muRJqN6IivIQnrX0tp3hHQrC2iih063O0ff2jJqxqeladNp0kNzHHFBjlumK+VvifpejaZqzLpNysyk84PSvP+MCkoooooooooooooq9p2q3mmzLJbTMhB7Gu/sPjFrdtbiJ7hzgYBzVDWfinrupwtD9rcRt1Ga4ae4kuJC8jFmPUk1FRRRRRRRRRRRRRRRRRRRRRRRRRRRRRRRRRRRRRRRRRRRRRRRRRRRRRRRRRRRRRRRRRRRRRRRRRRRRRRRRRRRRRRRRRRRRRRRRRRRRRRRRRRRRRRRRRRRRRRRRX//Z' style='display:block;' /></div><div><p onclick='toggleImage(\"image-0-5\")' style='cursor:pointer;'>Image: 20230310041903_494_0000.bmp <span id='arrow-image-0-5' class='toggle-arrow'>►</span></p><img id='image-0-5' src='data:image/png;base64,/9j/4AAQSkZJRgABAQAAAQABAAD/2wBDAAgGBgcGBQgHBwcJCQgKDBQNDAsLDBkSEw8UHRofHh0aHBwgJC4nICIsIxwcKDcpLDAxNDQ0Hyc5PTgyPC4zNDL/wAALCACWAJYBAREA/8QAHwAAAQUBAQEBAQEAAAAAAAAAAAECAwQFBgcICQoL/8QAtRAAAgEDAwIEAwUFBAQAAAF9AQIDAAQRBRIhMUEGE1FhByJxFDKBkaEII0KxwRVS0fAkM2JyggkKFhcYGRolJicoKSo0NTY3ODk6Q0RFRkdISUpTVFVWV1hZWmNkZWZnaGlqc3R1dnd4eXqDhIWGh4iJipKTlJWWl5iZmqKjpKWmp6ipqrKztLW2t7i5usLDxMXGx8jJytLT1NXW19jZ2uHi4+Tl5ufo6erx8vP09fb3+Pn6/9oACAEBAAA/APn+iiiiiiiiiiiiiiiiiiiiiiiiiiiiiiiiiiiiiiiiiiiiiiiiiiiiiiiiiiiiiiiiiiiiilBwc0h5NFFFFFFFFFFFFFFFFFFFFFFFFFFFFFFFFFFKoyaQ9aKKKKKKKKKKKKKkiheZtqDNWo9KupJljEZyxwOKXUtHv9IkVL22eLcMqWH3hVCiiiiiiiiiiiiiinqu47cc+td74L8KTalhkQvk4Jx0rrb7w3/YeqQfaVA2sDjHUV13xN0/SvEngCG5gEf22AAqVHOB2r5plt5YSfMQqc4qKiiiiiiiiiiiiinI5VgfevfvhJqtva2hdlVsc4rtdU8MT+L7w6hnZCVwlcxrWhXei2MsdySIo1yPQ1454gls7i2Z4sCTPIrlSMGkooooooooooooortfA2t/Yb6KJnwrHBFfXWimM6PaGLGwxgjFZnjbSl1XwzdxY/eKpZT3r461e0eG8lhwQVYgg1mzW8kOC4OD0NRUUUUUUUUUUUUUVPbSmB1kU4YHNezeAvjBdWCQ6desGiDAAnsK9bl8c6fcfuWkXbIuRXzl8S1itfFDvbFSr/NxXLPqKTWwjkX5l6Gs9tpJIptFFFFFFFFFFFFFPicxyBgcEGum/tW8Fgl2sx+Q7etYeo6jJqMgeUksO5qlRRRRRRRRRRRRRRRRVuG8aO2e3PKNz+NVKKKKKKKKKKKKKKKKKKKKKKKKKKKKKKKKKKKKKKKKKKKKKKKKKKAcUUUUUUUUUUUUUUUUUUUUUUUUUUUUUUUUUUUUUUUUUUUUUUUUUUUUUU+NN7YpZFC8Co6KKKKKKKKKKKKKKKK//9k=' style='display:block;' /></div><div><p onclick='toggleImage(\"image-0-6\")' style='cursor:pointer;'>Image: 20230310043332_861_0002.bmp <span id='arrow-image-0-6' class='toggle-arrow'>►</span></p><img id='image-0-6' src='data:image/png;base64,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' style='display:block;' /></div><div><p onclick='toggleImage(\"image-0-7\")' style='cursor:pointer;'>Image: 20230310041821_795_0005.bmp <span id='arrow-image-0-7' class='toggle-arrow'>►</span></p><img id='image-0-7' src='data:image/png;base64,/9j/4AAQSkZJRgABAQAAAQABAAD/2wBDAAgGBgcGBQgHBwcJCQgKDBQNDAsLDBkSEw8UHRofHh0aHBwgJC4nICIsIxwcKDcpLDAxNDQ0Hyc5PTgyPC4zNDL/wAALCACWAJYBAREA/8QAHwAAAQUBAQEBAQEAAAAAAAAAAAECAwQFBgcICQoL/8QAtRAAAgEDAwIEAwUFBAQAAAF9AQIDAAQRBRIhMUEGE1FhByJxFDKBkaEII0KxwRVS0fAkM2JyggkKFhcYGRolJicoKSo0NTY3ODk6Q0RFRkdISUpTVFVWV1hZWmNkZWZnaGlqc3R1dnd4eXqDhIWGh4iJipKTlJWWl5iZmqKjpKWmp6ipqrKztLW2t7i5usLDxMXGx8jJytLT1NXW19jZ2uHi4+Tl5ufo6erx8vP09fb3+Pn6/9oACAEBAAA/APn+iiiiiirdlbmZuK7DRtAkmwwFdlZ6LLHHyvAFQ3fhn7ZG7ZGcV51rehy2RkbHANc7RRRRRRRRRRRRTlXJroNCtfmDEd69Y8M2CiMFh1rrXgHkiONc+9ZF/atawls4J7VwWvbJraRXHNeaXkIhmIHSq9FFFFFFFFFFFTR42jNdPocgypHavVdAl3RKegFdNb6hFbo+8jp8tY97dtcoxYcV594hdfOKA4U15/qYCzYByKoUUUUUUUUUUUUvJwK3NKuPJxzXo/hzV4xAUkYAGumzHcRqxcADp71n6pemJNoxXBa7cq4JB+tcTcyb5TUFFFFFFFFFFFFGcVZgm2rjNaltqjxFQGwK6GDxZIIlj38LTb3xK08W7dzXL3uoGVSM9ayyc0UUUUUUUUUUUUUoJFLvb1pRKwPWnNM23ANRE5oooooooooooooooopyozHgU4wSAZ28UwgjrSUUUUUUUUUUUUUVJHH5nA61rafokt6wCKTXcaN8NLu8XzPLOPpVvUPAL2kRUx9vSuD1TQZbIsGQ1gOhRsGm0UUUUUUUUUUUVqaVaG4lXA717R4L8NJsSZ1BA6167Z3Fpa2QiiiAYjHSq0+nxXULs6jOM15h4q0i2S1mZ0G4ZxXhuqoEvGAHGaoUUUUUUUUUUUUq4zzXTeG2WOZcjPNe/wDgtlktgCOK9CigtPs/CjdisS9uvskjLnivN/F92JInQd68Q1sKLkgdc1k0UUUUUUUUUUUV0fh+4RXG4d69q8Jaoscaoveu9t9YEELZ+Y44rBu7iW8lZiprgvFMi28Thm+Y147qcvm3THPeqVFFFFFFFFFFFFXbK48gZ967vw34lWAqGOMV6Hpnia3CmWVwRjpmotS8dWkMLvGByK8n8QeI3v2kYNnJ4rkmYsxJ6mkoooooooooooooqaO5eLG04q/Hrdwibd5x9ail1OV1Kscg1QZixJJpKKKKKKKKKKKKKKKKKKKKKKKKKKKKKKKKKKKKKKKKKKKKKKKKKKKKKKKKKKKKKKKKKKKKKKKKKKKKKKKKKKKKKKKKKKKKKKKKKKKKKKKKKKKKKKKKKKKKKKKKK//Z' style='display:block;' /></div><div><p onclick='toggleImage(\"image-0-8\")' style='cursor:pointer;'>Image: 20230310041757_499_0001.bmp <span id='arrow-image-0-8' class='toggle-arrow'>►</span></p><img id='image-0-8' src='data:image/png;base64,/9j/4AAQSkZJRgABAQAAAQABAAD/2wBDAAgGBgcGBQgHBwcJCQgKDBQNDAsLDBkSEw8UHRofHh0aHBwgJC4nICIsIxwcKDcpLDAxNDQ0Hyc5PTgyPC4zNDL/wAALCACWAJYBAREA/8QAHwAAAQUBAQEBAQEAAAAAAAAAAAECAwQFBgcICQoL/8QAtRAAAgEDAwIEAwUFBAQAAAF9AQIDAAQRBRIhMUEGE1FhByJxFDKBkaEII0KxwRVS0fAkM2JyggkKFhcYGRolJicoKSo0NTY3ODk6Q0RFRkdISUpTVFVWV1hZWmNkZWZnaGlqc3R1dnd4eXqDhIWGh4iJipKTlJWWl5iZmqKjpKWmp6ipqrKztLW2t7i5usLDxMXGx8jJytLT1NXW19jZ2uHi4+Tl5ufo6erx8vP09fb3+Pn6/9oACAEBAAA/APn+iiiiiiiiiiiiiiiiiiiiiiiiiiiiiiiiiiiiiiiiiiiiiiiiiiiiiiiiiiiiiiiiiiiiiiiiiiiiiiiiiiiiiiiiiiiiiiiiiiiiiiiiiiiiiiiiiiiiiiiiiiij8KKKKKKKKKKKKKKKKKngtJbhgEUnNbcfhi4liB2EH6VHN4buIVyymsm5tHt2wQar0UUUUUUUUUUUUVcsLJ7qZVAyK9Q8J+HYUZWnjGPcV6Tpvh22uZAqRjH0p3iXwdDDaArGMn2ryHxLoC2q7mXFef3aBJMCq1FFFFFFFFFFFFdn4VtBIyNjNe36DpEctqpxg4rstBtoLaUhj0p2s3CTkofujpXjfj0psKrXjt8g3k1n0UUUUUUUUUUU6Nd7gV3XhK4SGZEavcNAuFMS4bgit8wSRjzVYgGsTWdSWOPhua8l8Yams4Iz0rzS8l3vxVSiiiiiiiiiiilVipyK2NKvjDKGzzXpGi+K2hCKX6V3U3jiEaaF8wbsetcFrXiky7ir159qeqNcO2WzWGxyc0lFFFFFFFFFFFFOjco2RV2LUpIyME1dm1eYxD5zj61Wkv2ePk1nOxZiTTaKKKKKKKKKKKKKKKduZhjrS7HI6HFMxiiiiiiiiiiiiiiiitPT9JkvSoVSc13Wl+AHuIQTGc/SotX8Ez2URIiOPpXB3enz2shDoQKp0UUUUUUUUUUUUVbsLc3E4XFep+ENISF1eVRivTtLvbaGUIEGB7VrXkFpq0O0IoI9q8m8d+HreCJzGoBHpXjc8flTMvoaiooooooooooooroPDyIZ0zjOa9ks4Fj05HQc47Vt6KLYnMrDNadzqVvagiBhmvMvGmrNKjZPWvI7xg8xI9arUUUUUUUUUUUUVo6PceTeIScDNe3eGdQtru0EUkg6etabQxRysUlGPrWLf3SWhdmlz+Neb+IdaF07KD3rkGO5iaSiiiiiiiiiiiilVipyDzW1pWt3VrIArn867ePWrh7UMWOcVzmr6vO4YFjXJySM7kk9aZRRRRRRX//Z' style='display:block;' /></div><div><p onclick='toggleImage(\"image-0-9\")' style='cursor:pointer;'>Image: 20230310042918_520_0000.bmp <span id='arrow-image-0-9' class='toggle-arrow'>►</span></p><img id='image-0-9' src='data:image/png;base64,/9j/4AAQSkZJRgABAQAAAQABAAD/2wBDAAgGBgcGBQgHBwcJCQgKDBQNDAsLDBkSEw8UHRofHh0aHBwgJC4nICIsIxwcKDcpLDAxNDQ0Hyc5PTgyPC4zNDL/wAALCACWAJYBAREA/8QAHwAAAQUBAQEBAQEAAAAAAAAAAAECAwQFBgcICQoL/8QAtRAAAgEDAwIEAwUFBAQAAAF9AQIDAAQRBRIhMUEGE1FhByJxFDKBkaEII0KxwRVS0fAkM2JyggkKFhcYGRolJicoKSo0NTY3ODk6Q0RFRkdISUpTVFVWV1hZWmNkZWZnaGlqc3R1dnd4eXqDhIWGh4iJipKTlJWWl5iZmqKjpKWmp6ipqrKztLW2t7i5usLDxMXGx8jJytLT1NXW19jZ2uHi4+Tl5ufo6erx8vP09fb3+Pn6/9oACAEBAAA/APn+iiiiiiiiiiiiiiiiiiiiiiiiiiiiiiiiiiiiiiiiiiiiiiiiiiiiiiiiiiiiiiiiiiiiiiiiiiiiiiiiiiiiiiiiiiiiiiiiiiiiiiiiiiiiiiiiiiiiiiiiintE6xq5HDdKuR6ez2+dvznpzTTpd0NvyH5unFTNolzFH5kgAX0qh5ZLNjgA96joooooooooooopyozdAT9BXZQaFDf6RCC4Ryfl9zXYWfgaUaEJGQicfdXHUVeuNDtrfSIpLlRHOnIUjrXJ6lFJMhnZSm3gR461ylxGbhJPOi+z7emRjdWMUYDO049cU2iiiiiiiiiipI49xBYfLXY+GNDj1Nd0QzFn5ia73TdDsJZooFYg25BHuRXq1tZtPpYuwoHkrgA96468Njf3+/UwUCH5AOlYusW+nyXgK42joB3rjPE+kPeWjzyKI0jGU29686MzGLy+NoqKiiiiiiiiiirtpEJht3BQPXvXfeEb2MsthbYQtwTXp1pYwXEkENuAs8ZzI3rXaajIY9MSC3lC7QA49axNRu9EXTfJu41Fy4wrH1rzS406RNXKNOGUjKjNcr4u1C9td1s24RngZrgqKKKKKKKKKKKlUyFVCjAHet2zuZdOuYZ7fnGMkV7BoviC0FhHMkn+lyLjHfNdPbzrJbmTUZfLlK5VSetcbqJj1nVEjvJvJiib92c/erldWuXsvEyyNMSirx71y3ibXzrU7I6BRGflPrXN0UUUUUUUUUUU9ZGUYGMVoWV2zzxwj7rHBNd9p1vBZ+S4cmQEbcdjXT6nqDXaRrcTDzQvy47CvPtR15zdPazP88f3CPWub1DU7q5k/fMS46Gs53Zzljk02iiiiiiiiiiiirVvdCGMqF+Y9G9K3otT/sy0RzJ5rv79KqX2tXQICzsxYZznpWK0rvL5jsS+c5NEkhkbcetMooooooooooooooozRRRRRRRRRRRRRRRRRRRRRRRRRRRRRRRRRRRRRRRRRRRRRRRRRRRRRRRRRRRRRRRRRRRRRRRRRRRRRRRRRRRRRRRRRRRRRRRRRRUkiBVUjPNR0UUUUV//2Q==' style='display:block;' /></div><div><p onclick='toggleImage(\"image-0-10\")' style='cursor:pointer;'>Image: 20230310042226_235_0000.bmp <span id='arrow-image-0-10' class='toggle-arrow'>►</span></p><img id='image-0-10' src='data:image/png;base64,/9j/4AAQSkZJRgABAQAAAQABAAD/2wBDAAgGBgcGBQgHBwcJCQgKDBQNDAsLDBkSEw8UHRofHh0aHBwgJC4nICIsIxwcKDcpLDAxNDQ0Hyc5PTgyPC4zNDL/wAALCACWAJYBAREA/8QAHwAAAQUBAQEBAQEAAAAAAAAAAAECAwQFBgcICQoL/8QAtRAAAgEDAwIEAwUFBAQAAAF9AQIDAAQRBRIhMUEGE1FhByJxFDKBkaEII0KxwRVS0fAkM2JyggkKFhcYGRolJicoKSo0NTY3ODk6Q0RFRkdISUpTVFVWV1hZWmNkZWZnaGlqc3R1dnd4eXqDhIWGh4iJipKTlJWWl5iZmqKjpKWmp6ipqrKztLW2t7i5usLDxMXGx8jJytLT1NXW19jZ2uHi4+Tl5ufo6erx8vP09fb3+Pn6/9oACAEBAAA/APn+iiiiiiiiiiiiiiiiiiiiiiiiiiiiiiiiiiiiiiiiiiiiiiiiiiiiiiiiiiiiiiiiiiiiiiiiiiiiiiiiiiiiiiiiiiiiiiiiiiiiiiiiiiiiiiiiiiiiiiiiiil/Cjr0FJRRRRRRRRRRRRRRRT0jkkOFUn8Kv2Oj3F5MI1U5JxWvqnhS50qJGaM/MM9K5uaKSNvmUioqKKKKKKKKKKKKKkhhaeVY0GSxwK9s8H/DM3OjrcTxHeR3FdZ4d+HsVt4gUSR/uxzyK7jVPA1hqahXVQFGBxXh/wAR/BlvpnmLAo3D0rx10KOVPUHBptFFFFFFFFFFFPjjMjYFdJ4KsFu/E1pE4yPMGa+zbOzgtraKKJAFCj+VOnhVEMkagOO9QLqaGNv7yjmvIvFEMmqalPJJygzXgviOx+x6rNgYVm4rHoooooooooooqSKTy2zXR+Db4W3iO3lY4+cV9l6XdJd6bBMrA5QVNdzLDauxPauJtbl5ZZ1Q5JziuT1aSW2S5Ei4JzXhvi24Wa9GOoPNc3RRRRRRRRRRRRU9nObe6jkBxtOa+j/Afj2P+xkill5UY5NbWs+MY5ISiSdR61V8HaxDPq/7xxt75qh8RNcsIppY4mXPtXzrqtx9o1CVs8Z4qlRRRRRRRRRRRRRWppurz2XyqxArVPiqZ25Y/nVvS/GUlhMXDkE1na3rc+pyPMzk59650kk5PU0lFFFFFFFFFFFFFLRijGaXewXbnim0UUUUUUUUUUUUUUUUUUUUUUUUUUUUUUUUUUUUUUUUUUUUUUUUUUUUUUUUUUUUUUUUUUUUUUUUUUUUUUUUUUUUUUUUUUUUUUUUUUUUV//Z' style='display:block;' /></div><div><p onclick='toggleImage(\"image-0-11\")' style='cursor:pointer;'>Image: 20230310041822_845_0000.bmp <span id='arrow-image-0-11' class='toggle-arrow'>►</span></p><img id='image-0-11' src='data:image/png;base64,/9j/4AAQSkZJRgABAQAAAQABAAD/2wBDAAgGBgcGBQgHBwcJCQgKDBQNDAsLDBkSEw8UHRofHh0aHBwgJC4nICIsIxwcKDcpLDAxNDQ0Hyc5PTgyPC4zNDL/wAALCACWAJYBAREA/8QAHwAAAQUBAQEBAQEAAAAAAAAAAAECAwQFBgcICQoL/8QAtRAAAgEDAwIEAwUFBAQAAAF9AQIDAAQRBRIhMUEGE1FhByJxFDKBkaEII0KxwRVS0fAkM2JyggkKFhcYGRolJicoKSo0NTY3ODk6Q0RFRkdISUpTVFVWV1hZWmNkZWZnaGlqc3R1dnd4eXqDhIWGh4iJipKTlJWWl5iZmqKjpKWmp6ipqrKztLW2t7i5usLDxMXGx8jJytLT1NXW19jZ2uHi4+Tl5ufo6erx8vP09fb3+Pn6/9oACAEBAAA/APn+iiiiiiiiiiiiiiiiiiiiiiiiiiiiiiiiiiiiiiiiiiiiiiiiiiiiiiiiiiiiiiiiiiiiiiiiiiiiiiiiiiiiiiiiiiiiiiiiiiiiiiiiiiiiiiiiiiiiiiiilVS7BVGSe1Xo9JuZFyF59Kd/Yd/3gYfhSSaJqEa7jbvt9cVRaN0JDKQR6im0UUUUUUUUUUUUAZOK6Lw9pn2i4VmXH+0a7n7Hb25XCBm/vCtS38sYaQo4HYCtIwx31qyRxqox6Vyd94YgZXxDuc55Fee6vpT6dMQTkE9PSsyiiiiiiiiiiiprUxidTIMrXeeG5YzcJ8uYv7tdZd2/nOqwJ5cfcmnpp4t03qd47mrEUF3JC0sDfIo5FVTqLMGTb5ZXrnvXnHiyZZJjs9ea5eiiiiiiiiiiilXr1xWxoV9cR38caNwTXs2khrmJIZBvc9q9A0rwms1iVkg2Bh1NMu/CZ06zkNs4bI+6K8e8Q3E9rO8b25U5POK841YyNKWLEg9qy6KKKKKKKKKKKACelbfh21km1FFVcNng167ZXTaf5aOux/8Anp6V3WleJ7mG28trkXKnuD0pt74qu0DLDbmQHqa5nUHhvoma4gDOfavHPFlsYbo7I9i56VzFFFFFFFFFFFFOjfY4bGa6zwrfRi+Q7BuzXe3cd1qMiow2RHvQRdaOoS0YyA9auWuuX3lbChDHtQ0su1pbiXyj1CnvXnXjDVBcSGPywMfxetcbRRRRRRRRRRRRVmxuntLlZUbGK6/T/GkiTL50uYx1FbVz45spNqxYT1NTReK9NSPzjcjzAMgVzet+N2v3KpHkA8GuWvb57wgsaqUUUUUUUUUUUUUUUUUUUUUUUUUUUUUUUUUUUUUUUUUUUUUUUUUUUUUUUUUUUUUUUUUUUUUUUUUUUUUUUUUUUUUUUUUUUUUUUUUUUUUUUUUUUUUUUUUUUUUUUV//2Q==' style='display:block;' /></div></div></div><div class='step-header'>Step: trim_fixed <span id='arrow-1' class='toggle-arrow' onclick='toggleMetadata(1)'>►</span></div><div id='metadata-1' class='metadata' style='display:block;'><div class='image-container'><div><p onclick='toggleImage(\"image-1-0\")' style='cursor:pointer;'>Image: 20230310043332_861_0002.bmp <span id='arrow-image-1-0' class='toggle-arrow'>►</span></p><img id='image-1-0' src='data:image/png;base64,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' style='display:block;' /></div><div><p onclick='toggleImage(\"image-1-1\")' style='cursor:pointer;'>Image: 20230310041822_845_0000.bmp <span id='arrow-image-1-1' class='toggle-arrow'>►</span></p><img id='image-1-1' src='data:image/png;base64,/9j/4AAQSkZJRgABAQAAAQABAAD/2wBDAAgGBgcGBQgHBwcJCQgKDBQNDAsLDBkSEw8UHRofHh0aHBwgJC4nICIsIxwcKDcpLDAxNDQ0Hyc5PTgyPC4zNDL/wAALCACWAJYBAREA/8QAHwAAAQUBAQEBAQEAAAAAAAAAAAECAwQFBgcICQoL/8QAtRAAAgEDAwIEAwUFBAQAAAF9AQIDAAQRBRIhMUEGE1FhByJxFDKBkaEII0KxwRVS0fAkM2JyggkKFhcYGRolJicoKSo0NTY3ODk6Q0RFRkdISUpTVFVWV1hZWmNkZWZnaGlqc3R1dnd4eXqDhIWGh4iJipKTlJWWl5iZmqKjpKWmp6ipqrKztLW2t7i5usLDxMXGx8jJytLT1NXW19jZ2uHi4+Tl5ufo6erx8vP09fb3+Pn6/9oACAEBAAA/APn+iiiiiiiiiiiiiiiiiiiiiiiiiiiiiiiiiiiiiiiiiiiiiiiiiiiiiiiiiiiiiiiiiiiiiiiiiiiiiiiiiiiiiiiiiiiiiiiiiiiiiiiiiiiiiiiiiiiiiiiilVS7BVGSe1Xo9JuZFyF59Kd/Yd/3gYfhSSaJqEa7jbvt9cVRaN0JDKQR6im0UUUUUUUUUUUUAZOK6Lw9pn2i4VmXH+0a7n7Hb25XCBm/vCtS38sYaQo4HYCtIwx31qyRxqox6Vyd94YgZXxDuc55Fee6vpT6dMQTkE9PSsyiiiiiiiiiiiprUxidTIMrXeeG5YzcJ8uYv7tdZd2/nOqwJ5cfcmnpp4t03qd47mrEUF3JC0sDfIo5FVTqLMGTb5ZXrnvXnHiyZZJjs9ea5eiiiiiiiiiiilXr1xWxoV9cR38caNwTXs2khrmJIZBvc9q9A0rwms1iVkg2Bh1NMu/CZ06zkNs4bI+6K8e8Q3E9rO8b25U5POK841YyNKWLEg9qy6KKKKKKKKKKKACelbfh21km1FFVcNng167ZXTaf5aOux/8Anp6V3WleJ7mG28trkXKnuD0pt74qu0DLDbmQHqa5nUHhvoma4gDOfavHPFlsYbo7I9i56VzFFFFFFFFFFFFOjfY4bGa6zwrfRi+Q7BuzXe3cd1qMiow2RHvQRdaOoS0YyA9auWuuX3lbChDHtQ0su1pbiXyj1CnvXnXjDVBcSGPywMfxetcbRRRRRRRRRRRRVmxuntLlZUbGK6/T/GkiTL50uYx1FbVz45spNqxYT1NTReK9NSPzjcjzAMgVzet+N2v3KpHkA8GuWvb57wgsaqUUUUUUUUUUUUUUUUUUUUUUUUUUUUUUUUUUUUUUUUUUUUUUUUUUUUUUUUUUUUUUUUUUUUUUUUUUUUUUUUUUUUUUUUUUUUUUUUUUUUUUUUUUUUUUUUUUUUUUUV//2Q==' style='display:block;' /></div><div><p onclick='toggleImage(\"image-1-2\")' style='cursor:pointer;'>Image: 20230310041825_994_0000.bmp <span id='arrow-image-1-2' class='toggle-arrow'>►</span></p><img id='image-1-2' src='data:image/png;base64,/9j/4AAQSkZJRgABAQAAAQABAAD/2wBDAAgGBgcGBQgHBwcJCQgKDBQNDAsLDBkSEw8UHRofHh0aHBwgJC4nICIsIxwcKDcpLDAxNDQ0Hyc5PTgyPC4zNDL/wAALCACWAJYBAREA/8QAHwAAAQUBAQEBAQEAAAAAAAAAAAECAwQFBgcICQoL/8QAtRAAAgEDAwIEAwUFBAQAAAF9AQIDAAQRBRIhMUEGE1FhByJxFDKBkaEII0KxwRVS0fAkM2JyggkKFhcYGRolJicoKSo0NTY3ODk6Q0RFRkdISUpTVFVWV1hZWmNkZWZnaGlqc3R1dnd4eXqDhIWGh4iJipKTlJWWl5iZmqKjpKWmp6ipqrKztLW2t7i5usLDxMXGx8jJytLT1NXW19jZ2uHi4+Tl5ufo6erx8vP09fb3+Pn6/9oACAEBAAA/APn+iiiiiiiiiiiiiiiiiiiiiiiiiiiiiiiiiiiiiiiiiiiiinKORmnuFJqMgA8UlFFFFFFFFFFFFFFFOB3ECpTFyKY6Be/NR0UUUUUUUUUUUUUUUDrUwc96jc5am0UUUUUUUUUUUUUUUo6insfmHpTXxnim5ooooooooooooooopQCelByOtJRRRRRRRRRRRRRRRU1tAZ5NorobDw1Nd42Lk1oSeCLlRuZDXOajo81lKVKms4xMvWmUUUUUUUUUUUUUo681t6JbCaYAdTXsngzQ/Lw8oGD612l/ZW4h2rCCcdcV514j8PLMrOsXP0rzHVdLeBm+XFc+ylWINJRRRRRRRRRRRSqu44roNBzHdIc9DXuvhq8+0pEijGMZr023htHtAsiAuRWdqujWiWLysq9OleDeMLWKO4kKKNua8yvkCSnHeqdFFFFFFFFFFFKDitPTbkxTIc17F4T1uLy0K8EYr1rR9SiuYA5PIqXUy93bsAcJivD/ABtEsTuucnNeT3hxId3rVKiiiiiiiiiiiipIpDG2a6vRdb+zAYr0fQ/FxWEfMQB71vXXj1BYMgPOOua8p17XGvZ3ZjkE1xFzL5spPvUFFFFFFFFFFFFFFTwzmNh6Vrxa0YEAU0+TXmkjxWVPfNLniqhOTmkooooooooooooooooooooooooooooooooooooooooooooooooooooooooooooooooooooooooooooooooooooooooooooooooooooooooooooooooooooooor/2Q==' style='display:block;' /></div><div><p onclick='toggleImage(\"image-1-3\")' style='cursor:pointer;'>Image: 20230310042417_732_0000.bmp <span id='arrow-image-1-3' class='toggle-arrow'>►</span></p><img id='image-1-3' src='data:image/png;base64,/9j/4AAQSkZJRgABAQAAAQABAAD/2wBDAAgGBgcGBQgHBwcJCQgKDBQNDAsLDBkSEw8UHRofHh0aHBwgJC4nICIsIxwcKDcpLDAxNDQ0Hyc5PTgyPC4zNDL/wAALCACWAJYBAREA/8QAHwAAAQUBAQEBAQEAAAAAAAAAAAECAwQFBgcICQoL/8QAtRAAAgEDAwIEAwUFBAQAAAF9AQIDAAQRBRIhMUEGE1FhByJxFDKBkaEII0KxwRVS0fAkM2JyggkKFhcYGRolJicoKSo0NTY3ODk6Q0RFRkdISUpTVFVWV1hZWmNkZWZnaGlqc3R1dnd4eXqDhIWGh4iJipKTlJWWl5iZmqKjpKWmp6ipqrKztLW2t7i5usLDxMXGx8jJytLT1NXW19jZ2uHi4+Tl5ufo6erx8vP09fb3+Pn6/9oACAEBAAA/APn+iiiiiiiiiiiiiiiiiiiiiiiiiiiiiiiiiiiiiiiiiiiiiiiiiiiiiiiiiiiprURNdxCY4iLDf9K0vEEOmw3ijTH3RbRk+9Y9FFFFFFFFFFFFFFFFFFFFFFFFFFFFFFFFFFFFFFFFFFFFFFFFFFFFFFFFFKAScDrVhbC7cZW2kI9QpoNhdjrayj/gJqB0ZDtdCp9xTaKKKKKKKKKKKKKKmtmCXUTEZAYEivr7wJoejXPhKzunsImeRcksua6GXwtoc6FTp0A9wleQ/FP4WRCxa/0yIApkkKK+fpLaaOQo8ZDA4IxU0NhNJgBDzUdzZzWzfOhA9ar0UUUUUUUUUUU+M4kQ+hFfZXwxuY7jwLYqpBZFwRXZVU1GMS6bcIy7gyEYNfI/i9bey125QIFO41zi6yYWIVRio7/V2vYgjKBisqiiiiiiiiiiigcc17v8GPHCWP8AxLrt/kfhcnpX0LHIssavGdytyDRKyrEzP90DmvlL4wranXnltlAyecV5iTk0lFFFFFFFFFFFFFaWmXj2MyzRttIORXtfgb4wzJcW+m3QDRkgbj2r3pJIr6yDRtmOVeCK+cPjd4Yk0udLtMmKQ9a8XoooooooooooooopytgYq9pMrLqUJ3Y+YV9meDLhLnwrZgP8yoATXD/HYwt4ahVmUsCcDPNfLh7/AFpKKKKKKKKKKKKKKKfHIYpFdeqnNeo6D8WLjTNKW1BIKjHWuW8U+Nb/AMROVmlYx9gTXKUUUUUUUUUUUUUUUUUUUUUUUUUUUUUUUUUUUUUUUUUUUUUUUUUUUUUUUUUUUUUUUUUUUUUUUUUUUUUUUUUUUUUUUUUUUUUUUUUUUUUUUUUUUUUUUUUUUUUUUUUV/9k=' style='display:block;' /></div><div><p onclick='toggleImage(\"image-1-4\")' style='cursor:pointer;'>Image: 20230310041823_044_0000.bmp <span id='arrow-image-1-4' class='toggle-arrow'>►</span></p><img id='image-1-4' src='data:image/png;base64,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' style='display:block;' /></div><div><p onclick='toggleImage(\"image-1-5\")' style='cursor:pointer;'>Image: 20230310042802_723_0000.bmp <span id='arrow-image-1-5' class='toggle-arrow'>►</span></p><img id='image-1-5' src='data:image/png;base64,/9j/4AAQSkZJRgABAQAAAQABAAD/2wBDAAgGBgcGBQgHBwcJCQgKDBQNDAsLDBkSEw8UHRofHh0aHBwgJC4nICIsIxwcKDcpLDAxNDQ0Hyc5PTgyPC4zNDL/wAALCACWAJYBAREA/8QAHwAAAQUBAQEBAQEAAAAAAAAAAAECAwQFBgcICQoL/8QAtRAAAgEDAwIEAwUFBAQAAAF9AQIDAAQRBRIhMUEGE1FhByJxFDKBkaEII0KxwRVS0fAkM2JyggkKFhcYGRolJicoKSo0NTY3ODk6Q0RFRkdISUpTVFVWV1hZWmNkZWZnaGlqc3R1dnd4eXqDhIWGh4iJipKTlJWWl5iZmqKjpKWmp6ipqrKztLW2t7i5usLDxMXGx8jJytLT1NXW19jZ2uHi4+Tl5ufo6erx8vP09fb3+Pn6/9oACAEBAAA/APn+iiiiiiiiiiiiiiiiiiiiiiiiiiiiiiiiiiiiiiiiiiiiiiiiiiiiiiiiiiiiiiiiiiiiiiiiiiiiiiiiiiiiiiiiiiiiiiiiiiiiiiiiiiiiiiiiiiiiiiiiilwaSiiiiiiiiiiiiiiiipooGfnHFX47NWXBqGawZTkCqbxlDg0yiiiiiiiiiiiiinJ94Cuh0y2WZ1THWtYeHr3zSY4mKdiBUNzaPbxH7QuxuwIrnrpFckis5l2nFJRRRRRRRRRRRRTo+HFdToY8y4jI9RX1T4X0TTpPDtpJJbozsnzEiuD+LPgUTwjULGIJFGvzBa8Jm0yQdu9Zl1ZOjdKpvGydRTKKKKKKKKKKKKUda3tLuvs5Ug85FfU3gfxVp83hq1haUCVVwRV3xbrdkfDV1GHU71xivmm/uokuDjG3JrIvruB3+XFZc0kLI3TNZ1FFFFFFFFFFFA61fgbaoOa6nRdcn05MrKfpmrGqeM7q6tzA0hwfeuSvbsyL97ms0sx6k0lFFFFFFFFFFFFFTRyYq0LrYoqCa43npUDMWptFFFFFFFFFFFFFFFGSaKKKKKKKKKKKKKKKKKKKKKKKKKKKKKKKKKKKKKKKKKKKKKKKKKKKKKKKKKKKKKKKKKKKKKKKKKKKKKKKKKKKKKKKKKKKKKKKKKKKKKKKKK//2Q==' style='display:block;' /></div><div><p onclick='toggleImage(\"image-1-6\")' style='cursor:pointer;'>Image: 20230310041903_594_0000.bmp <span id='arrow-image-1-6' class='toggle-arrow'>►</span></p><img id='image-1-6' src='data:image/png;base64,/9j/4AAQSkZJRgABAQAAAQABAAD/2wBDAAgGBgcGBQgHBwcJCQgKDBQNDAsLDBkSEw8UHRofHh0aHBwgJC4nICIsIxwcKDcpLDAxNDQ0Hyc5PTgyPC4zNDL/wAALCACWAJYBAREA/8QAHwAAAQUBAQEBAQEAAAAAAAAAAAECAwQFBgcICQoL/8QAtRAAAgEDAwIEAwUFBAQAAAF9AQIDAAQRBRIhMUEGE1FhByJxFDKBkaEII0KxwRVS0fAkM2JyggkKFhcYGRolJicoKSo0NTY3ODk6Q0RFRkdISUpTVFVWV1hZWmNkZWZnaGlqc3R1dnd4eXqDhIWGh4iJipKTlJWWl5iZmqKjpKWmp6ipqrKztLW2t7i5usLDxMXGx8jJytLT1NXW19jZ2uHi4+Tl5ufo6erx8vP09fb3+Pn6/9oACAEBAAA/APn+iiiiiiiiiiiiiiiiiiiiiiiiiiiiiiiiiiiiiiiiiiiiiiiiiiiiiiiiiiiiiiiiiiiiiiiiiiiiiiiiiiiiiiiiiiiiiiiiiiiiiiiiiiiiiiiiiiiiiiiiiinxxvK4RFJY9BTmhMZZJMrIDjbipjYP5U8meIcbvxqG4h8iUpnPAOcVFRRRRRRRRRRRRRRWnooD3DKV3gjOB1re0SMXV3cvKqPgjdkdPauiutBtkRmms3dr3BijU/dx61yviy1jHlz2wGzG1wOxFctRRRRRRRRRRRRRTnXDHGcCtPR4ppZ3uE6JgNj0NdFAWsReBIjtJBLj1rorbU2l0ZwAzTMP3mT8yAdNtcd4huLK5jDpDMsi8Nz8tcvRRRRRRRRRRRQAT0rc07QGv1tmjkUeYcMW6CrGreFrjT5JWEUwiXG1XHzN7/SpNIsYwJ0cTRsgByOjZ9arT7o/tLyzzAqeVB4PpVWTVbqKGSDzjvYj50PUelVLm+kuUUMcYGDjvVWiiiiiiiiiiirljZtPPHllVGPUn9K9w8HeH9MkKb7fMhHMIHCEdCK3tb8Nq8EE9y7tI2druMAAdq801jT5yupNbERxEqGzxjH92uG1K5Y3N1Ex6gYrJooooooooooooorU0i5gifF2u+NSCoPY17h4a1200021y0haeZQFEY3ZHvWx4v8AEP8AaunCyhlw6jK54H4147d660t4sN5MVtYgQzDqG7cVxVzKZ7iSQtuyx59qiooooooooooooopQxAIzwa6jQfF76H9lEMQ/dZ3M3OaZrHi++1C6uJo28hZj/qx/BXOSzPNIXkYsx6mmUUUUUUUUUUUUUUUUUUUUUUUUUUUUUUUUUUUUUUUUUUUUUUUUUUUUUUUUUUUUUUUUUUUUUUUUUUUUUUUUUUUUUUUUUUUUUUUUUUUUUUUUUUUUUUUUUUUUUUUUUUV//9k=' style='display:block;' /></div><div><p onclick='toggleImage(\"image-1-7\")' style='cursor:pointer;'>Image: 20230310041807_995_0000.bmp <span id='arrow-image-1-7' class='toggle-arrow'>►</span></p><img id='image-1-7' src='data:image/png;base64,/9j/4AAQSkZJRgABAQAAAQABAAD/2wBDAAgGBgcGBQgHBwcJCQgKDBQNDAsLDBkSEw8UHRofHh0aHBwgJC4nICIsIxwcKDcpLDAxNDQ0Hyc5PTgyPC4zNDL/wAALCACWAJYBAREA/8QAHwAAAQUBAQEBAQEAAAAAAAAAAAECAwQFBgcICQoL/8QAtRAAAgEDAwIEAwUFBAQAAAF9AQIDAAQRBRIhMUEGE1FhByJxFDKBkaEII0KxwRVS0fAkM2JyggkKFhcYGRolJicoKSo0NTY3ODk6Q0RFRkdISUpTVFVWV1hZWmNkZWZnaGlqc3R1dnd4eXqDhIWGh4iJipKTlJWWl5iZmqKjpKWmp6ipqrKztLW2t7i5usLDxMXGx8jJytLT1NXW19jZ2uHi4+Tl5ufo6erx8vP09fb3+Pn6/9oACAEBAAA/APn+iiiiiiiiiiiiiiiiiiiiiiiiiiiiiiiiiiiiiiiiiiiiiiiiiiiiiiiiiiiiiiiiiiiiiiiiiiiiiiiiiiiiiiiiiiiiiiiiiiiiiiiiiiiiiiiiiiiiiiiiil2n0pwjJHFIUZRyKTB60hooooooooooooopyKGOO9a2naTcXsqxxRO5Y4AUZrvLT4P+IrmIP9hdFxnDjBrI1z4da3osBmurKVY843FeK4ye3aFtrdarN1OaSiiiiiiiiiiilArR0y0N3cxxIAWZsYr6x+HngTTfD+kW90YxNdyoGLuv3PYV3mKgurWC8t3guIllicYZWGQa+b/i/wCB7fw5eR3VhH/o0+WOf+WZ9BXjcuRIeMVHRRRRRRRRRRRRWrot4dPvorpcM0TbsHvXtOg/He6jdUv7aOSEAKFXggV63o/jvQdXsFuU1C3hOPmSWQAiuB8d/GWCxVrPQZFkkzh5/T6V4lrHi/VfEDGC6u3kjY9HOea5i7jaGcoxBI9KgzRRRRRRRRRRRRT0cpnHepI5NvINWY5rgjam9s9lplz58ZxMrK3oRiqiuyuHHUHNOmleaUu/3jUdFFFFFFFFFFFFFaGj2i32qW1szBFlkCFj2Br658M/DPw1oNpCY7NLiYKCZpOdx+lYPxY8C6NeeGp9QjFtY3MALbzhQ4/uj3r5WbGeKbRRRRRRRRRRRRRRT45GiYMhwQcgjsa77QvjF4r0G0FtDeLNGBgeeu8isXxL471zxTxqV27x5yIwcKD9K5gnJooooooooooooooooooooooooooooooooooooooooooooooooooooooooooooooooooooooooooooooooooooooooooooooooooooooooooooooooooooooooor/2Q==' style='display:block;' /></div><div><p onclick='toggleImage(\"image-1-8\")' style='cursor:pointer;'>Image: 20230310041756_599_0000.bmp <span id='arrow-image-1-8' class='toggle-arrow'>►</span></p><img id='image-1-8' src='data:image/png;base64,/9j/4AAQSkZJRgABAQAAAQABAAD/2wBDAAgGBgcGBQgHBwcJCQgKDBQNDAsLDBkSEw8UHRofHh0aHBwgJC4nICIsIxwcKDcpLDAxNDQ0Hyc5PTgyPC4zNDL/wAALCACWAJYBAREA/8QAHwAAAQUBAQEBAQEAAAAAAAAAAAECAwQFBgcICQoL/8QAtRAAAgEDAwIEAwUFBAQAAAF9AQIDAAQRBRIhMUEGE1FhByJxFDKBkaEII0KxwRVS0fAkM2JyggkKFhcYGRolJicoKSo0NTY3ODk6Q0RFRkdISUpTVFVWV1hZWmNkZWZnaGlqc3R1dnd4eXqDhIWGh4iJipKTlJWWl5iZmqKjpKWmp6ipqrKztLW2t7i5usLDxMXGx8jJytLT1NXW19jZ2uHi4+Tl5ufo6erx8vP09fb3+Pn6/9oACAEBAAA/APn+iiiiiiiiiiiiiiiiiiiiiiiiiiiiiiiiiiiiiiiiiiiiiiiiiiiiiiiiiiiiiiiiiiiiiiiiiiiiiiiiiiiiiiiiiiiiiiiiiiiiiiiiiiiiiiiiiiiiiiiiilAyad5ZxkUnltjOKTB9KSiiiiiiiiiiiiinxpvbFdJoXhW/1mYR2drJKx67RmvQrT4Ha5dRgtHHGD/z0bBrN1v4Qa3pUDubUzBe8fIrzm/097SQo67WHUVnHrRRRRRRRRRRRRSgZrrvAfh0eJNfgsOpY5I9q+utC8P6boFhHa2FrHCqjkgZJP1rWpGAIwQCD2NeO/GDwFaXOmtrNlCI7hfvqq4BHrXzTcLtkI44OOKhoooooooooooorovC3iO58Nakl/ZsEnQYDYr07TPjprKSr9tljkTPIEYHFenWHxf8L3Ngs0128cmPnXZ3rkPF/wAcIElSPw9OduPnd4+/tXmGrfFDxBqUEsD37PFJwykVwcrbmJ9Tmo6KKKKKKKKKKKKXJp6OwPBp/nydATTDKxPJphPOaC2QKSiiiiiiiiiiiiirulWZv9UtrMEgzuEBAzjNfRmj/s/6FHaxnUrqa4kZQSMbcVh+PPgnpOjeHrjVNMuWQw/8s5DwfxrwNhtYjjj0pKKKKKKKKKKKKKKKfDNJbyrLE7JIhyrKcEH2r0HSPjT4w0i0FvHeJOo/iuF3t+dZHif4jeI/Fi7NRvT5XeKL5UP1FclRRRRRRRRRRRRRRRRRRRRRRRRRRRRRRRRRRRRRRRRRRRRRRRRRRRRRRRRRRRRRRRRRRRRRRRRRRRRRRRRRRRRRRRRRRRRRRRRRRRRRRRRRRRRRRRRRRRRRRRRRX//Z' style='display:block;' /></div><div><p onclick='toggleImage(\"image-1-9\")' style='cursor:pointer;'>Image: 20230310042227_735_0000.bmp <span id='arrow-image-1-9' class='toggle-arrow'>►</span></p><img id='image-1-9' src='data:image/png;base64,/9j/4AAQSkZJRgABAQAAAQABAAD/2wBDAAgGBgcGBQgHBwcJCQgKDBQNDAsLDBkSEw8UHRofHh0aHBwgJC4nICIsIxwcKDcpLDAxNDQ0Hyc5PTgyPC4zNDL/wAALCACWAJYBAREA/8QAHwAAAQUBAQEBAQEAAAAAAAAAAAECAwQFBgcICQoL/8QAtRAAAgEDAwIEAwUFBAQAAAF9AQIDAAQRBRIhMUEGE1FhByJxFDKBkaEII0KxwRVS0fAkM2JyggkKFhcYGRolJicoKSo0NTY3ODk6Q0RFRkdISUpTVFVWV1hZWmNkZWZnaGlqc3R1dnd4eXqDhIWGh4iJipKTlJWWl5iZmqKjpKWmp6ipqrKztLW2t7i5usLDxMXGx8jJytLT1NXW19jZ2uHi4+Tl5ufo6erx8vP09fb3+Pn6/9oACAEBAAA/APn+iiiiiiiiiiiiiiiiiiiiiiiiiiiiiiiiiiiiiiiiiiiiiiiiiiiiiiiiiiiiiiiiiiiiiiiiiiiiiiiiiiiiiiiiiiiiiiiiiiiiiiiiiiiiiiiiiiiiiiiiiiipktZ5PuQSN9FJrX0rwjq+ry7ILSQH/aUiotd8Naj4elWO/i2FulY9FFFFFFFFFFFFWILG4uUZ4oyyr1NWNP0i71C5ENvCzsTjgV7F4M+B9xdmO71U+VH12kda9w0vwjomk26w22nw8Dq6A5rnvHOsWvhvTna3s44pe0ioAK+ZPF3ii58RXe6dt208GuZooooooooooopVGWUe9eg2iRW2nRW8AHmTACvbPhj4Et9Os11G6jR525AIr1AAYGBgelDdK4P4s2yT+D5cxhiD1xzXyHcLsuGX0NQ0UUUUUUUUUUUoOCD6V33ghotU8QWKSHhGGQelfXVvHHFbxLEoCADGKmprsEUs3QV5z4812OSzmtpdogxx618q6rsGpzlPubjiqVFFFFFFFFFFFArp/A+prpPiK2mnQmHcN1fYGl6/peoWEU9tdxLHjo7AEVZOsacFY/b7Y7RyBIK818U/F60tPNtLGIsw4Lt/SvKdU8Yx3gkkuZd+7ohNecXs63F28iDCk8Cq1FFFFFFFFFFFFa+m3wQhWQEjoasXev30L7Ip3VfQNWf/AGxfCXzBcyZ/3jRcavd3QHmvuI71RZixyxyaSiiiiiiiiiiiiinI21wadNJ5j5qOiiiiiiiiiiiiiiiiiiiiiiiiiiiiiiiiiiiiiiiiiiiiiiiiiiiiiiiiiiiiiiiiiiiiiiiiiiiiiiiiiiiiiiiiiiiiiiiiiiiiiiiiiiiiiiiiiiiiiiiiiiiv/9k=' style='display:block;' /></div></div></div>"
      ],
      "text/plain": [
       "Step: raw\n",
       "Image: <paidiverpy.image_layer.ImageLayer object at 0x75a330cbae00>\n",
       "Image: <paidiverpy.image_layer.ImageLayer object at 0x75a330cbb130>\n",
       "Image: <paidiverpy.image_layer.ImageLayer object at 0x75a330cb8790>\n",
       "Image: <paidiverpy.image_layer.ImageLayer object at 0x75a330cb9990>\n",
       "Image: <paidiverpy.image_layer.ImageLayer object at 0x75a330cb8eb0>\n",
       "Image: <paidiverpy.image_layer.ImageLayer object at 0x75a330cb8700>\n",
       "Image: <paidiverpy.image_layer.ImageLayer object at 0x75a330cb8580>\n",
       "Image: <paidiverpy.image_layer.ImageLayer object at 0x75a330cb85e0>\n",
       "Image: <paidiverpy.image_layer.ImageLayer object at 0x75a330cb8490>\n",
       "Image: <paidiverpy.image_layer.ImageLayer object at 0x75a330cb9de0>\n",
       "Image: <paidiverpy.image_layer.ImageLayer object at 0x75a330cb8460>\n",
       "Image: <paidiverpy.image_layer.ImageLayer object at 0x75a330cb9ea0>\n",
       "Image: <paidiverpy.image_layer.ImageLayer object at 0x75a330cb9d50>\n",
       "Image: <paidiverpy.image_layer.ImageLayer object at 0x75a330cb9f60>\n",
       "Image: <paidiverpy.image_layer.ImageLayer object at 0x75a330cb9d80>\n",
       "Image: <paidiverpy.image_layer.ImageLayer object at 0x75a330cba080>\n",
       "Image: <paidiverpy.image_layer.ImageLayer object at 0x75a330cb9e10>\n",
       "Image: <paidiverpy.image_layer.ImageLayer object at 0x75a330cba140>\n",
       "Image: <paidiverpy.image_layer.ImageLayer object at 0x75a330cb9f00>\n",
       "Image: <paidiverpy.image_layer.ImageLayer object at 0x75a330cba1a0>\n",
       "Image: <paidiverpy.image_layer.ImageLayer object at 0x75a330cba0b0>\n",
       "Image: <paidiverpy.image_layer.ImageLayer object at 0x75a330cba260>\n",
       "Image: <paidiverpy.image_layer.ImageLayer object at 0x75a330cba0e0>\n",
       "Image: <paidiverpy.image_layer.ImageLayer object at 0x75a330cba320>\n",
       "Image: <paidiverpy.image_layer.ImageLayer object at 0x75a330cba1d0>\n",
       "Image: <paidiverpy.image_layer.ImageLayer object at 0x75a330cba3e0>\n",
       "Image: <paidiverpy.image_layer.ImageLayer object at 0x75a330cba200>\n",
       "Image: <paidiverpy.image_layer.ImageLayer object at 0x75a330cba4a0>\n",
       "Image: <paidiverpy.image_layer.ImageLayer object at 0x75a330cba350>\n",
       "Image: <paidiverpy.image_layer.ImageLayer object at 0x75a330cba560>\n",
       "Image: <paidiverpy.image_layer.ImageLayer object at 0x75a330cba380>\n",
       "Image: <paidiverpy.image_layer.ImageLayer object at 0x75a330cba620>\n",
       "Image: <paidiverpy.image_layer.ImageLayer object at 0x75a330cba4d0>\n",
       "Image: <paidiverpy.image_layer.ImageLayer object at 0x75a330cba6e0>\n",
       "Image: <paidiverpy.image_layer.ImageLayer object at 0x75a330cba500>\n",
       "Image: <paidiverpy.image_layer.ImageLayer object at 0x75a330cba5c0>\n",
       "Image: <paidiverpy.image_layer.ImageLayer object at 0x75a330cba740>\n",
       "Image: <paidiverpy.image_layer.ImageLayer object at 0x75a330cba7d0>\n",
       "Image: <paidiverpy.image_layer.ImageLayer object at 0x75a330cba860>\n",
       "Image: <paidiverpy.image_layer.ImageLayer object at 0x75a330cba920>\n",
       "Image: <paidiverpy.image_layer.ImageLayer object at 0x75a330cba590>\n",
       "Image: <paidiverpy.image_layer.ImageLayer object at 0x75a330cba9e0>\n",
       "Image: <paidiverpy.image_layer.ImageLayer object at 0x75a330cba890>\n",
       "Image: <paidiverpy.image_layer.ImageLayer object at 0x75a330cbaaa0>\n",
       "Image: <paidiverpy.image_layer.ImageLayer object at 0x75a330cba8c0>\n",
       "Image: <paidiverpy.image_layer.ImageLayer object at 0x75a330cbab60>\n",
       "Image: <paidiverpy.image_layer.ImageLayer object at 0x75a330cbaa10>\n",
       "Image: <paidiverpy.image_layer.ImageLayer object at 0x75a330cbac20>\n",
       "Image: <paidiverpy.image_layer.ImageLayer object at 0x75a330cbaa40>\n",
       "Image: <paidiverpy.image_layer.ImageLayer object at 0x75a330cbace0>\n",
       "Image: <paidiverpy.image_layer.ImageLayer object at 0x75a330cbab90>\n",
       "Image: <paidiverpy.image_layer.ImageLayer object at 0x75a330cbada0>\n",
       "Step: trim_fixed\n",
       "Image: <paidiverpy.image_layer.ImageLayer object at 0x75a330cb8580>\n",
       "Image: <paidiverpy.image_layer.ImageLayer object at 0x75a330cb9ea0>\n",
       "Image: <paidiverpy.image_layer.ImageLayer object at 0x75a330cba140>\n",
       "Image: <paidiverpy.image_layer.ImageLayer object at 0x75a330cba0b0>\n",
       "Image: <paidiverpy.image_layer.ImageLayer object at 0x75a330cba260>\n",
       "Image: <paidiverpy.image_layer.ImageLayer object at 0x75a330cba4a0>\n",
       "Image: <paidiverpy.image_layer.ImageLayer object at 0x75a330cba350>\n",
       "Image: <paidiverpy.image_layer.ImageLayer object at 0x75a330cba590>\n",
       "Image: <paidiverpy.image_layer.ImageLayer object at 0x75a330cba8c0>\n",
       "Image: <paidiverpy.image_layer.ImageLayer object at 0x75a330cbaa10>"
      ]
     },
     "execution_count": 23,
     "metadata": {},
     "output_type": "execute_result"
    }
   ],
   "source": [
    "pipeline.images"
   ]
  },
  {
   "cell_type": "code",
   "execution_count": 24,
   "id": "98c13df4-c158-416d-9b43-4c9dc7461aba",
   "metadata": {},
   "outputs": [],
   "source": [
    "# Add a new step to your process\n",
    "pipeline.add_step(\"contrast\", ColorLayer, {\"mode\": \"contrast\"})"
   ]
  },
  {
   "cell_type": "code",
   "execution_count": 25,
   "id": "e662c8d8-27ea-49e4-826d-f1984813fc0e",
   "metadata": {},
   "outputs": [
    {
     "data": {
      "text/html": [
       "\n",
       "        <div style=\"display: flex; flex-wrap: wrap; align-items: center;\">\n",
       "            \n",
       "        <div id=\"general\" title=\"Click to see more information\" class=\"square\" style=\"float:left; cursor: pointer; padding: 10px; width: max-content; height: 80px; margin: 10px; border: 1px solid #000; text-align: center; line-height: 80px;\" onclick=\"showParameters('general')\">\n",
       "            <h2 style=\"font-size:20px;\">Raw</h2>\n",
       "            <h2 style=\"font-size:13px;\">Type: Raw</h2>\n",
       "        </div>\n",
       "        \n",
       "            <div style=\"float:left; width: 50px; height: 80px; margin: 10px; text-align: center; line-height: 80px;\">&#10132;</div>\n",
       "                <div id=\"step_0\" title=\"Click to see more information\" class=\"square\" style=\"cursor: pointer; float:left; padding: 10px; width: max-content; height: 80px; margin: 10px; border: 1px solid #000; text-align: center; line-height: 80px;\" onclick=\"showParameters('step_0')\">\n",
       "                    <h2 style=\"font-size:20px;\">Area1</h2>\n",
       "                    <h2 style=\"font-size:13px;\">Type: Sampling</h2>\n",
       "                </div>\n",
       "            \n",
       "                    <div style=\"float:left; width: 50px; height: 80px; margin: 10px; text-align: center; line-height: 80px;\">\n",
       "                        &#10132;\n",
       "                    </div>\n",
       "                \n",
       "                <div id=\"step_1\" title=\"Click to see more information\" class=\"square\" style=\"cursor: pointer; float:left; padding: 10px; width: max-content; height: 80px; margin: 10px; border: 1px solid #000; text-align: center; line-height: 80px;\" onclick=\"showParameters('step_1')\">\n",
       "                    <h2 style=\"font-size:20px;\">Contrast</h2>\n",
       "                    <h2 style=\"font-size:13px;\">Type: Color</h2>\n",
       "                </div>\n",
       "            \n",
       "        </div>\n",
       "        <div id=\"parameters\" style=\"padding: 10px; margin: 10px;\">\n",
       "                <div id=\"parameters_step_0\" class=\"parameters\" style=\"display: none;\">\n",
       "                    <pre>{\n",
       "    \"name\": \"Area1\",\n",
       "    \"mode\": \"fixed\",\n",
       "    \"params\": {\n",
       "        \"value\": 10\n",
       "    },\n",
       "    \"step_name\": \"sampling\",\n",
       "    \"test\": false\n",
       "}</pre>\n",
       "                </div>\n",
       "            \n",
       "                <div id=\"parameters_step_1\" class=\"parameters\" style=\"display: none;\">\n",
       "                    <pre>{\n",
       "    \"mode\": \"contrast\",\n",
       "    \"name\": \"contrast\",\n",
       "    \"step_name\": \"color\"\n",
       "}</pre>\n",
       "                </div>\n",
       "            \n",
       "            <div id=\"parameters_general\" class=\"parameters\" style=\"display: none;\">\n",
       "                <pre>{\n",
       "    \"input_path\": \"/mnt/code/code/noc/paidiver/paidiverpy/examples/data/mojtaba\",\n",
       "    \"output_path\": \"/mnt/code/code/noc/paidiver/paidiverpy/examles/data\",\n",
       "    \"catalog_path\": \"/mnt/code/code/noc/paidiver/paidiverpy/examples/catalog/catalog_mojtaba.csv\",\n",
       "    \"catalog_type\": \"CSV\",\n",
       "    \"image_type\": \"BMP\",\n",
       "    \"sampling\": [\n",
       "        {\n",
       "            \"mode\": \"percent\",\n",
       "            \"params\": {\n",
       "                \"value\": 0.9\n",
       "            }\n",
       "        }\n",
       "    ],\n",
       "    \"convert\": [\n",
       "        {\n",
       "            \"mode\": \"bits\",\n",
       "            \"params\": {\n",
       "                \"output_bits\": 8,\n",
       "                \"autoscale\": true\n",
       "            }\n",
       "        }\n",
       "    ],\n",
       "    \"name\": \"raw\",\n",
       "    \"step_name\": \"raw\"\n",
       "}</pre>\n",
       "            </div>\n",
       "        </div>\n",
       "        <script>\n",
       "            function showParameters(id) {\n",
       "                // Hide all parameter sections\n",
       "                var currentTarget = document.getElementById(id);\n",
       "                var square = document.getElementsByClassName('square');\n",
       "                var allParams = document.getElementsByClassName('parameters');\n",
       "                var selectedParams = document.getElementById('parameters_' + id);\n",
       "                var idWasVisible = false;\n",
       "                if (selectedParams) {\n",
       "                    var idWasVisible = selectedParams.style.display === 'block';                    \n",
       "                }\n",
       "                for (var i = 0; i < square.length; i++) {\n",
       "                    square[i].style.color = 'black';\n",
       "                }\n",
       "                for (var i = 0; i < allParams.length; i++) {\n",
       "                    allParams[i].style.display = 'none';\n",
       "                }\n",
       "                // Show the selected parameter section\n",
       "                if (selectedParams) {\n",
       "                    if (idWasVisible) {\n",
       "                        selectedParams.style.display = 'none';\n",
       "                        currentTarget.style.color = 'black';\n",
       "                    } else {\n",
       "                        selectedParams.style.display = 'block';\n",
       "                        currentTarget.style.color = 'red';\n",
       "                    }\n",
       "                }\n",
       "            }\n",
       "        </script>\n",
       "        "
      ],
      "text/plain": [
       "<paidiverpy.pipeline.pipeline.Pipeline at 0x75a338f91d20>"
      ]
     },
     "execution_count": 25,
     "metadata": {},
     "output_type": "execute_result"
    }
   ],
   "source": [
    "pipeline"
   ]
  },
  {
   "cell_type": "code",
   "execution_count": 26,
   "id": "6ea75a96-f8af-4fae-896d-5efdf2fae5d4",
   "metadata": {},
   "outputs": [
    {
     "name": "stdout",
     "output_type": "stream",
     "text": [
      "☁ paidiverpy ☁  |       INFO | 2024-09-10 11:12:28 | Running step 2: contrast - ColorLayer\n"
     ]
    },
    {
     "name": "stderr",
     "output_type": "stream",
     "text": [
      "Processing Images: 100%|█████████████████████████████| 10/10 [00:00<00:00, 1594.07it/s]"
     ]
    },
    {
     "name": "stdout",
     "output_type": "stream",
     "text": [
      "☁ paidiverpy ☁  |       INFO | 2024-09-10 11:12:28 | Step 2 completed\n",
      "☁ paidiverpy ☁  |       INFO | 2024-09-10 11:12:28 | Step 2 saved\n"
     ]
    },
    {
     "name": "stderr",
     "output_type": "stream",
     "text": [
      "\n"
     ]
    }
   ],
   "source": [
    "pipeline.run()"
   ]
  },
  {
   "cell_type": "code",
   "execution_count": 27,
   "id": "f5e1c9ec-0c4d-483e-a144-327035662ee2",
   "metadata": {},
   "outputs": [
    {
     "data": {
      "text/html": [
       "\n",
       "        <style>\n",
       "        .step-header {\n",
       "            font-size: 1.2em;\n",
       "            font-weight: bold;\n",
       "            margin-top: 10px;\n",
       "            margin-bottom: 5px;\n",
       "        }\n",
       "        .metadata {\n",
       "            margin-left: 20px;\n",
       "            margin-bottom: 10px;\n",
       "        }\n",
       "        .image-container {\n",
       "            display: flex;\n",
       "            flex-wrap: wrap;\n",
       "            gap: 10px;\n",
       "            margin-left: 20px;\n",
       "        }\n",
       "        .image-container img {\n",
       "            max-width: 200px;\n",
       "            margin: 10px;\n",
       "        }\n",
       "        .toggle-arrow {\n",
       "            cursor: pointer;\n",
       "            margin-left: 5px;\n",
       "        }\n",
       "        .show-more-button, .hide-button {\n",
       "            margin-left: 20px;\n",
       "            background-color: #007bff;\n",
       "            color: white;\n",
       "            border: none;\n",
       "            padding: 5px 10px;\n",
       "            cursor: pointer;\n",
       "        }\n",
       "        </style>\n",
       "        <script>\n",
       "        function toggleMetadata(stepIndex) {\n",
       "            var x = document.getElementById(\"metadata-\" + stepIndex);\n",
       "            var arrow = document.getElementById(\"arrow-\" + stepIndex);\n",
       "            if (x.style.display === \"none\") {\n",
       "                x.style.display = \"block\";\n",
       "                arrow.innerHTML = \"▼\";\n",
       "            } else {\n",
       "                x.style.display = \"none\";\n",
       "                arrow.innerHTML = \"►\";\n",
       "            }\n",
       "        }\n",
       "        function toggleImage(imageId) {\n",
       "            var img = document.getElementById(imageId);\n",
       "            var arrow = document.getElementById(\"arrow-\" + imageId);\n",
       "            if (img.style.display === \"none\") {\n",
       "                img.style.display = \"block\";\n",
       "                arrow.innerHTML = \"▼\";\n",
       "            } else {\n",
       "                img.style.display = \"none\";\n",
       "                arrow.innerHTML = \"►\";\n",
       "            }\n",
       "        }\n",
       "        function showMore(stepIndex) {\n",
       "            var moreImages = document.getElementById(\"more-images-\" + stepIndex);\n",
       "            var showMoreButton = document.getElementById(\"show-more-button-\" + stepIndex);\n",
       "            var hideButton = document.getElementById(\"hide-button-\" + stepIndex);\n",
       "            moreImages.style.display = \"flex\";\n",
       "            showMoreButton.style.display = \"none\";\n",
       "            hideButton.style.display = \"inline-block\";\n",
       "        }\n",
       "        function hide(stepIndex) {\n",
       "            var moreImages = document.getElementById(\"more-images-\" + stepIndex);\n",
       "            var showMoreButton = document.getElementById(\"show-more-button-\" + stepIndex);\n",
       "            var hideButton = document.getElementById(\"hide-button-\" + stepIndex);\n",
       "            moreImages.style.display = \"none\";\n",
       "            showMoreButton.style.display = \"inline-block\";\n",
       "            hideButton.style.display = \"none\";\n",
       "        }\n",
       "        </script>\n",
       "        <div class='step-header'>Step: raw <span id='arrow-0' class='toggle-arrow' onclick='toggleMetadata(0)'>►</span></div><div id='metadata-0' class='metadata' style='display:block;'><div class='image-container'><div><p onclick='toggleImage(\"image-0-0\")' style='cursor:pointer;'>Image: 20230310043208_264_0000.bmp <span id='arrow-image-0-0' class='toggle-arrow'>►</span></p><img id='image-0-0' src='data:image/png;base64,/9j/4AAQSkZJRgABAQAAAQABAAD/2wBDAAgGBgcGBQgHBwcJCQgKDBQNDAsLDBkSEw8UHRofHh0aHBwgJC4nICIsIxwcKDcpLDAxNDQ0Hyc5PTgyPC4zNDL/wAALCACWAJYBAREA/8QAHwAAAQUBAQEBAQEAAAAAAAAAAAECAwQFBgcICQoL/8QAtRAAAgEDAwIEAwUFBAQAAAF9AQIDAAQRBRIhMUEGE1FhByJxFDKBkaEII0KxwRVS0fAkM2JyggkKFhcYGRolJicoKSo0NTY3ODk6Q0RFRkdISUpTVFVWV1hZWmNkZWZnaGlqc3R1dnd4eXqDhIWGh4iJipKTlJWWl5iZmqKjpKWmp6ipqrKztLW2t7i5usLDxMXGx8jJytLT1NXW19jZ2uHi4+Tl5ufo6erx8vP09fb3+Pn6/9oACAEBAAA/APn+iiiiiiiiiiiiiiiiiiiiiiiiiiiiiiiiiiiiiiiiiiiiiiiiiiiiiiiiiiiiiiiiiiiiiiiiiiiiiiiiiiiiiiiiiiiiiiiiiiiiiiiiiiiiiiiiiiiiiiiiiijFL07UfhSUUUUUUUUUUUUUUUVaSwnkAKoTn2rtfCvw3v8AWvneFtv0rQ134T6paRNJFC21RnpXnF3ZTWc7RSqQy+tV6KKKKKKKKKKKKKtWESy3aKw4Jr6P8BeBdL1PTkllUEgZr1XTNHtNIhEdvGAOmcVbmijuImikQFWGORXzT8Z/C0Wi3IuYlAEhzxXjuOBSUUUUUUUUUUUUtbejeHdU1G5iNpA7DI5Ar618B6JJpegQebkSleRXWDnoaCD1z0r52+O2uw37paxsC0fBxXhmeBSUUUUUUUUUUUV6D8MfA3/CVawFuVKwjnJr6Z8O+D9P8NxhYo1Y4wCRXRgjb8uMelcVr/jFdAuCJCME965PW/jFFbWL+SVLMpFfPWv61NrGoy3EjEhiTWRRRRRRRRRRRRThyy/WvqT4QLpdroSSmREm29zivRB4g0trgxG6jyPU0y/8RaXYWjym6iJA4Aavmb4keL/7Xv5I4X+UE4INecSXEzrh2JFQUUUUUUUUUUUUUVvab4ov7CHyopmVcdAaV/FOqPKXFy4P+9Ve48R6rOCr3Tkemay5JXkbLkk+tMooooooooooooooooooooooooooooooooooooooooooooooooooooooooooooooooooooooooooooooooooooooooooooooooooooooooooooooooooooooooor/9k=' style='display:block;' /></div><div><p onclick='toggleImage(\"image-0-1\")' style='cursor:pointer;'>Image: 20230310041821_695_0004.bmp <span id='arrow-image-0-1' class='toggle-arrow'>►</span></p><img id='image-0-1' src='data:image/png;base64,/9j/4AAQSkZJRgABAQAAAQABAAD/2wBDAAgGBgcGBQgHBwcJCQgKDBQNDAsLDBkSEw8UHRofHh0aHBwgJC4nICIsIxwcKDcpLDAxNDQ0Hyc5PTgyPC4zNDL/wAALCACWAJYBAREA/8QAHwAAAQUBAQEBAQEAAAAAAAAAAAECAwQFBgcICQoL/8QAtRAAAgEDAwIEAwUFBAQAAAF9AQIDAAQRBRIhMUEGE1FhByJxFDKBkaEII0KxwRVS0fAkM2JyggkKFhcYGRolJicoKSo0NTY3ODk6Q0RFRkdISUpTVFVWV1hZWmNkZWZnaGlqc3R1dnd4eXqDhIWGh4iJipKTlJWWl5iZmqKjpKWmp6ipqrKztLW2t7i5usLDxMXGx8jJytLT1NXW19jZ2uHi4+Tl5ufo6erx8vP09fb3+Pn6/9oACAEBAAA/APn+iiiiiiiiiiiiiiiiiiiiiigdaU9aSiiiiiiiiiiiiiiiigdaU9aSiiiiiiiiiiiiiiiiiiiiiiiiiiiiiiiiiiiig0UUUUUUUUUUUUUUUUUUUUUUUUUUUUUUUUUUUUUUUUu0kUu0gdKTacdKTFFFFFFFFFFFFFFFSKmasRQMxwBVsabPLHlUJ/CnjR7rAzGfyqpNYvFncCMVSddpptFFFFFFFFFFFKKnthuYA12ug6ML1lULkmvY/Dvw8iktFeSIflWvqfgG0itDIsS/KPSvGPGGjJbSMETFec3kexsVVooooooooooopRVi1OHFepeCJUWeMn1r6Q0OVH09Ag4xWhPEs8LRnoRXhvxE0yOGSTHXmvCtWULMw96y6KKKKKKKKKKKKlgfa1d74NuSk6gnvX0p4PulbT1jY8muiuJ1t4yx9K8P+Id6JXmfPTNeD6rJ5k5I7ms+iiiiiiiiiiiilBwRXQ6HqItpkJOMGvcPCXi+NAgMg4HrXU3/AIyt5LR8yjOPWvE/Gmvi4lZEfIavN7mTe9QUUUUUUUUUUUUUU9JGQ5Bra03WprQcMfzq/ceI55ExvPPvWBeXr3D5Yk1SPJooooooooooooooopcn1pdx9abRRRRRRRRRRRRRRRRRRRRRRRRRRRRRRRRRRRRRRRRRRRRRRRRRRRRRRRRRRRRRRRRRRRRRRRRRRRRRRRRRRRRRRRRRRRRRRRRRRRRRRX//2Q==' style='display:block;' /></div><div><p onclick='toggleImage(\"image-0-2\")' style='cursor:pointer;'>Image: 20230310042334_634_0000.bmp <span id='arrow-image-0-2' class='toggle-arrow'>►</span></p><img id='image-0-2' src='data:image/png;base64,/9j/4AAQSkZJRgABAQAAAQABAAD/2wBDAAgGBgcGBQgHBwcJCQgKDBQNDAsLDBkSEw8UHRofHh0aHBwgJC4nICIsIxwcKDcpLDAxNDQ0Hyc5PTgyPC4zNDL/wAALCACWAJYBAREA/8QAHwAAAQUBAQEBAQEAAAAAAAAAAAECAwQFBgcICQoL/8QAtRAAAgEDAwIEAwUFBAQAAAF9AQIDAAQRBRIhMUEGE1FhByJxFDKBkaEII0KxwRVS0fAkM2JyggkKFhcYGRolJicoKSo0NTY3ODk6Q0RFRkdISUpTVFVWV1hZWmNkZWZnaGlqc3R1dnd4eXqDhIWGh4iJipKTlJWWl5iZmqKjpKWmp6ipqrKztLW2t7i5usLDxMXGx8jJytLT1NXW19jZ2uHi4+Tl5ufo6erx8vP09fb3+Pn6/9oACAEBAAA/APn+iiiiiiiiiiiiiiiiiiiiiiiiiiiiiiiiiiiiiiiiiiiiiiiiiiiiiiiiiiiiiiiiiiiiiiiiiiiiiiiiiiiiiiiiiiiiiiiiiiiiiiiiiiiiiiiiiiiiiiiinIhkcKvU1Zn0+e3QO68EZqpjNBBBwaKKKKKKKKKKKKKKK0bPTZ5CJlxhea2PNF0BDIg6Yrd0jRNOkX95GN2MVleIPC7QTtPEoMR5AFc1JZsRuACgCqZGDiiiiiiiiiiiiinRjdIo967Pw5pVxcyqA48skcV2t54PicR/Zoxv71uWvgsw2SyA4fHrVa50K5DMJ4y0Q46e1ee+JfCtyszS25CxAZxXIT2pRvL4DDqapng0UUUUUUUUUUVc0ywfU75LZGCs3QmvWNA8IXujqpabdnnrXoFiBCgjkwWbvWq2i3ccSXImDRt2zW40dg2klpmQOexryzxTpr3KvLA6iLB4rxTWT5d0Vj5YE5IFZFFFFFFFFFFFFWLKWWG6R4G2uDwa9X8NeI7sKkN0xct0Oa7CWRmlQq/JHr0rq4zc6bpgluJi6N0Gelcvrn2yWE3cEx8vOdoNcNqHiC6msXtAGVuRnNcJGv2KaR7td28kjNYs7q8zMowCajooooooooooqW2bZOpNdnoWtw/ao4iBn612+oXRtVilWTcT2z0rRfxJcXdgsTFiuO9Zd7rbaZZb5XLR7SdufWuB1HxbDdXG+KErg1jX+rLeJt2YNZVFFFFFFFFFFFFWLKbybpH9/Wurn1ndEm6TOB0q9B4tgitxER9azNZ1RdQtshzjHQmuRooooooooooooooopS7EcsfzpKXc2MZOPSkoooooooooooooooooooooooooooooooooooooooooooooooooooooooooooooooooooooooooooooooooooooooooooooooooooooor//2Q==' style='display:block;' /></div><div><p onclick='toggleImage(\"image-0-3\")' style='cursor:pointer;'>Image: 20230310041822_395_0002.bmp <span id='arrow-image-0-3' class='toggle-arrow'>►</span></p><img id='image-0-3' src='data:image/png;base64,/9j/4AAQSkZJRgABAQAAAQABAAD/2wBDAAgGBgcGBQgHBwcJCQgKDBQNDAsLDBkSEw8UHRofHh0aHBwgJC4nICIsIxwcKDcpLDAxNDQ0Hyc5PTgyPC4zNDL/wAALCACWAJYBAREA/8QAHwAAAQUBAQEBAQEAAAAAAAAAAAECAwQFBgcICQoL/8QAtRAAAgEDAwIEAwUFBAQAAAF9AQIDAAQRBRIhMUEGE1FhByJxFDKBkaEII0KxwRVS0fAkM2JyggkKFhcYGRolJicoKSo0NTY3ODk6Q0RFRkdISUpTVFVWV1hZWmNkZWZnaGlqc3R1dnd4eXqDhIWGh4iJipKTlJWWl5iZmqKjpKWmp6ipqrKztLW2t7i5usLDxMXGx8jJytLT1NXW19jZ2uHi4+Tl5ufo6erx8vP09fb3+Pn6/9oACAEBAAA/APn+iiiiiiiiiiiiiiiiiiiiiiiiiiiiiiiiiiiiiiiiiiiiiiiiiiiiiiiiiiiiiiiiiiiiiiiiiiiiiiiiiiiiiiiiiiiiiiiiiiiiiiiiiiiiiiiiiiiiiiiiiilx7UY9qSiiiiiiiiiiiiiiinpG0jBUBJ9BVxNH1ByMW7/lTJ9MvbfmSBwPXFVCMHBpKKKKKKKKKKKKKKcil2CgZJOK9b8A/C+8u5ra/uYiYHIPI7V9Ax+CtERFX7IuQMZxWR4l+H+l32mslvbKsnbAr5n8Z+EbjQNUaAoRnkcVyLAqxU9RSUUUUUVOsQMDOeoqCiiiiiu/+GnhFvEWuw7lzAGGTivrXTrKLTrGGzhACRrgYFT7G/vVHNdwWynzpFBA715H8Rray1rfdoFLKMV856tAIL11HqaoUUUUUU8yHbtHSmUUUUVJFGZZUjHVjivrL4P+GYdG8MJMygzSnOfQV3GpatbaXFvlcZ9M1yl78TLGzJzGCo715R4r+Jr3+oM1vIQmegNc5L4xeWMh3O0j1rhdTnF1dNIOhNUKKKKKKKKKKKKt6eyreRu3RTmvTV+Kt5ptnHBA5AQY4qhcfEDU9fmjh8xiWOOtd9NolrB4Hee/cC5ZcjPWvA71tt24RsjJquZXK43GkJ4FNooooooooooopQSpyKcXJ+9zWlouoJY38UzKMIc10vizx5LrUMcEDFY1XBArhiSxJPU0lFFFFFFFFFFFFFFFFLgetJRRRRRRRRRRRRRRRRRRRRRRRRRRRRRRRRRRRRS9KSiiiiiiiiiiiiiiiilCk9q0IdKmeLzih2D2qnOoVsCoqKKKKKKKKKKKKKKAMnFdh4K8Lz6/qMcQjJTPXFfQMHwptl0wW5Cglea+dvHWipoXiCazQ5CMRXL0UUUUUUUUUUUUUU5fvD619N/BPS4P7NNyVBcD0r1i7uDFaSuo5VSRXxn8QLt7vxdeO553GuWooooooor/2Q==' style='display:block;' /></div><div><p onclick='toggleImage(\"image-0-4\")' style='cursor:pointer;'>Image: 20230310041829_544_0001.bmp <span id='arrow-image-0-4' class='toggle-arrow'>►</span></p><img id='image-0-4' src='data:image/png;base64,/9j/4AAQSkZJRgABAQAAAQABAAD/2wBDAAgGBgcGBQgHBwcJCQgKDBQNDAsLDBkSEw8UHRofHh0aHBwgJC4nICIsIxwcKDcpLDAxNDQ0Hyc5PTgyPC4zNDL/wAALCACWAJYBAREA/8QAHwAAAQUBAQEBAQEAAAAAAAAAAAECAwQFBgcICQoL/8QAtRAAAgEDAwIEAwUFBAQAAAF9AQIDAAQRBRIhMUEGE1FhByJxFDKBkaEII0KxwRVS0fAkM2JyggkKFhcYGRolJicoKSo0NTY3ODk6Q0RFRkdISUpTVFVWV1hZWmNkZWZnaGlqc3R1dnd4eXqDhIWGh4iJipKTlJWWl5iZmqKjpKWmp6ipqrKztLW2t7i5usLDxMXGx8jJytLT1NXW19jZ2uHi4+Tl5ufo6erx8vP09fb3+Pn6/9oACAEBAAA/APn+iiiiiiiiiiiiiiiiiiiiiiiiiiiiiiiiiiiiiiiiiiiiiiiiiiiiiiiiiiiiiiiiiiiiiiiiiiiiiiiiiiiiiiiiiiiiiiiiiiiiiiiiiiiiiiiiiiiiiiiiilAJ6CgKfpQVxSUUUUUUUUUUUUUUVJFE8rBUQsfQV3nhf4X614kAMUTQL6uMV3Fv8ANQA/f3MZ+hqjq3wF1W2heeCZHVedoPNeYa1oNxoszRXMLKw9axSKSiiiiiiiiiiinA7SCK9D+HFnp91q8Mlzt3Bhw3SvrCzS3S0jW3EYGwf6vFTjOP4qRmVFLSNhR13dK8k+J03hK7gcTtGbrHBT1r5s1GJIrtvK5iz8tUqKKKKKKKKKKKUHBq3aajPaSBonKEdxXfaB8VtZ0gKFlaUD+8a7OH4/XpTD20e76VieIvjVqurWjWqoIVbunFeW3eozzys8k7yFv7xqkZGPU5plFFFFFFFFFFFFFOUsOlW7WzurtwsMMhY+1a0vg3Xo7f7RJaOI8ZzWDNA0LFXBBHWoqKKKKKKKKKKKKKXtXpfwv8D6T4muRJqN6IivIQnrX0tp3hHQrC2iih063O0ff2jJqxqeladNp0kNzHHFBjlumK+VvifpejaZqzLpNysyk84PSvP+MCkoooooooooooooq9p2q3mmzLJbTMhB7Gu/sPjFrdtbiJ7hzgYBzVDWfinrupwtD9rcRt1Ga4ae4kuJC8jFmPUk1FRRRRRRRRRRRRRRRRRRRRRRRRRRRRRRRRRRRRRRRRRRRRRRRRRRRRRRRRRRRRRRRRRRRRRRRRRRRRRRRRRRRRRRRRRRRRRRRRRRRRRRRRRRRRRRRRRRRRRRRRX//Z' style='display:block;' /></div><div><p onclick='toggleImage(\"image-0-5\")' style='cursor:pointer;'>Image: 20230310041903_494_0000.bmp <span id='arrow-image-0-5' class='toggle-arrow'>►</span></p><img id='image-0-5' src='data:image/png;base64,/9j/4AAQSkZJRgABAQAAAQABAAD/2wBDAAgGBgcGBQgHBwcJCQgKDBQNDAsLDBkSEw8UHRofHh0aHBwgJC4nICIsIxwcKDcpLDAxNDQ0Hyc5PTgyPC4zNDL/wAALCACWAJYBAREA/8QAHwAAAQUBAQEBAQEAAAAAAAAAAAECAwQFBgcICQoL/8QAtRAAAgEDAwIEAwUFBAQAAAF9AQIDAAQRBRIhMUEGE1FhByJxFDKBkaEII0KxwRVS0fAkM2JyggkKFhcYGRolJicoKSo0NTY3ODk6Q0RFRkdISUpTVFVWV1hZWmNkZWZnaGlqc3R1dnd4eXqDhIWGh4iJipKTlJWWl5iZmqKjpKWmp6ipqrKztLW2t7i5usLDxMXGx8jJytLT1NXW19jZ2uHi4+Tl5ufo6erx8vP09fb3+Pn6/9oACAEBAAA/APn+iiiiiiiiiiiiiiiiiiiiiiiiiiiiiiiiiiiiiiiiiiiiiiiiiiiiiiiiiiiiiiiiiiiiilBwc0h5NFFFFFFFFFFFFFFFFFFFFFFFFFFFFFFFFFFKoyaQ9aKKKKKKKKKKKKKkiheZtqDNWo9KupJljEZyxwOKXUtHv9IkVL22eLcMqWH3hVCiiiiiiiiiiiiiinqu47cc+td74L8KTalhkQvk4Jx0rrb7w3/YeqQfaVA2sDjHUV13xN0/SvEngCG5gEf22AAqVHOB2r5plt5YSfMQqc4qKiiiiiiiiiiiiinI5VgfevfvhJqtva2hdlVsc4rtdU8MT+L7w6hnZCVwlcxrWhXei2MsdySIo1yPQ1454gls7i2Z4sCTPIrlSMGkooooooooooooortfA2t/Yb6KJnwrHBFfXWimM6PaGLGwxgjFZnjbSl1XwzdxY/eKpZT3r461e0eG8lhwQVYgg1mzW8kOC4OD0NRUUUUUUUUUUUUUVPbSmB1kU4YHNezeAvjBdWCQ6desGiDAAnsK9bl8c6fcfuWkXbIuRXzl8S1itfFDvbFSr/NxXLPqKTWwjkX5l6Gs9tpJIptFFFFFFFFFFFFFPicxyBgcEGum/tW8Fgl2sx+Q7etYeo6jJqMgeUksO5qlRRRRRRRRRRRRRRRRVuG8aO2e3PKNz+NVKKKKKKKKKKKKKKKKKKKKKKKKKKKKKKKKKKKKKKKKKKKKKKKKKKAcUUUUUUUUUUUUUUUUUUUUUUUUUUUUUUUUUUUUUUUUUUUUUUUUUUUUUU+NN7YpZFC8Co6KKKKKKKKKKKKKKKK//9k=' style='display:block;' /></div><div><p onclick='toggleImage(\"image-0-6\")' style='cursor:pointer;'>Image: 20230310043332_861_0002.bmp <span id='arrow-image-0-6' class='toggle-arrow'>►</span></p><img id='image-0-6' src='data:image/png;base64,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' style='display:block;' /></div><div><p onclick='toggleImage(\"image-0-7\")' style='cursor:pointer;'>Image: 20230310041821_795_0005.bmp <span id='arrow-image-0-7' class='toggle-arrow'>►</span></p><img id='image-0-7' src='data:image/png;base64,/9j/4AAQSkZJRgABAQAAAQABAAD/2wBDAAgGBgcGBQgHBwcJCQgKDBQNDAsLDBkSEw8UHRofHh0aHBwgJC4nICIsIxwcKDcpLDAxNDQ0Hyc5PTgyPC4zNDL/wAALCACWAJYBAREA/8QAHwAAAQUBAQEBAQEAAAAAAAAAAAECAwQFBgcICQoL/8QAtRAAAgEDAwIEAwUFBAQAAAF9AQIDAAQRBRIhMUEGE1FhByJxFDKBkaEII0KxwRVS0fAkM2JyggkKFhcYGRolJicoKSo0NTY3ODk6Q0RFRkdISUpTVFVWV1hZWmNkZWZnaGlqc3R1dnd4eXqDhIWGh4iJipKTlJWWl5iZmqKjpKWmp6ipqrKztLW2t7i5usLDxMXGx8jJytLT1NXW19jZ2uHi4+Tl5ufo6erx8vP09fb3+Pn6/9oACAEBAAA/APn+iiiiiirdlbmZuK7DRtAkmwwFdlZ6LLHHyvAFQ3fhn7ZG7ZGcV51rehy2RkbHANc7RRRRRRRRRRRRTlXJroNCtfmDEd69Y8M2CiMFh1rrXgHkiONc+9ZF/atawls4J7VwWvbJraRXHNeaXkIhmIHSq9FFFFFFFFFFFTR42jNdPocgypHavVdAl3RKegFdNb6hFbo+8jp8tY97dtcoxYcV594hdfOKA4U15/qYCzYByKoUUUUUUUUUUUUvJwK3NKuPJxzXo/hzV4xAUkYAGumzHcRqxcADp71n6pemJNoxXBa7cq4JB+tcTcyb5TUFFFFFFFFFFFFGcVZgm2rjNaltqjxFQGwK6GDxZIIlj38LTb3xK08W7dzXL3uoGVSM9ayyc0UUUUUUUUUUUUUoJFLvb1pRKwPWnNM23ANRE5oooooooooooooooopyozHgU4wSAZ28UwgjrSUUUUUUUUUUUUUVJHH5nA61rafokt6wCKTXcaN8NLu8XzPLOPpVvUPAL2kRUx9vSuD1TQZbIsGQ1gOhRsGm0UUUUUUUUUUUVqaVaG4lXA717R4L8NJsSZ1BA6167Z3Fpa2QiiiAYjHSq0+nxXULs6jOM15h4q0i2S1mZ0G4ZxXhuqoEvGAHGaoUUUUUUUUUUUUq4zzXTeG2WOZcjPNe/wDgtlktgCOK9CigtPs/CjdisS9uvskjLnivN/F92JInQd68Q1sKLkgdc1k0UUUUUUUUUUUV0fh+4RXG4d69q8Jaoscaoveu9t9YEELZ+Y44rBu7iW8lZiprgvFMi28Thm+Y147qcvm3THPeqVFFFFFFFFFFFFXbK48gZ967vw34lWAqGOMV6Hpnia3CmWVwRjpmotS8dWkMLvGByK8n8QeI3v2kYNnJ4rkmYsxJ6mkoooooooooooooqaO5eLG04q/Hrdwibd5x9ail1OV1Kscg1QZixJJpKKKKKKKKKKKKKKKKKKKKKKKKKKKKKKKKKKKKKKKKKKKKKKKKKKKKKKKKKKKKKKKKKKKKKKKKKKKKKKKKKKKKKKKKKKKKKKKKKKKKKKKKKKKKKKKKKKKKKKKKK//Z' style='display:block;' /></div><div><p onclick='toggleImage(\"image-0-8\")' style='cursor:pointer;'>Image: 20230310041757_499_0001.bmp <span id='arrow-image-0-8' class='toggle-arrow'>►</span></p><img id='image-0-8' src='data:image/png;base64,/9j/4AAQSkZJRgABAQAAAQABAAD/2wBDAAgGBgcGBQgHBwcJCQgKDBQNDAsLDBkSEw8UHRofHh0aHBwgJC4nICIsIxwcKDcpLDAxNDQ0Hyc5PTgyPC4zNDL/wAALCACWAJYBAREA/8QAHwAAAQUBAQEBAQEAAAAAAAAAAAECAwQFBgcICQoL/8QAtRAAAgEDAwIEAwUFBAQAAAF9AQIDAAQRBRIhMUEGE1FhByJxFDKBkaEII0KxwRVS0fAkM2JyggkKFhcYGRolJicoKSo0NTY3ODk6Q0RFRkdISUpTVFVWV1hZWmNkZWZnaGlqc3R1dnd4eXqDhIWGh4iJipKTlJWWl5iZmqKjpKWmp6ipqrKztLW2t7i5usLDxMXGx8jJytLT1NXW19jZ2uHi4+Tl5ufo6erx8vP09fb3+Pn6/9oACAEBAAA/APn+iiiiiiiiiiiiiiiiiiiiiiiiiiiiiiiiiiiiiiiiiiiiiiiiiiiiiiiiiiiiiiiiiiiiiiiiiiiiiiiiiiiiiiiiiiiiiiiiiiiiiiiiiiiiiiiiiiiiiiiiiiij8KKKKKKKKKKKKKKKKKngtJbhgEUnNbcfhi4liB2EH6VHN4buIVyymsm5tHt2wQar0UUUUUUUUUUUUVcsLJ7qZVAyK9Q8J+HYUZWnjGPcV6Tpvh22uZAqRjH0p3iXwdDDaArGMn2ryHxLoC2q7mXFef3aBJMCq1FFFFFFFFFFFFdn4VtBIyNjNe36DpEctqpxg4rstBtoLaUhj0p2s3CTkofujpXjfj0psKrXjt8g3k1n0UUUUUUUUUUU6Nd7gV3XhK4SGZEavcNAuFMS4bgit8wSRjzVYgGsTWdSWOPhua8l8Yams4Iz0rzS8l3vxVSiiiiiiiiiiilVipyK2NKvjDKGzzXpGi+K2hCKX6V3U3jiEaaF8wbsetcFrXiky7ir159qeqNcO2WzWGxyc0lFFFFFFFFFFFFOjco2RV2LUpIyME1dm1eYxD5zj61Wkv2ePk1nOxZiTTaKKKKKKKKKKKKKKKduZhjrS7HI6HFMxiiiiiiiiiiiiiiiitPT9JkvSoVSc13Wl+AHuIQTGc/SotX8Ez2URIiOPpXB3enz2shDoQKp0UUUUUUUUUUUUVbsLc3E4XFep+ENISF1eVRivTtLvbaGUIEGB7VrXkFpq0O0IoI9q8m8d+HreCJzGoBHpXjc8flTMvoaiooooooooooooroPDyIZ0zjOa9ks4Fj05HQc47Vt6KLYnMrDNadzqVvagiBhmvMvGmrNKjZPWvI7xg8xI9arUUUUUUUUUUUUVo6PceTeIScDNe3eGdQtru0EUkg6etabQxRysUlGPrWLf3SWhdmlz+Neb+IdaF07KD3rkGO5iaSiiiiiiiiiiiilVipyDzW1pWt3VrIArn867ePWrh7UMWOcVzmr6vO4YFjXJySM7kk9aZRRRRRRX//Z' style='display:block;' /></div><div><p onclick='toggleImage(\"image-0-9\")' style='cursor:pointer;'>Image: 20230310042918_520_0000.bmp <span id='arrow-image-0-9' class='toggle-arrow'>►</span></p><img id='image-0-9' src='data:image/png;base64,/9j/4AAQSkZJRgABAQAAAQABAAD/2wBDAAgGBgcGBQgHBwcJCQgKDBQNDAsLDBkSEw8UHRofHh0aHBwgJC4nICIsIxwcKDcpLDAxNDQ0Hyc5PTgyPC4zNDL/wAALCACWAJYBAREA/8QAHwAAAQUBAQEBAQEAAAAAAAAAAAECAwQFBgcICQoL/8QAtRAAAgEDAwIEAwUFBAQAAAF9AQIDAAQRBRIhMUEGE1FhByJxFDKBkaEII0KxwRVS0fAkM2JyggkKFhcYGRolJicoKSo0NTY3ODk6Q0RFRkdISUpTVFVWV1hZWmNkZWZnaGlqc3R1dnd4eXqDhIWGh4iJipKTlJWWl5iZmqKjpKWmp6ipqrKztLW2t7i5usLDxMXGx8jJytLT1NXW19jZ2uHi4+Tl5ufo6erx8vP09fb3+Pn6/9oACAEBAAA/APn+iiiiiiiiiiiiiiiiiiiiiiiiiiiiiiiiiiiiiiiiiiiiiiiiiiiiiiiiiiiiiiiiiiiiiiiiiiiiiiiiiiiiiiiiiiiiiiiiiiiiiiiiiiiiiiiiiiiiiiiiintE6xq5HDdKuR6ez2+dvznpzTTpd0NvyH5unFTNolzFH5kgAX0qh5ZLNjgA96joooooooooooopyozdAT9BXZQaFDf6RCC4Ryfl9zXYWfgaUaEJGQicfdXHUVeuNDtrfSIpLlRHOnIUjrXJ6lFJMhnZSm3gR461ylxGbhJPOi+z7emRjdWMUYDO049cU2iiiiiiiiiipI49xBYfLXY+GNDj1Nd0QzFn5ia73TdDsJZooFYg25BHuRXq1tZtPpYuwoHkrgA96468Njf3+/UwUCH5AOlYusW+nyXgK42joB3rjPE+kPeWjzyKI0jGU29686MzGLy+NoqKiiiiiiiiiirtpEJht3BQPXvXfeEb2MsthbYQtwTXp1pYwXEkENuAs8ZzI3rXaajIY9MSC3lC7QA49axNRu9EXTfJu41Fy4wrH1rzS406RNXKNOGUjKjNcr4u1C9td1s24RngZrgqKKKKKKKKKKKlUyFVCjAHet2zuZdOuYZ7fnGMkV7BoviC0FhHMkn+lyLjHfNdPbzrJbmTUZfLlK5VSetcbqJj1nVEjvJvJiib92c/erldWuXsvEyyNMSirx71y3ibXzrU7I6BRGflPrXN0UUUUUUUUUUU9ZGUYGMVoWV2zzxwj7rHBNd9p1vBZ+S4cmQEbcdjXT6nqDXaRrcTDzQvy47CvPtR15zdPazP88f3CPWub1DU7q5k/fMS46Gs53Zzljk02iiiiiiiiiiiirVvdCGMqF+Y9G9K3otT/sy0RzJ5rv79KqX2tXQICzsxYZznpWK0rvL5jsS+c5NEkhkbcetMooooooooooooooozRRRRRRRRRRRRRRRRRRRRRRRRRRRRRRRRRRRRRRRRRRRRRRRRRRRRRRRRRRRRRRRRRRRRRRRRRRRRRRRRRRRRRRRRRRRRRRRRRRUkiBVUjPNR0UUUUV//2Q==' style='display:block;' /></div><div><p onclick='toggleImage(\"image-0-10\")' style='cursor:pointer;'>Image: 20230310042226_235_0000.bmp <span id='arrow-image-0-10' class='toggle-arrow'>►</span></p><img id='image-0-10' src='data:image/png;base64,/9j/4AAQSkZJRgABAQAAAQABAAD/2wBDAAgGBgcGBQgHBwcJCQgKDBQNDAsLDBkSEw8UHRofHh0aHBwgJC4nICIsIxwcKDcpLDAxNDQ0Hyc5PTgyPC4zNDL/wAALCACWAJYBAREA/8QAHwAAAQUBAQEBAQEAAAAAAAAAAAECAwQFBgcICQoL/8QAtRAAAgEDAwIEAwUFBAQAAAF9AQIDAAQRBRIhMUEGE1FhByJxFDKBkaEII0KxwRVS0fAkM2JyggkKFhcYGRolJicoKSo0NTY3ODk6Q0RFRkdISUpTVFVWV1hZWmNkZWZnaGlqc3R1dnd4eXqDhIWGh4iJipKTlJWWl5iZmqKjpKWmp6ipqrKztLW2t7i5usLDxMXGx8jJytLT1NXW19jZ2uHi4+Tl5ufo6erx8vP09fb3+Pn6/9oACAEBAAA/APn+iiiiiiiiiiiiiiiiiiiiiiiiiiiiiiiiiiiiiiiiiiiiiiiiiiiiiiiiiiiiiiiiiiiiiiiiiiiiiiiiiiiiiiiiiiiiiiiiiiiiiiiiiiiiiiiiiiiiiiiiiil/Cjr0FJRRRRRRRRRRRRRRRT0jkkOFUn8Kv2Oj3F5MI1U5JxWvqnhS50qJGaM/MM9K5uaKSNvmUioqKKKKKKKKKKKKKkhhaeVY0GSxwK9s8H/DM3OjrcTxHeR3FdZ4d+HsVt4gUSR/uxzyK7jVPA1hqahXVQFGBxXh/wAR/BlvpnmLAo3D0rx10KOVPUHBptFFFFFFFFFFFPjjMjYFdJ4KsFu/E1pE4yPMGa+zbOzgtraKKJAFCj+VOnhVEMkagOO9QLqaGNv7yjmvIvFEMmqalPJJygzXgviOx+x6rNgYVm4rHoooooooooooqSKTy2zXR+Db4W3iO3lY4+cV9l6XdJd6bBMrA5QVNdzLDauxPauJtbl5ZZ1Q5JziuT1aSW2S5Ei4JzXhvi24Wa9GOoPNc3RRRRRRRRRRRRU9nObe6jkBxtOa+j/Afj2P+xkill5UY5NbWs+MY5ISiSdR61V8HaxDPq/7xxt75qh8RNcsIppY4mXPtXzrqtx9o1CVs8Z4qlRRRRRRRRRRRRRWppurz2XyqxArVPiqZ25Y/nVvS/GUlhMXDkE1na3rc+pyPMzk59650kk5PU0lFFFFFFFFFFFFFLRijGaXewXbnim0UUUUUUUUUUUUUUUUUUUUUUUUUUUUUUUUUUUUUUUUUUUUUUUUUUUUUUUUUUUUUUUUUUUUUUUUUUUUUUUUUUUUUUUUUUUUUUUUUUUUV//Z' style='display:block;' /></div><div><p onclick='toggleImage(\"image-0-11\")' style='cursor:pointer;'>Image: 20230310041822_845_0000.bmp <span id='arrow-image-0-11' class='toggle-arrow'>►</span></p><img id='image-0-11' src='data:image/png;base64,/9j/4AAQSkZJRgABAQAAAQABAAD/2wBDAAgGBgcGBQgHBwcJCQgKDBQNDAsLDBkSEw8UHRofHh0aHBwgJC4nICIsIxwcKDcpLDAxNDQ0Hyc5PTgyPC4zNDL/wAALCACWAJYBAREA/8QAHwAAAQUBAQEBAQEAAAAAAAAAAAECAwQFBgcICQoL/8QAtRAAAgEDAwIEAwUFBAQAAAF9AQIDAAQRBRIhMUEGE1FhByJxFDKBkaEII0KxwRVS0fAkM2JyggkKFhcYGRolJicoKSo0NTY3ODk6Q0RFRkdISUpTVFVWV1hZWmNkZWZnaGlqc3R1dnd4eXqDhIWGh4iJipKTlJWWl5iZmqKjpKWmp6ipqrKztLW2t7i5usLDxMXGx8jJytLT1NXW19jZ2uHi4+Tl5ufo6erx8vP09fb3+Pn6/9oACAEBAAA/APn+iiiiiiiiiiiiiiiiiiiiiiiiiiiiiiiiiiiiiiiiiiiiiiiiiiiiiiiiiiiiiiiiiiiiiiiiiiiiiiiiiiiiiiiiiiiiiiiiiiiiiiiiiiiiiiiiiiiiiiiilVS7BVGSe1Xo9JuZFyF59Kd/Yd/3gYfhSSaJqEa7jbvt9cVRaN0JDKQR6im0UUUUUUUUUUUUAZOK6Lw9pn2i4VmXH+0a7n7Hb25XCBm/vCtS38sYaQo4HYCtIwx31qyRxqox6Vyd94YgZXxDuc55Fee6vpT6dMQTkE9PSsyiiiiiiiiiiiprUxidTIMrXeeG5YzcJ8uYv7tdZd2/nOqwJ5cfcmnpp4t03qd47mrEUF3JC0sDfIo5FVTqLMGTb5ZXrnvXnHiyZZJjs9ea5eiiiiiiiiiiilXr1xWxoV9cR38caNwTXs2khrmJIZBvc9q9A0rwms1iVkg2Bh1NMu/CZ06zkNs4bI+6K8e8Q3E9rO8b25U5POK841YyNKWLEg9qy6KKKKKKKKKKKACelbfh21km1FFVcNng167ZXTaf5aOux/8Anp6V3WleJ7mG28trkXKnuD0pt74qu0DLDbmQHqa5nUHhvoma4gDOfavHPFlsYbo7I9i56VzFFFFFFFFFFFFOjfY4bGa6zwrfRi+Q7BuzXe3cd1qMiow2RHvQRdaOoS0YyA9auWuuX3lbChDHtQ0su1pbiXyj1CnvXnXjDVBcSGPywMfxetcbRRRRRRRRRRRRVmxuntLlZUbGK6/T/GkiTL50uYx1FbVz45spNqxYT1NTReK9NSPzjcjzAMgVzet+N2v3KpHkA8GuWvb57wgsaqUUUUUUUUUUUUUUUUUUUUUUUUUUUUUUUUUUUUUUUUUUUUUUUUUUUUUUUUUUUUUUUUUUUUUUUUUUUUUUUUUUUUUUUUUUUUUUUUUUUUUUUUUUUUUUUUUUUUUUUV//2Q==' style='display:block;' /></div></div></div><div class='step-header'>Step: trim_fixed <span id='arrow-1' class='toggle-arrow' onclick='toggleMetadata(1)'>►</span></div><div id='metadata-1' class='metadata' style='display:block;'><div class='image-container'><div><p onclick='toggleImage(\"image-1-0\")' style='cursor:pointer;'>Image: 20230310043332_861_0002.bmp <span id='arrow-image-1-0' class='toggle-arrow'>►</span></p><img id='image-1-0' src='data:image/png;base64,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' style='display:block;' /></div><div><p onclick='toggleImage(\"image-1-1\")' style='cursor:pointer;'>Image: 20230310041822_845_0000.bmp <span id='arrow-image-1-1' class='toggle-arrow'>►</span></p><img id='image-1-1' src='data:image/png;base64,/9j/4AAQSkZJRgABAQAAAQABAAD/2wBDAAgGBgcGBQgHBwcJCQgKDBQNDAsLDBkSEw8UHRofHh0aHBwgJC4nICIsIxwcKDcpLDAxNDQ0Hyc5PTgyPC4zNDL/wAALCACWAJYBAREA/8QAHwAAAQUBAQEBAQEAAAAAAAAAAAECAwQFBgcICQoL/8QAtRAAAgEDAwIEAwUFBAQAAAF9AQIDAAQRBRIhMUEGE1FhByJxFDKBkaEII0KxwRVS0fAkM2JyggkKFhcYGRolJicoKSo0NTY3ODk6Q0RFRkdISUpTVFVWV1hZWmNkZWZnaGlqc3R1dnd4eXqDhIWGh4iJipKTlJWWl5iZmqKjpKWmp6ipqrKztLW2t7i5usLDxMXGx8jJytLT1NXW19jZ2uHi4+Tl5ufo6erx8vP09fb3+Pn6/9oACAEBAAA/APn+iiiiiiiiiiiiiiiiiiiiiiiiiiiiiiiiiiiiiiiiiiiiiiiiiiiiiiiiiiiiiiiiiiiiiiiiiiiiiiiiiiiiiiiiiiiiiiiiiiiiiiiiiiiiiiiiiiiiiiiilVS7BVGSe1Xo9JuZFyF59Kd/Yd/3gYfhSSaJqEa7jbvt9cVRaN0JDKQR6im0UUUUUUUUUUUUAZOK6Lw9pn2i4VmXH+0a7n7Hb25XCBm/vCtS38sYaQo4HYCtIwx31qyRxqox6Vyd94YgZXxDuc55Fee6vpT6dMQTkE9PSsyiiiiiiiiiiiprUxidTIMrXeeG5YzcJ8uYv7tdZd2/nOqwJ5cfcmnpp4t03qd47mrEUF3JC0sDfIo5FVTqLMGTb5ZXrnvXnHiyZZJjs9ea5eiiiiiiiiiiilXr1xWxoV9cR38caNwTXs2khrmJIZBvc9q9A0rwms1iVkg2Bh1NMu/CZ06zkNs4bI+6K8e8Q3E9rO8b25U5POK841YyNKWLEg9qy6KKKKKKKKKKKACelbfh21km1FFVcNng167ZXTaf5aOux/8Anp6V3WleJ7mG28trkXKnuD0pt74qu0DLDbmQHqa5nUHhvoma4gDOfavHPFlsYbo7I9i56VzFFFFFFFFFFFFOjfY4bGa6zwrfRi+Q7BuzXe3cd1qMiow2RHvQRdaOoS0YyA9auWuuX3lbChDHtQ0su1pbiXyj1CnvXnXjDVBcSGPywMfxetcbRRRRRRRRRRRRVmxuntLlZUbGK6/T/GkiTL50uYx1FbVz45spNqxYT1NTReK9NSPzjcjzAMgVzet+N2v3KpHkA8GuWvb57wgsaqUUUUUUUUUUUUUUUUUUUUUUUUUUUUUUUUUUUUUUUUUUUUUUUUUUUUUUUUUUUUUUUUUUUUUUUUUUUUUUUUUUUUUUUUUUUUUUUUUUUUUUUUUUUUUUUUUUUUUUUV//2Q==' style='display:block;' /></div><div><p onclick='toggleImage(\"image-1-2\")' style='cursor:pointer;'>Image: 20230310041825_994_0000.bmp <span id='arrow-image-1-2' class='toggle-arrow'>►</span></p><img id='image-1-2' src='data:image/png;base64,/9j/4AAQSkZJRgABAQAAAQABAAD/2wBDAAgGBgcGBQgHBwcJCQgKDBQNDAsLDBkSEw8UHRofHh0aHBwgJC4nICIsIxwcKDcpLDAxNDQ0Hyc5PTgyPC4zNDL/wAALCACWAJYBAREA/8QAHwAAAQUBAQEBAQEAAAAAAAAAAAECAwQFBgcICQoL/8QAtRAAAgEDAwIEAwUFBAQAAAF9AQIDAAQRBRIhMUEGE1FhByJxFDKBkaEII0KxwRVS0fAkM2JyggkKFhcYGRolJicoKSo0NTY3ODk6Q0RFRkdISUpTVFVWV1hZWmNkZWZnaGlqc3R1dnd4eXqDhIWGh4iJipKTlJWWl5iZmqKjpKWmp6ipqrKztLW2t7i5usLDxMXGx8jJytLT1NXW19jZ2uHi4+Tl5ufo6erx8vP09fb3+Pn6/9oACAEBAAA/APn+iiiiiiiiiiiiiiiiiiiiiiiiiiiiiiiiiiiiiiiiiiiiinKORmnuFJqMgA8UlFFFFFFFFFFFFFFFOB3ECpTFyKY6Be/NR0UUUUUUUUUUUUUUUDrUwc96jc5am0UUUUUUUUUUUUUUUo6insfmHpTXxnim5ooooooooooooooopQCelByOtJRRRRRRRRRRRRRRRU1tAZ5NorobDw1Nd42Lk1oSeCLlRuZDXOajo81lKVKms4xMvWmUUUUUUUUUUUUUo681t6JbCaYAdTXsngzQ/Lw8oGD612l/ZW4h2rCCcdcV514j8PLMrOsXP0rzHVdLeBm+XFc+ylWINJRRRRRRRRRRRSqu44roNBzHdIc9DXuvhq8+0pEijGMZr023htHtAsiAuRWdqujWiWLysq9OleDeMLWKO4kKKNua8yvkCSnHeqdFFFFFFFFFFFKDitPTbkxTIc17F4T1uLy0K8EYr1rR9SiuYA5PIqXUy93bsAcJivD/ABtEsTuucnNeT3hxId3rVKiiiiiiiiiiiipIpDG2a6vRdb+zAYr0fQ/FxWEfMQB71vXXj1BYMgPOOua8p17XGvZ3ZjkE1xFzL5spPvUFFFFFFFFFFFFFFTwzmNh6Vrxa0YEAU0+TXmkjxWVPfNLniqhOTmkooooooooooooooooooooooooooooooooooooooooooooooooooooooooooooooooooooooooooooooooooooooooooooooooooooooooooooooooooooooor/2Q==' style='display:block;' /></div><div><p onclick='toggleImage(\"image-1-3\")' style='cursor:pointer;'>Image: 20230310042417_732_0000.bmp <span id='arrow-image-1-3' class='toggle-arrow'>►</span></p><img id='image-1-3' src='data:image/png;base64,/9j/4AAQSkZJRgABAQAAAQABAAD/2wBDAAgGBgcGBQgHBwcJCQgKDBQNDAsLDBkSEw8UHRofHh0aHBwgJC4nICIsIxwcKDcpLDAxNDQ0Hyc5PTgyPC4zNDL/wAALCACWAJYBAREA/8QAHwAAAQUBAQEBAQEAAAAAAAAAAAECAwQFBgcICQoL/8QAtRAAAgEDAwIEAwUFBAQAAAF9AQIDAAQRBRIhMUEGE1FhByJxFDKBkaEII0KxwRVS0fAkM2JyggkKFhcYGRolJicoKSo0NTY3ODk6Q0RFRkdISUpTVFVWV1hZWmNkZWZnaGlqc3R1dnd4eXqDhIWGh4iJipKTlJWWl5iZmqKjpKWmp6ipqrKztLW2t7i5usLDxMXGx8jJytLT1NXW19jZ2uHi4+Tl5ufo6erx8vP09fb3+Pn6/9oACAEBAAA/APn+iiiiiiiiiiiiiiiiiiiiiiiiiiiiiiiiiiiiiiiiiiiiiiiiiiiiiiiiiiiprURNdxCY4iLDf9K0vEEOmw3ijTH3RbRk+9Y9FFFFFFFFFFFFFFFFFFFFFFFFFFFFFFFFFFFFFFFFFFFFFFFFFFFFFFFFFKAScDrVhbC7cZW2kI9QpoNhdjrayj/gJqB0ZDtdCp9xTaKKKKKKKKKKKKKKmtmCXUTEZAYEivr7wJoejXPhKzunsImeRcksua6GXwtoc6FTp0A9wleQ/FP4WRCxa/0yIApkkKK+fpLaaOQo8ZDA4IxU0NhNJgBDzUdzZzWzfOhA9ar0UUUUUUUUUUU+M4kQ+hFfZXwxuY7jwLYqpBZFwRXZVU1GMS6bcIy7gyEYNfI/i9bey125QIFO41zi6yYWIVRio7/V2vYgjKBisqiiiiiiiiiiigcc17v8GPHCWP8AxLrt/kfhcnpX0LHIssavGdytyDRKyrEzP90DmvlL4wranXnltlAyecV5iTk0lFFFFFFFFFFFFFaWmXj2MyzRttIORXtfgb4wzJcW+m3QDRkgbj2r3pJIr6yDRtmOVeCK+cPjd4Yk0udLtMmKQ9a8XoooooooooooooopytgYq9pMrLqUJ3Y+YV9meDLhLnwrZgP8yoATXD/HYwt4ahVmUsCcDPNfLh7/AFpKKKKKKKKKKKKKKKfHIYpFdeqnNeo6D8WLjTNKW1BIKjHWuW8U+Nb/AMROVmlYx9gTXKUUUUUUUUUUUUUUUUUUUUUUUUUUUUUUUUUUUUUUUUUUUUUUUUUUUUUUUUUUUUUUUUUUUUUUUUUUUUUUUUUUUUUUUUUUUUUUUUUUUUUUUUUUUUUUUUUUUUUUUUUV/9k=' style='display:block;' /></div><div><p onclick='toggleImage(\"image-1-4\")' style='cursor:pointer;'>Image: 20230310041823_044_0000.bmp <span id='arrow-image-1-4' class='toggle-arrow'>►</span></p><img id='image-1-4' src='data:image/png;base64,/9j/4AAQSkZJRgABAQAAAQABAAD/2wBDAAgGBgcGBQgHBwcJCQgKDBQNDAsLDBkSEw8UHRofHh0aHBwgJC4nICIsIxwcKDcpLDAxNDQ0Hyc5PTgyPC4zNDL/wAALCACWAJYBAREA/8QAHwAAAQUBAQEBAQEAAAAAAAAAAAECAwQFBgcICQoL/8QAtRAAAgEDAwIEAwUFBAQAAAF9AQIDAAQRBRIhMUEGE1FhByJxFDKBkaEII0KxwRVS0fAkM2JyggkKFhcYGRolJicoKSo0NTY3ODk6Q0RFRkdISUpTVFVWV1hZWmNkZWZnaGlqc3R1dnd4eXqDhIWGh4iJipKTlJWWl5iZmqKjpKWmp6ipqrKztLW2t7i5usLDxMXGx8jJytLT1NXW19jZ2uHi4+Tl5ufo6erx8vP09fb3+Pn6/9oACAEBAAA/APn+iiiiiiiiiiiiiiiiiiiiiiiiiiiiiiiiiiiiiiiiiiiiiiiiiiiiiiiiiiiiiiiiiiiiiiiiiiiiiiiiiiiiiiiiiiiiiiiiiiiiiiiiiiiiiiiiiiiinpEz52jOBmp4LCafOARxwcEjPpXWaD4COoqJL6d4YW4DopYj9MfrVRvCMccmySeTe7mNY/LPBzwS2Mc+laMPgy3e3WJZpzMJ1SQGM7D9CM1WtfAUt8uovBdofsquypsY78dgR0P14rDt/Dl/dWklxEgYRj5lHUH0NZflPuZdpyvXAzimUUUUUUUUUU5FBPPQdRnFdT/Z9u0ZieZC8cHzNgAHPYZzj8q1dF0poZg17aSQyAboowwffxxgdgfUV2fhqwny0kkqxtgn7Lu2hT2I56++axk+z/ZEguJ2tlNyS20lw/P4fzrRh8yJwwdlaS7QFPs5ZSOxAz+tVxaGSy1YsryFUkceYqsAAeoLjGfpg/WsLTpYxYT26zOC8fmGGQHJ4+u3H61meUbf+0I3ZVj+zbkT5duSOoY4P4Vyl4YmeMxBQPLUHAxzjrUBGD1B+lJRRRRRRRSgkdD1rXj1N0hXcFSSNdrAZUyD6jnNb+k62Eu2KIsDeTsxk859eOnv1r0LwxAWtTLaNbmdH3pFHtZn47Bv64rLj06Wa1S4dmkvIrhmfLKJACehAOMe1WDJdJawy/aI441vUV4wok2k9Cev9Kp6XcebLrMTOFd4pEDMw2y5/ujoT7cVzthLPDpFzE6ny0Uglfkyew5H+Fc3b6tNDHeIJsrIuCrsQT+VZVzObiQMeoUL+VQ0UUUUUUUUUpDHBOTnpV/T4i9wittZpDgIzEZHvivUfB8Phq4tD9vt5plDbFkyygP6jbjge9SEaPFYxW62l3GhuCfOYh889mB/+vWxDb6dbQmR5Lkr9pRgJVA28ccg/N/nNczDcackGtXK2TuVWSEgIM7m6MdzHaB7V56sV0LeaeFJym352xwAPc9frWWQw6g+tJRRRRRRRRRTkUsThd2Bk8Vrx2jNGvm5RmTKKkWOPXPp+tbXhzTbWSeRpczSsMRcBs/n0+ozXpnhHTriykuFidBA/IR1UYbHqeCfbiudjnuJS0CSTMEuGy4OxcZ5C5wP0/Gr2Z4LJPNRI4VvUWN4x5mQfof15rOtrVhFqkqKzsVkyzKFRBnr1xj2K81l6ZYCXTryLa0k8ceTIBgAEdhnBB9q5g6XGy3JCGGWCMs6OOD757VizwPAyq4wWUMPoaioooooooopyOVPBxnvXYXmsR3FvbwwtFbmKDCSbDiT1wTyPpVnw/eKJ5wztuaIkNsAz/wIdPpXaeG7tv35lscF5BtBIwOO3XB/CufN7sjXzsZaZy6yHzMc8cA9foK1I5RcWwkjlEbNeRjAQ4ZcdVY/MD+lVrS4ivLLW4JIwLiOKVVkk/dsRnqw53f1rH0qR5NOma4uYfsyRbSh+djx39Aaxo9SgRbhUuniElu6/KS270UjpiueurgTupWLylCKu3cWzgdcmq9FFFFFFFFFLkgdas22oXFvdLOsp8wcbm5rf0jxe9gxa5jeYmTfxKVGfp0x7UN4tSWTz57aSWfzCwzKQoHbgYFJc+L/ALQMm1ZSZVkZFmbY2OxFQ2/i+/s7W6httkQuFZCQoLKrdQD6Vlf2pdtHtediAu0c9qphmAwCRSUUUUUUUUUUUUUUUUUUUUUUUUUUUUUUUUUUUUUUUUUUUUUUUUUUUUUUUUUUUUUUUUUUUUUUUUUUUUUUUUUUUUUUUUUUUUUUUUUUUUUUUUUUUUUUUUUUUUUUUUUV/9k=' style='display:block;' /></div><div><p onclick='toggleImage(\"image-1-5\")' style='cursor:pointer;'>Image: 20230310042802_723_0000.bmp <span id='arrow-image-1-5' class='toggle-arrow'>►</span></p><img id='image-1-5' src='data:image/png;base64,/9j/4AAQSkZJRgABAQAAAQABAAD/2wBDAAgGBgcGBQgHBwcJCQgKDBQNDAsLDBkSEw8UHRofHh0aHBwgJC4nICIsIxwcKDcpLDAxNDQ0Hyc5PTgyPC4zNDL/wAALCACWAJYBAREA/8QAHwAAAQUBAQEBAQEAAAAAAAAAAAECAwQFBgcICQoL/8QAtRAAAgEDAwIEAwUFBAQAAAF9AQIDAAQRBRIhMUEGE1FhByJxFDKBkaEII0KxwRVS0fAkM2JyggkKFhcYGRolJicoKSo0NTY3ODk6Q0RFRkdISUpTVFVWV1hZWmNkZWZnaGlqc3R1dnd4eXqDhIWGh4iJipKTlJWWl5iZmqKjpKWmp6ipqrKztLW2t7i5usLDxMXGx8jJytLT1NXW19jZ2uHi4+Tl5ufo6erx8vP09fb3+Pn6/9oACAEBAAA/APn+iiiiiiiiiiiiiiiiiiiiiiiiiiiiiiiiiiiiiiiiiiiiiiiiiiiiiiiiiiiiiiiiiiiiiiiiiiiiiiiiiiiiiiiiiiiiiiiiiiiiiiiiiiiiiiiiiiiiiiiiilwaSiiiiiiiiiiiiiiiipooGfnHFX47NWXBqGawZTkCqbxlDg0yiiiiiiiiiiiiinJ94Cuh0y2WZ1THWtYeHr3zSY4mKdiBUNzaPbxH7QuxuwIrnrpFckis5l2nFJRRRRRRRRRRRRTo+HFdToY8y4jI9RX1T4X0TTpPDtpJJbozsnzEiuD+LPgUTwjULGIJFGvzBa8Jm0yQdu9Zl1ZOjdKpvGydRTKKKKKKKKKKKKUda3tLuvs5Ug85FfU3gfxVp83hq1haUCVVwRV3xbrdkfDV1GHU71xivmm/uokuDjG3JrIvruB3+XFZc0kLI3TNZ1FFFFFFFFFFFA61fgbaoOa6nRdcn05MrKfpmrGqeM7q6tzA0hwfeuSvbsyL97ms0sx6k0lFFFFFFFFFFFFFTRyYq0LrYoqCa43npUDMWptFFFFFFFFFFFFFFFGSaKKKKKKKKKKKKKKKKKKKKKKKKKKKKKKKKKKKKKKKKKKKKKKKKKKKKKKKKKKKKKKKKKKKKKKKKKKKKKKKKKKKKKKKKKKKKKKKKKKKKKKKKK//2Q==' style='display:block;' /></div><div><p onclick='toggleImage(\"image-1-6\")' style='cursor:pointer;'>Image: 20230310041903_594_0000.bmp <span id='arrow-image-1-6' class='toggle-arrow'>►</span></p><img id='image-1-6' src='data:image/png;base64,/9j/4AAQSkZJRgABAQAAAQABAAD/2wBDAAgGBgcGBQgHBwcJCQgKDBQNDAsLDBkSEw8UHRofHh0aHBwgJC4nICIsIxwcKDcpLDAxNDQ0Hyc5PTgyPC4zNDL/wAALCACWAJYBAREA/8QAHwAAAQUBAQEBAQEAAAAAAAAAAAECAwQFBgcICQoL/8QAtRAAAgEDAwIEAwUFBAQAAAF9AQIDAAQRBRIhMUEGE1FhByJxFDKBkaEII0KxwRVS0fAkM2JyggkKFhcYGRolJicoKSo0NTY3ODk6Q0RFRkdISUpTVFVWV1hZWmNkZWZnaGlqc3R1dnd4eXqDhIWGh4iJipKTlJWWl5iZmqKjpKWmp6ipqrKztLW2t7i5usLDxMXGx8jJytLT1NXW19jZ2uHi4+Tl5ufo6erx8vP09fb3+Pn6/9oACAEBAAA/APn+iiiiiiiiiiiiiiiiiiiiiiiiiiiiiiiiiiiiiiiiiiiiiiiiiiiiiiiiiiiiiiiiiiiiiiiiiiiiiiiiiiiiiiiiiiiiiiiiiiiiiiiiiiiiiiiiiiiiiiiiiinxxvK4RFJY9BTmhMZZJMrIDjbipjYP5U8meIcbvxqG4h8iUpnPAOcVFRRRRRRRRRRRRRRWnooD3DKV3gjOB1re0SMXV3cvKqPgjdkdPauiutBtkRmms3dr3BijU/dx61yviy1jHlz2wGzG1wOxFctRRRRRRRRRRRRRTnXDHGcCtPR4ppZ3uE6JgNj0NdFAWsReBIjtJBLj1rorbU2l0ZwAzTMP3mT8yAdNtcd4huLK5jDpDMsi8Nz8tcvRRRRRRRRRRRQAT0rc07QGv1tmjkUeYcMW6CrGreFrjT5JWEUwiXG1XHzN7/SpNIsYwJ0cTRsgByOjZ9arT7o/tLyzzAqeVB4PpVWTVbqKGSDzjvYj50PUelVLm+kuUUMcYGDjvVWiiiiiiiiiiirljZtPPHllVGPUn9K9w8HeH9MkKb7fMhHMIHCEdCK3tb8Nq8EE9y7tI2druMAAdq801jT5yupNbERxEqGzxjH92uG1K5Y3N1Ex6gYrJooooooooooooorU0i5gifF2u+NSCoPY17h4a1200021y0haeZQFEY3ZHvWx4v8AEP8AaunCyhlw6jK54H4147d660t4sN5MVtYgQzDqG7cVxVzKZ7iSQtuyx59qiooooooooooooopQxAIzwa6jQfF76H9lEMQ/dZ3M3OaZrHi++1C6uJo28hZj/qx/BXOSzPNIXkYsx6mmUUUUUUUUUUUUUUUUUUUUUUUUUUUUUUUUUUUUUUUUUUUUUUUUUUUUUUUUUUUUUUUUUUUUUUUUUUUUUUUUUUUUUUUUUUUUUUUUUUUUUUUUUUUUUUUUUUUUUUUUUUV//9k=' style='display:block;' /></div><div><p onclick='toggleImage(\"image-1-7\")' style='cursor:pointer;'>Image: 20230310041807_995_0000.bmp <span id='arrow-image-1-7' class='toggle-arrow'>►</span></p><img id='image-1-7' src='data:image/png;base64,/9j/4AAQSkZJRgABAQAAAQABAAD/2wBDAAgGBgcGBQgHBwcJCQgKDBQNDAsLDBkSEw8UHRofHh0aHBwgJC4nICIsIxwcKDcpLDAxNDQ0Hyc5PTgyPC4zNDL/wAALCACWAJYBAREA/8QAHwAAAQUBAQEBAQEAAAAAAAAAAAECAwQFBgcICQoL/8QAtRAAAgEDAwIEAwUFBAQAAAF9AQIDAAQRBRIhMUEGE1FhByJxFDKBkaEII0KxwRVS0fAkM2JyggkKFhcYGRolJicoKSo0NTY3ODk6Q0RFRkdISUpTVFVWV1hZWmNkZWZnaGlqc3R1dnd4eXqDhIWGh4iJipKTlJWWl5iZmqKjpKWmp6ipqrKztLW2t7i5usLDxMXGx8jJytLT1NXW19jZ2uHi4+Tl5ufo6erx8vP09fb3+Pn6/9oACAEBAAA/APn+iiiiiiiiiiiiiiiiiiiiiiiiiiiiiiiiiiiiiiiiiiiiiiiiiiiiiiiiiiiiiiiiiiiiiiiiiiiiiiiiiiiiiiiiiiiiiiiiiiiiiiiiiiiiiiiiiiiiiiiiil2n0pwjJHFIUZRyKTB60hooooooooooooopyKGOO9a2naTcXsqxxRO5Y4AUZrvLT4P+IrmIP9hdFxnDjBrI1z4da3osBmurKVY843FeK4ye3aFtrdarN1OaSiiiiiiiiiiilArR0y0N3cxxIAWZsYr6x+HngTTfD+kW90YxNdyoGLuv3PYV3mKgurWC8t3guIllicYZWGQa+b/i/wCB7fw5eR3VhH/o0+WOf+WZ9BXjcuRIeMVHRRRRRRRRRRRRWrot4dPvorpcM0TbsHvXtOg/He6jdUv7aOSEAKFXggV63o/jvQdXsFuU1C3hOPmSWQAiuB8d/GWCxVrPQZFkkzh5/T6V4lrHi/VfEDGC6u3kjY9HOea5i7jaGcoxBI9KgzRRRRRRRRRRRRT0cpnHepI5NvINWY5rgjam9s9lplz58ZxMrK3oRiqiuyuHHUHNOmleaUu/3jUdFFFFFFFFFFFFFaGj2i32qW1szBFlkCFj2Br658M/DPw1oNpCY7NLiYKCZpOdx+lYPxY8C6NeeGp9QjFtY3MALbzhQ4/uj3r5WbGeKbRRRRRRRRRRRRRRT45GiYMhwQcgjsa77QvjF4r0G0FtDeLNGBgeeu8isXxL471zxTxqV27x5yIwcKD9K5gnJooooooooooooooooooooooooooooooooooooooooooooooooooooooooooooooooooooooooooooooooooooooooooooooooooooooooooooooooooooooooor/2Q==' style='display:block;' /></div><div><p onclick='toggleImage(\"image-1-8\")' style='cursor:pointer;'>Image: 20230310041756_599_0000.bmp <span id='arrow-image-1-8' class='toggle-arrow'>►</span></p><img id='image-1-8' src='data:image/png;base64,/9j/4AAQSkZJRgABAQAAAQABAAD/2wBDAAgGBgcGBQgHBwcJCQgKDBQNDAsLDBkSEw8UHRofHh0aHBwgJC4nICIsIxwcKDcpLDAxNDQ0Hyc5PTgyPC4zNDL/wAALCACWAJYBAREA/8QAHwAAAQUBAQEBAQEAAAAAAAAAAAECAwQFBgcICQoL/8QAtRAAAgEDAwIEAwUFBAQAAAF9AQIDAAQRBRIhMUEGE1FhByJxFDKBkaEII0KxwRVS0fAkM2JyggkKFhcYGRolJicoKSo0NTY3ODk6Q0RFRkdISUpTVFVWV1hZWmNkZWZnaGlqc3R1dnd4eXqDhIWGh4iJipKTlJWWl5iZmqKjpKWmp6ipqrKztLW2t7i5usLDxMXGx8jJytLT1NXW19jZ2uHi4+Tl5ufo6erx8vP09fb3+Pn6/9oACAEBAAA/APn+iiiiiiiiiiiiiiiiiiiiiiiiiiiiiiiiiiiiiiiiiiiiiiiiiiiiiiiiiiiiiiiiiiiiiiiiiiiiiiiiiiiiiiiiiiiiiiiiiiiiiiiiiiiiiiiiiiiiiiiiilAyad5ZxkUnltjOKTB9KSiiiiiiiiiiiiinxpvbFdJoXhW/1mYR2drJKx67RmvQrT4Ha5dRgtHHGD/z0bBrN1v4Qa3pUDubUzBe8fIrzm/097SQo67WHUVnHrRRRRRRRRRRRRSgZrrvAfh0eJNfgsOpY5I9q+utC8P6boFhHa2FrHCqjkgZJP1rWpGAIwQCD2NeO/GDwFaXOmtrNlCI7hfvqq4BHrXzTcLtkI44OOKhoooooooooooorovC3iO58Nakl/ZsEnQYDYr07TPjprKSr9tljkTPIEYHFenWHxf8L3Ngs0128cmPnXZ3rkPF/wAcIElSPw9OduPnd4+/tXmGrfFDxBqUEsD37PFJwykVwcrbmJ9Tmo6KKKKKKKKKKKKXJp6OwPBp/nydATTDKxPJphPOaC2QKSiiiiiiiiiiiiirulWZv9UtrMEgzuEBAzjNfRmj/s/6FHaxnUrqa4kZQSMbcVh+PPgnpOjeHrjVNMuWQw/8s5DwfxrwNhtYjjj0pKKKKKKKKKKKKKKKfDNJbyrLE7JIhyrKcEH2r0HSPjT4w0i0FvHeJOo/iuF3t+dZHif4jeI/Fi7NRvT5XeKL5UP1FclRRRRRRRRRRRRRRRRRRRRRRRRRRRRRRRRRRRRRRRRRRRRRRRRRRRRRRRRRRRRRRRRRRRRRRRRRRRRRRRRRRRRRRRRRRRRRRRRRRRRRRRRRRRRRRRRRRRRRRRRRX//Z' style='display:block;' /></div><div><p onclick='toggleImage(\"image-1-9\")' style='cursor:pointer;'>Image: 20230310042227_735_0000.bmp <span id='arrow-image-1-9' class='toggle-arrow'>►</span></p><img id='image-1-9' src='data:image/png;base64,/9j/4AAQSkZJRgABAQAAAQABAAD/2wBDAAgGBgcGBQgHBwcJCQgKDBQNDAsLDBkSEw8UHRofHh0aHBwgJC4nICIsIxwcKDcpLDAxNDQ0Hyc5PTgyPC4zNDL/wAALCACWAJYBAREA/8QAHwAAAQUBAQEBAQEAAAAAAAAAAAECAwQFBgcICQoL/8QAtRAAAgEDAwIEAwUFBAQAAAF9AQIDAAQRBRIhMUEGE1FhByJxFDKBkaEII0KxwRVS0fAkM2JyggkKFhcYGRolJicoKSo0NTY3ODk6Q0RFRkdISUpTVFVWV1hZWmNkZWZnaGlqc3R1dnd4eXqDhIWGh4iJipKTlJWWl5iZmqKjpKWmp6ipqrKztLW2t7i5usLDxMXGx8jJytLT1NXW19jZ2uHi4+Tl5ufo6erx8vP09fb3+Pn6/9oACAEBAAA/APn+iiiiiiiiiiiiiiiiiiiiiiiiiiiiiiiiiiiiiiiiiiiiiiiiiiiiiiiiiiiiiiiiiiiiiiiiiiiiiiiiiiiiiiiiiiiiiiiiiiiiiiiiiiiiiiiiiiiiiiiiiiipktZ5PuQSN9FJrX0rwjq+ry7ILSQH/aUiotd8Naj4elWO/i2FulY9FFFFFFFFFFFFWILG4uUZ4oyyr1NWNP0i71C5ENvCzsTjgV7F4M+B9xdmO71U+VH12kda9w0vwjomk26w22nw8Dq6A5rnvHOsWvhvTna3s44pe0ioAK+ZPF3ii58RXe6dt208GuZooooooooooopVGWUe9eg2iRW2nRW8AHmTACvbPhj4Et9Os11G6jR525AIr1AAYGBgelDdK4P4s2yT+D5cxhiD1xzXyHcLsuGX0NQ0UUUUUUUUUUUoOCD6V33ghotU8QWKSHhGGQelfXVvHHFbxLEoCADGKmprsEUs3QV5z4812OSzmtpdogxx618q6rsGpzlPubjiqVFFFFFFFFFFFArp/A+prpPiK2mnQmHcN1fYGl6/peoWEU9tdxLHjo7AEVZOsacFY/b7Y7RyBIK818U/F60tPNtLGIsw4Lt/SvKdU8Yx3gkkuZd+7ohNecXs63F28iDCk8Cq1FFFFFFFFFFFFa+m3wQhWQEjoasXev30L7Ip3VfQNWf/AGxfCXzBcyZ/3jRcavd3QHmvuI71RZixyxyaSiiiiiiiiiiiiinI21wadNJ5j5qOiiiiiiiiiiiiiiiiiiiiiiiiiiiiiiiiiiiiiiiiiiiiiiiiiiiiiiiiiiiiiiiiiiiiiiiiiiiiiiiiiiiiiiiiiiiiiiiiiiiiiiiiiiiiiiiiiiiiiiiiiiiv/9k=' style='display:block;' /></div></div></div><div class='step-header'>Step: contrast <span id='arrow-2' class='toggle-arrow' onclick='toggleMetadata(2)'>►</span></div><div id='metadata-2' class='metadata' style='display:block;'><div class='image-container'><div><p onclick='toggleImage(\"image-2-0\")' style='cursor:pointer;'>Image: 20230310043208_264_0000.bmp <span id='arrow-image-2-0' class='toggle-arrow'>►</span></p><img id='image-2-0' src='data:image/png;base64,/9j/4AAQSkZJRgABAQAAAQABAAD/2wBDAAgGBgcGBQgHBwcJCQgKDBQNDAsLDBkSEw8UHRofHh0aHBwgJC4nICIsIxwcKDcpLDAxNDQ0Hyc5PTgyPC4zNDL/wAALCACWAJYBAREA/8QAHwAAAQUBAQEBAQEAAAAAAAAAAAECAwQFBgcICQoL/8QAtRAAAgEDAwIEAwUFBAQAAAF9AQIDAAQRBRIhMUEGE1FhByJxFDKBkaEII0KxwRVS0fAkM2JyggkKFhcYGRolJicoKSo0NTY3ODk6Q0RFRkdISUpTVFVWV1hZWmNkZWZnaGlqc3R1dnd4eXqDhIWGh4iJipKTlJWWl5iZmqKjpKWmp6ipqrKztLW2t7i5usLDxMXGx8jJytLT1NXW19jZ2uHi4+Tl5ufo6erx8vP09fb3+Pn6/9oACAEBAAA/APn+iiiiinRnEqH3Fdd/ayRrGN3+rdc1f+JmpLq9xpl5G25UthGfrXAUUUUUUUUUUUUUUUUDgg08uzE8/eOa1rdmvWisXORjcKy7iIw3DxkY2kioqKKKKKKKKKKKKKKcxBAxTavaVOYdQSUnpT9ZkSW+MkfQis6iiiiiiiiiiiiinxJvkC1cWzVtO8/POTVDHGanthuZ/wDdNPhiEyDce9V3Xa7L6HFNoooooooooooop0bbHDVMZpFtUj/hOTUkfl/2XNn/AFm8Y+lVVcoSR3GKVJWToaaTkknvSUUUUUUUUUUUUUoGSBWjqkK26wRr2XNZuTjHailxxmkooooooooooooop8f+sGamuJnutjtztGDVainxgEMD6VLcxjzFCDPyg1XoooooooooooopQcHNPVwInXuaZg4zjikpyDOfYVseHrIX804Y/cjzzWTOnlzunoxqOgjBoooooooooooqRIt0Tv8A3a07WzVtAup3GHDrtrJYYYihW25961dGuZdPdpgPkkG3NVJoWlmkfHU5qqVI6ikJyaKKKKKKKKKKK0LNA1nO392uktdMe7sbCCP7szAMPeoLvwbcDVby3XjyOTWBcac9uSW6ZwK1opIH0FIRjzQ9K8ccakHHK1i3DIYyB1zVU9BSUUUUUUUUUUVdsX5W37SsAa6m11gabfLF2t5FYU+68bf8TO+uQuTcHFc5qeo+eVAHbNU45GjhEmerdKt387tt2ZyVHSs+SJ48h+DUVORd8ir6nFLKnlysh7GmUUUUUUUUVPauI5Q56ryKuyv50n2gn75ANUZ4wty69gabMwZ+OmMU4fNbgehzW1p3kvqFqJcbO+ara48T37mLGzpWTg4B9asW0Lb45cfKHFF8Q17IV6E1WIwcUUUUUUUUUVZWb/Q9ncODUcj+ZOzf3jUZGDinK+1WHqKeJ2DKwOCopWz5GWOSxzURywUAE4rpJ7QWun2seMGSPfWFDC9xLIQMlQWqB1KtzwTzTaKKKKKKUdauSWhisEnI4kPFUs8Yo6U8gvyOw5pv8NJTyxfAHat/w/pyyTOtwANyFlz7VY1i+ikit1UjMZ2fhUXh6OJ9VnR8bWXFZuuwLFqTiMfJ0FQJbF4IyByGOaqHgkUlFFFFFad7dpLo9jbr96POazKKkjfZuz3XFRjmnRpvkCDua0obHyixb0qxJqointXj4CRlTislS00xJJ6lquaXcNFeKwOCWwa3ZNKa8sY7rGS05WtXwDoEevaxqVrJgCGIkZ9a56fw2y24nzjdM6/ka5yiiiipoovMaMDvmo3RkOGGKbg4zSjkirM0GYw60kMQZJyeqJmnQBUljf8AGrd9dERpt79az5VAVMckipISqWxb+IuB+FEZ8qaTH8PIr1Dw9p8jeD4L2Rf3PmE5PrXI6N4im0DXbqa1PM7FDj0q14l1YwWlnbxdQWdvqa4miiiir9lhWhLdCTUt9AJnRox65xWcflDIeuaZVy3nVYSjetRCbaZcfxjFJISiqvcCieTzAvsKiyfWrulWT6herAvT71S/YXOqtDj+Paa9j1nULfQ/hLBpgwLkvv8AfFeQaQqtLLczchOeagu70XV47ucr0Ws+iiiirzMqWNq4+8GOa0tPAbSryaT+D7lZYtXns2uEBJDc4qH7LNtz5bYouITAyA91zUQGQT6VPdgbkI/u1CQQgPrVjTrcXN4kZ+73rpNIEGl6gZeOu0Ve0a0W98QPIBkCbcfpVj4j3ouGghhb7p2lRXFB2t9NKEYMhxVCiiiiilLEqFzwK25G8rw7Dt/5ak7q1fCVulxp1yrjIBrcj0uApL8o4iJrhdbULdIB/crMpzsWP0qWUYtYT65q3pHytM46qhxUctzIZYTk+p/Ou38AHzdRvGPURk1zupSvdeKSjnKh+lUtZQR7VHQMaya//9k=' style='display:block;' /></div><div><p onclick='toggleImage(\"image-2-1\")' style='cursor:pointer;'>Image: 20230310041821_695_0004.bmp <span id='arrow-image-2-1' class='toggle-arrow'>►</span></p><img id='image-2-1' src='data:image/png;base64,/9j/4AAQSkZJRgABAQAAAQABAAD/2wBDAAgGBgcGBQgHBwcJCQgKDBQNDAsLDBkSEw8UHRofHh0aHBwgJC4nICIsIxwcKDcpLDAxNDQ0Hyc5PTgyPC4zNDL/wAALCACWAJYBAREA/8QAHwAAAQUBAQEBAQEAAAAAAAAAAAECAwQFBgcICQoL/8QAtRAAAgEDAwIEAwUFBAQAAAF9AQIDAAQRBRIhMUEGE1FhByJxFDKBkaEII0KxwRVS0fAkM2JyggkKFhcYGRolJicoKSo0NTY3ODk6Q0RFRkdISUpTVFVWV1hZWmNkZWZnaGlqc3R1dnd4eXqDhIWGh4iJipKTlJWWl5iZmqKjpKWmp6ipqrKztLW2t7i5usLDxMXGx8jJytLT1NXW19jZ2uHi4+Tl5ufo6erx8vP09fb3+Pn6/9oACAEBAAA/APn+iiiiiiiiiiiiiiiiiiiiiiiiiiiiiiiiiiiiiiiiiiiiiiiiiiiiiiiiiiiiiiiiiiiiiiiiiiiiiiiiiiiiiiiiiiiiiiiiiiiiiiiiiiiiiiiiiiiiiiiilVS7BVGSe1Xo9JuZFyF59Kd/Yd/3gYfhSSaJqEa7jbvt9cVRaN0JDKQR6im0UUUUUUUUUUUUAZOK6Lw9pn2i4VmXH+0a7n7Hb25XCBm/vCtS38sYaQo4HYCtIwx31qyRxqox6Vyd94YgZXxDuc55Fee6vpT6dMQTkE9PSsyiiiiiiiiiiiprUxidTIMrXeeG5YzcJ8uYv7tdZd2/nOqwJ5cfcmnpp4t03qd47mrEUF3JC0sDfIo5FVTqLMGTb5ZXrnvXnHiyZZJjs9ea5eiiiiiiiiiiilXr1xWxoV9cR38caNwTXs2khrmJIZBvc9q9A0rwms1iVkg2Bh1NMu/CZ06zkNs4bI+6K8e8Q3E9rO8b25U5POK841YyNKWLEg9qy6KKKKKKKKKKKACelbfh21km1FFVcNng167ZXTaf5aOux/8Anp6V3WleJ7mG28trkXKnuD0pt74qu0DLDbmQHqa5nUHhvoma4gDOfavHPFlsYbo7I9i56VzFFFFFFFFFFFFOjfY4bGa6zwrfRi+Q7BuzXe3cd1qMiow2RHvQRdaOoS0YyA9auWuuX3lbChDHtQ0su1pbiXyj1CnvXnXjDVBcSGPywMfxetcbRRRRRRRRRRRRVmxuntLlZUbGK6/T/GkiTL50uYx1FbVz45spNqxYT1NTReK9NSPzjcjzAMgVzet+N2v3KpHkA8GuWvb57wgsaqUUUUUUUUUUUUUUUUUUUUUUUUUUUUUUUUUUUUUUUUUUUUUUUUUUUUUUUUUUUUUUUUUUUUUUUUUUUUUUUUUUUUUUUUUUUUUUUUUUUUUUUUUUUUUUUUUUUUUUUV//2Q==' style='display:block;' /></div><div><p onclick='toggleImage(\"image-2-2\")' style='cursor:pointer;'>Image: 20230310042334_634_0000.bmp <span id='arrow-image-2-2' class='toggle-arrow'>►</span></p><img id='image-2-2' src='data:image/png;base64,/9j/4AAQSkZJRgABAQAAAQABAAD/2wBDAAgGBgcGBQgHBwcJCQgKDBQNDAsLDBkSEw8UHRofHh0aHBwgJC4nICIsIxwcKDcpLDAxNDQ0Hyc5PTgyPC4zNDL/wAALCACWAJYBAREA/8QAHwAAAQUBAQEBAQEAAAAAAAAAAAECAwQFBgcICQoL/8QAtRAAAgEDAwIEAwUFBAQAAAF9AQIDAAQRBRIhMUEGE1FhByJxFDKBkaEII0KxwRVS0fAkM2JyggkKFhcYGRolJicoKSo0NTY3ODk6Q0RFRkdISUpTVFVWV1hZWmNkZWZnaGlqc3R1dnd4eXqDhIWGh4iJipKTlJWWl5iZmqKjpKWmp6ipqrKztLW2t7i5usLDxMXGx8jJytLT1NXW19jZ2uHi4+Tl5ufo6erx8vP09fb3+Pn6/9oACAEBAAA/APn+iiiiiiiiiiiiiiiiiiiiiiiiiiiiiiiiiiiiiiiiiiiiinKORmnuFJqMgA8UlFFFFFFFFFFFFFFFOB3ECpTFyKY6Be/NR0UUUUUUUUUUUUUUUDrUwc96jc5am0UUUUUUUUUUUUUUUo6insfmHpTXxnim5ooooooooooooooopQCelByOtJRRRRRRRRRRRRRRRU1tAZ5NorobDw1Nd42Lk1oSeCLlRuZDXOajo81lKVKms4xMvWmUUUUUUUUUUUUUo681t6JbCaYAdTXsngzQ/Lw8oGD612l/ZW4h2rCCcdcV514j8PLMrOsXP0rzHVdLeBm+XFc+ylWINJRRRRRRRRRRRSqu44roNBzHdIc9DXuvhq8+0pEijGMZr023htHtAsiAuRWdqujWiWLysq9OleDeMLWKO4kKKNua8yvkCSnHeqdFFFFFFFFFFFKDitPTbkxTIc17F4T1uLy0K8EYr1rR9SiuYA5PIqXUy93bsAcJivD/ABtEsTuucnNeT3hxId3rVKiiiiiiiiiiiipIpDG2a6vRdb+zAYr0fQ/FxWEfMQB71vXXj1BYMgPOOua8p17XGvZ3ZjkE1xFzL5spPvUFFFFFFFFFFFFFFTwzmNh6Vrxa0YEAU0+TXmkjxWVPfNLniqhOTmkooooooooooooooooooooooooooooooooooooooooooooooooooooooooooooooooooooooooooooooooooooooooooooooooooooooooooooooooooooooor/2Q==' style='display:block;' /></div><div><p onclick='toggleImage(\"image-2-3\")' style='cursor:pointer;'>Image: 20230310041822_395_0002.bmp <span id='arrow-image-2-3' class='toggle-arrow'>►</span></p><img id='image-2-3' src='data:image/png;base64,/9j/4AAQSkZJRgABAQAAAQABAAD/2wBDAAgGBgcGBQgHBwcJCQgKDBQNDAsLDBkSEw8UHRofHh0aHBwgJC4nICIsIxwcKDcpLDAxNDQ0Hyc5PTgyPC4zNDL/wAALCACWAJYBAREA/8QAHwAAAQUBAQEBAQEAAAAAAAAAAAECAwQFBgcICQoL/8QAtRAAAgEDAwIEAwUFBAQAAAF9AQIDAAQRBRIhMUEGE1FhByJxFDKBkaEII0KxwRVS0fAkM2JyggkKFhcYGRolJicoKSo0NTY3ODk6Q0RFRkdISUpTVFVWV1hZWmNkZWZnaGlqc3R1dnd4eXqDhIWGh4iJipKTlJWWl5iZmqKjpKWmp6ipqrKztLW2t7i5usLDxMXGx8jJytLT1NXW19jZ2uHi4+Tl5ufo6erx8vP09fb3+Pn6/9oACAEBAAA/APn+iiiiiiiiiiiiiiiiiiiiiiiiiiiiiiiiiiiiiiiiiiiiiiiiiiiiiiiiiiiprURNdxCY4iLDf9K0vEEOmw3ijTH3RbRk+9Y9FFFFFFFFFFFFFFFFFFFFFFFFFFFFFFFFFFFFFFFFFFFFFFFFFFFFFFFFFKAScDrVhbC7cZW2kI9QpoNhdjrayj/gJqB0ZDtdCp9xTaKKKKKKKKKKKKKKmtmCXUTEZAYEivr7wJoejXPhKzunsImeRcksua6GXwtoc6FTp0A9wleQ/FP4WRCxa/0yIApkkKK+fpLaaOQo8ZDA4IxU0NhNJgBDzUdzZzWzfOhA9ar0UUUUUUUUUUU+M4kQ+hFfZXwxuY7jwLYqpBZFwRXZVU1GMS6bcIy7gyEYNfI/i9bey125QIFO41zi6yYWIVRio7/V2vYgjKBisqiiiiiiiiiiigcc17v8GPHCWP8AxLrt/kfhcnpX0LHIssavGdytyDRKyrEzP90DmvlL4wranXnltlAyecV5iTk0lFFFFFFFFFFFFFaWmXj2MyzRttIORXtfgb4wzJcW+m3QDRkgbj2r3pJIr6yDRtmOVeCK+cPjd4Yk0udLtMmKQ9a8XoooooooooooooopytgYq9pMrLqUJ3Y+YV9meDLhLnwrZgP8yoATXD/HYwt4ahVmUsCcDPNfLh7/AFpKKKKKKKKKKKKKKKfHIYpFdeqnNeo6D8WLjTNKW1BIKjHWuW8U+Nb/AMROVmlYx9gTXKUUUUUUUUUUUUUUUUUUUUUUUUUUUUUUUUUUUUUUUUUUUUUUUUUUUUUUUUUUUUUUUUUUUUUUUUUUUUUUUUUUUUUUUUUUUUUUUUUUUUUUUUUUUUUUUUUUUUUUUUUV/9k=' style='display:block;' /></div><div><p onclick='toggleImage(\"image-2-4\")' style='cursor:pointer;'>Image: 20230310041829_544_0001.bmp <span id='arrow-image-2-4' class='toggle-arrow'>►</span></p><img id='image-2-4' src='data:image/png;base64,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' style='display:block;' /></div><div><p onclick='toggleImage(\"image-2-5\")' style='cursor:pointer;'>Image: 20230310041903_494_0000.bmp <span id='arrow-image-2-5' class='toggle-arrow'>►</span></p><img id='image-2-5' src='data:image/png;base64,/9j/4AAQSkZJRgABAQAAAQABAAD/2wBDAAgGBgcGBQgHBwcJCQgKDBQNDAsLDBkSEw8UHRofHh0aHBwgJC4nICIsIxwcKDcpLDAxNDQ0Hyc5PTgyPC4zNDL/wAALCACWAJYBAREA/8QAHwAAAQUBAQEBAQEAAAAAAAAAAAECAwQFBgcICQoL/8QAtRAAAgEDAwIEAwUFBAQAAAF9AQIDAAQRBRIhMUEGE1FhByJxFDKBkaEII0KxwRVS0fAkM2JyggkKFhcYGRolJicoKSo0NTY3ODk6Q0RFRkdISUpTVFVWV1hZWmNkZWZnaGlqc3R1dnd4eXqDhIWGh4iJipKTlJWWl5iZmqKjpKWmp6ipqrKztLW2t7i5usLDxMXGx8jJytLT1NXW19jZ2uHi4+Tl5ufo6erx8vP09fb3+Pn6/9oACAEBAAA/APn+iiiiiiiiiiiiiiiiiiiiiiiiiiiiiiiiiiiiiiiiiiiiiiiiiiiiiiiiiiiiiiiiiiiiiiiiiiiiiiiiiiiiiiiiiiiiiiiiiiiiiiiiiiiiiiiiiiiiiiiiilwaSiiiiiiiiiiiiiiiipooGfnHFX47NWXBqGawZTkCqbxlDg0yiiiiiiiiiiiiinJ94Cuh0y2WZ1THWtYeHr3zSY4mKdiBUNzaPbxH7QuxuwIrnrpFckis5l2nFJRRRRRRRRRRRRTo+HFdToY8y4jI9RX1T4X0TTpPDtpJJbozsnzEiuD+LPgUTwjULGIJFGvzBa8Jm0yQdu9Zl1ZOjdKpvGydRTKKKKKKKKKKKKUda3tLuvs5Ug85FfU3gfxVp83hq1haUCVVwRV3xbrdkfDV1GHU71xivmm/uokuDjG3JrIvruB3+XFZc0kLI3TNZ1FFFFFFFFFFFA61fgbaoOa6nRdcn05MrKfpmrGqeM7q6tzA0hwfeuSvbsyL97ms0sx6k0lFFFFFFFFFFFFFTRyYq0LrYoqCa43npUDMWptFFFFFFFFFFFFFFFGSaKKKKKKKKKKKKKKKKKKKKKKKKKKKKKKKKKKKKKKKKKKKKKKKKKKKKKKKKKKKKKKKKKKKKKKKKKKKKKKKKKKKKKKKKKKKKKKKKKKKKKKKKK//2Q==' style='display:block;' /></div><div><p onclick='toggleImage(\"image-2-6\")' style='cursor:pointer;'>Image: 20230310043332_861_0002.bmp <span id='arrow-image-2-6' class='toggle-arrow'>►</span></p><img id='image-2-6' src='data:image/png;base64,/9j/4AAQSkZJRgABAQAAAQABAAD/2wBDAAgGBgcGBQgHBwcJCQgKDBQNDAsLDBkSEw8UHRofHh0aHBwgJC4nICIsIxwcKDcpLDAxNDQ0Hyc5PTgyPC4zNDL/wAALCACWAJYBAREA/8QAHwAAAQUBAQEBAQEAAAAAAAAAAAECAwQFBgcICQoL/8QAtRAAAgEDAwIEAwUFBAQAAAF9AQIDAAQRBRIhMUEGE1FhByJxFDKBkaEII0KxwRVS0fAkM2JyggkKFhcYGRolJicoKSo0NTY3ODk6Q0RFRkdISUpTVFVWV1hZWmNkZWZnaGlqc3R1dnd4eXqDhIWGh4iJipKTlJWWl5iZmqKjpKWmp6ipqrKztLW2t7i5usLDxMXGx8jJytLT1NXW19jZ2uHi4+Tl5ufo6erx8vP09fb3+Pn6/9oACAEBAAA/APn+iiiiiiiiiiiiiiiiiiiiiiiiiiiiiiiiiiiiiiiiiiiiiiiiiiiiiiiiiiiiiiiiiiiiiiiiiiiiiiiiiiiiiiiiiiiiiiiiiiiiiiiiiiiiiiiiiiiiiiiiiinxxvK4RFJY9BTmhMZZJMrIDjbipjYP5U8meIcbvxqG4h8iUpnPAOcVFRRRRRRRRRRRRRRWnooD3DKV3gjOB1re0SMXV3cvKqPgjdkdPauiutBtkRmms3dr3BijU/dx61yviy1jHlz2wGzG1wOxFctRRRRRRRRRRRRRTnXDHGcCtPR4ppZ3uE6JgNj0NdFAWsReBIjtJBLj1rorbU2l0ZwAzTMP3mT8yAdNtcd4huLK5jDpDMsi8Nz8tcvRRRRRRRRRRRQAT0rc07QGv1tmjkUeYcMW6CrGreFrjT5JWEUwiXG1XHzN7/SpNIsYwJ0cTRsgByOjZ9arT7o/tLyzzAqeVB4PpVWTVbqKGSDzjvYj50PUelVLm+kuUUMcYGDjvVWiiiiiiiiiiirljZtPPHllVGPUn9K9w8HeH9MkKb7fMhHMIHCEdCK3tb8Nq8EE9y7tI2druMAAdq801jT5yupNbERxEqGzxjH92uG1K5Y3N1Ex6gYrJooooooooooooorU0i5gifF2u+NSCoPY17h4a1200021y0haeZQFEY3ZHvWx4v8AEP8AaunCyhlw6jK54H4147d660t4sN5MVtYgQzDqG7cVxVzKZ7iSQtuyx59qiooooooooooooopQxAIzwa6jQfF76H9lEMQ/dZ3M3OaZrHi++1C6uJo28hZj/qx/BXOSzPNIXkYsx6mmUUUUUUUUUUUUUUUUUUUUUUUUUUUUUUUUUUUUUUUUUUUUUUUUUUUUUUUUUUUUUUUUUUUUUUUUUUUUUUUUUUUUUUUUUUUUUUUUUUUUUUUUUUUUUUUUUUUUUUUUUUV//9k=' style='display:block;' /></div><div><p onclick='toggleImage(\"image-2-7\")' style='cursor:pointer;'>Image: 20230310041821_795_0005.bmp <span id='arrow-image-2-7' class='toggle-arrow'>►</span></p><img id='image-2-7' src='data:image/png;base64,/9j/4AAQSkZJRgABAQAAAQABAAD/2wBDAAgGBgcGBQgHBwcJCQgKDBQNDAsLDBkSEw8UHRofHh0aHBwgJC4nICIsIxwcKDcpLDAxNDQ0Hyc5PTgyPC4zNDL/wAALCACWAJYBAREA/8QAHwAAAQUBAQEBAQEAAAAAAAAAAAECAwQFBgcICQoL/8QAtRAAAgEDAwIEAwUFBAQAAAF9AQIDAAQRBRIhMUEGE1FhByJxFDKBkaEII0KxwRVS0fAkM2JyggkKFhcYGRolJicoKSo0NTY3ODk6Q0RFRkdISUpTVFVWV1hZWmNkZWZnaGlqc3R1dnd4eXqDhIWGh4iJipKTlJWWl5iZmqKjpKWmp6ipqrKztLW2t7i5usLDxMXGx8jJytLT1NXW19jZ2uHi4+Tl5ufo6erx8vP09fb3+Pn6/9oACAEBAAA/APn+iiiiiiiiiiiiiiiiiiiiiiiiiiiiiiiiiiiiiiiiiiiiiiiiiiiiiiiiiiiiiiiiiiiiiiiiiiiiiiiiiiiiiiiiiiiiiiiiiiiiiiiiiiiiiiiiiiiiiiiiil2n0pwjJHFIUZRyKTB60hooooooooooooopyKGOO9a2naTcXsqxxRO5Y4AUZrvLT4P+IrmIP9hdFxnDjBrI1z4da3osBmurKVY843FeK4ye3aFtrdarN1OaSiiiiiiiiiiilArR0y0N3cxxIAWZsYr6x+HngTTfD+kW90YxNdyoGLuv3PYV3mKgurWC8t3guIllicYZWGQa+b/i/wCB7fw5eR3VhH/o0+WOf+WZ9BXjcuRIeMVHRRRRRRRRRRRRWrot4dPvorpcM0TbsHvXtOg/He6jdUv7aOSEAKFXggV63o/jvQdXsFuU1C3hOPmSWQAiuB8d/GWCxVrPQZFkkzh5/T6V4lrHi/VfEDGC6u3kjY9HOea5i7jaGcoxBI9KgzRRRRRRRRRRRRT0cpnHepI5NvINWY5rgjam9s9lplz58ZxMrK3oRiqiuyuHHUHNOmleaUu/3jUdFFFFFFFFFFFFFaGj2i32qW1szBFlkCFj2Br658M/DPw1oNpCY7NLiYKCZpOdx+lYPxY8C6NeeGp9QjFtY3MALbzhQ4/uj3r5WbGeKbRRRRRRRRRRRRRRT45GiYMhwQcgjsa77QvjF4r0G0FtDeLNGBgeeu8isXxL471zxTxqV27x5yIwcKD9K5gnJooooooooooooooooooooooooooooooooooooooooooooooooooooooooooooooooooooooooooooooooooooooooooooooooooooooooooooooooooooooooor/2Q==' style='display:block;' /></div><div><p onclick='toggleImage(\"image-2-8\")' style='cursor:pointer;'>Image: 20230310041757_499_0001.bmp <span id='arrow-image-2-8' class='toggle-arrow'>►</span></p><img id='image-2-8' src='data:image/png;base64,/9j/4AAQSkZJRgABAQAAAQABAAD/2wBDAAgGBgcGBQgHBwcJCQgKDBQNDAsLDBkSEw8UHRofHh0aHBwgJC4nICIsIxwcKDcpLDAxNDQ0Hyc5PTgyPC4zNDL/wAALCACWAJYBAREA/8QAHwAAAQUBAQEBAQEAAAAAAAAAAAECAwQFBgcICQoL/8QAtRAAAgEDAwIEAwUFBAQAAAF9AQIDAAQRBRIhMUEGE1FhByJxFDKBkaEII0KxwRVS0fAkM2JyggkKFhcYGRolJicoKSo0NTY3ODk6Q0RFRkdISUpTVFVWV1hZWmNkZWZnaGlqc3R1dnd4eXqDhIWGh4iJipKTlJWWl5iZmqKjpKWmp6ipqrKztLW2t7i5usLDxMXGx8jJytLT1NXW19jZ2uHi4+Tl5ufo6erx8vP09fb3+Pn6/9oACAEBAAA/APn+iiiiiiiiiiiiiiiiiiiiiiiiiiiiiiiiiiiiiiiiiiiiiiiiiiiiiiiiiiiiiiiiiiiiiiiiiiiiiiiiiiiiiiiiiiiiiiiiiiiiiiiiiiiiiiiiiiiiiiiiilAyad5ZxkUnltjOKTB9KSiiiiiiiiiiiiinxpvbFdJoXhW/1mYR2drJKx67RmvQrT4Ha5dRgtHHGD/z0bBrN1v4Qa3pUDubUzBe8fIrzm/097SQo67WHUVnHrRRRRRRRRRRRRSgZrrvAfh0eJNfgsOpY5I9q+utC8P6boFhHa2FrHCqjkgZJP1rWpGAIwQCD2NeO/GDwFaXOmtrNlCI7hfvqq4BHrXzTcLtkI44OOKhoooooooooooorovC3iO58Nakl/ZsEnQYDYr07TPjprKSr9tljkTPIEYHFenWHxf8L3Ngs0128cmPnXZ3rkPF/wAcIElSPw9OduPnd4+/tXmGrfFDxBqUEsD37PFJwykVwcrbmJ9Tmo6KKKKKKKKKKKKXJp6OwPBp/nydATTDKxPJphPOaC2QKSiiiiiiiiiiiiirulWZv9UtrMEgzuEBAzjNfRmj/s/6FHaxnUrqa4kZQSMbcVh+PPgnpOjeHrjVNMuWQw/8s5DwfxrwNhtYjjj0pKKKKKKKKKKKKKKKfDNJbyrLE7JIhyrKcEH2r0HSPjT4w0i0FvHeJOo/iuF3t+dZHif4jeI/Fi7NRvT5XeKL5UP1FclRRRRRRRRRRRRRRRRRRRRRRRRRRRRRRRRRRRRRRRRRRRRRRRRRRRRRRRRRRRRRRRRRRRRRRRRRRRRRRRRRRRRRRRRRRRRRRRRRRRRRRRRRRRRRRRRRRRRRRRRRX//Z' style='display:block;' /></div><div><p onclick='toggleImage(\"image-2-9\")' style='cursor:pointer;'>Image: 20230310042918_520_0000.bmp <span id='arrow-image-2-9' class='toggle-arrow'>►</span></p><img id='image-2-9' src='data:image/png;base64,/9j/4AAQSkZJRgABAQAAAQABAAD/2wBDAAgGBgcGBQgHBwcJCQgKDBQNDAsLDBkSEw8UHRofHh0aHBwgJC4nICIsIxwcKDcpLDAxNDQ0Hyc5PTgyPC4zNDL/wAALCACWAJYBAREA/8QAHwAAAQUBAQEBAQEAAAAAAAAAAAECAwQFBgcICQoL/8QAtRAAAgEDAwIEAwUFBAQAAAF9AQIDAAQRBRIhMUEGE1FhByJxFDKBkaEII0KxwRVS0fAkM2JyggkKFhcYGRolJicoKSo0NTY3ODk6Q0RFRkdISUpTVFVWV1hZWmNkZWZnaGlqc3R1dnd4eXqDhIWGh4iJipKTlJWWl5iZmqKjpKWmp6ipqrKztLW2t7i5usLDxMXGx8jJytLT1NXW19jZ2uHi4+Tl5ufo6erx8vP09fb3+Pn6/9oACAEBAAA/APn+iiiiiiiiiiiiiiiiiiiiiiiiiiiiiiiiiiiiiiiiiiiiiiiiiiiiiiiiiiiiiiiiiiiiiiiiiiiiiiiiiiiiiiiiiiiiiiiiiiiiiiiiiiiiiiiiiiiiiiiiiiipktZ5PuQSN9FJrX0rwjq+ry7ILSQH/aUiotd8Naj4elWO/i2FulY9FFFFFFFFFFFFWILG4uUZ4oyyr1NWNP0i71C5ENvCzsTjgV7F4M+B9xdmO71U+VH12kda9w0vwjomk26w22nw8Dq6A5rnvHOsWvhvTna3s44pe0ioAK+ZPF3ii58RXe6dt208GuZooooooooooopVGWUe9eg2iRW2nRW8AHmTACvbPhj4Et9Os11G6jR525AIr1AAYGBgelDdK4P4s2yT+D5cxhiD1xzXyHcLsuGX0NQ0UUUUUUUUUUUoOCD6V33ghotU8QWKSHhGGQelfXVvHHFbxLEoCADGKmprsEUs3QV5z4812OSzmtpdogxx618q6rsGpzlPubjiqVFFFFFFFFFFFArp/A+prpPiK2mnQmHcN1fYGl6/peoWEU9tdxLHjo7AEVZOsacFY/b7Y7RyBIK818U/F60tPNtLGIsw4Lt/SvKdU8Yx3gkkuZd+7ohNecXs63F28iDCk8Cq1FFFFFFFFFFFFa+m3wQhWQEjoasXev30L7Ip3VfQNWf/AGxfCXzBcyZ/3jRcavd3QHmvuI71RZixyxyaSiiiiiiiiiiiiinI21wadNJ5j5qOiiiiiiiiiiiiiiiiiiiiiiiiiiiiiiiiiiiiiiiiiiiiiiiiiiiiiiiiiiiiiiiiiiiiiiiiiiiiiiiiiiiiiiiiiiiiiiiiiiiiiiiiiiiiiiiiiiiiiiiiiiiv/9k=' style='display:block;' /></div></div></div>"
      ],
      "text/plain": [
       "Step: raw\n",
       "Image: <paidiverpy.image_layer.ImageLayer object at 0x75a330cbae00>\n",
       "Image: <paidiverpy.image_layer.ImageLayer object at 0x75a330cbb130>\n",
       "Image: <paidiverpy.image_layer.ImageLayer object at 0x75a330cb8790>\n",
       "Image: <paidiverpy.image_layer.ImageLayer object at 0x75a330cb9990>\n",
       "Image: <paidiverpy.image_layer.ImageLayer object at 0x75a330cb8eb0>\n",
       "Image: <paidiverpy.image_layer.ImageLayer object at 0x75a330cb8700>\n",
       "Image: <paidiverpy.image_layer.ImageLayer object at 0x75a330cb8580>\n",
       "Image: <paidiverpy.image_layer.ImageLayer object at 0x75a330cb85e0>\n",
       "Image: <paidiverpy.image_layer.ImageLayer object at 0x75a330cb8490>\n",
       "Image: <paidiverpy.image_layer.ImageLayer object at 0x75a330cb9de0>\n",
       "Image: <paidiverpy.image_layer.ImageLayer object at 0x75a330cb8460>\n",
       "Image: <paidiverpy.image_layer.ImageLayer object at 0x75a330cb9ea0>\n",
       "Image: <paidiverpy.image_layer.ImageLayer object at 0x75a330cb9d50>\n",
       "Image: <paidiverpy.image_layer.ImageLayer object at 0x75a330cb9f60>\n",
       "Image: <paidiverpy.image_layer.ImageLayer object at 0x75a330cb9d80>\n",
       "Image: <paidiverpy.image_layer.ImageLayer object at 0x75a330cba080>\n",
       "Image: <paidiverpy.image_layer.ImageLayer object at 0x75a330cb9e10>\n",
       "Image: <paidiverpy.image_layer.ImageLayer object at 0x75a330cba140>\n",
       "Image: <paidiverpy.image_layer.ImageLayer object at 0x75a330cb9f00>\n",
       "Image: <paidiverpy.image_layer.ImageLayer object at 0x75a330cba1a0>\n",
       "Image: <paidiverpy.image_layer.ImageLayer object at 0x75a330cba0b0>\n",
       "Image: <paidiverpy.image_layer.ImageLayer object at 0x75a330cba260>\n",
       "Image: <paidiverpy.image_layer.ImageLayer object at 0x75a330cba0e0>\n",
       "Image: <paidiverpy.image_layer.ImageLayer object at 0x75a330cba320>\n",
       "Image: <paidiverpy.image_layer.ImageLayer object at 0x75a330cba1d0>\n",
       "Image: <paidiverpy.image_layer.ImageLayer object at 0x75a330cba3e0>\n",
       "Image: <paidiverpy.image_layer.ImageLayer object at 0x75a330cba200>\n",
       "Image: <paidiverpy.image_layer.ImageLayer object at 0x75a330cba4a0>\n",
       "Image: <paidiverpy.image_layer.ImageLayer object at 0x75a330cba350>\n",
       "Image: <paidiverpy.image_layer.ImageLayer object at 0x75a330cba560>\n",
       "Image: <paidiverpy.image_layer.ImageLayer object at 0x75a330cba380>\n",
       "Image: <paidiverpy.image_layer.ImageLayer object at 0x75a330cba620>\n",
       "Image: <paidiverpy.image_layer.ImageLayer object at 0x75a330cba4d0>\n",
       "Image: <paidiverpy.image_layer.ImageLayer object at 0x75a330cba6e0>\n",
       "Image: <paidiverpy.image_layer.ImageLayer object at 0x75a330cba500>\n",
       "Image: <paidiverpy.image_layer.ImageLayer object at 0x75a330cba5c0>\n",
       "Image: <paidiverpy.image_layer.ImageLayer object at 0x75a330cba740>\n",
       "Image: <paidiverpy.image_layer.ImageLayer object at 0x75a330cba7d0>\n",
       "Image: <paidiverpy.image_layer.ImageLayer object at 0x75a330cba860>\n",
       "Image: <paidiverpy.image_layer.ImageLayer object at 0x75a330cba920>\n",
       "Image: <paidiverpy.image_layer.ImageLayer object at 0x75a330cba590>\n",
       "Image: <paidiverpy.image_layer.ImageLayer object at 0x75a330cba9e0>\n",
       "Image: <paidiverpy.image_layer.ImageLayer object at 0x75a330cba890>\n",
       "Image: <paidiverpy.image_layer.ImageLayer object at 0x75a330cbaaa0>\n",
       "Image: <paidiverpy.image_layer.ImageLayer object at 0x75a330cba8c0>\n",
       "Image: <paidiverpy.image_layer.ImageLayer object at 0x75a330cbab60>\n",
       "Image: <paidiverpy.image_layer.ImageLayer object at 0x75a330cbaa10>\n",
       "Image: <paidiverpy.image_layer.ImageLayer object at 0x75a330cbac20>\n",
       "Image: <paidiverpy.image_layer.ImageLayer object at 0x75a330cbaa40>\n",
       "Image: <paidiverpy.image_layer.ImageLayer object at 0x75a330cbace0>\n",
       "Image: <paidiverpy.image_layer.ImageLayer object at 0x75a330cbab90>\n",
       "Image: <paidiverpy.image_layer.ImageLayer object at 0x75a330cbada0>\n",
       "Step: trim_fixed\n",
       "Image: <paidiverpy.image_layer.ImageLayer object at 0x75a330cb8580>\n",
       "Image: <paidiverpy.image_layer.ImageLayer object at 0x75a330cb9ea0>\n",
       "Image: <paidiverpy.image_layer.ImageLayer object at 0x75a330cba140>\n",
       "Image: <paidiverpy.image_layer.ImageLayer object at 0x75a330cba0b0>\n",
       "Image: <paidiverpy.image_layer.ImageLayer object at 0x75a330cba260>\n",
       "Image: <paidiverpy.image_layer.ImageLayer object at 0x75a330cba4a0>\n",
       "Image: <paidiverpy.image_layer.ImageLayer object at 0x75a330cba350>\n",
       "Image: <paidiverpy.image_layer.ImageLayer object at 0x75a330cba590>\n",
       "Image: <paidiverpy.image_layer.ImageLayer object at 0x75a330cba8c0>\n",
       "Image: <paidiverpy.image_layer.ImageLayer object at 0x75a330cbaa10>\n",
       "Step: contrast\n",
       "Image: <paidiverpy.image_layer.ImageLayer object at 0x75a3c55a4be0>\n",
       "Image: <paidiverpy.image_layer.ImageLayer object at 0x75a36f0e81f0>\n",
       "Image: <paidiverpy.image_layer.ImageLayer object at 0x75a330cbb1c0>\n",
       "Image: <paidiverpy.image_layer.ImageLayer object at 0x75a330cb8d30>\n",
       "Image: <paidiverpy.image_layer.ImageLayer object at 0x75a330cb8ac0>\n",
       "Image: <paidiverpy.image_layer.ImageLayer object at 0x75a330cb8850>\n",
       "Image: <paidiverpy.image_layer.ImageLayer object at 0x75a330cb88e0>\n",
       "Image: <paidiverpy.image_layer.ImageLayer object at 0x75a330cb8070>\n",
       "Image: <paidiverpy.image_layer.ImageLayer object at 0x75a330cb8e50>\n",
       "Image: <paidiverpy.image_layer.ImageLayer object at 0x75a330cb8340>"
      ]
     },
     "execution_count": 27,
     "metadata": {},
     "output_type": "execute_result"
    }
   ],
   "source": [
    "pipeline.images"
   ]
  },
  {
   "cell_type": "code",
   "execution_count": null,
   "id": "25eb1c55-d7be-4bbb-9c74-836e5667dfee",
   "metadata": {},
   "outputs": [],
   "source": []
  }
 ],
 "metadata": {
  "kernelspec": {
   "display_name": "Python 3 (ipykernel)",
   "language": "python",
   "name": "python3"
  },
  "language_info": {
   "codemirror_mode": {
    "name": "ipython",
    "version": 3
   },
   "file_extension": ".py",
   "mimetype": "text/x-python",
   "name": "python",
   "nbconvert_exporter": "python",
   "pygments_lexer": "ipython3",
   "version": "3.10.12"
  }
 },
 "nbformat": 4,
 "nbformat_minor": 5
}
